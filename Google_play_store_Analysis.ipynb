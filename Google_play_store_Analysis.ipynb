{
  "nbformat": 4,
  "nbformat_minor": 0,
  "metadata": {
    "colab": {
      "provenance": [],
      "authorship_tag": "ABX9TyMLWLnsZt1a2hQa47NVsYZk",
      "include_colab_link": true
    },
    "kernelspec": {
      "name": "python3",
      "display_name": "Python 3"
    },
    "language_info": {
      "name": "python"
    }
  },
  "cells": [
    {
      "cell_type": "markdown",
      "metadata": {
        "id": "view-in-github",
        "colab_type": "text"
      },
      "source": [
        "<a href=\"https://colab.research.google.com/github/cannel14/-Classification-Analysis-Supervised-Learning-/blob/main/Google_play_store_Analysis.ipynb\" target=\"_parent\"><img src=\"https://colab.research.google.com/assets/colab-badge.svg\" alt=\"Open In Colab\"/></a>"
      ]
    },
    {
      "cell_type": "markdown",
      "source": [
        "**B2C IPG Merchant Payment App\n",
        "Competitor Analysis **\n",
        "\n",
        "IPG Merchant payment app has many competitors but we're going to take a deep dive on the three main competitors,this include:\n",
        "1. Kopokopo\n",
        "2. PesaPal\n",
        "3. Paystack\n",
        "4. Uza point\n",
        "\n"
      ],
      "metadata": {
        "id": "KU-3YsK_EGbd"
      }
    },
    {
      "cell_type": "markdown",
      "source": [
        "While trying to understand the overall market share of each competitor one of the identifiers/ distinguishers in terms of Market share is Product review from the end consumers of a particular product.In this case, we're going to conduct a sentimental analysis to get a feel of how the customer feels or bring emotions."
      ],
      "metadata": {
        "id": "i6V3mTrpOcSb"
      }
    },
    {
      "cell_type": "markdown",
      "source": [
        "Sentiment analysis, also known as opinion mining, is the process of using natural language processing, text analysis, and computational linguistics to identify and extract subjective information from text. It is often used to determine the overall sentiment of a piece of text, such as whether a review of a product is positive or negative."
      ],
      "metadata": {
        "id": "aXyYDE2jQ_YD"
      }
    },
    {
      "cell_type": "markdown",
      "source": [
        "There are several ways to perform sentimental analysis in Python. One way is to use a pre-trained machine learning model to classify text as having positive, negative, or neutral sentiment."
      ],
      "metadata": {
        "id": "MPBSiosuSA2O"
      }
    },
    {
      "cell_type": "markdown",
      "source": [
        "The sentiment attribute of the TextBlob object returns a tuple containing the polarity and subjectivity of the text. The polarity is a value between -1 and 1, where -1 indicates a negative sentiment and 1 indicates a positive sentiment. The subjectivity is a value between 0 and 1, where 0 indicates a very objective piece of text and 1 indicates a very subjective piece of text."
      ],
      "metadata": {
        "id": "ysXkiyMzSRJB"
      }
    },
    {
      "cell_type": "code",
      "source": [
        "!pip install google_play_scraper"
      ],
      "metadata": {
        "colab": {
          "base_uri": "https://localhost:8080/"
        },
        "id": "SRlITzxBGQxy",
        "outputId": "3bb25a42-6fc5-46e4-f5a3-e528f12abb08"
      },
      "execution_count": null,
      "outputs": [
        {
          "output_type": "stream",
          "name": "stdout",
          "text": [
            "Looking in indexes: https://pypi.org/simple, https://us-python.pkg.dev/colab-wheels/public/simple/\n",
            "Collecting google_play_scraper\n",
            "  Downloading google_play_scraper-1.2.2-py3-none-any.whl (28 kB)\n",
            "Installing collected packages: google_play_scraper\n",
            "Successfully installed google_play_scraper-1.2.2\n"
          ]
        }
      ]
    },
    {
      "cell_type": "code",
      "source": [
        "!pip install emoji"
      ],
      "metadata": {
        "colab": {
          "base_uri": "https://localhost:8080/"
        },
        "id": "Hi4Cy9qOZZ-k",
        "outputId": "63380457-ac1a-48a6-a206-43b64cba7b78"
      },
      "execution_count": null,
      "outputs": [
        {
          "output_type": "stream",
          "name": "stdout",
          "text": [
            "Looking in indexes: https://pypi.org/simple, https://us-python.pkg.dev/colab-wheels/public/simple/\n",
            "Collecting emoji\n",
            "  Downloading emoji-2.2.0.tar.gz (240 kB)\n",
            "\u001b[2K     \u001b[90m━━━━━━━━━━━━━━━━━━━━━━━━━━━━━━━━━━━━━━━\u001b[0m \u001b[32m240.9/240.9 KB\u001b[0m \u001b[31m5.1 MB/s\u001b[0m eta \u001b[36m0:00:00\u001b[0m\n",
            "\u001b[?25h  Preparing metadata (setup.py) ... \u001b[?25l\u001b[?25hdone\n",
            "Building wheels for collected packages: emoji\n",
            "  Building wheel for emoji (setup.py) ... \u001b[?25l\u001b[?25hdone\n",
            "  Created wheel for emoji: filename=emoji-2.2.0-py3-none-any.whl size=234926 sha256=eefa6ad98dc80472e89a21c6e23cfcc0531e9049e6d381de3baff49bd80a3cad\n",
            "  Stored in directory: /root/.cache/pip/wheels/86/62/9e/a6b27a681abcde69970dbc0326ff51955f3beac72f15696984\n",
            "Successfully built emoji\n",
            "Installing collected packages: emoji\n",
            "Successfully installed emoji-2.2.0\n"
          ]
        }
      ]
    },
    {
      "cell_type": "markdown",
      "source": [
        "We can use libraries like NLTK, Gensim, TextBlob, spaCY, CoreNLP for data pre-processing and sentiment analysis. We will use NLTK for pre-processing of data and TextBlob to calculate sentiment score (sentiment polarity and subjectivity ) ."
      ],
      "metadata": {
        "id": "joPc-ljOcDI0"
      }
    },
    {
      "cell_type": "code",
      "execution_count": null,
      "metadata": {
        "id": "0zr5OTohBp5P",
        "colab": {
          "base_uri": "https://localhost:8080/"
        },
        "outputId": "4dd25e40-cd19-4752-a860-d6b28f54cd31"
      },
      "outputs": [
        {
          "output_type": "stream",
          "name": "stderr",
          "text": [
            "[nltk_data] Downloading package stopwords to /root/nltk_data...\n",
            "[nltk_data]   Unzipping corpora/stopwords.zip.\n"
          ]
        }
      ],
      "source": [
        "# import libraries\n",
        "from google_play_scraper import Sort, reviews_all, reviews, app\n",
        "import pandas as pd\n",
        "import numpy as np\n",
        "import matplotlib.pyplot as plt\n",
        "import seaborn as sns\n",
        "import string\n",
        "import emoji\n",
        "import re\n",
        "import nltk\n",
        "nltk.download('stopwords')\n",
        "from nltk.stem import PorterStemmer\n",
        "from nltk.corpus import stopwords\n",
        "from wordcloud import WordCloud, STOPWORDS\n",
        "from textblob import TextBlob\n",
        "from nltk import word_tokenize, sent_tokenize"
      ]
    },
    {
      "cell_type": "markdown",
      "source": [
        "**Kopo Kopo Reviews Sentimental Analysis**"
      ],
      "metadata": {
        "id": "aSn0CAtjWEHz"
      }
    },
    {
      "cell_type": "markdown",
      "source": [
        "Kopokopo Web scrapping"
      ],
      "metadata": {
        "id": "-EPYeB9cYyWc"
      }
    },
    {
      "cell_type": "code",
      "source": [
        "#scrap all reviews\n",
        "Kopo_kopo, continuation_token = reviews(\n",
        "    'com.kopokopo.kopo',\n",
        "    sort = Sort.MOST_RELEVANT,\n",
        "    count = 900,\n",
        "    filter_score_with = None\n",
        "    \n",
        ")"
      ],
      "metadata": {
        "id": "o9ZZW05XGV5d"
      },
      "execution_count": null,
      "outputs": []
    },
    {
      "cell_type": "markdown",
      "source": [
        "## Pesapal RSA"
      ],
      "metadata": {
        "id": "-x-U8sT0Yb6e"
      }
    },
    {
      "cell_type": "markdown",
      "source": [
        "Pesapal Web scrapping"
      ],
      "metadata": {
        "id": "7U0myRKbY45E"
      }
    },
    {
      "cell_type": "code",
      "source": [
        "#scrap all reviews\n",
        "Pesapal, continuation_token = reviews(\n",
        "    'duka.pesapal.com',\n",
        "    sort = Sort.MOST_RELEVANT,\n",
        "    count = 900,\n",
        "    filter_score_with = None\n",
        "    \n",
        ")"
      ],
      "metadata": {
        "id": "DkihzlwiSo8W"
      },
      "execution_count": null,
      "outputs": []
    },
    {
      "cell_type": "markdown",
      "source": [
        "## **Paystack RSA**"
      ],
      "metadata": {
        "id": "S0_o0iGSYipK"
      }
    },
    {
      "cell_type": "markdown",
      "source": [
        "PayPal Web scrapping"
      ],
      "metadata": {
        "id": "d1D2HbudZCuc"
      }
    },
    {
      "cell_type": "code",
      "source": [
        "#scrap all reviews\n",
        "Pay_stack, continuation_token = reviews(\n",
        "    'com.paystack.go',\n",
        "    sort = Sort.MOST_RELEVANT,\n",
        "    count = 900,\n",
        "    filter_score_with = None\n",
        "    \n",
        ")"
      ],
      "metadata": {
        "id": "K9pFtq3WSqA2"
      },
      "execution_count": null,
      "outputs": []
    },
    {
      "cell_type": "markdown",
      "source": [
        "# UzaPoint RSA"
      ],
      "metadata": {
        "id": "IPyvZCt1at10"
      }
    },
    {
      "cell_type": "markdown",
      "source": [
        "Uzapoint webscrapping"
      ],
      "metadata": {
        "id": "WbXc0eOUa3DG"
      }
    },
    {
      "cell_type": "code",
      "source": [
        "#scrap all reviews\n",
        "Uza_point, continuation_token = reviews(\n",
        "    'com.uzapoint.upduka',\n",
        "    sort = Sort.MOST_RELEVANT,\n",
        "    count = 900,\n",
        "    filter_score_with = None\n",
        "    \n",
        ")"
      ],
      "metadata": {
        "id": "OMyONYrSa6po"
      },
      "execution_count": null,
      "outputs": []
    },
    {
      "cell_type": "markdown",
      "source": [
        "## **PesaPal data Import**"
      ],
      "metadata": {
        "id": "gyytrI2yUHtI"
      }
    },
    {
      "cell_type": "markdown",
      "source": [
        "Converting Pesapal scrapped data to Data Frame(Structured data) for our analysis."
      ],
      "metadata": {
        "id": "Fz0mh0KQZH-Q"
      }
    },
    {
      "cell_type": "code",
      "source": [
        "#converting into data Frame\n",
        "PesaPal_data = pd.DataFrame(np.array(Pesapal), columns = ['review'])\n",
        "PesaPal_data = PesaPal_data.join(pd.DataFrame(PesaPal_data.pop('review').tolist()))\n",
        "PesaPal_data.head()"
      ],
      "metadata": {
        "id": "CDXjTeAJT8Gw",
        "colab": {
          "base_uri": "https://localhost:8080/",
          "height": 441
        },
        "outputId": "c7ec3f7a-7abe-42dc-b38d-73600d6bf8d4"
      },
      "execution_count": null,
      "outputs": [
        {
          "output_type": "execute_result",
          "data": {
            "text/plain": [
              "                               reviewId       userName  \\\n",
              "0  2ece545e-bd8a-4750-ab29-b509cce6b677  kiirya ronald   \n",
              "1  f7c64b4c-1110-4550-9ce9-bb2b589fa9be  A Google user   \n",
              "2  a28a93de-7198-4e9c-827b-f198f0992520  A Google user   \n",
              "3  0e8361a1-20a9-473f-b0ef-ba1c275e7224   serah mutemi   \n",
              "4  465370fa-dccf-4a15-9bd1-2f71fe898939  A Google user   \n",
              "\n",
              "                                           userImage  \\\n",
              "0  https://play-lh.googleusercontent.com/a-/AD5-W...   \n",
              "1  https://play-lh.googleusercontent.com/EGemoI2N...   \n",
              "2  https://play-lh.googleusercontent.com/EGemoI2N...   \n",
              "3  https://play-lh.googleusercontent.com/a-/AD5-W...   \n",
              "4  https://play-lh.googleusercontent.com/EGemoI2N...   \n",
              "\n",
              "                                             content  score  thumbsUpCount  \\\n",
              "0  One of the best POs app, one improvement neede...      3              0   \n",
              "1  It's the best love it, saves time and it's acc...      5              7   \n",
              "2  The app is nice but anytime I try selling on c...      5              3   \n",
              "3  Its a good app I wish it were available on des...      4              6   \n",
              "4           best app need charts summary thanks alot      5              3   \n",
              "\n",
              "  reviewCreatedVersion                  at replyContent repliedAt  \n",
              "0                 35.4 2022-06-22 06:50:54         None      None  \n",
              "1                   29 2018-11-21 09:48:20         None      None  \n",
              "2                   29 2019-12-09 18:59:03         None      None  \n",
              "3                   32 2020-08-27 07:41:29         None      None  \n",
              "4                   29 2019-01-13 19:23:58         None      None  "
            ],
            "text/html": [
              "\n",
              "  <div id=\"df-9e7b26a6-d8d2-4b29-a32f-312b865aaf1a\">\n",
              "    <div class=\"colab-df-container\">\n",
              "      <div>\n",
              "<style scoped>\n",
              "    .dataframe tbody tr th:only-of-type {\n",
              "        vertical-align: middle;\n",
              "    }\n",
              "\n",
              "    .dataframe tbody tr th {\n",
              "        vertical-align: top;\n",
              "    }\n",
              "\n",
              "    .dataframe thead th {\n",
              "        text-align: right;\n",
              "    }\n",
              "</style>\n",
              "<table border=\"1\" class=\"dataframe\">\n",
              "  <thead>\n",
              "    <tr style=\"text-align: right;\">\n",
              "      <th></th>\n",
              "      <th>reviewId</th>\n",
              "      <th>userName</th>\n",
              "      <th>userImage</th>\n",
              "      <th>content</th>\n",
              "      <th>score</th>\n",
              "      <th>thumbsUpCount</th>\n",
              "      <th>reviewCreatedVersion</th>\n",
              "      <th>at</th>\n",
              "      <th>replyContent</th>\n",
              "      <th>repliedAt</th>\n",
              "    </tr>\n",
              "  </thead>\n",
              "  <tbody>\n",
              "    <tr>\n",
              "      <th>0</th>\n",
              "      <td>2ece545e-bd8a-4750-ab29-b509cce6b677</td>\n",
              "      <td>kiirya ronald</td>\n",
              "      <td>https://play-lh.googleusercontent.com/a-/AD5-W...</td>\n",
              "      <td>One of the best POs app, one improvement neede...</td>\n",
              "      <td>3</td>\n",
              "      <td>0</td>\n",
              "      <td>35.4</td>\n",
              "      <td>2022-06-22 06:50:54</td>\n",
              "      <td>None</td>\n",
              "      <td>None</td>\n",
              "    </tr>\n",
              "    <tr>\n",
              "      <th>1</th>\n",
              "      <td>f7c64b4c-1110-4550-9ce9-bb2b589fa9be</td>\n",
              "      <td>A Google user</td>\n",
              "      <td>https://play-lh.googleusercontent.com/EGemoI2N...</td>\n",
              "      <td>It's the best love it, saves time and it's acc...</td>\n",
              "      <td>5</td>\n",
              "      <td>7</td>\n",
              "      <td>29</td>\n",
              "      <td>2018-11-21 09:48:20</td>\n",
              "      <td>None</td>\n",
              "      <td>None</td>\n",
              "    </tr>\n",
              "    <tr>\n",
              "      <th>2</th>\n",
              "      <td>a28a93de-7198-4e9c-827b-f198f0992520</td>\n",
              "      <td>A Google user</td>\n",
              "      <td>https://play-lh.googleusercontent.com/EGemoI2N...</td>\n",
              "      <td>The app is nice but anytime I try selling on c...</td>\n",
              "      <td>5</td>\n",
              "      <td>3</td>\n",
              "      <td>29</td>\n",
              "      <td>2019-12-09 18:59:03</td>\n",
              "      <td>None</td>\n",
              "      <td>None</td>\n",
              "    </tr>\n",
              "    <tr>\n",
              "      <th>3</th>\n",
              "      <td>0e8361a1-20a9-473f-b0ef-ba1c275e7224</td>\n",
              "      <td>serah mutemi</td>\n",
              "      <td>https://play-lh.googleusercontent.com/a-/AD5-W...</td>\n",
              "      <td>Its a good app I wish it were available on des...</td>\n",
              "      <td>4</td>\n",
              "      <td>6</td>\n",
              "      <td>32</td>\n",
              "      <td>2020-08-27 07:41:29</td>\n",
              "      <td>None</td>\n",
              "      <td>None</td>\n",
              "    </tr>\n",
              "    <tr>\n",
              "      <th>4</th>\n",
              "      <td>465370fa-dccf-4a15-9bd1-2f71fe898939</td>\n",
              "      <td>A Google user</td>\n",
              "      <td>https://play-lh.googleusercontent.com/EGemoI2N...</td>\n",
              "      <td>best app need charts summary thanks alot</td>\n",
              "      <td>5</td>\n",
              "      <td>3</td>\n",
              "      <td>29</td>\n",
              "      <td>2019-01-13 19:23:58</td>\n",
              "      <td>None</td>\n",
              "      <td>None</td>\n",
              "    </tr>\n",
              "  </tbody>\n",
              "</table>\n",
              "</div>\n",
              "      <button class=\"colab-df-convert\" onclick=\"convertToInteractive('df-9e7b26a6-d8d2-4b29-a32f-312b865aaf1a')\"\n",
              "              title=\"Convert this dataframe to an interactive table.\"\n",
              "              style=\"display:none;\">\n",
              "        \n",
              "  <svg xmlns=\"http://www.w3.org/2000/svg\" height=\"24px\"viewBox=\"0 0 24 24\"\n",
              "       width=\"24px\">\n",
              "    <path d=\"M0 0h24v24H0V0z\" fill=\"none\"/>\n",
              "    <path d=\"M18.56 5.44l.94 2.06.94-2.06 2.06-.94-2.06-.94-.94-2.06-.94 2.06-2.06.94zm-11 1L8.5 8.5l.94-2.06 2.06-.94-2.06-.94L8.5 2.5l-.94 2.06-2.06.94zm10 10l.94 2.06.94-2.06 2.06-.94-2.06-.94-.94-2.06-.94 2.06-2.06.94z\"/><path d=\"M17.41 7.96l-1.37-1.37c-.4-.4-.92-.59-1.43-.59-.52 0-1.04.2-1.43.59L10.3 9.45l-7.72 7.72c-.78.78-.78 2.05 0 2.83L4 21.41c.39.39.9.59 1.41.59.51 0 1.02-.2 1.41-.59l7.78-7.78 2.81-2.81c.8-.78.8-2.07 0-2.86zM5.41 20L4 18.59l7.72-7.72 1.47 1.35L5.41 20z\"/>\n",
              "  </svg>\n",
              "      </button>\n",
              "      \n",
              "  <style>\n",
              "    .colab-df-container {\n",
              "      display:flex;\n",
              "      flex-wrap:wrap;\n",
              "      gap: 12px;\n",
              "    }\n",
              "\n",
              "    .colab-df-convert {\n",
              "      background-color: #E8F0FE;\n",
              "      border: none;\n",
              "      border-radius: 50%;\n",
              "      cursor: pointer;\n",
              "      display: none;\n",
              "      fill: #1967D2;\n",
              "      height: 32px;\n",
              "      padding: 0 0 0 0;\n",
              "      width: 32px;\n",
              "    }\n",
              "\n",
              "    .colab-df-convert:hover {\n",
              "      background-color: #E2EBFA;\n",
              "      box-shadow: 0px 1px 2px rgba(60, 64, 67, 0.3), 0px 1px 3px 1px rgba(60, 64, 67, 0.15);\n",
              "      fill: #174EA6;\n",
              "    }\n",
              "\n",
              "    [theme=dark] .colab-df-convert {\n",
              "      background-color: #3B4455;\n",
              "      fill: #D2E3FC;\n",
              "    }\n",
              "\n",
              "    [theme=dark] .colab-df-convert:hover {\n",
              "      background-color: #434B5C;\n",
              "      box-shadow: 0px 1px 3px 1px rgba(0, 0, 0, 0.15);\n",
              "      filter: drop-shadow(0px 1px 2px rgba(0, 0, 0, 0.3));\n",
              "      fill: #FFFFFF;\n",
              "    }\n",
              "  </style>\n",
              "\n",
              "      <script>\n",
              "        const buttonEl =\n",
              "          document.querySelector('#df-9e7b26a6-d8d2-4b29-a32f-312b865aaf1a button.colab-df-convert');\n",
              "        buttonEl.style.display =\n",
              "          google.colab.kernel.accessAllowed ? 'block' : 'none';\n",
              "\n",
              "        async function convertToInteractive(key) {\n",
              "          const element = document.querySelector('#df-9e7b26a6-d8d2-4b29-a32f-312b865aaf1a');\n",
              "          const dataTable =\n",
              "            await google.colab.kernel.invokeFunction('convertToInteractive',\n",
              "                                                     [key], {});\n",
              "          if (!dataTable) return;\n",
              "\n",
              "          const docLinkHtml = 'Like what you see? Visit the ' +\n",
              "            '<a target=\"_blank\" href=https://colab.research.google.com/notebooks/data_table.ipynb>data table notebook</a>'\n",
              "            + ' to learn more about interactive tables.';\n",
              "          element.innerHTML = '';\n",
              "          dataTable['output_type'] = 'display_data';\n",
              "          await google.colab.output.renderOutput(dataTable, element);\n",
              "          const docLink = document.createElement('div');\n",
              "          docLink.innerHTML = docLinkHtml;\n",
              "          element.appendChild(docLink);\n",
              "        }\n",
              "      </script>\n",
              "    </div>\n",
              "  </div>\n",
              "  "
            ]
          },
          "metadata": {},
          "execution_count": 9
        }
      ]
    },
    {
      "cell_type": "markdown",
      "source": [
        "Pesapal Data Description and understanding"
      ],
      "metadata": {
        "id": "HoiOZ4jFZaS-"
      }
    },
    {
      "cell_type": "code",
      "source": [
        "print(PesaPal_data.shape)\n",
        "PesaPal_data.info()"
      ],
      "metadata": {
        "id": "G5PCoIzkVe4z",
        "colab": {
          "base_uri": "https://localhost:8080/"
        },
        "outputId": "00af3500-3631-40b5-9a90-6e0a35399290"
      },
      "execution_count": null,
      "outputs": [
        {
          "output_type": "stream",
          "name": "stdout",
          "text": [
            "(21, 10)\n",
            "<class 'pandas.core.frame.DataFrame'>\n",
            "RangeIndex: 21 entries, 0 to 20\n",
            "Data columns (total 10 columns):\n",
            " #   Column                Non-Null Count  Dtype         \n",
            "---  ------                --------------  -----         \n",
            " 0   reviewId              21 non-null     object        \n",
            " 1   userName              21 non-null     object        \n",
            " 2   userImage             21 non-null     object        \n",
            " 3   content               21 non-null     object        \n",
            " 4   score                 21 non-null     int64         \n",
            " 5   thumbsUpCount         21 non-null     int64         \n",
            " 6   reviewCreatedVersion  17 non-null     object        \n",
            " 7   at                    21 non-null     datetime64[ns]\n",
            " 8   replyContent          0 non-null      object        \n",
            " 9   repliedAt             0 non-null      object        \n",
            "dtypes: datetime64[ns](1), int64(2), object(7)\n",
            "memory usage: 1.8+ KB\n"
          ]
        }
      ]
    },
    {
      "cell_type": "code",
      "source": [
        "len(PesaPal_data.index) # checking the number of observations for our dataset"
      ],
      "metadata": {
        "id": "ArB3nAszWcUQ",
        "colab": {
          "base_uri": "https://localhost:8080/"
        },
        "outputId": "29d898c9-5fbd-4d31-fa6c-2743ee1f5af3"
      },
      "execution_count": null,
      "outputs": [
        {
          "output_type": "execute_result",
          "data": {
            "text/plain": [
              "21"
            ]
          },
          "metadata": {},
          "execution_count": 11
        }
      ]
    },
    {
      "cell_type": "code",
      "source": [
        "# drop the unnecesarry columns before we can start the EDA(Exploratory Data Analysis)\n",
        "PesaPal_data1 = PesaPal_data[[\"content\",\"reviewCreatedVersion\",\"score\",\"at\",\"thumbsUpCount\"]]\n",
        "PesaPal_data1.head()"
      ],
      "metadata": {
        "id": "fM3uSeMuW_Ek",
        "colab": {
          "base_uri": "https://localhost:8080/",
          "height": 206
        },
        "outputId": "1a05ea1c-db53-468a-ff1c-2e4d675ebc73"
      },
      "execution_count": null,
      "outputs": [
        {
          "output_type": "execute_result",
          "data": {
            "text/plain": [
              "                                             content reviewCreatedVersion  \\\n",
              "0  One of the best POs app, one improvement neede...                 35.4   \n",
              "1  It's the best love it, saves time and it's acc...                   29   \n",
              "2  The app is nice but anytime I try selling on c...                   29   \n",
              "3  Its a good app I wish it were available on des...                   32   \n",
              "4           best app need charts summary thanks alot                   29   \n",
              "\n",
              "   score                  at  thumbsUpCount  \n",
              "0      3 2022-06-22 06:50:54              0  \n",
              "1      5 2018-11-21 09:48:20              7  \n",
              "2      5 2019-12-09 18:59:03              3  \n",
              "3      4 2020-08-27 07:41:29              6  \n",
              "4      5 2019-01-13 19:23:58              3  "
            ],
            "text/html": [
              "\n",
              "  <div id=\"df-7e7d69a6-8f6b-4f69-8499-03af707a23a7\">\n",
              "    <div class=\"colab-df-container\">\n",
              "      <div>\n",
              "<style scoped>\n",
              "    .dataframe tbody tr th:only-of-type {\n",
              "        vertical-align: middle;\n",
              "    }\n",
              "\n",
              "    .dataframe tbody tr th {\n",
              "        vertical-align: top;\n",
              "    }\n",
              "\n",
              "    .dataframe thead th {\n",
              "        text-align: right;\n",
              "    }\n",
              "</style>\n",
              "<table border=\"1\" class=\"dataframe\">\n",
              "  <thead>\n",
              "    <tr style=\"text-align: right;\">\n",
              "      <th></th>\n",
              "      <th>content</th>\n",
              "      <th>reviewCreatedVersion</th>\n",
              "      <th>score</th>\n",
              "      <th>at</th>\n",
              "      <th>thumbsUpCount</th>\n",
              "    </tr>\n",
              "  </thead>\n",
              "  <tbody>\n",
              "    <tr>\n",
              "      <th>0</th>\n",
              "      <td>One of the best POs app, one improvement neede...</td>\n",
              "      <td>35.4</td>\n",
              "      <td>3</td>\n",
              "      <td>2022-06-22 06:50:54</td>\n",
              "      <td>0</td>\n",
              "    </tr>\n",
              "    <tr>\n",
              "      <th>1</th>\n",
              "      <td>It's the best love it, saves time and it's acc...</td>\n",
              "      <td>29</td>\n",
              "      <td>5</td>\n",
              "      <td>2018-11-21 09:48:20</td>\n",
              "      <td>7</td>\n",
              "    </tr>\n",
              "    <tr>\n",
              "      <th>2</th>\n",
              "      <td>The app is nice but anytime I try selling on c...</td>\n",
              "      <td>29</td>\n",
              "      <td>5</td>\n",
              "      <td>2019-12-09 18:59:03</td>\n",
              "      <td>3</td>\n",
              "    </tr>\n",
              "    <tr>\n",
              "      <th>3</th>\n",
              "      <td>Its a good app I wish it were available on des...</td>\n",
              "      <td>32</td>\n",
              "      <td>4</td>\n",
              "      <td>2020-08-27 07:41:29</td>\n",
              "      <td>6</td>\n",
              "    </tr>\n",
              "    <tr>\n",
              "      <th>4</th>\n",
              "      <td>best app need charts summary thanks alot</td>\n",
              "      <td>29</td>\n",
              "      <td>5</td>\n",
              "      <td>2019-01-13 19:23:58</td>\n",
              "      <td>3</td>\n",
              "    </tr>\n",
              "  </tbody>\n",
              "</table>\n",
              "</div>\n",
              "      <button class=\"colab-df-convert\" onclick=\"convertToInteractive('df-7e7d69a6-8f6b-4f69-8499-03af707a23a7')\"\n",
              "              title=\"Convert this dataframe to an interactive table.\"\n",
              "              style=\"display:none;\">\n",
              "        \n",
              "  <svg xmlns=\"http://www.w3.org/2000/svg\" height=\"24px\"viewBox=\"0 0 24 24\"\n",
              "       width=\"24px\">\n",
              "    <path d=\"M0 0h24v24H0V0z\" fill=\"none\"/>\n",
              "    <path d=\"M18.56 5.44l.94 2.06.94-2.06 2.06-.94-2.06-.94-.94-2.06-.94 2.06-2.06.94zm-11 1L8.5 8.5l.94-2.06 2.06-.94-2.06-.94L8.5 2.5l-.94 2.06-2.06.94zm10 10l.94 2.06.94-2.06 2.06-.94-2.06-.94-.94-2.06-.94 2.06-2.06.94z\"/><path d=\"M17.41 7.96l-1.37-1.37c-.4-.4-.92-.59-1.43-.59-.52 0-1.04.2-1.43.59L10.3 9.45l-7.72 7.72c-.78.78-.78 2.05 0 2.83L4 21.41c.39.39.9.59 1.41.59.51 0 1.02-.2 1.41-.59l7.78-7.78 2.81-2.81c.8-.78.8-2.07 0-2.86zM5.41 20L4 18.59l7.72-7.72 1.47 1.35L5.41 20z\"/>\n",
              "  </svg>\n",
              "      </button>\n",
              "      \n",
              "  <style>\n",
              "    .colab-df-container {\n",
              "      display:flex;\n",
              "      flex-wrap:wrap;\n",
              "      gap: 12px;\n",
              "    }\n",
              "\n",
              "    .colab-df-convert {\n",
              "      background-color: #E8F0FE;\n",
              "      border: none;\n",
              "      border-radius: 50%;\n",
              "      cursor: pointer;\n",
              "      display: none;\n",
              "      fill: #1967D2;\n",
              "      height: 32px;\n",
              "      padding: 0 0 0 0;\n",
              "      width: 32px;\n",
              "    }\n",
              "\n",
              "    .colab-df-convert:hover {\n",
              "      background-color: #E2EBFA;\n",
              "      box-shadow: 0px 1px 2px rgba(60, 64, 67, 0.3), 0px 1px 3px 1px rgba(60, 64, 67, 0.15);\n",
              "      fill: #174EA6;\n",
              "    }\n",
              "\n",
              "    [theme=dark] .colab-df-convert {\n",
              "      background-color: #3B4455;\n",
              "      fill: #D2E3FC;\n",
              "    }\n",
              "\n",
              "    [theme=dark] .colab-df-convert:hover {\n",
              "      background-color: #434B5C;\n",
              "      box-shadow: 0px 1px 3px 1px rgba(0, 0, 0, 0.15);\n",
              "      filter: drop-shadow(0px 1px 2px rgba(0, 0, 0, 0.3));\n",
              "      fill: #FFFFFF;\n",
              "    }\n",
              "  </style>\n",
              "\n",
              "      <script>\n",
              "        const buttonEl =\n",
              "          document.querySelector('#df-7e7d69a6-8f6b-4f69-8499-03af707a23a7 button.colab-df-convert');\n",
              "        buttonEl.style.display =\n",
              "          google.colab.kernel.accessAllowed ? 'block' : 'none';\n",
              "\n",
              "        async function convertToInteractive(key) {\n",
              "          const element = document.querySelector('#df-7e7d69a6-8f6b-4f69-8499-03af707a23a7');\n",
              "          const dataTable =\n",
              "            await google.colab.kernel.invokeFunction('convertToInteractive',\n",
              "                                                     [key], {});\n",
              "          if (!dataTable) return;\n",
              "\n",
              "          const docLinkHtml = 'Like what you see? Visit the ' +\n",
              "            '<a target=\"_blank\" href=https://colab.research.google.com/notebooks/data_table.ipynb>data table notebook</a>'\n",
              "            + ' to learn more about interactive tables.';\n",
              "          element.innerHTML = '';\n",
              "          dataTable['output_type'] = 'display_data';\n",
              "          await google.colab.output.renderOutput(dataTable, element);\n",
              "          const docLink = document.createElement('div');\n",
              "          docLink.innerHTML = docLinkHtml;\n",
              "          element.appendChild(docLink);\n",
              "        }\n",
              "      </script>\n",
              "    </div>\n",
              "  </div>\n",
              "  "
            ]
          },
          "metadata": {},
          "execution_count": 12
        }
      ]
    },
    {
      "cell_type": "code",
      "source": [
        "PesaPalsort_data = PesaPal_data1.sort_values(by=\"at\", ascending= False) # arranging the data starting from the newest to oldest\n",
        "PesaPalsort_data.head()"
      ],
      "metadata": {
        "id": "fSvwaXNJXWJb",
        "colab": {
          "base_uri": "https://localhost:8080/",
          "height": 206
        },
        "outputId": "6816ff59-0772-49d9-ec42-d2dbc59264f2"
      },
      "execution_count": null,
      "outputs": [
        {
          "output_type": "execute_result",
          "data": {
            "text/plain": [
              "                                              content reviewCreatedVersion  \\\n",
              "0   One of the best POs app, one improvement neede...                 35.4   \n",
              "19                           Uduma nzuri inarahisisha                 None   \n",
              "6   Pesapal ina saìdia wakati wowote ile unapoiita...                   29   \n",
              "3   Its a good app I wish it were available on des...                   32   \n",
              "2   The app is nice but anytime I try selling on c...                   29   \n",
              "\n",
              "    score                  at  thumbsUpCount  \n",
              "0       3 2022-06-22 06:50:54              0  \n",
              "19      5 2021-12-28 10:23:57              0  \n",
              "6       4 2020-10-06 05:37:35              0  \n",
              "3       4 2020-08-27 07:41:29              6  \n",
              "2       5 2019-12-09 18:59:03              3  "
            ],
            "text/html": [
              "\n",
              "  <div id=\"df-ce600d6e-61b9-4f15-8604-1f4f6d9a295c\">\n",
              "    <div class=\"colab-df-container\">\n",
              "      <div>\n",
              "<style scoped>\n",
              "    .dataframe tbody tr th:only-of-type {\n",
              "        vertical-align: middle;\n",
              "    }\n",
              "\n",
              "    .dataframe tbody tr th {\n",
              "        vertical-align: top;\n",
              "    }\n",
              "\n",
              "    .dataframe thead th {\n",
              "        text-align: right;\n",
              "    }\n",
              "</style>\n",
              "<table border=\"1\" class=\"dataframe\">\n",
              "  <thead>\n",
              "    <tr style=\"text-align: right;\">\n",
              "      <th></th>\n",
              "      <th>content</th>\n",
              "      <th>reviewCreatedVersion</th>\n",
              "      <th>score</th>\n",
              "      <th>at</th>\n",
              "      <th>thumbsUpCount</th>\n",
              "    </tr>\n",
              "  </thead>\n",
              "  <tbody>\n",
              "    <tr>\n",
              "      <th>0</th>\n",
              "      <td>One of the best POs app, one improvement neede...</td>\n",
              "      <td>35.4</td>\n",
              "      <td>3</td>\n",
              "      <td>2022-06-22 06:50:54</td>\n",
              "      <td>0</td>\n",
              "    </tr>\n",
              "    <tr>\n",
              "      <th>19</th>\n",
              "      <td>Uduma nzuri inarahisisha</td>\n",
              "      <td>None</td>\n",
              "      <td>5</td>\n",
              "      <td>2021-12-28 10:23:57</td>\n",
              "      <td>0</td>\n",
              "    </tr>\n",
              "    <tr>\n",
              "      <th>6</th>\n",
              "      <td>Pesapal ina saìdia wakati wowote ile unapoiita...</td>\n",
              "      <td>29</td>\n",
              "      <td>4</td>\n",
              "      <td>2020-10-06 05:37:35</td>\n",
              "      <td>0</td>\n",
              "    </tr>\n",
              "    <tr>\n",
              "      <th>3</th>\n",
              "      <td>Its a good app I wish it were available on des...</td>\n",
              "      <td>32</td>\n",
              "      <td>4</td>\n",
              "      <td>2020-08-27 07:41:29</td>\n",
              "      <td>6</td>\n",
              "    </tr>\n",
              "    <tr>\n",
              "      <th>2</th>\n",
              "      <td>The app is nice but anytime I try selling on c...</td>\n",
              "      <td>29</td>\n",
              "      <td>5</td>\n",
              "      <td>2019-12-09 18:59:03</td>\n",
              "      <td>3</td>\n",
              "    </tr>\n",
              "  </tbody>\n",
              "</table>\n",
              "</div>\n",
              "      <button class=\"colab-df-convert\" onclick=\"convertToInteractive('df-ce600d6e-61b9-4f15-8604-1f4f6d9a295c')\"\n",
              "              title=\"Convert this dataframe to an interactive table.\"\n",
              "              style=\"display:none;\">\n",
              "        \n",
              "  <svg xmlns=\"http://www.w3.org/2000/svg\" height=\"24px\"viewBox=\"0 0 24 24\"\n",
              "       width=\"24px\">\n",
              "    <path d=\"M0 0h24v24H0V0z\" fill=\"none\"/>\n",
              "    <path d=\"M18.56 5.44l.94 2.06.94-2.06 2.06-.94-2.06-.94-.94-2.06-.94 2.06-2.06.94zm-11 1L8.5 8.5l.94-2.06 2.06-.94-2.06-.94L8.5 2.5l-.94 2.06-2.06.94zm10 10l.94 2.06.94-2.06 2.06-.94-2.06-.94-.94-2.06-.94 2.06-2.06.94z\"/><path d=\"M17.41 7.96l-1.37-1.37c-.4-.4-.92-.59-1.43-.59-.52 0-1.04.2-1.43.59L10.3 9.45l-7.72 7.72c-.78.78-.78 2.05 0 2.83L4 21.41c.39.39.9.59 1.41.59.51 0 1.02-.2 1.41-.59l7.78-7.78 2.81-2.81c.8-.78.8-2.07 0-2.86zM5.41 20L4 18.59l7.72-7.72 1.47 1.35L5.41 20z\"/>\n",
              "  </svg>\n",
              "      </button>\n",
              "      \n",
              "  <style>\n",
              "    .colab-df-container {\n",
              "      display:flex;\n",
              "      flex-wrap:wrap;\n",
              "      gap: 12px;\n",
              "    }\n",
              "\n",
              "    .colab-df-convert {\n",
              "      background-color: #E8F0FE;\n",
              "      border: none;\n",
              "      border-radius: 50%;\n",
              "      cursor: pointer;\n",
              "      display: none;\n",
              "      fill: #1967D2;\n",
              "      height: 32px;\n",
              "      padding: 0 0 0 0;\n",
              "      width: 32px;\n",
              "    }\n",
              "\n",
              "    .colab-df-convert:hover {\n",
              "      background-color: #E2EBFA;\n",
              "      box-shadow: 0px 1px 2px rgba(60, 64, 67, 0.3), 0px 1px 3px 1px rgba(60, 64, 67, 0.15);\n",
              "      fill: #174EA6;\n",
              "    }\n",
              "\n",
              "    [theme=dark] .colab-df-convert {\n",
              "      background-color: #3B4455;\n",
              "      fill: #D2E3FC;\n",
              "    }\n",
              "\n",
              "    [theme=dark] .colab-df-convert:hover {\n",
              "      background-color: #434B5C;\n",
              "      box-shadow: 0px 1px 3px 1px rgba(0, 0, 0, 0.15);\n",
              "      filter: drop-shadow(0px 1px 2px rgba(0, 0, 0, 0.3));\n",
              "      fill: #FFFFFF;\n",
              "    }\n",
              "  </style>\n",
              "\n",
              "      <script>\n",
              "        const buttonEl =\n",
              "          document.querySelector('#df-ce600d6e-61b9-4f15-8604-1f4f6d9a295c button.colab-df-convert');\n",
              "        buttonEl.style.display =\n",
              "          google.colab.kernel.accessAllowed ? 'block' : 'none';\n",
              "\n",
              "        async function convertToInteractive(key) {\n",
              "          const element = document.querySelector('#df-ce600d6e-61b9-4f15-8604-1f4f6d9a295c');\n",
              "          const dataTable =\n",
              "            await google.colab.kernel.invokeFunction('convertToInteractive',\n",
              "                                                     [key], {});\n",
              "          if (!dataTable) return;\n",
              "\n",
              "          const docLinkHtml = 'Like what you see? Visit the ' +\n",
              "            '<a target=\"_blank\" href=https://colab.research.google.com/notebooks/data_table.ipynb>data table notebook</a>'\n",
              "            + ' to learn more about interactive tables.';\n",
              "          element.innerHTML = '';\n",
              "          dataTable['output_type'] = 'display_data';\n",
              "          await google.colab.output.renderOutput(dataTable, element);\n",
              "          const docLink = document.createElement('div');\n",
              "          docLink.innerHTML = docLinkHtml;\n",
              "          element.appendChild(docLink);\n",
              "        }\n",
              "      </script>\n",
              "    </div>\n",
              "  </div>\n",
              "  "
            ]
          },
          "metadata": {},
          "execution_count": 13
        }
      ]
    },
    {
      "cell_type": "code",
      "source": [
        "PesaPalsort_data.to_excel(\"PesaPal.xlsx\", index = False) #download PesaPal excel file"
      ],
      "metadata": {
        "id": "gGuLWRQuX38B"
      },
      "execution_count": null,
      "outputs": []
    },
    {
      "cell_type": "markdown",
      "source": [
        "## **PayStack data Import**"
      ],
      "metadata": {
        "id": "pLJ1UOz0UdD6"
      }
    },
    {
      "cell_type": "markdown",
      "source": [
        "Converting Paystack scrapped data to Data Frame(Structured data) for our analysis."
      ],
      "metadata": {
        "id": "UWIMngIyZ7bw"
      }
    },
    {
      "cell_type": "code",
      "source": [
        "#converting into data Frame\n",
        "Paystack_data = pd.DataFrame(np.array(Pay_stack), columns = ['review'])\n",
        "Paystack_data = Paystack_data.join(pd.DataFrame(Paystack_data.pop('review').tolist()))\n",
        "Paystack_data.head()"
      ],
      "metadata": {
        "id": "brGZFKX8T8Jn",
        "colab": {
          "base_uri": "https://localhost:8080/",
          "height": 545
        },
        "outputId": "d2059db5-b39f-4bd7-b104-cde06eda2206"
      },
      "execution_count": null,
      "outputs": [
        {
          "output_type": "execute_result",
          "data": {
            "text/plain": [
              "                               reviewId                     userName  \\\n",
              "0  edfc3d36-bb4d-4d5a-b747-889cfa726ad9              Edidiong Ibanga   \n",
              "1  899a557e-daad-4f9a-9b53-d023babb2fed  Miracle Enomfon (Godfather)   \n",
              "2  3c5d3256-efed-41ec-b01a-5f328ad16610     ODU Enemona Daniel prime   \n",
              "3  d554cb22-684d-45c7-ae0a-c9f0f83e222f   Chukwuemeka Precious Asadu   \n",
              "4  ca2475d9-70f9-4f67-8c64-3c2f2c16fe77                    ige james   \n",
              "\n",
              "                                           userImage  \\\n",
              "0  https://play-lh.googleusercontent.com/a-/AD5-W...   \n",
              "1  https://play-lh.googleusercontent.com/a-/AD5-W...   \n",
              "2  https://play-lh.googleusercontent.com/a-/AD5-W...   \n",
              "3  https://play-lh.googleusercontent.com/a-/AD5-W...   \n",
              "4  https://play-lh.googleusercontent.com/a-/AD5-W...   \n",
              "\n",
              "                                             content  score  thumbsUpCount  \\\n",
              "0  Please this updated version is really giving m...      1              4   \n",
              "1  After creating an account in the app I could n...      1              3   \n",
              "2  the updated version is not signing in, when i ...      1              2   \n",
              "3  Awesome experience. I've been awaiting this fo...      4             67   \n",
              "4  The app is user friendly and easy to navigate ...      4              7   \n",
              "\n",
              "  reviewCreatedVersion                  at  \\\n",
              "0                1.9.3 2022-11-11 14:19:40   \n",
              "1                1.9.3 2022-11-19 11:32:25   \n",
              "2                1.9.3 2022-11-18 08:10:45   \n",
              "3                1.1.4 2020-05-31 08:45:28   \n",
              "4                1.8.3 2022-10-17 08:02:33   \n",
              "\n",
              "                                        replyContent           repliedAt  \n",
              "0                                               None                 NaT  \n",
              "1                                               None                 NaT  \n",
              "2                                               None                 NaT  \n",
              "3  Hi Chukuwemeka, thank you so much for the kind... 2020-06-16 18:23:29  \n",
              "4                                               None                 NaT  "
            ],
            "text/html": [
              "\n",
              "  <div id=\"df-5b9f887a-741d-4c26-97c6-e207dd99b96c\">\n",
              "    <div class=\"colab-df-container\">\n",
              "      <div>\n",
              "<style scoped>\n",
              "    .dataframe tbody tr th:only-of-type {\n",
              "        vertical-align: middle;\n",
              "    }\n",
              "\n",
              "    .dataframe tbody tr th {\n",
              "        vertical-align: top;\n",
              "    }\n",
              "\n",
              "    .dataframe thead th {\n",
              "        text-align: right;\n",
              "    }\n",
              "</style>\n",
              "<table border=\"1\" class=\"dataframe\">\n",
              "  <thead>\n",
              "    <tr style=\"text-align: right;\">\n",
              "      <th></th>\n",
              "      <th>reviewId</th>\n",
              "      <th>userName</th>\n",
              "      <th>userImage</th>\n",
              "      <th>content</th>\n",
              "      <th>score</th>\n",
              "      <th>thumbsUpCount</th>\n",
              "      <th>reviewCreatedVersion</th>\n",
              "      <th>at</th>\n",
              "      <th>replyContent</th>\n",
              "      <th>repliedAt</th>\n",
              "    </tr>\n",
              "  </thead>\n",
              "  <tbody>\n",
              "    <tr>\n",
              "      <th>0</th>\n",
              "      <td>edfc3d36-bb4d-4d5a-b747-889cfa726ad9</td>\n",
              "      <td>Edidiong Ibanga</td>\n",
              "      <td>https://play-lh.googleusercontent.com/a-/AD5-W...</td>\n",
              "      <td>Please this updated version is really giving m...</td>\n",
              "      <td>1</td>\n",
              "      <td>4</td>\n",
              "      <td>1.9.3</td>\n",
              "      <td>2022-11-11 14:19:40</td>\n",
              "      <td>None</td>\n",
              "      <td>NaT</td>\n",
              "    </tr>\n",
              "    <tr>\n",
              "      <th>1</th>\n",
              "      <td>899a557e-daad-4f9a-9b53-d023babb2fed</td>\n",
              "      <td>Miracle Enomfon (Godfather)</td>\n",
              "      <td>https://play-lh.googleusercontent.com/a-/AD5-W...</td>\n",
              "      <td>After creating an account in the app I could n...</td>\n",
              "      <td>1</td>\n",
              "      <td>3</td>\n",
              "      <td>1.9.3</td>\n",
              "      <td>2022-11-19 11:32:25</td>\n",
              "      <td>None</td>\n",
              "      <td>NaT</td>\n",
              "    </tr>\n",
              "    <tr>\n",
              "      <th>2</th>\n",
              "      <td>3c5d3256-efed-41ec-b01a-5f328ad16610</td>\n",
              "      <td>ODU Enemona Daniel prime</td>\n",
              "      <td>https://play-lh.googleusercontent.com/a-/AD5-W...</td>\n",
              "      <td>the updated version is not signing in, when i ...</td>\n",
              "      <td>1</td>\n",
              "      <td>2</td>\n",
              "      <td>1.9.3</td>\n",
              "      <td>2022-11-18 08:10:45</td>\n",
              "      <td>None</td>\n",
              "      <td>NaT</td>\n",
              "    </tr>\n",
              "    <tr>\n",
              "      <th>3</th>\n",
              "      <td>d554cb22-684d-45c7-ae0a-c9f0f83e222f</td>\n",
              "      <td>Chukwuemeka Precious Asadu</td>\n",
              "      <td>https://play-lh.googleusercontent.com/a-/AD5-W...</td>\n",
              "      <td>Awesome experience. I've been awaiting this fo...</td>\n",
              "      <td>4</td>\n",
              "      <td>67</td>\n",
              "      <td>1.1.4</td>\n",
              "      <td>2020-05-31 08:45:28</td>\n",
              "      <td>Hi Chukuwemeka, thank you so much for the kind...</td>\n",
              "      <td>2020-06-16 18:23:29</td>\n",
              "    </tr>\n",
              "    <tr>\n",
              "      <th>4</th>\n",
              "      <td>ca2475d9-70f9-4f67-8c64-3c2f2c16fe77</td>\n",
              "      <td>ige james</td>\n",
              "      <td>https://play-lh.googleusercontent.com/a-/AD5-W...</td>\n",
              "      <td>The app is user friendly and easy to navigate ...</td>\n",
              "      <td>4</td>\n",
              "      <td>7</td>\n",
              "      <td>1.8.3</td>\n",
              "      <td>2022-10-17 08:02:33</td>\n",
              "      <td>None</td>\n",
              "      <td>NaT</td>\n",
              "    </tr>\n",
              "  </tbody>\n",
              "</table>\n",
              "</div>\n",
              "      <button class=\"colab-df-convert\" onclick=\"convertToInteractive('df-5b9f887a-741d-4c26-97c6-e207dd99b96c')\"\n",
              "              title=\"Convert this dataframe to an interactive table.\"\n",
              "              style=\"display:none;\">\n",
              "        \n",
              "  <svg xmlns=\"http://www.w3.org/2000/svg\" height=\"24px\"viewBox=\"0 0 24 24\"\n",
              "       width=\"24px\">\n",
              "    <path d=\"M0 0h24v24H0V0z\" fill=\"none\"/>\n",
              "    <path d=\"M18.56 5.44l.94 2.06.94-2.06 2.06-.94-2.06-.94-.94-2.06-.94 2.06-2.06.94zm-11 1L8.5 8.5l.94-2.06 2.06-.94-2.06-.94L8.5 2.5l-.94 2.06-2.06.94zm10 10l.94 2.06.94-2.06 2.06-.94-2.06-.94-.94-2.06-.94 2.06-2.06.94z\"/><path d=\"M17.41 7.96l-1.37-1.37c-.4-.4-.92-.59-1.43-.59-.52 0-1.04.2-1.43.59L10.3 9.45l-7.72 7.72c-.78.78-.78 2.05 0 2.83L4 21.41c.39.39.9.59 1.41.59.51 0 1.02-.2 1.41-.59l7.78-7.78 2.81-2.81c.8-.78.8-2.07 0-2.86zM5.41 20L4 18.59l7.72-7.72 1.47 1.35L5.41 20z\"/>\n",
              "  </svg>\n",
              "      </button>\n",
              "      \n",
              "  <style>\n",
              "    .colab-df-container {\n",
              "      display:flex;\n",
              "      flex-wrap:wrap;\n",
              "      gap: 12px;\n",
              "    }\n",
              "\n",
              "    .colab-df-convert {\n",
              "      background-color: #E8F0FE;\n",
              "      border: none;\n",
              "      border-radius: 50%;\n",
              "      cursor: pointer;\n",
              "      display: none;\n",
              "      fill: #1967D2;\n",
              "      height: 32px;\n",
              "      padding: 0 0 0 0;\n",
              "      width: 32px;\n",
              "    }\n",
              "\n",
              "    .colab-df-convert:hover {\n",
              "      background-color: #E2EBFA;\n",
              "      box-shadow: 0px 1px 2px rgba(60, 64, 67, 0.3), 0px 1px 3px 1px rgba(60, 64, 67, 0.15);\n",
              "      fill: #174EA6;\n",
              "    }\n",
              "\n",
              "    [theme=dark] .colab-df-convert {\n",
              "      background-color: #3B4455;\n",
              "      fill: #D2E3FC;\n",
              "    }\n",
              "\n",
              "    [theme=dark] .colab-df-convert:hover {\n",
              "      background-color: #434B5C;\n",
              "      box-shadow: 0px 1px 3px 1px rgba(0, 0, 0, 0.15);\n",
              "      filter: drop-shadow(0px 1px 2px rgba(0, 0, 0, 0.3));\n",
              "      fill: #FFFFFF;\n",
              "    }\n",
              "  </style>\n",
              "\n",
              "      <script>\n",
              "        const buttonEl =\n",
              "          document.querySelector('#df-5b9f887a-741d-4c26-97c6-e207dd99b96c button.colab-df-convert');\n",
              "        buttonEl.style.display =\n",
              "          google.colab.kernel.accessAllowed ? 'block' : 'none';\n",
              "\n",
              "        async function convertToInteractive(key) {\n",
              "          const element = document.querySelector('#df-5b9f887a-741d-4c26-97c6-e207dd99b96c');\n",
              "          const dataTable =\n",
              "            await google.colab.kernel.invokeFunction('convertToInteractive',\n",
              "                                                     [key], {});\n",
              "          if (!dataTable) return;\n",
              "\n",
              "          const docLinkHtml = 'Like what you see? Visit the ' +\n",
              "            '<a target=\"_blank\" href=https://colab.research.google.com/notebooks/data_table.ipynb>data table notebook</a>'\n",
              "            + ' to learn more about interactive tables.';\n",
              "          element.innerHTML = '';\n",
              "          dataTable['output_type'] = 'display_data';\n",
              "          await google.colab.output.renderOutput(dataTable, element);\n",
              "          const docLink = document.createElement('div');\n",
              "          docLink.innerHTML = docLinkHtml;\n",
              "          element.appendChild(docLink);\n",
              "        }\n",
              "      </script>\n",
              "    </div>\n",
              "  </div>\n",
              "  "
            ]
          },
          "metadata": {},
          "execution_count": 15
        }
      ]
    },
    {
      "cell_type": "markdown",
      "source": [
        "Paystack data decription and understanding"
      ],
      "metadata": {
        "id": "CeyPnSRMaGAN"
      }
    },
    {
      "cell_type": "code",
      "source": [
        "print(Paystack_data.shape)\n",
        "Paystack_data.info()"
      ],
      "metadata": {
        "id": "wxaK0fn6VTT5",
        "colab": {
          "base_uri": "https://localhost:8080/"
        },
        "outputId": "251fe82d-c3f8-4e58-e13d-2cf641fb078b"
      },
      "execution_count": null,
      "outputs": [
        {
          "output_type": "stream",
          "name": "stdout",
          "text": [
            "(280, 10)\n",
            "<class 'pandas.core.frame.DataFrame'>\n",
            "RangeIndex: 280 entries, 0 to 279\n",
            "Data columns (total 10 columns):\n",
            " #   Column                Non-Null Count  Dtype         \n",
            "---  ------                --------------  -----         \n",
            " 0   reviewId              280 non-null    object        \n",
            " 1   userName              280 non-null    object        \n",
            " 2   userImage             280 non-null    object        \n",
            " 3   content               280 non-null    object        \n",
            " 4   score                 280 non-null    int64         \n",
            " 5   thumbsUpCount         280 non-null    int64         \n",
            " 6   reviewCreatedVersion  222 non-null    object        \n",
            " 7   at                    280 non-null    datetime64[ns]\n",
            " 8   replyContent          138 non-null    object        \n",
            " 9   repliedAt             138 non-null    datetime64[ns]\n",
            "dtypes: datetime64[ns](2), int64(2), object(6)\n",
            "memory usage: 22.0+ KB\n"
          ]
        }
      ]
    },
    {
      "cell_type": "code",
      "source": [
        "len(Paystack_data.index) # Paystack number of reviews"
      ],
      "metadata": {
        "id": "k4uoS2gMWiL-",
        "colab": {
          "base_uri": "https://localhost:8080/"
        },
        "outputId": "50ef2086-4934-47d0-e2ad-7ec38fc3379e"
      },
      "execution_count": null,
      "outputs": [
        {
          "output_type": "execute_result",
          "data": {
            "text/plain": [
              "280"
            ]
          },
          "metadata": {},
          "execution_count": 17
        }
      ]
    },
    {
      "cell_type": "code",
      "source": [
        "# drop the unnecesarry columns before we can start the EDA(Exploratory Data Analysis)\n",
        "Paystack_data1 = Paystack_data[[\"content\",\"reviewCreatedVersion\",\"score\",\"at\",\"thumbsUpCount\"]]\n",
        "Paystack_data1.head()"
      ],
      "metadata": {
        "id": "zrZyAQSHW1-3",
        "colab": {
          "base_uri": "https://localhost:8080/",
          "height": 206
        },
        "outputId": "6cd97cfb-af67-40d4-832f-413a3ef3d889"
      },
      "execution_count": null,
      "outputs": [
        {
          "output_type": "execute_result",
          "data": {
            "text/plain": [
              "                                             content reviewCreatedVersion  \\\n",
              "0  Please this updated version is really giving m...                1.9.3   \n",
              "1  After creating an account in the app I could n...                1.9.3   \n",
              "2  the updated version is not signing in, when i ...                1.9.3   \n",
              "3  Awesome experience. I've been awaiting this fo...                1.1.4   \n",
              "4  The app is user friendly and easy to navigate ...                1.8.3   \n",
              "\n",
              "   score                  at  thumbsUpCount  \n",
              "0      1 2022-11-11 14:19:40              4  \n",
              "1      1 2022-11-19 11:32:25              3  \n",
              "2      1 2022-11-18 08:10:45              2  \n",
              "3      4 2020-05-31 08:45:28             67  \n",
              "4      4 2022-10-17 08:02:33              7  "
            ],
            "text/html": [
              "\n",
              "  <div id=\"df-b20032f4-6208-441f-bc68-8865b735262a\">\n",
              "    <div class=\"colab-df-container\">\n",
              "      <div>\n",
              "<style scoped>\n",
              "    .dataframe tbody tr th:only-of-type {\n",
              "        vertical-align: middle;\n",
              "    }\n",
              "\n",
              "    .dataframe tbody tr th {\n",
              "        vertical-align: top;\n",
              "    }\n",
              "\n",
              "    .dataframe thead th {\n",
              "        text-align: right;\n",
              "    }\n",
              "</style>\n",
              "<table border=\"1\" class=\"dataframe\">\n",
              "  <thead>\n",
              "    <tr style=\"text-align: right;\">\n",
              "      <th></th>\n",
              "      <th>content</th>\n",
              "      <th>reviewCreatedVersion</th>\n",
              "      <th>score</th>\n",
              "      <th>at</th>\n",
              "      <th>thumbsUpCount</th>\n",
              "    </tr>\n",
              "  </thead>\n",
              "  <tbody>\n",
              "    <tr>\n",
              "      <th>0</th>\n",
              "      <td>Please this updated version is really giving m...</td>\n",
              "      <td>1.9.3</td>\n",
              "      <td>1</td>\n",
              "      <td>2022-11-11 14:19:40</td>\n",
              "      <td>4</td>\n",
              "    </tr>\n",
              "    <tr>\n",
              "      <th>1</th>\n",
              "      <td>After creating an account in the app I could n...</td>\n",
              "      <td>1.9.3</td>\n",
              "      <td>1</td>\n",
              "      <td>2022-11-19 11:32:25</td>\n",
              "      <td>3</td>\n",
              "    </tr>\n",
              "    <tr>\n",
              "      <th>2</th>\n",
              "      <td>the updated version is not signing in, when i ...</td>\n",
              "      <td>1.9.3</td>\n",
              "      <td>1</td>\n",
              "      <td>2022-11-18 08:10:45</td>\n",
              "      <td>2</td>\n",
              "    </tr>\n",
              "    <tr>\n",
              "      <th>3</th>\n",
              "      <td>Awesome experience. I've been awaiting this fo...</td>\n",
              "      <td>1.1.4</td>\n",
              "      <td>4</td>\n",
              "      <td>2020-05-31 08:45:28</td>\n",
              "      <td>67</td>\n",
              "    </tr>\n",
              "    <tr>\n",
              "      <th>4</th>\n",
              "      <td>The app is user friendly and easy to navigate ...</td>\n",
              "      <td>1.8.3</td>\n",
              "      <td>4</td>\n",
              "      <td>2022-10-17 08:02:33</td>\n",
              "      <td>7</td>\n",
              "    </tr>\n",
              "  </tbody>\n",
              "</table>\n",
              "</div>\n",
              "      <button class=\"colab-df-convert\" onclick=\"convertToInteractive('df-b20032f4-6208-441f-bc68-8865b735262a')\"\n",
              "              title=\"Convert this dataframe to an interactive table.\"\n",
              "              style=\"display:none;\">\n",
              "        \n",
              "  <svg xmlns=\"http://www.w3.org/2000/svg\" height=\"24px\"viewBox=\"0 0 24 24\"\n",
              "       width=\"24px\">\n",
              "    <path d=\"M0 0h24v24H0V0z\" fill=\"none\"/>\n",
              "    <path d=\"M18.56 5.44l.94 2.06.94-2.06 2.06-.94-2.06-.94-.94-2.06-.94 2.06-2.06.94zm-11 1L8.5 8.5l.94-2.06 2.06-.94-2.06-.94L8.5 2.5l-.94 2.06-2.06.94zm10 10l.94 2.06.94-2.06 2.06-.94-2.06-.94-.94-2.06-.94 2.06-2.06.94z\"/><path d=\"M17.41 7.96l-1.37-1.37c-.4-.4-.92-.59-1.43-.59-.52 0-1.04.2-1.43.59L10.3 9.45l-7.72 7.72c-.78.78-.78 2.05 0 2.83L4 21.41c.39.39.9.59 1.41.59.51 0 1.02-.2 1.41-.59l7.78-7.78 2.81-2.81c.8-.78.8-2.07 0-2.86zM5.41 20L4 18.59l7.72-7.72 1.47 1.35L5.41 20z\"/>\n",
              "  </svg>\n",
              "      </button>\n",
              "      \n",
              "  <style>\n",
              "    .colab-df-container {\n",
              "      display:flex;\n",
              "      flex-wrap:wrap;\n",
              "      gap: 12px;\n",
              "    }\n",
              "\n",
              "    .colab-df-convert {\n",
              "      background-color: #E8F0FE;\n",
              "      border: none;\n",
              "      border-radius: 50%;\n",
              "      cursor: pointer;\n",
              "      display: none;\n",
              "      fill: #1967D2;\n",
              "      height: 32px;\n",
              "      padding: 0 0 0 0;\n",
              "      width: 32px;\n",
              "    }\n",
              "\n",
              "    .colab-df-convert:hover {\n",
              "      background-color: #E2EBFA;\n",
              "      box-shadow: 0px 1px 2px rgba(60, 64, 67, 0.3), 0px 1px 3px 1px rgba(60, 64, 67, 0.15);\n",
              "      fill: #174EA6;\n",
              "    }\n",
              "\n",
              "    [theme=dark] .colab-df-convert {\n",
              "      background-color: #3B4455;\n",
              "      fill: #D2E3FC;\n",
              "    }\n",
              "\n",
              "    [theme=dark] .colab-df-convert:hover {\n",
              "      background-color: #434B5C;\n",
              "      box-shadow: 0px 1px 3px 1px rgba(0, 0, 0, 0.15);\n",
              "      filter: drop-shadow(0px 1px 2px rgba(0, 0, 0, 0.3));\n",
              "      fill: #FFFFFF;\n",
              "    }\n",
              "  </style>\n",
              "\n",
              "      <script>\n",
              "        const buttonEl =\n",
              "          document.querySelector('#df-b20032f4-6208-441f-bc68-8865b735262a button.colab-df-convert');\n",
              "        buttonEl.style.display =\n",
              "          google.colab.kernel.accessAllowed ? 'block' : 'none';\n",
              "\n",
              "        async function convertToInteractive(key) {\n",
              "          const element = document.querySelector('#df-b20032f4-6208-441f-bc68-8865b735262a');\n",
              "          const dataTable =\n",
              "            await google.colab.kernel.invokeFunction('convertToInteractive',\n",
              "                                                     [key], {});\n",
              "          if (!dataTable) return;\n",
              "\n",
              "          const docLinkHtml = 'Like what you see? Visit the ' +\n",
              "            '<a target=\"_blank\" href=https://colab.research.google.com/notebooks/data_table.ipynb>data table notebook</a>'\n",
              "            + ' to learn more about interactive tables.';\n",
              "          element.innerHTML = '';\n",
              "          dataTable['output_type'] = 'display_data';\n",
              "          await google.colab.output.renderOutput(dataTable, element);\n",
              "          const docLink = document.createElement('div');\n",
              "          docLink.innerHTML = docLinkHtml;\n",
              "          element.appendChild(docLink);\n",
              "        }\n",
              "      </script>\n",
              "    </div>\n",
              "  </div>\n",
              "  "
            ]
          },
          "metadata": {},
          "execution_count": 18
        }
      ]
    },
    {
      "cell_type": "code",
      "source": [
        "Paystacksort_data = Paystack_data1.sort_values(by=\"at\", ascending= False) # arranging the data starting from the newest to oldest\n",
        "Paystacksort_data.head()"
      ],
      "metadata": {
        "id": "w35DTKGgXNRp",
        "colab": {
          "base_uri": "https://localhost:8080/",
          "height": 206
        },
        "outputId": "c9cac216-5a0d-44f8-aea7-742c86c32c41"
      },
      "execution_count": null,
      "outputs": [
        {
          "output_type": "execute_result",
          "data": {
            "text/plain": [
              "                                               content reviewCreatedVersion  \\\n",
              "71                                    This app is good                1.9.4   \n",
              "232                                 Really appreciated                1.9.4   \n",
              "52   Kenya is missing on registration. I thought yo...                1.9.4   \n",
              "152                                   Word conect game                1.9.4   \n",
              "56          I give it 3 🌟 because it not working today                1.9.4   \n",
              "\n",
              "     score                  at  thumbsUpCount  \n",
              "71       5 2022-12-30 15:17:49              0  \n",
              "232      5 2022-12-30 01:58:15              0  \n",
              "52       2 2022-12-21 20:58:35              0  \n",
              "152      5 2022-12-08 07:46:36              0  \n",
              "56       3 2022-12-01 00:54:55              1  "
            ],
            "text/html": [
              "\n",
              "  <div id=\"df-60476417-470f-496d-a2f4-f63668992aa8\">\n",
              "    <div class=\"colab-df-container\">\n",
              "      <div>\n",
              "<style scoped>\n",
              "    .dataframe tbody tr th:only-of-type {\n",
              "        vertical-align: middle;\n",
              "    }\n",
              "\n",
              "    .dataframe tbody tr th {\n",
              "        vertical-align: top;\n",
              "    }\n",
              "\n",
              "    .dataframe thead th {\n",
              "        text-align: right;\n",
              "    }\n",
              "</style>\n",
              "<table border=\"1\" class=\"dataframe\">\n",
              "  <thead>\n",
              "    <tr style=\"text-align: right;\">\n",
              "      <th></th>\n",
              "      <th>content</th>\n",
              "      <th>reviewCreatedVersion</th>\n",
              "      <th>score</th>\n",
              "      <th>at</th>\n",
              "      <th>thumbsUpCount</th>\n",
              "    </tr>\n",
              "  </thead>\n",
              "  <tbody>\n",
              "    <tr>\n",
              "      <th>71</th>\n",
              "      <td>This app is good</td>\n",
              "      <td>1.9.4</td>\n",
              "      <td>5</td>\n",
              "      <td>2022-12-30 15:17:49</td>\n",
              "      <td>0</td>\n",
              "    </tr>\n",
              "    <tr>\n",
              "      <th>232</th>\n",
              "      <td>Really appreciated</td>\n",
              "      <td>1.9.4</td>\n",
              "      <td>5</td>\n",
              "      <td>2022-12-30 01:58:15</td>\n",
              "      <td>0</td>\n",
              "    </tr>\n",
              "    <tr>\n",
              "      <th>52</th>\n",
              "      <td>Kenya is missing on registration. I thought yo...</td>\n",
              "      <td>1.9.4</td>\n",
              "      <td>2</td>\n",
              "      <td>2022-12-21 20:58:35</td>\n",
              "      <td>0</td>\n",
              "    </tr>\n",
              "    <tr>\n",
              "      <th>152</th>\n",
              "      <td>Word conect game</td>\n",
              "      <td>1.9.4</td>\n",
              "      <td>5</td>\n",
              "      <td>2022-12-08 07:46:36</td>\n",
              "      <td>0</td>\n",
              "    </tr>\n",
              "    <tr>\n",
              "      <th>56</th>\n",
              "      <td>I give it 3 🌟 because it not working today</td>\n",
              "      <td>1.9.4</td>\n",
              "      <td>3</td>\n",
              "      <td>2022-12-01 00:54:55</td>\n",
              "      <td>1</td>\n",
              "    </tr>\n",
              "  </tbody>\n",
              "</table>\n",
              "</div>\n",
              "      <button class=\"colab-df-convert\" onclick=\"convertToInteractive('df-60476417-470f-496d-a2f4-f63668992aa8')\"\n",
              "              title=\"Convert this dataframe to an interactive table.\"\n",
              "              style=\"display:none;\">\n",
              "        \n",
              "  <svg xmlns=\"http://www.w3.org/2000/svg\" height=\"24px\"viewBox=\"0 0 24 24\"\n",
              "       width=\"24px\">\n",
              "    <path d=\"M0 0h24v24H0V0z\" fill=\"none\"/>\n",
              "    <path d=\"M18.56 5.44l.94 2.06.94-2.06 2.06-.94-2.06-.94-.94-2.06-.94 2.06-2.06.94zm-11 1L8.5 8.5l.94-2.06 2.06-.94-2.06-.94L8.5 2.5l-.94 2.06-2.06.94zm10 10l.94 2.06.94-2.06 2.06-.94-2.06-.94-.94-2.06-.94 2.06-2.06.94z\"/><path d=\"M17.41 7.96l-1.37-1.37c-.4-.4-.92-.59-1.43-.59-.52 0-1.04.2-1.43.59L10.3 9.45l-7.72 7.72c-.78.78-.78 2.05 0 2.83L4 21.41c.39.39.9.59 1.41.59.51 0 1.02-.2 1.41-.59l7.78-7.78 2.81-2.81c.8-.78.8-2.07 0-2.86zM5.41 20L4 18.59l7.72-7.72 1.47 1.35L5.41 20z\"/>\n",
              "  </svg>\n",
              "      </button>\n",
              "      \n",
              "  <style>\n",
              "    .colab-df-container {\n",
              "      display:flex;\n",
              "      flex-wrap:wrap;\n",
              "      gap: 12px;\n",
              "    }\n",
              "\n",
              "    .colab-df-convert {\n",
              "      background-color: #E8F0FE;\n",
              "      border: none;\n",
              "      border-radius: 50%;\n",
              "      cursor: pointer;\n",
              "      display: none;\n",
              "      fill: #1967D2;\n",
              "      height: 32px;\n",
              "      padding: 0 0 0 0;\n",
              "      width: 32px;\n",
              "    }\n",
              "\n",
              "    .colab-df-convert:hover {\n",
              "      background-color: #E2EBFA;\n",
              "      box-shadow: 0px 1px 2px rgba(60, 64, 67, 0.3), 0px 1px 3px 1px rgba(60, 64, 67, 0.15);\n",
              "      fill: #174EA6;\n",
              "    }\n",
              "\n",
              "    [theme=dark] .colab-df-convert {\n",
              "      background-color: #3B4455;\n",
              "      fill: #D2E3FC;\n",
              "    }\n",
              "\n",
              "    [theme=dark] .colab-df-convert:hover {\n",
              "      background-color: #434B5C;\n",
              "      box-shadow: 0px 1px 3px 1px rgba(0, 0, 0, 0.15);\n",
              "      filter: drop-shadow(0px 1px 2px rgba(0, 0, 0, 0.3));\n",
              "      fill: #FFFFFF;\n",
              "    }\n",
              "  </style>\n",
              "\n",
              "      <script>\n",
              "        const buttonEl =\n",
              "          document.querySelector('#df-60476417-470f-496d-a2f4-f63668992aa8 button.colab-df-convert');\n",
              "        buttonEl.style.display =\n",
              "          google.colab.kernel.accessAllowed ? 'block' : 'none';\n",
              "\n",
              "        async function convertToInteractive(key) {\n",
              "          const element = document.querySelector('#df-60476417-470f-496d-a2f4-f63668992aa8');\n",
              "          const dataTable =\n",
              "            await google.colab.kernel.invokeFunction('convertToInteractive',\n",
              "                                                     [key], {});\n",
              "          if (!dataTable) return;\n",
              "\n",
              "          const docLinkHtml = 'Like what you see? Visit the ' +\n",
              "            '<a target=\"_blank\" href=https://colab.research.google.com/notebooks/data_table.ipynb>data table notebook</a>'\n",
              "            + ' to learn more about interactive tables.';\n",
              "          element.innerHTML = '';\n",
              "          dataTable['output_type'] = 'display_data';\n",
              "          await google.colab.output.renderOutput(dataTable, element);\n",
              "          const docLink = document.createElement('div');\n",
              "          docLink.innerHTML = docLinkHtml;\n",
              "          element.appendChild(docLink);\n",
              "        }\n",
              "      </script>\n",
              "    </div>\n",
              "  </div>\n",
              "  "
            ]
          },
          "metadata": {},
          "execution_count": 19
        }
      ]
    },
    {
      "cell_type": "code",
      "source": [
        "Paystacksort_data.to_excel(\"Paystack.xlsx\", index = False) #download Paystack excel file"
      ],
      "metadata": {
        "id": "ZbBTbIMXYHrS"
      },
      "execution_count": null,
      "outputs": []
    },
    {
      "cell_type": "markdown",
      "source": [
        "## **Kopo Kopo data Import**"
      ],
      "metadata": {
        "id": "yFLu3QobUzZp"
      }
    },
    {
      "cell_type": "markdown",
      "source": [
        "Converting Kopokopo scrapped data to Data Frame(Structured data) for our analysis."
      ],
      "metadata": {
        "id": "eNxGDaspaaQM"
      }
    },
    {
      "cell_type": "code",
      "source": [
        "#converting into data Frame\n",
        "Kopo_kopo_data = pd.DataFrame(np.array(Kopo_kopo), columns = ['review'])\n",
        "Kopo_kopo_data = Kopo_kopo_data.join(pd.DataFrame(Kopo_kopo_data.pop('review').tolist()))\n",
        "Kopo_kopo_data.head()"
      ],
      "metadata": {
        "id": "MbPbPK2iJteO",
        "colab": {
          "base_uri": "https://localhost:8080/",
          "height": 493
        },
        "outputId": "3f2a9d06-d52b-45c4-e2e0-74340bf95db5"
      },
      "execution_count": null,
      "outputs": [
        {
          "output_type": "execute_result",
          "data": {
            "text/plain": [
              "                               reviewId        userName  \\\n",
              "0  06a3732e-95ef-4cea-b0a7-1a31e9cad9bc      Jay Ngareh   \n",
              "1  a2795acb-8503-45f0-b7a4-d6528943445c  kinyua royford   \n",
              "2  79e24100-2cde-4ca5-92bf-4106acb5fbd1   A Google user   \n",
              "3  49c94884-262d-48fd-8f91-7608c1ad0c28   Michael Kuria   \n",
              "4  956f73e1-9e85-41b8-b63c-47786dfbe268  Judith Mbuthia   \n",
              "\n",
              "                                           userImage  \\\n",
              "0  https://play-lh.googleusercontent.com/a-/AD5-W...   \n",
              "1  https://play-lh.googleusercontent.com/a-/AD5-W...   \n",
              "2  https://play-lh.googleusercontent.com/EGemoI2N...   \n",
              "3  https://play-lh.googleusercontent.com/a-/AD5-W...   \n",
              "4  https://play-lh.googleusercontent.com/a/AEdFTp...   \n",
              "\n",
              "                                             content  score  thumbsUpCount  \\\n",
              "0  This new app is not user friendly, to complica...      5             71   \n",
              "1  Ultimate Solution for Business Payments. You c...      5              7   \n",
              "2  For such a big responsibility when it comes to...      1             71   \n",
              "3  Great features in the updated version but it c...      3             27   \n",
              "4  It's a nice app when it comes to transfer of f...      3             81   \n",
              "\n",
              "  reviewCreatedVersion                  at  \\\n",
              "0                6.0.0 2022-12-30 19:29:44   \n",
              "1                5.3.0 2022-10-06 08:00:04   \n",
              "2                4.1.4 2019-08-08 13:07:35   \n",
              "3                5.0.2 2021-10-13 10:15:32   \n",
              "4                4.2.4 2020-10-12 12:57:27   \n",
              "\n",
              "                                        replyContent           repliedAt  \n",
              "0  Hi Jimmyjey, after signing in for the first ti... 2021-09-29 17:58:19  \n",
              "1                                               None                 NaT  \n",
              "2                                               None                 NaT  \n",
              "3  Hi Michael, thank you for your feedback and pa... 2021-10-21 09:05:14  \n",
              "4  Hi Judith, what is your till number? Did you h... 2020-10-12 18:20:14  "
            ],
            "text/html": [
              "\n",
              "  <div id=\"df-89ab36f4-da77-44fe-9846-1d06aec47d18\">\n",
              "    <div class=\"colab-df-container\">\n",
              "      <div>\n",
              "<style scoped>\n",
              "    .dataframe tbody tr th:only-of-type {\n",
              "        vertical-align: middle;\n",
              "    }\n",
              "\n",
              "    .dataframe tbody tr th {\n",
              "        vertical-align: top;\n",
              "    }\n",
              "\n",
              "    .dataframe thead th {\n",
              "        text-align: right;\n",
              "    }\n",
              "</style>\n",
              "<table border=\"1\" class=\"dataframe\">\n",
              "  <thead>\n",
              "    <tr style=\"text-align: right;\">\n",
              "      <th></th>\n",
              "      <th>reviewId</th>\n",
              "      <th>userName</th>\n",
              "      <th>userImage</th>\n",
              "      <th>content</th>\n",
              "      <th>score</th>\n",
              "      <th>thumbsUpCount</th>\n",
              "      <th>reviewCreatedVersion</th>\n",
              "      <th>at</th>\n",
              "      <th>replyContent</th>\n",
              "      <th>repliedAt</th>\n",
              "    </tr>\n",
              "  </thead>\n",
              "  <tbody>\n",
              "    <tr>\n",
              "      <th>0</th>\n",
              "      <td>06a3732e-95ef-4cea-b0a7-1a31e9cad9bc</td>\n",
              "      <td>Jay Ngareh</td>\n",
              "      <td>https://play-lh.googleusercontent.com/a-/AD5-W...</td>\n",
              "      <td>This new app is not user friendly, to complica...</td>\n",
              "      <td>5</td>\n",
              "      <td>71</td>\n",
              "      <td>6.0.0</td>\n",
              "      <td>2022-12-30 19:29:44</td>\n",
              "      <td>Hi Jimmyjey, after signing in for the first ti...</td>\n",
              "      <td>2021-09-29 17:58:19</td>\n",
              "    </tr>\n",
              "    <tr>\n",
              "      <th>1</th>\n",
              "      <td>a2795acb-8503-45f0-b7a4-d6528943445c</td>\n",
              "      <td>kinyua royford</td>\n",
              "      <td>https://play-lh.googleusercontent.com/a-/AD5-W...</td>\n",
              "      <td>Ultimate Solution for Business Payments. You c...</td>\n",
              "      <td>5</td>\n",
              "      <td>7</td>\n",
              "      <td>5.3.0</td>\n",
              "      <td>2022-10-06 08:00:04</td>\n",
              "      <td>None</td>\n",
              "      <td>NaT</td>\n",
              "    </tr>\n",
              "    <tr>\n",
              "      <th>2</th>\n",
              "      <td>79e24100-2cde-4ca5-92bf-4106acb5fbd1</td>\n",
              "      <td>A Google user</td>\n",
              "      <td>https://play-lh.googleusercontent.com/EGemoI2N...</td>\n",
              "      <td>For such a big responsibility when it comes to...</td>\n",
              "      <td>1</td>\n",
              "      <td>71</td>\n",
              "      <td>4.1.4</td>\n",
              "      <td>2019-08-08 13:07:35</td>\n",
              "      <td>None</td>\n",
              "      <td>NaT</td>\n",
              "    </tr>\n",
              "    <tr>\n",
              "      <th>3</th>\n",
              "      <td>49c94884-262d-48fd-8f91-7608c1ad0c28</td>\n",
              "      <td>Michael Kuria</td>\n",
              "      <td>https://play-lh.googleusercontent.com/a-/AD5-W...</td>\n",
              "      <td>Great features in the updated version but it c...</td>\n",
              "      <td>3</td>\n",
              "      <td>27</td>\n",
              "      <td>5.0.2</td>\n",
              "      <td>2021-10-13 10:15:32</td>\n",
              "      <td>Hi Michael, thank you for your feedback and pa...</td>\n",
              "      <td>2021-10-21 09:05:14</td>\n",
              "    </tr>\n",
              "    <tr>\n",
              "      <th>4</th>\n",
              "      <td>956f73e1-9e85-41b8-b63c-47786dfbe268</td>\n",
              "      <td>Judith Mbuthia</td>\n",
              "      <td>https://play-lh.googleusercontent.com/a/AEdFTp...</td>\n",
              "      <td>It's a nice app when it comes to transfer of f...</td>\n",
              "      <td>3</td>\n",
              "      <td>81</td>\n",
              "      <td>4.2.4</td>\n",
              "      <td>2020-10-12 12:57:27</td>\n",
              "      <td>Hi Judith, what is your till number? Did you h...</td>\n",
              "      <td>2020-10-12 18:20:14</td>\n",
              "    </tr>\n",
              "  </tbody>\n",
              "</table>\n",
              "</div>\n",
              "      <button class=\"colab-df-convert\" onclick=\"convertToInteractive('df-89ab36f4-da77-44fe-9846-1d06aec47d18')\"\n",
              "              title=\"Convert this dataframe to an interactive table.\"\n",
              "              style=\"display:none;\">\n",
              "        \n",
              "  <svg xmlns=\"http://www.w3.org/2000/svg\" height=\"24px\"viewBox=\"0 0 24 24\"\n",
              "       width=\"24px\">\n",
              "    <path d=\"M0 0h24v24H0V0z\" fill=\"none\"/>\n",
              "    <path d=\"M18.56 5.44l.94 2.06.94-2.06 2.06-.94-2.06-.94-.94-2.06-.94 2.06-2.06.94zm-11 1L8.5 8.5l.94-2.06 2.06-.94-2.06-.94L8.5 2.5l-.94 2.06-2.06.94zm10 10l.94 2.06.94-2.06 2.06-.94-2.06-.94-.94-2.06-.94 2.06-2.06.94z\"/><path d=\"M17.41 7.96l-1.37-1.37c-.4-.4-.92-.59-1.43-.59-.52 0-1.04.2-1.43.59L10.3 9.45l-7.72 7.72c-.78.78-.78 2.05 0 2.83L4 21.41c.39.39.9.59 1.41.59.51 0 1.02-.2 1.41-.59l7.78-7.78 2.81-2.81c.8-.78.8-2.07 0-2.86zM5.41 20L4 18.59l7.72-7.72 1.47 1.35L5.41 20z\"/>\n",
              "  </svg>\n",
              "      </button>\n",
              "      \n",
              "  <style>\n",
              "    .colab-df-container {\n",
              "      display:flex;\n",
              "      flex-wrap:wrap;\n",
              "      gap: 12px;\n",
              "    }\n",
              "\n",
              "    .colab-df-convert {\n",
              "      background-color: #E8F0FE;\n",
              "      border: none;\n",
              "      border-radius: 50%;\n",
              "      cursor: pointer;\n",
              "      display: none;\n",
              "      fill: #1967D2;\n",
              "      height: 32px;\n",
              "      padding: 0 0 0 0;\n",
              "      width: 32px;\n",
              "    }\n",
              "\n",
              "    .colab-df-convert:hover {\n",
              "      background-color: #E2EBFA;\n",
              "      box-shadow: 0px 1px 2px rgba(60, 64, 67, 0.3), 0px 1px 3px 1px rgba(60, 64, 67, 0.15);\n",
              "      fill: #174EA6;\n",
              "    }\n",
              "\n",
              "    [theme=dark] .colab-df-convert {\n",
              "      background-color: #3B4455;\n",
              "      fill: #D2E3FC;\n",
              "    }\n",
              "\n",
              "    [theme=dark] .colab-df-convert:hover {\n",
              "      background-color: #434B5C;\n",
              "      box-shadow: 0px 1px 3px 1px rgba(0, 0, 0, 0.15);\n",
              "      filter: drop-shadow(0px 1px 2px rgba(0, 0, 0, 0.3));\n",
              "      fill: #FFFFFF;\n",
              "    }\n",
              "  </style>\n",
              "\n",
              "      <script>\n",
              "        const buttonEl =\n",
              "          document.querySelector('#df-89ab36f4-da77-44fe-9846-1d06aec47d18 button.colab-df-convert');\n",
              "        buttonEl.style.display =\n",
              "          google.colab.kernel.accessAllowed ? 'block' : 'none';\n",
              "\n",
              "        async function convertToInteractive(key) {\n",
              "          const element = document.querySelector('#df-89ab36f4-da77-44fe-9846-1d06aec47d18');\n",
              "          const dataTable =\n",
              "            await google.colab.kernel.invokeFunction('convertToInteractive',\n",
              "                                                     [key], {});\n",
              "          if (!dataTable) return;\n",
              "\n",
              "          const docLinkHtml = 'Like what you see? Visit the ' +\n",
              "            '<a target=\"_blank\" href=https://colab.research.google.com/notebooks/data_table.ipynb>data table notebook</a>'\n",
              "            + ' to learn more about interactive tables.';\n",
              "          element.innerHTML = '';\n",
              "          dataTable['output_type'] = 'display_data';\n",
              "          await google.colab.output.renderOutput(dataTable, element);\n",
              "          const docLink = document.createElement('div');\n",
              "          docLink.innerHTML = docLinkHtml;\n",
              "          element.appendChild(docLink);\n",
              "        }\n",
              "      </script>\n",
              "    </div>\n",
              "  </div>\n",
              "  "
            ]
          },
          "metadata": {},
          "execution_count": 21
        }
      ]
    },
    {
      "cell_type": "markdown",
      "source": [
        "kopokopo data description and understanding"
      ],
      "metadata": {
        "id": "9WWCdI7WafNQ"
      }
    },
    {
      "cell_type": "code",
      "source": [
        "#view the columns and shape\n",
        "print(Kopo_kopo_data.shape)\n",
        "Kopo_kopo_data.info()"
      ],
      "metadata": {
        "colab": {
          "base_uri": "https://localhost:8080/"
        },
        "id": "ZIaSM4WuUUKg",
        "outputId": "362bc234-8ca7-4933-a066-c16cf5fee173"
      },
      "execution_count": null,
      "outputs": [
        {
          "output_type": "stream",
          "name": "stdout",
          "text": [
            "(307, 10)\n",
            "<class 'pandas.core.frame.DataFrame'>\n",
            "RangeIndex: 307 entries, 0 to 306\n",
            "Data columns (total 10 columns):\n",
            " #   Column                Non-Null Count  Dtype         \n",
            "---  ------                --------------  -----         \n",
            " 0   reviewId              307 non-null    object        \n",
            " 1   userName              307 non-null    object        \n",
            " 2   userImage             307 non-null    object        \n",
            " 3   content               307 non-null    object        \n",
            " 4   score                 307 non-null    int64         \n",
            " 5   thumbsUpCount         307 non-null    int64         \n",
            " 6   reviewCreatedVersion  229 non-null    object        \n",
            " 7   at                    307 non-null    datetime64[ns]\n",
            " 8   replyContent          85 non-null     object        \n",
            " 9   repliedAt             85 non-null     datetime64[ns]\n",
            "dtypes: datetime64[ns](2), int64(2), object(6)\n",
            "memory usage: 24.1+ KB\n"
          ]
        }
      ]
    },
    {
      "cell_type": "markdown",
      "source": [
        "There are many columns which are not useful for our analysis. So, we can just pick out the ones that are essential for analysis like “reviewCreateVersion” which shows the version of application over which reviews are given by customers, “score” which is given by customer in the range 1–5, where, 1 is lower most value and denotes a negative review and 5 is the higher most value and denotes a positive review, “content” which denotes the reviews given by the customers for the application."
      ],
      "metadata": {
        "id": "p1N0WOMBVb9k"
      }
    },
    {
      "cell_type": "code",
      "source": [
        "len(Kopo_kopo_data.index) # there's a total of 306 observations and reviews"
      ],
      "metadata": {
        "colab": {
          "base_uri": "https://localhost:8080/"
        },
        "id": "fv2BUW2gXgh8",
        "outputId": "0327111b-9f8a-476f-91e8-5ece7bc3d2cb"
      },
      "execution_count": null,
      "outputs": [
        {
          "output_type": "execute_result",
          "data": {
            "text/plain": [
              "307"
            ]
          },
          "metadata": {},
          "execution_count": 23
        }
      ]
    },
    {
      "cell_type": "code",
      "source": [
        "# drop the unnecesarry columns before we can start the EDA(Exploratory Data Analysis)\n",
        "Kopo_kopo_data1 = Kopo_kopo_data[[\"content\",\"reviewCreatedVersion\",\"score\",\"at\",\"thumbsUpCount\"]]\n",
        "Kopo_kopo_data1.head()"
      ],
      "metadata": {
        "colab": {
          "base_uri": "https://localhost:8080/",
          "height": 206
        },
        "id": "Ao76Nn78Ug3q",
        "outputId": "2bd3d0a2-b2d4-4222-e045-6277f1109a13"
      },
      "execution_count": null,
      "outputs": [
        {
          "output_type": "execute_result",
          "data": {
            "text/plain": [
              "                                             content reviewCreatedVersion  \\\n",
              "0  This new app is not user friendly, to complica...                6.0.0   \n",
              "1  Ultimate Solution for Business Payments. You c...                5.3.0   \n",
              "2  For such a big responsibility when it comes to...                4.1.4   \n",
              "3  Great features in the updated version but it c...                5.0.2   \n",
              "4  It's a nice app when it comes to transfer of f...                4.2.4   \n",
              "\n",
              "   score                  at  thumbsUpCount  \n",
              "0      5 2022-12-30 19:29:44             71  \n",
              "1      5 2022-10-06 08:00:04              7  \n",
              "2      1 2019-08-08 13:07:35             71  \n",
              "3      3 2021-10-13 10:15:32             27  \n",
              "4      3 2020-10-12 12:57:27             81  "
            ],
            "text/html": [
              "\n",
              "  <div id=\"df-5fa8a135-b4c9-41e9-9a26-e358403c0457\">\n",
              "    <div class=\"colab-df-container\">\n",
              "      <div>\n",
              "<style scoped>\n",
              "    .dataframe tbody tr th:only-of-type {\n",
              "        vertical-align: middle;\n",
              "    }\n",
              "\n",
              "    .dataframe tbody tr th {\n",
              "        vertical-align: top;\n",
              "    }\n",
              "\n",
              "    .dataframe thead th {\n",
              "        text-align: right;\n",
              "    }\n",
              "</style>\n",
              "<table border=\"1\" class=\"dataframe\">\n",
              "  <thead>\n",
              "    <tr style=\"text-align: right;\">\n",
              "      <th></th>\n",
              "      <th>content</th>\n",
              "      <th>reviewCreatedVersion</th>\n",
              "      <th>score</th>\n",
              "      <th>at</th>\n",
              "      <th>thumbsUpCount</th>\n",
              "    </tr>\n",
              "  </thead>\n",
              "  <tbody>\n",
              "    <tr>\n",
              "      <th>0</th>\n",
              "      <td>This new app is not user friendly, to complica...</td>\n",
              "      <td>6.0.0</td>\n",
              "      <td>5</td>\n",
              "      <td>2022-12-30 19:29:44</td>\n",
              "      <td>71</td>\n",
              "    </tr>\n",
              "    <tr>\n",
              "      <th>1</th>\n",
              "      <td>Ultimate Solution for Business Payments. You c...</td>\n",
              "      <td>5.3.0</td>\n",
              "      <td>5</td>\n",
              "      <td>2022-10-06 08:00:04</td>\n",
              "      <td>7</td>\n",
              "    </tr>\n",
              "    <tr>\n",
              "      <th>2</th>\n",
              "      <td>For such a big responsibility when it comes to...</td>\n",
              "      <td>4.1.4</td>\n",
              "      <td>1</td>\n",
              "      <td>2019-08-08 13:07:35</td>\n",
              "      <td>71</td>\n",
              "    </tr>\n",
              "    <tr>\n",
              "      <th>3</th>\n",
              "      <td>Great features in the updated version but it c...</td>\n",
              "      <td>5.0.2</td>\n",
              "      <td>3</td>\n",
              "      <td>2021-10-13 10:15:32</td>\n",
              "      <td>27</td>\n",
              "    </tr>\n",
              "    <tr>\n",
              "      <th>4</th>\n",
              "      <td>It's a nice app when it comes to transfer of f...</td>\n",
              "      <td>4.2.4</td>\n",
              "      <td>3</td>\n",
              "      <td>2020-10-12 12:57:27</td>\n",
              "      <td>81</td>\n",
              "    </tr>\n",
              "  </tbody>\n",
              "</table>\n",
              "</div>\n",
              "      <button class=\"colab-df-convert\" onclick=\"convertToInteractive('df-5fa8a135-b4c9-41e9-9a26-e358403c0457')\"\n",
              "              title=\"Convert this dataframe to an interactive table.\"\n",
              "              style=\"display:none;\">\n",
              "        \n",
              "  <svg xmlns=\"http://www.w3.org/2000/svg\" height=\"24px\"viewBox=\"0 0 24 24\"\n",
              "       width=\"24px\">\n",
              "    <path d=\"M0 0h24v24H0V0z\" fill=\"none\"/>\n",
              "    <path d=\"M18.56 5.44l.94 2.06.94-2.06 2.06-.94-2.06-.94-.94-2.06-.94 2.06-2.06.94zm-11 1L8.5 8.5l.94-2.06 2.06-.94-2.06-.94L8.5 2.5l-.94 2.06-2.06.94zm10 10l.94 2.06.94-2.06 2.06-.94-2.06-.94-.94-2.06-.94 2.06-2.06.94z\"/><path d=\"M17.41 7.96l-1.37-1.37c-.4-.4-.92-.59-1.43-.59-.52 0-1.04.2-1.43.59L10.3 9.45l-7.72 7.72c-.78.78-.78 2.05 0 2.83L4 21.41c.39.39.9.59 1.41.59.51 0 1.02-.2 1.41-.59l7.78-7.78 2.81-2.81c.8-.78.8-2.07 0-2.86zM5.41 20L4 18.59l7.72-7.72 1.47 1.35L5.41 20z\"/>\n",
              "  </svg>\n",
              "      </button>\n",
              "      \n",
              "  <style>\n",
              "    .colab-df-container {\n",
              "      display:flex;\n",
              "      flex-wrap:wrap;\n",
              "      gap: 12px;\n",
              "    }\n",
              "\n",
              "    .colab-df-convert {\n",
              "      background-color: #E8F0FE;\n",
              "      border: none;\n",
              "      border-radius: 50%;\n",
              "      cursor: pointer;\n",
              "      display: none;\n",
              "      fill: #1967D2;\n",
              "      height: 32px;\n",
              "      padding: 0 0 0 0;\n",
              "      width: 32px;\n",
              "    }\n",
              "\n",
              "    .colab-df-convert:hover {\n",
              "      background-color: #E2EBFA;\n",
              "      box-shadow: 0px 1px 2px rgba(60, 64, 67, 0.3), 0px 1px 3px 1px rgba(60, 64, 67, 0.15);\n",
              "      fill: #174EA6;\n",
              "    }\n",
              "\n",
              "    [theme=dark] .colab-df-convert {\n",
              "      background-color: #3B4455;\n",
              "      fill: #D2E3FC;\n",
              "    }\n",
              "\n",
              "    [theme=dark] .colab-df-convert:hover {\n",
              "      background-color: #434B5C;\n",
              "      box-shadow: 0px 1px 3px 1px rgba(0, 0, 0, 0.15);\n",
              "      filter: drop-shadow(0px 1px 2px rgba(0, 0, 0, 0.3));\n",
              "      fill: #FFFFFF;\n",
              "    }\n",
              "  </style>\n",
              "\n",
              "      <script>\n",
              "        const buttonEl =\n",
              "          document.querySelector('#df-5fa8a135-b4c9-41e9-9a26-e358403c0457 button.colab-df-convert');\n",
              "        buttonEl.style.display =\n",
              "          google.colab.kernel.accessAllowed ? 'block' : 'none';\n",
              "\n",
              "        async function convertToInteractive(key) {\n",
              "          const element = document.querySelector('#df-5fa8a135-b4c9-41e9-9a26-e358403c0457');\n",
              "          const dataTable =\n",
              "            await google.colab.kernel.invokeFunction('convertToInteractive',\n",
              "                                                     [key], {});\n",
              "          if (!dataTable) return;\n",
              "\n",
              "          const docLinkHtml = 'Like what you see? Visit the ' +\n",
              "            '<a target=\"_blank\" href=https://colab.research.google.com/notebooks/data_table.ipynb>data table notebook</a>'\n",
              "            + ' to learn more about interactive tables.';\n",
              "          element.innerHTML = '';\n",
              "          dataTable['output_type'] = 'display_data';\n",
              "          await google.colab.output.renderOutput(dataTable, element);\n",
              "          const docLink = document.createElement('div');\n",
              "          docLink.innerHTML = docLinkHtml;\n",
              "          element.appendChild(docLink);\n",
              "        }\n",
              "      </script>\n",
              "    </div>\n",
              "  </div>\n",
              "  "
            ]
          },
          "metadata": {},
          "execution_count": 24
        }
      ]
    },
    {
      "cell_type": "code",
      "source": [
        "Kopo_koposort_data = Kopo_kopo_data1.sort_values(by=\"at\", ascending= False) # arranging the data starting from the newest to oldest\n",
        "Kopo_koposort_data.head()"
      ],
      "metadata": {
        "colab": {
          "base_uri": "https://localhost:8080/",
          "height": 206
        },
        "id": "9rO4a9sNWpUp",
        "outputId": "b17f39f9-3baf-4dca-aa83-6880f6323ab4"
      },
      "execution_count": null,
      "outputs": [
        {
          "output_type": "execute_result",
          "data": {
            "text/plain": [
              "                                               content reviewCreatedVersion  \\\n",
              "163  New year challenge. Add push notifications to ...                6.0.0   \n",
              "0    This new app is not user friendly, to complica...                6.0.0   \n",
              "63   I like how you communicate and also your loan ...                5.3.0   \n",
              "171                                      Good services                5.3.0   \n",
              "145                                     So far so good                5.3.0   \n",
              "\n",
              "     score                  at  thumbsUpCount  \n",
              "163      4 2023-01-02 14:53:52              0  \n",
              "0        5 2022-12-30 19:29:44             71  \n",
              "63       4 2022-12-22 06:36:56              0  \n",
              "171      5 2022-12-16 16:45:40              0  \n",
              "145      5 2022-12-16 06:24:05              0  "
            ],
            "text/html": [
              "\n",
              "  <div id=\"df-01837d76-f7bb-4ad6-bb1b-c9bcefb38aa1\">\n",
              "    <div class=\"colab-df-container\">\n",
              "      <div>\n",
              "<style scoped>\n",
              "    .dataframe tbody tr th:only-of-type {\n",
              "        vertical-align: middle;\n",
              "    }\n",
              "\n",
              "    .dataframe tbody tr th {\n",
              "        vertical-align: top;\n",
              "    }\n",
              "\n",
              "    .dataframe thead th {\n",
              "        text-align: right;\n",
              "    }\n",
              "</style>\n",
              "<table border=\"1\" class=\"dataframe\">\n",
              "  <thead>\n",
              "    <tr style=\"text-align: right;\">\n",
              "      <th></th>\n",
              "      <th>content</th>\n",
              "      <th>reviewCreatedVersion</th>\n",
              "      <th>score</th>\n",
              "      <th>at</th>\n",
              "      <th>thumbsUpCount</th>\n",
              "    </tr>\n",
              "  </thead>\n",
              "  <tbody>\n",
              "    <tr>\n",
              "      <th>163</th>\n",
              "      <td>New year challenge. Add push notifications to ...</td>\n",
              "      <td>6.0.0</td>\n",
              "      <td>4</td>\n",
              "      <td>2023-01-02 14:53:52</td>\n",
              "      <td>0</td>\n",
              "    </tr>\n",
              "    <tr>\n",
              "      <th>0</th>\n",
              "      <td>This new app is not user friendly, to complica...</td>\n",
              "      <td>6.0.0</td>\n",
              "      <td>5</td>\n",
              "      <td>2022-12-30 19:29:44</td>\n",
              "      <td>71</td>\n",
              "    </tr>\n",
              "    <tr>\n",
              "      <th>63</th>\n",
              "      <td>I like how you communicate and also your loan ...</td>\n",
              "      <td>5.3.0</td>\n",
              "      <td>4</td>\n",
              "      <td>2022-12-22 06:36:56</td>\n",
              "      <td>0</td>\n",
              "    </tr>\n",
              "    <tr>\n",
              "      <th>171</th>\n",
              "      <td>Good services</td>\n",
              "      <td>5.3.0</td>\n",
              "      <td>5</td>\n",
              "      <td>2022-12-16 16:45:40</td>\n",
              "      <td>0</td>\n",
              "    </tr>\n",
              "    <tr>\n",
              "      <th>145</th>\n",
              "      <td>So far so good</td>\n",
              "      <td>5.3.0</td>\n",
              "      <td>5</td>\n",
              "      <td>2022-12-16 06:24:05</td>\n",
              "      <td>0</td>\n",
              "    </tr>\n",
              "  </tbody>\n",
              "</table>\n",
              "</div>\n",
              "      <button class=\"colab-df-convert\" onclick=\"convertToInteractive('df-01837d76-f7bb-4ad6-bb1b-c9bcefb38aa1')\"\n",
              "              title=\"Convert this dataframe to an interactive table.\"\n",
              "              style=\"display:none;\">\n",
              "        \n",
              "  <svg xmlns=\"http://www.w3.org/2000/svg\" height=\"24px\"viewBox=\"0 0 24 24\"\n",
              "       width=\"24px\">\n",
              "    <path d=\"M0 0h24v24H0V0z\" fill=\"none\"/>\n",
              "    <path d=\"M18.56 5.44l.94 2.06.94-2.06 2.06-.94-2.06-.94-.94-2.06-.94 2.06-2.06.94zm-11 1L8.5 8.5l.94-2.06 2.06-.94-2.06-.94L8.5 2.5l-.94 2.06-2.06.94zm10 10l.94 2.06.94-2.06 2.06-.94-2.06-.94-.94-2.06-.94 2.06-2.06.94z\"/><path d=\"M17.41 7.96l-1.37-1.37c-.4-.4-.92-.59-1.43-.59-.52 0-1.04.2-1.43.59L10.3 9.45l-7.72 7.72c-.78.78-.78 2.05 0 2.83L4 21.41c.39.39.9.59 1.41.59.51 0 1.02-.2 1.41-.59l7.78-7.78 2.81-2.81c.8-.78.8-2.07 0-2.86zM5.41 20L4 18.59l7.72-7.72 1.47 1.35L5.41 20z\"/>\n",
              "  </svg>\n",
              "      </button>\n",
              "      \n",
              "  <style>\n",
              "    .colab-df-container {\n",
              "      display:flex;\n",
              "      flex-wrap:wrap;\n",
              "      gap: 12px;\n",
              "    }\n",
              "\n",
              "    .colab-df-convert {\n",
              "      background-color: #E8F0FE;\n",
              "      border: none;\n",
              "      border-radius: 50%;\n",
              "      cursor: pointer;\n",
              "      display: none;\n",
              "      fill: #1967D2;\n",
              "      height: 32px;\n",
              "      padding: 0 0 0 0;\n",
              "      width: 32px;\n",
              "    }\n",
              "\n",
              "    .colab-df-convert:hover {\n",
              "      background-color: #E2EBFA;\n",
              "      box-shadow: 0px 1px 2px rgba(60, 64, 67, 0.3), 0px 1px 3px 1px rgba(60, 64, 67, 0.15);\n",
              "      fill: #174EA6;\n",
              "    }\n",
              "\n",
              "    [theme=dark] .colab-df-convert {\n",
              "      background-color: #3B4455;\n",
              "      fill: #D2E3FC;\n",
              "    }\n",
              "\n",
              "    [theme=dark] .colab-df-convert:hover {\n",
              "      background-color: #434B5C;\n",
              "      box-shadow: 0px 1px 3px 1px rgba(0, 0, 0, 0.15);\n",
              "      filter: drop-shadow(0px 1px 2px rgba(0, 0, 0, 0.3));\n",
              "      fill: #FFFFFF;\n",
              "    }\n",
              "  </style>\n",
              "\n",
              "      <script>\n",
              "        const buttonEl =\n",
              "          document.querySelector('#df-01837d76-f7bb-4ad6-bb1b-c9bcefb38aa1 button.colab-df-convert');\n",
              "        buttonEl.style.display =\n",
              "          google.colab.kernel.accessAllowed ? 'block' : 'none';\n",
              "\n",
              "        async function convertToInteractive(key) {\n",
              "          const element = document.querySelector('#df-01837d76-f7bb-4ad6-bb1b-c9bcefb38aa1');\n",
              "          const dataTable =\n",
              "            await google.colab.kernel.invokeFunction('convertToInteractive',\n",
              "                                                     [key], {});\n",
              "          if (!dataTable) return;\n",
              "\n",
              "          const docLinkHtml = 'Like what you see? Visit the ' +\n",
              "            '<a target=\"_blank\" href=https://colab.research.google.com/notebooks/data_table.ipynb>data table notebook</a>'\n",
              "            + ' to learn more about interactive tables.';\n",
              "          element.innerHTML = '';\n",
              "          dataTable['output_type'] = 'display_data';\n",
              "          await google.colab.output.renderOutput(dataTable, element);\n",
              "          const docLink = document.createElement('div');\n",
              "          docLink.innerHTML = docLinkHtml;\n",
              "          element.appendChild(docLink);\n",
              "        }\n",
              "      </script>\n",
              "    </div>\n",
              "  </div>\n",
              "  "
            ]
          },
          "metadata": {},
          "execution_count": 25
        }
      ]
    },
    {
      "cell_type": "code",
      "source": [
        "Kopo_koposort_data.to_excel(\"KopoKopo.xlsx\", index = False) #download kopokopo excel file"
      ],
      "metadata": {
        "id": "urIuIM9yYRPy"
      },
      "execution_count": null,
      "outputs": []
    },
    {
      "cell_type": "markdown",
      "source": [
        "## **UzaPoint data Import**"
      ],
      "metadata": {
        "id": "40a8mP5RbNUh"
      }
    },
    {
      "cell_type": "markdown",
      "source": [
        "Converting Uzapoint scrapped data to Data Frame(Structured data) for our analysis."
      ],
      "metadata": {
        "id": "-aFUU3FybhRv"
      }
    },
    {
      "cell_type": "code",
      "source": [
        "#converting into data Frame\n",
        "Uza_point_data = pd.DataFrame(np.array(Uza_point), columns = ['review'])\n",
        "Uza_point_data = Uza_point_data.join(pd.DataFrame(Uza_point_data.pop('review').tolist()))\n",
        "Uza_point_data.head()"
      ],
      "metadata": {
        "colab": {
          "base_uri": "https://localhost:8080/",
          "height": 493
        },
        "id": "_Cfn4f3YbkSf",
        "outputId": "8d9cadbc-3519-470b-936f-7f88bda812e0"
      },
      "execution_count": null,
      "outputs": [
        {
          "output_type": "execute_result",
          "data": {
            "text/plain": [
              "                               reviewId         userName  \\\n",
              "0  88b3daaf-4aed-4448-8b51-6c471faf2dd7          Joey WK   \n",
              "1  8ceeb520-81b4-4e66-a12d-84347eb46c19     Anne Wanjiru   \n",
              "2  4b971b47-b3c2-43d1-b85b-07e7f64f1c31      Wendy Mejah   \n",
              "3  220ac702-826d-4f49-957b-9dac7005fbfe    james njuguna   \n",
              "4  b0dc1745-c6a0-4f7d-80e7-c09d18c9730b  Emmah Cherutich   \n",
              "\n",
              "                                           userImage  \\\n",
              "0  https://play-lh.googleusercontent.com/a-/AD5-W...   \n",
              "1  https://play-lh.googleusercontent.com/a/AEdFTp...   \n",
              "2  https://play-lh.googleusercontent.com/a-/AD5-W...   \n",
              "3  https://play-lh.googleusercontent.com/a-/AD5-W...   \n",
              "4  https://play-lh.googleusercontent.com/a/AEdFTp...   \n",
              "\n",
              "                                             content  score  thumbsUpCount  \\\n",
              "0  An amazing POS for sure. Very effective in man...      5              2   \n",
              "1  The app is user-friendly. I like the simplicit...      5              0   \n",
              "2  I'm impressed that the team is very responsive...      5              0   \n",
              "3  If there is one thing that came to save my bus...      5              1   \n",
              "4  This is the most efficient app ive come across...      5              2   \n",
              "\n",
              "  reviewCreatedVersion                  at  \\\n",
              "0               1.16.3 2021-11-20 09:02:43   \n",
              "1                1.0.9 2020-06-18 14:22:10   \n",
              "2               1.11.0 2021-05-28 08:07:18   \n",
              "3               1.16.4 2022-01-17 14:09:45   \n",
              "4               1.1.41 2020-09-24 16:24:17   \n",
              "\n",
              "                                        replyContent           repliedAt  \n",
              "0                                               None                 NaT  \n",
              "1              Thank you for your encouraging words. 2021-05-26 09:57:24  \n",
              "2  Thank you for your valuable feedback. Kindly, ... 2021-05-26 09:29:40  \n",
              "3                                               None                 NaT  \n",
              "4  Thank you for providing your valuable feedback... 2021-05-26 09:54:52  "
            ],
            "text/html": [
              "\n",
              "  <div id=\"df-c93a5582-4035-448e-a669-2926c5781bc7\">\n",
              "    <div class=\"colab-df-container\">\n",
              "      <div>\n",
              "<style scoped>\n",
              "    .dataframe tbody tr th:only-of-type {\n",
              "        vertical-align: middle;\n",
              "    }\n",
              "\n",
              "    .dataframe tbody tr th {\n",
              "        vertical-align: top;\n",
              "    }\n",
              "\n",
              "    .dataframe thead th {\n",
              "        text-align: right;\n",
              "    }\n",
              "</style>\n",
              "<table border=\"1\" class=\"dataframe\">\n",
              "  <thead>\n",
              "    <tr style=\"text-align: right;\">\n",
              "      <th></th>\n",
              "      <th>reviewId</th>\n",
              "      <th>userName</th>\n",
              "      <th>userImage</th>\n",
              "      <th>content</th>\n",
              "      <th>score</th>\n",
              "      <th>thumbsUpCount</th>\n",
              "      <th>reviewCreatedVersion</th>\n",
              "      <th>at</th>\n",
              "      <th>replyContent</th>\n",
              "      <th>repliedAt</th>\n",
              "    </tr>\n",
              "  </thead>\n",
              "  <tbody>\n",
              "    <tr>\n",
              "      <th>0</th>\n",
              "      <td>88b3daaf-4aed-4448-8b51-6c471faf2dd7</td>\n",
              "      <td>Joey WK</td>\n",
              "      <td>https://play-lh.googleusercontent.com/a-/AD5-W...</td>\n",
              "      <td>An amazing POS for sure. Very effective in man...</td>\n",
              "      <td>5</td>\n",
              "      <td>2</td>\n",
              "      <td>1.16.3</td>\n",
              "      <td>2021-11-20 09:02:43</td>\n",
              "      <td>None</td>\n",
              "      <td>NaT</td>\n",
              "    </tr>\n",
              "    <tr>\n",
              "      <th>1</th>\n",
              "      <td>8ceeb520-81b4-4e66-a12d-84347eb46c19</td>\n",
              "      <td>Anne Wanjiru</td>\n",
              "      <td>https://play-lh.googleusercontent.com/a/AEdFTp...</td>\n",
              "      <td>The app is user-friendly. I like the simplicit...</td>\n",
              "      <td>5</td>\n",
              "      <td>0</td>\n",
              "      <td>1.0.9</td>\n",
              "      <td>2020-06-18 14:22:10</td>\n",
              "      <td>Thank you for your encouraging words.</td>\n",
              "      <td>2021-05-26 09:57:24</td>\n",
              "    </tr>\n",
              "    <tr>\n",
              "      <th>2</th>\n",
              "      <td>4b971b47-b3c2-43d1-b85b-07e7f64f1c31</td>\n",
              "      <td>Wendy Mejah</td>\n",
              "      <td>https://play-lh.googleusercontent.com/a-/AD5-W...</td>\n",
              "      <td>I'm impressed that the team is very responsive...</td>\n",
              "      <td>5</td>\n",
              "      <td>0</td>\n",
              "      <td>1.11.0</td>\n",
              "      <td>2021-05-28 08:07:18</td>\n",
              "      <td>Thank you for your valuable feedback. Kindly, ...</td>\n",
              "      <td>2021-05-26 09:29:40</td>\n",
              "    </tr>\n",
              "    <tr>\n",
              "      <th>3</th>\n",
              "      <td>220ac702-826d-4f49-957b-9dac7005fbfe</td>\n",
              "      <td>james njuguna</td>\n",
              "      <td>https://play-lh.googleusercontent.com/a-/AD5-W...</td>\n",
              "      <td>If there is one thing that came to save my bus...</td>\n",
              "      <td>5</td>\n",
              "      <td>1</td>\n",
              "      <td>1.16.4</td>\n",
              "      <td>2022-01-17 14:09:45</td>\n",
              "      <td>None</td>\n",
              "      <td>NaT</td>\n",
              "    </tr>\n",
              "    <tr>\n",
              "      <th>4</th>\n",
              "      <td>b0dc1745-c6a0-4f7d-80e7-c09d18c9730b</td>\n",
              "      <td>Emmah Cherutich</td>\n",
              "      <td>https://play-lh.googleusercontent.com/a/AEdFTp...</td>\n",
              "      <td>This is the most efficient app ive come across...</td>\n",
              "      <td>5</td>\n",
              "      <td>2</td>\n",
              "      <td>1.1.41</td>\n",
              "      <td>2020-09-24 16:24:17</td>\n",
              "      <td>Thank you for providing your valuable feedback...</td>\n",
              "      <td>2021-05-26 09:54:52</td>\n",
              "    </tr>\n",
              "  </tbody>\n",
              "</table>\n",
              "</div>\n",
              "      <button class=\"colab-df-convert\" onclick=\"convertToInteractive('df-c93a5582-4035-448e-a669-2926c5781bc7')\"\n",
              "              title=\"Convert this dataframe to an interactive table.\"\n",
              "              style=\"display:none;\">\n",
              "        \n",
              "  <svg xmlns=\"http://www.w3.org/2000/svg\" height=\"24px\"viewBox=\"0 0 24 24\"\n",
              "       width=\"24px\">\n",
              "    <path d=\"M0 0h24v24H0V0z\" fill=\"none\"/>\n",
              "    <path d=\"M18.56 5.44l.94 2.06.94-2.06 2.06-.94-2.06-.94-.94-2.06-.94 2.06-2.06.94zm-11 1L8.5 8.5l.94-2.06 2.06-.94-2.06-.94L8.5 2.5l-.94 2.06-2.06.94zm10 10l.94 2.06.94-2.06 2.06-.94-2.06-.94-.94-2.06-.94 2.06-2.06.94z\"/><path d=\"M17.41 7.96l-1.37-1.37c-.4-.4-.92-.59-1.43-.59-.52 0-1.04.2-1.43.59L10.3 9.45l-7.72 7.72c-.78.78-.78 2.05 0 2.83L4 21.41c.39.39.9.59 1.41.59.51 0 1.02-.2 1.41-.59l7.78-7.78 2.81-2.81c.8-.78.8-2.07 0-2.86zM5.41 20L4 18.59l7.72-7.72 1.47 1.35L5.41 20z\"/>\n",
              "  </svg>\n",
              "      </button>\n",
              "      \n",
              "  <style>\n",
              "    .colab-df-container {\n",
              "      display:flex;\n",
              "      flex-wrap:wrap;\n",
              "      gap: 12px;\n",
              "    }\n",
              "\n",
              "    .colab-df-convert {\n",
              "      background-color: #E8F0FE;\n",
              "      border: none;\n",
              "      border-radius: 50%;\n",
              "      cursor: pointer;\n",
              "      display: none;\n",
              "      fill: #1967D2;\n",
              "      height: 32px;\n",
              "      padding: 0 0 0 0;\n",
              "      width: 32px;\n",
              "    }\n",
              "\n",
              "    .colab-df-convert:hover {\n",
              "      background-color: #E2EBFA;\n",
              "      box-shadow: 0px 1px 2px rgba(60, 64, 67, 0.3), 0px 1px 3px 1px rgba(60, 64, 67, 0.15);\n",
              "      fill: #174EA6;\n",
              "    }\n",
              "\n",
              "    [theme=dark] .colab-df-convert {\n",
              "      background-color: #3B4455;\n",
              "      fill: #D2E3FC;\n",
              "    }\n",
              "\n",
              "    [theme=dark] .colab-df-convert:hover {\n",
              "      background-color: #434B5C;\n",
              "      box-shadow: 0px 1px 3px 1px rgba(0, 0, 0, 0.15);\n",
              "      filter: drop-shadow(0px 1px 2px rgba(0, 0, 0, 0.3));\n",
              "      fill: #FFFFFF;\n",
              "    }\n",
              "  </style>\n",
              "\n",
              "      <script>\n",
              "        const buttonEl =\n",
              "          document.querySelector('#df-c93a5582-4035-448e-a669-2926c5781bc7 button.colab-df-convert');\n",
              "        buttonEl.style.display =\n",
              "          google.colab.kernel.accessAllowed ? 'block' : 'none';\n",
              "\n",
              "        async function convertToInteractive(key) {\n",
              "          const element = document.querySelector('#df-c93a5582-4035-448e-a669-2926c5781bc7');\n",
              "          const dataTable =\n",
              "            await google.colab.kernel.invokeFunction('convertToInteractive',\n",
              "                                                     [key], {});\n",
              "          if (!dataTable) return;\n",
              "\n",
              "          const docLinkHtml = 'Like what you see? Visit the ' +\n",
              "            '<a target=\"_blank\" href=https://colab.research.google.com/notebooks/data_table.ipynb>data table notebook</a>'\n",
              "            + ' to learn more about interactive tables.';\n",
              "          element.innerHTML = '';\n",
              "          dataTable['output_type'] = 'display_data';\n",
              "          await google.colab.output.renderOutput(dataTable, element);\n",
              "          const docLink = document.createElement('div');\n",
              "          docLink.innerHTML = docLinkHtml;\n",
              "          element.appendChild(docLink);\n",
              "        }\n",
              "      </script>\n",
              "    </div>\n",
              "  </div>\n",
              "  "
            ]
          },
          "metadata": {},
          "execution_count": 27
        }
      ]
    },
    {
      "cell_type": "code",
      "source": [
        "#view the columns and shape\n",
        "print(Uza_point_data.shape)\n",
        "Uza_point_data.info()"
      ],
      "metadata": {
        "colab": {
          "base_uri": "https://localhost:8080/"
        },
        "id": "C9babIYIbt0J",
        "outputId": "d16f6849-66c0-494d-d5d9-32e6720f975a"
      },
      "execution_count": null,
      "outputs": [
        {
          "output_type": "stream",
          "name": "stdout",
          "text": [
            "(65, 10)\n",
            "<class 'pandas.core.frame.DataFrame'>\n",
            "RangeIndex: 65 entries, 0 to 64\n",
            "Data columns (total 10 columns):\n",
            " #   Column                Non-Null Count  Dtype         \n",
            "---  ------                --------------  -----         \n",
            " 0   reviewId              65 non-null     object        \n",
            " 1   userName              65 non-null     object        \n",
            " 2   userImage             65 non-null     object        \n",
            " 3   content               65 non-null     object        \n",
            " 4   score                 65 non-null     int64         \n",
            " 5   thumbsUpCount         65 non-null     int64         \n",
            " 6   reviewCreatedVersion  56 non-null     object        \n",
            " 7   at                    65 non-null     datetime64[ns]\n",
            " 8   replyContent          23 non-null     object        \n",
            " 9   repliedAt             23 non-null     datetime64[ns]\n",
            "dtypes: datetime64[ns](2), int64(2), object(6)\n",
            "memory usage: 5.2+ KB\n"
          ]
        }
      ]
    },
    {
      "cell_type": "code",
      "source": [
        "len(Uza_point_data.index) "
      ],
      "metadata": {
        "colab": {
          "base_uri": "https://localhost:8080/"
        },
        "id": "vgxWw7jubzIR",
        "outputId": "4ca5bf19-9359-4898-dd37-2cd16ab9124b"
      },
      "execution_count": null,
      "outputs": [
        {
          "output_type": "execute_result",
          "data": {
            "text/plain": [
              "65"
            ]
          },
          "metadata": {},
          "execution_count": 29
        }
      ]
    },
    {
      "cell_type": "code",
      "source": [
        "# drop the unnecesarry columns before we can start the EDA(Exploratory Data Analysis)\n",
        "Uza_point_data1 = Uza_point_data[[\"content\",\"reviewCreatedVersion\",\"score\",\"at\",\"thumbsUpCount\"]]\n",
        "Uza_point_data1.head()"
      ],
      "metadata": {
        "colab": {
          "base_uri": "https://localhost:8080/",
          "height": 206
        },
        "id": "2SUkKbMOb0KG",
        "outputId": "c50e9b35-b64c-41db-e0a5-14079214ef6b"
      },
      "execution_count": null,
      "outputs": [
        {
          "output_type": "execute_result",
          "data": {
            "text/plain": [
              "                                             content reviewCreatedVersion  \\\n",
              "0  An amazing POS for sure. Very effective in man...               1.16.3   \n",
              "1  The app is user-friendly. I like the simplicit...                1.0.9   \n",
              "2  I'm impressed that the team is very responsive...               1.11.0   \n",
              "3  If there is one thing that came to save my bus...               1.16.4   \n",
              "4  This is the most efficient app ive come across...               1.1.41   \n",
              "\n",
              "   score                  at  thumbsUpCount  \n",
              "0      5 2021-11-20 09:02:43              2  \n",
              "1      5 2020-06-18 14:22:10              0  \n",
              "2      5 2021-05-28 08:07:18              0  \n",
              "3      5 2022-01-17 14:09:45              1  \n",
              "4      5 2020-09-24 16:24:17              2  "
            ],
            "text/html": [
              "\n",
              "  <div id=\"df-92e239da-e252-451d-9309-c463645fce2e\">\n",
              "    <div class=\"colab-df-container\">\n",
              "      <div>\n",
              "<style scoped>\n",
              "    .dataframe tbody tr th:only-of-type {\n",
              "        vertical-align: middle;\n",
              "    }\n",
              "\n",
              "    .dataframe tbody tr th {\n",
              "        vertical-align: top;\n",
              "    }\n",
              "\n",
              "    .dataframe thead th {\n",
              "        text-align: right;\n",
              "    }\n",
              "</style>\n",
              "<table border=\"1\" class=\"dataframe\">\n",
              "  <thead>\n",
              "    <tr style=\"text-align: right;\">\n",
              "      <th></th>\n",
              "      <th>content</th>\n",
              "      <th>reviewCreatedVersion</th>\n",
              "      <th>score</th>\n",
              "      <th>at</th>\n",
              "      <th>thumbsUpCount</th>\n",
              "    </tr>\n",
              "  </thead>\n",
              "  <tbody>\n",
              "    <tr>\n",
              "      <th>0</th>\n",
              "      <td>An amazing POS for sure. Very effective in man...</td>\n",
              "      <td>1.16.3</td>\n",
              "      <td>5</td>\n",
              "      <td>2021-11-20 09:02:43</td>\n",
              "      <td>2</td>\n",
              "    </tr>\n",
              "    <tr>\n",
              "      <th>1</th>\n",
              "      <td>The app is user-friendly. I like the simplicit...</td>\n",
              "      <td>1.0.9</td>\n",
              "      <td>5</td>\n",
              "      <td>2020-06-18 14:22:10</td>\n",
              "      <td>0</td>\n",
              "    </tr>\n",
              "    <tr>\n",
              "      <th>2</th>\n",
              "      <td>I'm impressed that the team is very responsive...</td>\n",
              "      <td>1.11.0</td>\n",
              "      <td>5</td>\n",
              "      <td>2021-05-28 08:07:18</td>\n",
              "      <td>0</td>\n",
              "    </tr>\n",
              "    <tr>\n",
              "      <th>3</th>\n",
              "      <td>If there is one thing that came to save my bus...</td>\n",
              "      <td>1.16.4</td>\n",
              "      <td>5</td>\n",
              "      <td>2022-01-17 14:09:45</td>\n",
              "      <td>1</td>\n",
              "    </tr>\n",
              "    <tr>\n",
              "      <th>4</th>\n",
              "      <td>This is the most efficient app ive come across...</td>\n",
              "      <td>1.1.41</td>\n",
              "      <td>5</td>\n",
              "      <td>2020-09-24 16:24:17</td>\n",
              "      <td>2</td>\n",
              "    </tr>\n",
              "  </tbody>\n",
              "</table>\n",
              "</div>\n",
              "      <button class=\"colab-df-convert\" onclick=\"convertToInteractive('df-92e239da-e252-451d-9309-c463645fce2e')\"\n",
              "              title=\"Convert this dataframe to an interactive table.\"\n",
              "              style=\"display:none;\">\n",
              "        \n",
              "  <svg xmlns=\"http://www.w3.org/2000/svg\" height=\"24px\"viewBox=\"0 0 24 24\"\n",
              "       width=\"24px\">\n",
              "    <path d=\"M0 0h24v24H0V0z\" fill=\"none\"/>\n",
              "    <path d=\"M18.56 5.44l.94 2.06.94-2.06 2.06-.94-2.06-.94-.94-2.06-.94 2.06-2.06.94zm-11 1L8.5 8.5l.94-2.06 2.06-.94-2.06-.94L8.5 2.5l-.94 2.06-2.06.94zm10 10l.94 2.06.94-2.06 2.06-.94-2.06-.94-.94-2.06-.94 2.06-2.06.94z\"/><path d=\"M17.41 7.96l-1.37-1.37c-.4-.4-.92-.59-1.43-.59-.52 0-1.04.2-1.43.59L10.3 9.45l-7.72 7.72c-.78.78-.78 2.05 0 2.83L4 21.41c.39.39.9.59 1.41.59.51 0 1.02-.2 1.41-.59l7.78-7.78 2.81-2.81c.8-.78.8-2.07 0-2.86zM5.41 20L4 18.59l7.72-7.72 1.47 1.35L5.41 20z\"/>\n",
              "  </svg>\n",
              "      </button>\n",
              "      \n",
              "  <style>\n",
              "    .colab-df-container {\n",
              "      display:flex;\n",
              "      flex-wrap:wrap;\n",
              "      gap: 12px;\n",
              "    }\n",
              "\n",
              "    .colab-df-convert {\n",
              "      background-color: #E8F0FE;\n",
              "      border: none;\n",
              "      border-radius: 50%;\n",
              "      cursor: pointer;\n",
              "      display: none;\n",
              "      fill: #1967D2;\n",
              "      height: 32px;\n",
              "      padding: 0 0 0 0;\n",
              "      width: 32px;\n",
              "    }\n",
              "\n",
              "    .colab-df-convert:hover {\n",
              "      background-color: #E2EBFA;\n",
              "      box-shadow: 0px 1px 2px rgba(60, 64, 67, 0.3), 0px 1px 3px 1px rgba(60, 64, 67, 0.15);\n",
              "      fill: #174EA6;\n",
              "    }\n",
              "\n",
              "    [theme=dark] .colab-df-convert {\n",
              "      background-color: #3B4455;\n",
              "      fill: #D2E3FC;\n",
              "    }\n",
              "\n",
              "    [theme=dark] .colab-df-convert:hover {\n",
              "      background-color: #434B5C;\n",
              "      box-shadow: 0px 1px 3px 1px rgba(0, 0, 0, 0.15);\n",
              "      filter: drop-shadow(0px 1px 2px rgba(0, 0, 0, 0.3));\n",
              "      fill: #FFFFFF;\n",
              "    }\n",
              "  </style>\n",
              "\n",
              "      <script>\n",
              "        const buttonEl =\n",
              "          document.querySelector('#df-92e239da-e252-451d-9309-c463645fce2e button.colab-df-convert');\n",
              "        buttonEl.style.display =\n",
              "          google.colab.kernel.accessAllowed ? 'block' : 'none';\n",
              "\n",
              "        async function convertToInteractive(key) {\n",
              "          const element = document.querySelector('#df-92e239da-e252-451d-9309-c463645fce2e');\n",
              "          const dataTable =\n",
              "            await google.colab.kernel.invokeFunction('convertToInteractive',\n",
              "                                                     [key], {});\n",
              "          if (!dataTable) return;\n",
              "\n",
              "          const docLinkHtml = 'Like what you see? Visit the ' +\n",
              "            '<a target=\"_blank\" href=https://colab.research.google.com/notebooks/data_table.ipynb>data table notebook</a>'\n",
              "            + ' to learn more about interactive tables.';\n",
              "          element.innerHTML = '';\n",
              "          dataTable['output_type'] = 'display_data';\n",
              "          await google.colab.output.renderOutput(dataTable, element);\n",
              "          const docLink = document.createElement('div');\n",
              "          docLink.innerHTML = docLinkHtml;\n",
              "          element.appendChild(docLink);\n",
              "        }\n",
              "      </script>\n",
              "    </div>\n",
              "  </div>\n",
              "  "
            ]
          },
          "metadata": {},
          "execution_count": 111
        }
      ]
    },
    {
      "cell_type": "code",
      "source": [
        "Uza_pointsort_data = Uza_point_data1.sort_values(by=\"at\", ascending= False) # arranging the data starting from the newest to oldest\n",
        "Uza_pointsort_data.head()\n"
      ],
      "metadata": {
        "colab": {
          "base_uri": "https://localhost:8080/",
          "height": 206
        },
        "id": "CbC3wZ9kb6C9",
        "outputId": "ca9df450-71c3-4f6d-e006-ee2cd62580e5"
      },
      "execution_count": null,
      "outputs": [
        {
          "output_type": "execute_result",
          "data": {
            "text/plain": [
              "                                              content reviewCreatedVersion  \\\n",
              "20  It's an amazing app.Whats makes it better is t...               1.16.5   \n",
              "13  'You need an API key to authenticate all reque...               1.16.5   \n",
              "41          Efficient and easy to use for my business               1.16.5   \n",
              "37  Excited to use Uzapoint. The e-commerce platfo...               1.16.5   \n",
              "55  What a wonderful system, since I started Uzapo...               1.16.5   \n",
              "\n",
              "    score                  at  thumbsUpCount  \n",
              "20      5 2022-11-27 21:27:11              0  \n",
              "13      1 2022-07-27 07:26:06              0  \n",
              "41      5 2022-07-22 06:05:47              0  \n",
              "37      5 2022-07-20 06:43:06              0  \n",
              "55      5 2022-07-13 08:42:26              0  "
            ],
            "text/html": [
              "\n",
              "  <div id=\"df-1e41b382-e458-4ab0-b657-12eb0ab8176d\">\n",
              "    <div class=\"colab-df-container\">\n",
              "      <div>\n",
              "<style scoped>\n",
              "    .dataframe tbody tr th:only-of-type {\n",
              "        vertical-align: middle;\n",
              "    }\n",
              "\n",
              "    .dataframe tbody tr th {\n",
              "        vertical-align: top;\n",
              "    }\n",
              "\n",
              "    .dataframe thead th {\n",
              "        text-align: right;\n",
              "    }\n",
              "</style>\n",
              "<table border=\"1\" class=\"dataframe\">\n",
              "  <thead>\n",
              "    <tr style=\"text-align: right;\">\n",
              "      <th></th>\n",
              "      <th>content</th>\n",
              "      <th>reviewCreatedVersion</th>\n",
              "      <th>score</th>\n",
              "      <th>at</th>\n",
              "      <th>thumbsUpCount</th>\n",
              "    </tr>\n",
              "  </thead>\n",
              "  <tbody>\n",
              "    <tr>\n",
              "      <th>20</th>\n",
              "      <td>It's an amazing app.Whats makes it better is t...</td>\n",
              "      <td>1.16.5</td>\n",
              "      <td>5</td>\n",
              "      <td>2022-11-27 21:27:11</td>\n",
              "      <td>0</td>\n",
              "    </tr>\n",
              "    <tr>\n",
              "      <th>13</th>\n",
              "      <td>'You need an API key to authenticate all reque...</td>\n",
              "      <td>1.16.5</td>\n",
              "      <td>1</td>\n",
              "      <td>2022-07-27 07:26:06</td>\n",
              "      <td>0</td>\n",
              "    </tr>\n",
              "    <tr>\n",
              "      <th>41</th>\n",
              "      <td>Efficient and easy to use for my business</td>\n",
              "      <td>1.16.5</td>\n",
              "      <td>5</td>\n",
              "      <td>2022-07-22 06:05:47</td>\n",
              "      <td>0</td>\n",
              "    </tr>\n",
              "    <tr>\n",
              "      <th>37</th>\n",
              "      <td>Excited to use Uzapoint. The e-commerce platfo...</td>\n",
              "      <td>1.16.5</td>\n",
              "      <td>5</td>\n",
              "      <td>2022-07-20 06:43:06</td>\n",
              "      <td>0</td>\n",
              "    </tr>\n",
              "    <tr>\n",
              "      <th>55</th>\n",
              "      <td>What a wonderful system, since I started Uzapo...</td>\n",
              "      <td>1.16.5</td>\n",
              "      <td>5</td>\n",
              "      <td>2022-07-13 08:42:26</td>\n",
              "      <td>0</td>\n",
              "    </tr>\n",
              "  </tbody>\n",
              "</table>\n",
              "</div>\n",
              "      <button class=\"colab-df-convert\" onclick=\"convertToInteractive('df-1e41b382-e458-4ab0-b657-12eb0ab8176d')\"\n",
              "              title=\"Convert this dataframe to an interactive table.\"\n",
              "              style=\"display:none;\">\n",
              "        \n",
              "  <svg xmlns=\"http://www.w3.org/2000/svg\" height=\"24px\"viewBox=\"0 0 24 24\"\n",
              "       width=\"24px\">\n",
              "    <path d=\"M0 0h24v24H0V0z\" fill=\"none\"/>\n",
              "    <path d=\"M18.56 5.44l.94 2.06.94-2.06 2.06-.94-2.06-.94-.94-2.06-.94 2.06-2.06.94zm-11 1L8.5 8.5l.94-2.06 2.06-.94-2.06-.94L8.5 2.5l-.94 2.06-2.06.94zm10 10l.94 2.06.94-2.06 2.06-.94-2.06-.94-.94-2.06-.94 2.06-2.06.94z\"/><path d=\"M17.41 7.96l-1.37-1.37c-.4-.4-.92-.59-1.43-.59-.52 0-1.04.2-1.43.59L10.3 9.45l-7.72 7.72c-.78.78-.78 2.05 0 2.83L4 21.41c.39.39.9.59 1.41.59.51 0 1.02-.2 1.41-.59l7.78-7.78 2.81-2.81c.8-.78.8-2.07 0-2.86zM5.41 20L4 18.59l7.72-7.72 1.47 1.35L5.41 20z\"/>\n",
              "  </svg>\n",
              "      </button>\n",
              "      \n",
              "  <style>\n",
              "    .colab-df-container {\n",
              "      display:flex;\n",
              "      flex-wrap:wrap;\n",
              "      gap: 12px;\n",
              "    }\n",
              "\n",
              "    .colab-df-convert {\n",
              "      background-color: #E8F0FE;\n",
              "      border: none;\n",
              "      border-radius: 50%;\n",
              "      cursor: pointer;\n",
              "      display: none;\n",
              "      fill: #1967D2;\n",
              "      height: 32px;\n",
              "      padding: 0 0 0 0;\n",
              "      width: 32px;\n",
              "    }\n",
              "\n",
              "    .colab-df-convert:hover {\n",
              "      background-color: #E2EBFA;\n",
              "      box-shadow: 0px 1px 2px rgba(60, 64, 67, 0.3), 0px 1px 3px 1px rgba(60, 64, 67, 0.15);\n",
              "      fill: #174EA6;\n",
              "    }\n",
              "\n",
              "    [theme=dark] .colab-df-convert {\n",
              "      background-color: #3B4455;\n",
              "      fill: #D2E3FC;\n",
              "    }\n",
              "\n",
              "    [theme=dark] .colab-df-convert:hover {\n",
              "      background-color: #434B5C;\n",
              "      box-shadow: 0px 1px 3px 1px rgba(0, 0, 0, 0.15);\n",
              "      filter: drop-shadow(0px 1px 2px rgba(0, 0, 0, 0.3));\n",
              "      fill: #FFFFFF;\n",
              "    }\n",
              "  </style>\n",
              "\n",
              "      <script>\n",
              "        const buttonEl =\n",
              "          document.querySelector('#df-1e41b382-e458-4ab0-b657-12eb0ab8176d button.colab-df-convert');\n",
              "        buttonEl.style.display =\n",
              "          google.colab.kernel.accessAllowed ? 'block' : 'none';\n",
              "\n",
              "        async function convertToInteractive(key) {\n",
              "          const element = document.querySelector('#df-1e41b382-e458-4ab0-b657-12eb0ab8176d');\n",
              "          const dataTable =\n",
              "            await google.colab.kernel.invokeFunction('convertToInteractive',\n",
              "                                                     [key], {});\n",
              "          if (!dataTable) return;\n",
              "\n",
              "          const docLinkHtml = 'Like what you see? Visit the ' +\n",
              "            '<a target=\"_blank\" href=https://colab.research.google.com/notebooks/data_table.ipynb>data table notebook</a>'\n",
              "            + ' to learn more about interactive tables.';\n",
              "          element.innerHTML = '';\n",
              "          dataTable['output_type'] = 'display_data';\n",
              "          await google.colab.output.renderOutput(dataTable, element);\n",
              "          const docLink = document.createElement('div');\n",
              "          docLink.innerHTML = docLinkHtml;\n",
              "          element.appendChild(docLink);\n",
              "        }\n",
              "      </script>\n",
              "    </div>\n",
              "  </div>\n",
              "  "
            ]
          },
          "metadata": {},
          "execution_count": 31
        }
      ]
    },
    {
      "cell_type": "code",
      "source": [
        "Uza_pointsort_data.to_excel(\"UzaPoint.xlsx\", index = False) #download kopokopo excel file"
      ],
      "metadata": {
        "id": "8I4w1QlHcCTa"
      },
      "execution_count": null,
      "outputs": []
    },
    {
      "cell_type": "markdown",
      "source": [
        "## **EXPLORATORY DATA ANALYSIS**"
      ],
      "metadata": {
        "id": "i7wXL8WlborM"
      }
    },
    {
      "cell_type": "markdown",
      "source": [
        "**CHECKING MISSING VALUES**"
      ],
      "metadata": {
        "id": "2nfzSNtUbGVC"
      }
    },
    {
      "cell_type": "markdown",
      "source": [
        "## **1. Kopo kopo**"
      ],
      "metadata": {
        "id": "iw1Zy9hrYvfc"
      }
    },
    {
      "cell_type": "code",
      "source": [
        "Kopo_koposort_data_sum_missing = Kopo_koposort_data.isnull().sum()\n",
        "print(Kopo_koposort_data_sum_missing) # Eventhough we've 78 missing value"
      ],
      "metadata": {
        "colab": {
          "base_uri": "https://localhost:8080/"
        },
        "id": "U_s411yLZYTk",
        "outputId": "8b48339f-904f-45fb-f9b4-cbd88ad2a10e"
      },
      "execution_count": null,
      "outputs": [
        {
          "output_type": "stream",
          "name": "stdout",
          "text": [
            "content                  0\n",
            "reviewCreatedVersion    78\n",
            "score                    0\n",
            "at                       0\n",
            "thumbsUpCount            0\n",
            "dtype: int64\n"
          ]
        }
      ]
    },
    {
      "cell_type": "markdown",
      "source": [
        "The App has many different versions let's check which version has the best review."
      ],
      "metadata": {
        "id": "2K3CiPJ3cFOB"
      }
    },
    {
      "cell_type": "code",
      "source": [
        "highest_score = Kopo_koposort_data[Kopo_koposort_data[\"score\"]==5]\n",
        "print(\"KopoKopo highest scores:\", highest_score.head())"
      ],
      "metadata": {
        "colab": {
          "base_uri": "https://localhost:8080/"
        },
        "id": "Iuc0l1DIbhWA",
        "outputId": "a3571f08-e269-48b2-e771-80024722c907"
      },
      "execution_count": null,
      "outputs": [
        {
          "output_type": "stream",
          "name": "stdout",
          "text": [
            "KopoKopo highest scores:                                                content reviewCreatedVersion  \\\n",
            "0    This new app is not user friendly, to complica...                6.0.0   \n",
            "171                                      Good services                5.3.0   \n",
            "145                                     So far so good                5.3.0   \n",
            "170                                       Good service                5.3.0   \n",
            "23   Great app, withdrawals never take more than 5m...                5.3.0   \n",
            "\n",
            "     score                  at  thumbsUpCount  \n",
            "0        5 2022-12-30 19:29:44             71  \n",
            "171      5 2022-12-16 16:45:40              0  \n",
            "145      5 2022-12-16 06:24:05              0  \n",
            "170      5 2022-12-14 01:52:08              0  \n",
            "23       5 2022-12-09 18:07:27              0  \n"
          ]
        }
      ]
    },
    {
      "cell_type": "code",
      "source": [
        "medium_score = Kopo_koposort_data[Kopo_koposort_data[\"score\"] == 3]\n",
        "print(\"Kopokopo medium score:\", medium_score.head()) "
      ],
      "metadata": {
        "colab": {
          "base_uri": "https://localhost:8080/"
        },
        "id": "8jqTETiKcrxF",
        "outputId": "8d871924-64b2-4a15-f8e4-3883a672bd4c"
      },
      "execution_count": null,
      "outputs": [
        {
          "output_type": "stream",
          "name": "stdout",
          "text": [
            "Kopokopo medium score:                                                content reviewCreatedVersion  \\\n",
            "166                                              Good.                5.3.0   \n",
            "111                                 Nice but expensive                 None   \n",
            "32   Fantastic App but your interest rates on the g...                5.3.0   \n",
            "158                         Trying for the first time.                 None   \n",
            "21   Kindly include the totals of daily transaction...                5.1.0   \n",
            "\n",
            "     score                  at  thumbsUpCount  \n",
            "166      3 2022-10-21 06:49:52              0  \n",
            "111      3 2022-09-22 05:17:30              0  \n",
            "32       3 2022-09-15 06:42:22              9  \n",
            "158      3 2022-03-09 08:59:45              0  \n",
            "21       3 2022-02-06 05:39:22             60  \n"
          ]
        }
      ]
    },
    {
      "cell_type": "markdown",
      "source": [
        "How many versions are there?"
      ],
      "metadata": {
        "id": "P-KdJGaXdBdQ"
      }
    },
    {
      "cell_type": "code",
      "source": [
        "print(Kopo_koposort_data.reviewCreatedVersion.nunique())\n",
        "print(Kopo_koposort_data.reviewCreatedVersion.unique())\n",
        "print(Kopo_koposort_data.reviewCreatedVersion.value_counts())"
      ],
      "metadata": {
        "colab": {
          "base_uri": "https://localhost:8080/"
        },
        "id": "JmRBvMg9c-Kz",
        "outputId": "46c4e7de-9608-4be1-ac87-546b8530a168"
      },
      "execution_count": null,
      "outputs": [
        {
          "output_type": "stream",
          "name": "stdout",
          "text": [
            "23\n",
            "['6.0.0' '5.3.0' None '5.2.0' '5.1.0' '5.0.3' '4.2.4' '5.0.2' '4.1.4'\n",
            " '5.0.0' '4.1.8' '4.1.6' '4.1.2' '3.0.1' '4.1.1' '4.0.4' '4.0.3' '3.0.0'\n",
            " '2.2.2' '2.2.1' '2.1.3' '2.1.2' '2.1.0' '2.0.3 (Beta)']\n",
            "5.3.0           40\n",
            "4.1.4           35\n",
            "4.2.4           27\n",
            "2.2.2           24\n",
            "5.1.0           23\n",
            "4.1.2           14\n",
            "4.1.6           11\n",
            "5.2.0            8\n",
            "5.0.2            7\n",
            "5.0.3            6\n",
            "4.1.8            6\n",
            "5.0.0            5\n",
            "4.1.1            4\n",
            "3.0.0            4\n",
            "3.0.1            3\n",
            "2.1.0            3\n",
            "2.2.1            2\n",
            "6.0.0            2\n",
            "4.0.3            1\n",
            "2.1.3            1\n",
            "2.1.2            1\n",
            "4.0.4            1\n",
            "2.0.3 (Beta)     1\n",
            "Name: reviewCreatedVersion, dtype: int64\n"
          ]
        }
      ]
    },
    {
      "cell_type": "code",
      "source": [
        "# Find out average of all ratings for each unique version and check which version received highest average rating.\n",
        "x = (Kopo_koposort_data.groupby('reviewCreatedVersion')['score'].mean())\n",
        "print(x)"
      ],
      "metadata": {
        "colab": {
          "base_uri": "https://localhost:8080/"
        },
        "id": "ug3S8tAaddro",
        "outputId": "35e973e8-d883-4b93-e54d-c645e878df51"
      },
      "execution_count": null,
      "outputs": [
        {
          "output_type": "stream",
          "name": "stdout",
          "text": [
            "reviewCreatedVersion\n",
            "2.0.3 (Beta)    1.000000\n",
            "2.1.0           4.666667\n",
            "2.1.2           5.000000\n",
            "2.1.3           5.000000\n",
            "2.2.1           4.500000\n",
            "2.2.2           3.041667\n",
            "3.0.0           4.250000\n",
            "3.0.1           4.333333\n",
            "4.0.3           4.000000\n",
            "4.0.4           3.000000\n",
            "4.1.1           2.750000\n",
            "4.1.2           2.928571\n",
            "4.1.4           3.485714\n",
            "4.1.6           4.272727\n",
            "4.1.8           3.666667\n",
            "4.2.4           3.296296\n",
            "5.0.0           4.400000\n",
            "5.0.2           2.428571\n",
            "5.0.3           3.833333\n",
            "5.1.0           2.826087\n",
            "5.2.0           3.625000\n",
            "5.3.0           4.050000\n",
            "6.0.0           4.500000\n",
            "Name: score, dtype: float64\n"
          ]
        }
      ]
    },
    {
      "cell_type": "code",
      "source": [
        "# Visualize data using histogram to determine if app is more positive reviews or negative reviews in terms of score\n",
        "plt.hist(Kopo_koposort_data['score'], bins = 5)\n",
        "plt.xlabel(\"score review\")\n",
        "plt.ylabel(\"frequency\")\n",
        "plt.title(\"Kopokopo score review Histogram\")\n",
        "plt.show()"
      ],
      "metadata": {
        "colab": {
          "base_uri": "https://localhost:8080/",
          "height": 295
        },
        "id": "qQwBoGWjhcs5",
        "outputId": "dfc4cd94-49f2-4ec7-9fa1-76209d0d47c7"
      },
      "execution_count": null,
      "outputs": [
        {
          "output_type": "display_data",
          "data": {
            "text/plain": [
              "<Figure size 432x288 with 1 Axes>"
            ],
            "image/png": "[encoded data removed]"
          },
          "metadata": {
            "needs_background": "light"
          }
        }
      ]
    },
    {
      "cell_type": "markdown",
      "source": [
        "# Pesapal"
      ],
      "metadata": {
        "id": "JxefP0sGY7md"
      }
    },
    {
      "cell_type": "code",
      "source": [
        "PesaPalsort_data_sum_missing = PesaPalsort_data.isnull().sum()\n",
        "print(PesaPalsort_data_sum_missing)"
      ],
      "metadata": {
        "colab": {
          "base_uri": "https://localhost:8080/"
        },
        "id": "Ug8e-2GxSiga",
        "outputId": "a751d1bd-d696-4312-c486-11a88b0868cd"
      },
      "execution_count": null,
      "outputs": [
        {
          "output_type": "stream",
          "name": "stdout",
          "text": [
            "content                 0\n",
            "reviewCreatedVersion    4\n",
            "score                   0\n",
            "at                      0\n",
            "thumbsUpCount           0\n",
            "dtype: int64\n"
          ]
        }
      ]
    },
    {
      "cell_type": "code",
      "source": [
        "highest_score = PesaPalsort_data[PesaPalsort_data[\"score\"]==5]\n",
        "print(\"Pesapal highest scores:\", highest_score.head())"
      ],
      "metadata": {
        "colab": {
          "base_uri": "https://localhost:8080/"
        },
        "id": "-5D7aGRnSius",
        "outputId": "ab024b99-efea-4aa3-8e94-957267021bc1"
      },
      "execution_count": null,
      "outputs": [
        {
          "output_type": "stream",
          "name": "stdout",
          "text": [
            "Pesapal highest scores:                                               content reviewCreatedVersion  \\\n",
            "19                           Uduma nzuri inarahisisha                 None   \n",
            "2   The app is nice but anytime I try selling on c...                   29   \n",
            "4            best app need charts summary thanks alot                   29   \n",
            "1   It's the best love it, saves time and it's acc...                   29   \n",
            "11                                            Awesome                   20   \n",
            "\n",
            "    score                  at  thumbsUpCount  \n",
            "19      5 2021-12-28 10:23:57              0  \n",
            "2       5 2019-12-09 18:59:03              3  \n",
            "4       5 2019-01-13 19:23:58              3  \n",
            "1       5 2018-11-21 09:48:20              7  \n",
            "11      5 2018-08-18 04:49:06              1  \n"
          ]
        }
      ]
    },
    {
      "cell_type": "code",
      "source": [
        "medium_score = PesaPalsort_data[PesaPalsort_data[\"score\"] == 3]\n",
        "print(\"Pesapal medium score:\", medium_score.head()) "
      ],
      "metadata": {
        "colab": {
          "base_uri": "https://localhost:8080/"
        },
        "id": "L3tAmykzSi8c",
        "outputId": "69f3a892-3a65-4f94-ec5a-e8134bf21c69"
      },
      "execution_count": null,
      "outputs": [
        {
          "output_type": "stream",
          "name": "stdout",
          "text": [
            "Pesapal medium score:                                              content reviewCreatedVersion  \\\n",
            "0  One of the best POs app, one improvement neede...                 35.4   \n",
            "5  how do I appdate after selling an item?? pleas...                 None   \n",
            "\n",
            "   score                  at  thumbsUpCount  \n",
            "0      3 2022-06-22 06:50:54              0  \n",
            "5      3 2019-03-21 11:08:51              3  \n"
          ]
        }
      ]
    },
    {
      "cell_type": "code",
      "source": [
        "print(PesaPalsort_data.reviewCreatedVersion.nunique())\n",
        "print(PesaPalsort_data.reviewCreatedVersion.unique())\n",
        "print(PesaPalsort_data.reviewCreatedVersion.value_counts())"
      ],
      "metadata": {
        "colab": {
          "base_uri": "https://localhost:8080/"
        },
        "id": "iDLRhBdsSjIX",
        "outputId": "b93e3985-cc41-4ad9-fe31-bb3005ea6565"
      },
      "execution_count": null,
      "outputs": [
        {
          "output_type": "stream",
          "name": "stdout",
          "text": [
            "7\n",
            "['35.4' None '29' '32' '20' '16' '14' '11']\n",
            "20      5\n",
            "29      4\n",
            "16      3\n",
            "14      2\n",
            "35.4    1\n",
            "32      1\n",
            "11      1\n",
            "Name: reviewCreatedVersion, dtype: int64\n"
          ]
        }
      ]
    },
    {
      "cell_type": "code",
      "source": [
        "# Find out average of all ratings for each unique version and check which version received highest average rating.\n",
        "x = (PesaPalsort_data.groupby('reviewCreatedVersion')['score'].mean())\n",
        "print(x)"
      ],
      "metadata": {
        "colab": {
          "base_uri": "https://localhost:8080/"
        },
        "id": "UewYx60DSjTe",
        "outputId": "512c5f51-67a8-42c8-da10-c50e3319bb64"
      },
      "execution_count": null,
      "outputs": [
        {
          "output_type": "stream",
          "name": "stdout",
          "text": [
            "reviewCreatedVersion\n",
            "11      5.000000\n",
            "14      5.000000\n",
            "16      2.333333\n",
            "20      4.800000\n",
            "29      4.750000\n",
            "32      4.000000\n",
            "35.4    3.000000\n",
            "Name: score, dtype: float64\n"
          ]
        }
      ]
    },
    {
      "cell_type": "code",
      "source": [
        "# Visualize data using histogram to determine if app is more positive reviews or negative reviews in terms of score\n",
        "plt.hist(PesaPalsort_data['score'], bins = 5)\n",
        "plt.xlabel(\"score review\")\n",
        "plt.ylabel(\"frequency\")\n",
        "plt.title(\"Pesapal score review Histogram\")\n",
        "plt.show()"
      ],
      "metadata": {
        "colab": {
          "base_uri": "https://localhost:8080/",
          "height": 295
        },
        "id": "CWIoMYi6SjyT",
        "outputId": "b2996f45-fb41-491e-f8a2-ac63fce0016f"
      },
      "execution_count": null,
      "outputs": [
        {
          "output_type": "display_data",
          "data": {
            "text/plain": [
              "<Figure size 432x288 with 1 Axes>"
            ],
            "image/png": "[encoded data removed]"
          },
          "metadata": {
            "needs_background": "light"
          }
        }
      ]
    },
    {
      "cell_type": "markdown",
      "source": [
        "## **Paystack **"
      ],
      "metadata": {
        "id": "JWOCa_ZOZAwY"
      }
    },
    {
      "cell_type": "code",
      "source": [
        "Paystacksort_data_sum_missing = Paystacksort_data.isnull().sum()\n",
        "print(Paystacksort_data_sum_missing)"
      ],
      "metadata": {
        "colab": {
          "base_uri": "https://localhost:8080/"
        },
        "id": "07VqE6VzSlk9",
        "outputId": "b696d79f-e675-4af7-d2b4-957b37b9c24c"
      },
      "execution_count": null,
      "outputs": [
        {
          "output_type": "stream",
          "name": "stdout",
          "text": [
            "content                  0\n",
            "reviewCreatedVersion    58\n",
            "score                    0\n",
            "at                       0\n",
            "thumbsUpCount            0\n",
            "dtype: int64\n"
          ]
        }
      ]
    },
    {
      "cell_type": "code",
      "source": [
        "highest_score = Paystacksort_data[Paystacksort_data[\"score\"]==5]\n",
        "print(\"Paystack highest scores:\", highest_score.head())"
      ],
      "metadata": {
        "colab": {
          "base_uri": "https://localhost:8080/"
        },
        "id": "yOV_tZFJSl9b",
        "outputId": "4206e808-e23b-46d3-e7a4-becc273e2fcc"
      },
      "execution_count": null,
      "outputs": [
        {
          "output_type": "stream",
          "name": "stdout",
          "text": [
            "Paystack highest scores:                 content reviewCreatedVersion  score                  at  \\\n",
            "71     This app is good                1.9.4      5 2022-12-30 15:17:49   \n",
            "232  Really appreciated                1.9.4      5 2022-12-30 01:58:15   \n",
            "152    Word conect game                1.9.4      5 2022-12-08 07:46:36   \n",
            "233       Nice and good                1.9.3      5 2022-11-21 23:22:07   \n",
            "235                Good                1.8.3      5 2022-10-23 09:41:12   \n",
            "\n",
            "     thumbsUpCount  \n",
            "71               0  \n",
            "232              0  \n",
            "152              0  \n",
            "233              1  \n",
            "235              0  \n"
          ]
        }
      ]
    },
    {
      "cell_type": "code",
      "source": [
        "medium_score = Paystacksort_data[Paystacksort_data[\"score\"] == 3]\n",
        "print(\"Paystack medium score:\", medium_score.head()) "
      ],
      "metadata": {
        "colab": {
          "base_uri": "https://localhost:8080/"
        },
        "id": "BfnlJxW_SmLw",
        "outputId": "9f8e2051-2b6d-4e0c-9865-ba226f24c115"
      },
      "execution_count": null,
      "outputs": [
        {
          "output_type": "stream",
          "name": "stdout",
          "text": [
            "Paystack medium score:                                                content reviewCreatedVersion  \\\n",
            "56          I give it 3 🌟 because it not working today                1.9.4   \n",
            "55   Why can't I login in to my acct pls help me re...                1.9.3   \n",
            "269                                               Best                 None   \n",
            "222          How can I withdraw from my Pay Stack app.                1.8.3   \n",
            "70   Good evening paystack, I just got a debit aler...                1.8.1   \n",
            "\n",
            "     score                  at  thumbsUpCount  \n",
            "56       3 2022-12-01 00:54:55              1  \n",
            "55       3 2022-11-23 13:12:26              1  \n",
            "269      3 2022-09-03 07:14:21              0  \n",
            "222      3 2022-08-24 23:24:38              0  \n",
            "70       3 2022-01-21 15:56:28              4  \n"
          ]
        }
      ]
    },
    {
      "cell_type": "code",
      "source": [
        "print(Paystacksort_data.reviewCreatedVersion.nunique())\n",
        "print(Paystacksort_data.reviewCreatedVersion.unique())\n",
        "print(Paystacksort_data.reviewCreatedVersion.value_counts())"
      ],
      "metadata": {
        "colab": {
          "base_uri": "https://localhost:8080/"
        },
        "id": "trMXqQO7SmZM",
        "outputId": "d9a1ea6f-d676-4f7c-fa3c-a629089e5051"
      },
      "execution_count": null,
      "outputs": [
        {
          "output_type": "stream",
          "name": "stdout",
          "text": [
            "31\n",
            "['1.9.4' '1.9.3' None '1.8.3' '1.8.1' '1.8.2' '1.7.2' '1.8.0' '1.3.9'\n",
            " '1.6.0' '1.5.3' '1.2.6' '1.3.8' '1.1.9' '1.3.7' '1.3.6' '1.3.1' '1.3.5'\n",
            " '1.3.3' '1.3.0' '1.2.5' '1.2.4' '1.2.2' '1.2.0' '1.1.6' '1.1.7' '1.0.4'\n",
            " '1.0' '1.1.4' '1.1.3' '1.1.1' '1.0.2']\n",
            "1.1.7    29\n",
            "1.8.3    25\n",
            "1.3.9    23\n",
            "1.3.1    15\n",
            "1.1.4    11\n",
            "1.7.2    10\n",
            "1.8.1    10\n",
            "1.2.6     9\n",
            "1.3.3     8\n",
            "1.9.3     7\n",
            "1.2.4     7\n",
            "1.3.0     6\n",
            "1.3.8     6\n",
            "1.1.9     6\n",
            "1.0       5\n",
            "1.0.4     5\n",
            "1.1.6     5\n",
            "1.2.2     5\n",
            "1.9.4     5\n",
            "1.3.6     5\n",
            "1.5.3     5\n",
            "1.6.0     3\n",
            "1.2.5     2\n",
            "1.8.0     2\n",
            "1.1.3     2\n",
            "1.3.5     1\n",
            "1.2.0     1\n",
            "1.3.7     1\n",
            "1.8.2     1\n",
            "1.1.1     1\n",
            "1.0.2     1\n",
            "Name: reviewCreatedVersion, dtype: int64\n"
          ]
        }
      ]
    },
    {
      "cell_type": "code",
      "source": [
        "# Find out average of all ratings for each unique version and check which version received highest average rating.\n",
        "x = (Paystacksort_data.groupby('reviewCreatedVersion')['score'].mean())\n",
        "print(x)"
      ],
      "metadata": {
        "colab": {
          "base_uri": "https://localhost:8080/"
        },
        "id": "Elimlz9nSmlL",
        "outputId": "7ebc3573-5b4f-43a5-d5c4-130f55283ba1"
      },
      "execution_count": null,
      "outputs": [
        {
          "output_type": "stream",
          "name": "stdout",
          "text": [
            "reviewCreatedVersion\n",
            "1.0      2.200000\n",
            "1.0.2    5.000000\n",
            "1.0.4    2.800000\n",
            "1.1.1    5.000000\n",
            "1.1.3    5.000000\n",
            "1.1.4    4.363636\n",
            "1.1.6    3.600000\n",
            "1.1.7    3.482759\n",
            "1.1.9    3.833333\n",
            "1.2.0    3.000000\n",
            "1.2.2    2.400000\n",
            "1.2.4    3.142857\n",
            "1.2.5    3.000000\n",
            "1.2.6    2.888889\n",
            "1.3.0    1.166667\n",
            "1.3.1    3.666667\n",
            "1.3.3    1.000000\n",
            "1.3.5    3.000000\n",
            "1.3.6    1.000000\n",
            "1.3.7    3.000000\n",
            "1.3.8    1.500000\n",
            "1.3.9    1.956522\n",
            "1.5.3    1.600000\n",
            "1.6.0    3.666667\n",
            "1.7.2    2.200000\n",
            "1.8.0    3.500000\n",
            "1.8.1    2.100000\n",
            "1.8.2    1.000000\n",
            "1.8.3    1.880000\n",
            "1.9.3    1.857143\n",
            "1.9.4    4.000000\n",
            "Name: score, dtype: float64\n"
          ]
        }
      ]
    },
    {
      "cell_type": "code",
      "source": [
        "# Visualize data using histogram to determine if app is more positive reviews or negative reviews in terms of score\n",
        "plt.hist(Paystacksort_data['score'], bins = 5)\n",
        "plt.xlabel(\"score review\")\n",
        "plt.ylabel(\"frequency\")\n",
        "plt.title(\"Paystack score review Histogram\")\n",
        "plt.show()"
      ],
      "metadata": {
        "colab": {
          "base_uri": "https://localhost:8080/",
          "height": 295
        },
        "id": "oexZE6CbSmxV",
        "outputId": "6e48a89c-3a5a-4729-a721-76b5f5a814c6"
      },
      "execution_count": null,
      "outputs": [
        {
          "output_type": "display_data",
          "data": {
            "text/plain": [
              "<Figure size 432x288 with 1 Axes>"
            ],
            "image/png": "[encoded data removed]"
          },
          "metadata": {
            "needs_background": "light"
          }
        }
      ]
    },
    {
      "cell_type": "markdown",
      "source": [
        "From the above graph showing the frequency of each rating received, it can be said that most of the times app received either 4 or 5 rating. Thus, it can also be said that the app performs above average."
      ],
      "metadata": {
        "id": "s3k4YCmcKW_p"
      }
    },
    {
      "cell_type": "markdown",
      "source": [
        "## **4. UzaPoint**"
      ],
      "metadata": {
        "id": "7oy9SqT0c75s"
      }
    },
    {
      "cell_type": "code",
      "source": [
        "Uza_pointsort_data_sum_missing = Uza_pointsort_data.isnull().sum()\n",
        "print(Uza_pointsort_data_sum_missing)"
      ],
      "metadata": {
        "colab": {
          "base_uri": "https://localhost:8080/"
        },
        "id": "12WmWMz_dHV0",
        "outputId": "8c85c6b9-c5ce-45a3-c225-eade3ffaaf4b"
      },
      "execution_count": null,
      "outputs": [
        {
          "output_type": "stream",
          "name": "stdout",
          "text": [
            "content                 0\n",
            "reviewCreatedVersion    9\n",
            "score                   0\n",
            "at                      0\n",
            "thumbsUpCount           0\n",
            "dtype: int64\n"
          ]
        }
      ]
    },
    {
      "cell_type": "code",
      "source": [
        "highest_score = Uza_pointsort_data[Uza_pointsort_data[\"score\"]==5]\n",
        "print(\"UzaPoint highest scores:\", highest_score.head())"
      ],
      "metadata": {
        "colab": {
          "base_uri": "https://localhost:8080/"
        },
        "id": "5ssR0UhWdIIf",
        "outputId": "a81d481f-6e9b-4395-f5df-3fc9deb565e3"
      },
      "execution_count": null,
      "outputs": [
        {
          "output_type": "stream",
          "name": "stdout",
          "text": [
            "UzaPoint highest scores:                                               content reviewCreatedVersion  \\\n",
            "20  It's an amazing app.Whats makes it better is t...               1.16.5   \n",
            "41          Efficient and easy to use for my business               1.16.5   \n",
            "37  Excited to use Uzapoint. The e-commerce platfo...               1.16.5   \n",
            "55  What a wonderful system, since I started Uzapo...               1.16.5   \n",
            "54                   The best POS so far. Bookskenya.               1.16.5   \n",
            "\n",
            "    score                  at  thumbsUpCount  \n",
            "20      5 2022-11-27 21:27:11              0  \n",
            "41      5 2022-07-22 06:05:47              0  \n",
            "37      5 2022-07-20 06:43:06              0  \n",
            "55      5 2022-07-13 08:42:26              0  \n",
            "54      5 2022-07-13 08:01:51              0  \n"
          ]
        }
      ]
    },
    {
      "cell_type": "code",
      "source": [
        "medium_score = Uza_pointsort_data[Uza_pointsort_data[\"score\"] == 3]\n",
        "print(\"UzaPoint medium score:\", medium_score.head()) "
      ],
      "metadata": {
        "colab": {
          "base_uri": "https://localhost:8080/"
        },
        "id": "1BxHdwpQdILZ",
        "outputId": "8e4290e8-b538-4bad-b9fa-b8d1606f17b9"
      },
      "execution_count": null,
      "outputs": [
        {
          "output_type": "stream",
          "name": "stdout",
          "text": [
            "UzaPoint medium score: Empty DataFrame\n",
            "Columns: [content, reviewCreatedVersion, score, at, thumbsUpCount]\n",
            "Index: []\n"
          ]
        }
      ]
    },
    {
      "cell_type": "code",
      "source": [
        "print(Uza_pointsort_data.reviewCreatedVersion.nunique())\n",
        "print(Uza_pointsort_data.reviewCreatedVersion.unique())\n",
        "print(Uza_pointsort_data.reviewCreatedVersion.value_counts())"
      ],
      "metadata": {
        "colab": {
          "base_uri": "https://localhost:8080/"
        },
        "id": "HE9yap4vdIOE",
        "outputId": "a8e84658-2187-4a5c-93eb-0f7987a0722b"
      },
      "execution_count": null,
      "outputs": [
        {
          "output_type": "stream",
          "name": "stdout",
          "text": [
            "22\n",
            "['1.16.5' None '1.16.3' '1.16.4' '1.15.3' '1.15.2' '1.15.0' '1.7.0'\n",
            " '1.11.0' '1.10.3' '1.8.0' '1.6.1' '1.6.0' '1.5.0' '1.3.1' '1.1.41'\n",
            " '1.1.1' '1.1.0' '1.0.9' '1.0.8' '1.0.4' '1.0.2' '1.0.0']\n",
            "1.16.5    18\n",
            "1.15.2     5\n",
            "1.16.4     3\n",
            "1.15.3     3\n",
            "1.15.0     3\n",
            "1.0.2      3\n",
            "1.0.9      2\n",
            "1.6.1      2\n",
            "1.16.3     2\n",
            "1.1.0      2\n",
            "1.3.1      2\n",
            "1.1.1      1\n",
            "1.0.4      1\n",
            "1.0.8      1\n",
            "1.6.0      1\n",
            "1.1.41     1\n",
            "1.5.0      1\n",
            "1.8.0      1\n",
            "1.10.3     1\n",
            "1.11.0     1\n",
            "1.7.0      1\n",
            "1.0.0      1\n",
            "Name: reviewCreatedVersion, dtype: int64\n"
          ]
        }
      ]
    },
    {
      "cell_type": "code",
      "source": [
        "# Find out average of all ratings for each unique version and check which version received highest average rating.\n",
        "x = (Uza_pointsort_data.groupby('reviewCreatedVersion')['score'].mean())\n",
        "print(x)"
      ],
      "metadata": {
        "colab": {
          "base_uri": "https://localhost:8080/"
        },
        "id": "y776Z14AdIQx",
        "outputId": "a06f43e4-b64a-4fee-ed2c-6fec8d562cf0"
      },
      "execution_count": null,
      "outputs": [
        {
          "output_type": "stream",
          "name": "stdout",
          "text": [
            "reviewCreatedVersion\n",
            "1.0.0     5.000000\n",
            "1.0.2     5.000000\n",
            "1.0.4     5.000000\n",
            "1.0.8     5.000000\n",
            "1.0.9     5.000000\n",
            "1.1.0     5.000000\n",
            "1.1.1     5.000000\n",
            "1.1.41    5.000000\n",
            "1.10.3    5.000000\n",
            "1.11.0    5.000000\n",
            "1.15.0    5.000000\n",
            "1.15.2    5.000000\n",
            "1.15.3    5.000000\n",
            "1.16.3    5.000000\n",
            "1.16.4    5.000000\n",
            "1.16.5    4.611111\n",
            "1.3.1     5.000000\n",
            "1.5.0     5.000000\n",
            "1.6.0     5.000000\n",
            "1.6.1     5.000000\n",
            "1.7.0     5.000000\n",
            "1.8.0     5.000000\n",
            "Name: score, dtype: float64\n"
          ]
        }
      ]
    },
    {
      "cell_type": "code",
      "source": [
        "# Visualize data using histogram to determine if app is more positive reviews or negative reviews in terms of score\n",
        "plt.hist(Uza_pointsort_data['score'], bins = 5)\n",
        "plt.xlabel(\"score review\")\n",
        "plt.ylabel(\"frequency\")\n",
        "plt.title(\"UzaPoint score review Histogram\")\n",
        "plt.show()"
      ],
      "metadata": {
        "colab": {
          "base_uri": "https://localhost:8080/",
          "height": 295
        },
        "id": "tf7qiQBIdITy",
        "outputId": "6682f915-d193-4152-9961-907c9240d7eb"
      },
      "execution_count": null,
      "outputs": [
        {
          "output_type": "display_data",
          "data": {
            "text/plain": [
              "<Figure size 432x288 with 1 Axes>"
            ],
            "image/png": "[encoded data removed]"
          },
          "metadata": {
            "needs_background": "light"
          }
        }
      ]
    },
    {
      "cell_type": "markdown",
      "source": [
        "### **Data Pre-processing**"
      ],
      "metadata": {
        "id": "nJVylvpEKkj5"
      }
    },
    {
      "cell_type": "markdown",
      "source": [
        "1. Kopokopo\n",
        "2. Pesapal\n",
        "3. Paystack"
      ],
      "metadata": {
        "id": "anFkwTLeVhDo"
      }
    },
    {
      "cell_type": "markdown",
      "source": [
        "***Lowercasing***\n",
        "This is to maintain consistency of data\n"
      ],
      "metadata": {
        "id": "ZqznclmbKt30"
      }
    },
    {
      "cell_type": "code",
      "source": [
        "# check data type of content and change to str\n",
        "type(Kopo_koposort_data[\"content\"])"
      ],
      "metadata": {
        "colab": {
          "base_uri": "https://localhost:8080/"
        },
        "id": "vcx1pN0qiURV",
        "outputId": "ffea7543-71e8-4a99-a8ce-e033469cd700"
      },
      "execution_count": null,
      "outputs": [
        {
          "output_type": "execute_result",
          "data": {
            "text/plain": [
              "pandas.core.series.Series"
            ]
          },
          "metadata": {},
          "execution_count": 57
        }
      ]
    },
    {
      "cell_type": "code",
      "source": [
        "#convert to str\n",
        "Kopo_koposort_data['content'] = Kopo_koposort_data['content'].astype(str)\n",
        "print(Kopo_koposort_data['content'].head())"
      ],
      "metadata": {
        "colab": {
          "base_uri": "https://localhost:8080/"
        },
        "id": "eG7vGLVANVJF",
        "outputId": "7a806ec3-725d-4297-a32f-c3f1efabce13"
      },
      "execution_count": null,
      "outputs": [
        {
          "output_type": "stream",
          "name": "stdout",
          "text": [
            "163    New year challenge. Add push notifications to ...\n",
            "0      This new app is not user friendly, to complica...\n",
            "63     I like how you communicate and also your loan ...\n",
            "171                                        Good services\n",
            "145                                       So far so good\n",
            "Name: content, dtype: object\n"
          ]
        }
      ]
    },
    {
      "cell_type": "markdown",
      "source": [
        "we note that some of the words are in caps hence leading to inconsistency"
      ],
      "metadata": {
        "id": "xe2_0DcfQ4eQ"
      }
    },
    {
      "cell_type": "code",
      "source": [
        "#Lowercase all reviews\n",
        "Kopo_koposort_data['content'] = Kopo_koposort_data['content'].apply(lambda x: x.lower())\n",
        "print(Kopo_koposort_data['content'].head()) # to see the difference"
      ],
      "metadata": {
        "colab": {
          "base_uri": "https://localhost:8080/"
        },
        "id": "JbEKs1ClQBmc",
        "outputId": "12e385b5-b75b-41c7-97a5-d3deb5c412cc"
      },
      "execution_count": null,
      "outputs": [
        {
          "output_type": "stream",
          "name": "stdout",
          "text": [
            "163    new year challenge. add push notifications to ...\n",
            "0      this new app is not user friendly, to complica...\n",
            "63     i like how you communicate and also your loan ...\n",
            "171                                        good services\n",
            "145                                       so far so good\n",
            "Name: content, dtype: object\n"
          ]
        }
      ]
    },
    {
      "cell_type": "markdown",
      "source": [
        "## **Emojis**"
      ],
      "metadata": {
        "id": "6PKLTq0_XQHL"
      }
    },
    {
      "cell_type": "markdown",
      "source": [
        "1. Kopokopo\n",
        "2. Pesapal\n",
        "3. Paystack"
      ],
      "metadata": {
        "id": "fU_xxCTYWVcf"
      }
    },
    {
      "cell_type": "markdown",
      "source": [
        "It is also important to remove emojis from data as it can sometimes create a problem with analysis further."
      ],
      "metadata": {
        "id": "CIavo1m8XVlP"
      }
    },
    {
      "cell_type": "code",
      "source": [
        "#check if there is any special character\n",
        "alphabet = string.ascii_letters+string.punctuation\n",
        "print(Kopo_koposort_data.content.str.strip(alphabet).astype(bool).any())\n",
        "\n",
        "extracted_emojis=[]\n",
        "\n",
        "def extract_emojis(s):\n",
        "  expe = re.compile('[\\U00010000-\\U0010ffff]', flags=re.UNICODE)\n",
        "  #return expe.findall(s)\n",
        "  return expe.sub(r'',s)\n",
        "\n",
        "\n",
        "for i in Kopo_koposort_data['content']:\n",
        "  #print(str(extract_emojis(y)))\n",
        "  extracted_emojis.append(str(extract_emojis(i)))\n",
        "\n",
        "print(extracted_emojis[100])    \n"
      ],
      "metadata": {
        "colab": {
          "base_uri": "https://localhost:8080/"
        },
        "id": "fbr6RQVvWEJW",
        "outputId": "8f6789cd-fc51-4283-d38a-f6a2ee920282"
      },
      "execution_count": null,
      "outputs": [
        {
          "output_type": "stream",
          "name": "stdout",
          "text": [
            "True\n",
            "great\n"
          ]
        }
      ]
    },
    {
      "cell_type": "markdown",
      "source": [
        "## **Stopwords**"
      ],
      "metadata": {
        "id": "thOaUnDxbrCN"
      }
    },
    {
      "cell_type": "markdown",
      "source": [
        "Removing stopwords can improve the performance to a great extent. Words such as myself, me , she, he , they , mine, you etc. When these words are removed only meaningful tokens are left."
      ],
      "metadata": {
        "id": "s6j2pua7b2Cc"
      }
    },
    {
      "cell_type": "markdown",
      "source": [
        "1. Kopokopo\n",
        "2. Pesapal\n",
        "3. Paystack"
      ],
      "metadata": {
        "id": "uZlBTzchWhtI"
      }
    },
    {
      "cell_type": "code",
      "source": [
        "# stop words\n",
        "stop_words = stopwords.words('english')\n",
        "Kopo_koposort_data[\"extracted_emojis\"] = extracted_emojis\n",
        "Kopo_koposort_data[\"extracted_emojis\"] = Kopo_koposort_data[\"extracted_emojis\"].apply(lambda x:x if x not in stop_words else None)\n",
        "print(Kopo_koposort_data['extracted_emojis'].head())"
      ],
      "metadata": {
        "colab": {
          "base_uri": "https://localhost:8080/"
        },
        "id": "KniI3hCxb6BA",
        "outputId": "96cd6ac6-4c59-472b-e249-77296452dfef"
      },
      "execution_count": null,
      "outputs": [
        {
          "output_type": "stream",
          "name": "stdout",
          "text": [
            "163    new year challenge. add push notifications to ...\n",
            "0      this new app is not user friendly, to complica...\n",
            "63     i like how you communicate and also your loan ...\n",
            "171                                        good services\n",
            "145                                       so far so good\n",
            "Name: extracted_emojis, dtype: object\n"
          ]
        }
      ]
    },
    {
      "cell_type": "markdown",
      "source": [
        "## **Stemming**"
      ],
      "metadata": {
        "id": "TnQsj_R3b04E"
      }
    },
    {
      "cell_type": "markdown",
      "source": [
        "Stemming is also an important process, it chops off the end of the word and transform the word into its root form. All suffixes like -s, -es, -ed, -ing are removed."
      ],
      "metadata": {
        "id": "h8E3vz0Ib1Es"
      }
    },
    {
      "cell_type": "markdown",
      "source": [
        "1. Kopokopo\n",
        "2. Pesapal\n",
        "3. Paystack"
      ],
      "metadata": {
        "id": "h0J97w90Wkzs"
      }
    },
    {
      "cell_type": "code",
      "source": [
        "from nltk.stem.snowball import PorterStemmer\n",
        "#stemming\n",
        "def stemming(x):\n",
        "  st = PorterStemmer()\n",
        "  if x is not None:\n",
        "    for word in x.split():\n",
        "      st.stem(word)\n",
        "\n",
        "\n",
        "Kopo_koposort_data['extracted_emojis'].apply(lambda x: stemming(x))\n",
        "print(Kopo_koposort_data['extracted_emojis'].head())      "
      ],
      "metadata": {
        "colab": {
          "base_uri": "https://localhost:8080/"
        },
        "id": "BpbyuN5kjFiW",
        "outputId": "fafd0874-84fa-4f44-f27f-e2369c228329"
      },
      "execution_count": null,
      "outputs": [
        {
          "output_type": "stream",
          "name": "stdout",
          "text": [
            "163    new year challenge. add push notifications to ...\n",
            "0      this new app is not user friendly, to complica...\n",
            "63     i like how you communicate and also your loan ...\n",
            "171                                        good services\n",
            "145                                       so far so good\n",
            "Name: extracted_emojis, dtype: object\n"
          ]
        }
      ]
    },
    {
      "cell_type": "markdown",
      "source": [
        "## **Sentiment Score**"
      ],
      "metadata": {
        "id": "DvGSVzARb1WG"
      }
    },
    {
      "cell_type": "markdown",
      "source": [
        "Each review will receive sentiment score"
      ],
      "metadata": {
        "id": "fD8H3cXKiQIF"
      }
    },
    {
      "cell_type": "markdown",
      "source": [
        "1. Kopokopo\n",
        "2. Pesapal\n",
        "3. Paystack"
      ],
      "metadata": {
        "id": "JhzChejpWnaQ"
      }
    },
    {
      "cell_type": "code",
      "source": [
        "#Function to calculate sentiment score for whole data set\n",
        "\n",
        "def senti_sc(x):\n",
        "    if x is not None:\n",
        "       return TextBlob(x).sentiment\n",
        "\n",
        "Kopo_koposort_data[\"Sentiment_score\"]= Kopo_koposort_data[\"extracted_emojis\"].apply(senti_sc)\n",
        "print(Kopo_koposort_data.loc[0:19,['extracted_emojis','Sentiment_score']])\n"
      ],
      "metadata": {
        "colab": {
          "base_uri": "https://localhost:8080/"
        },
        "id": "lOjzhKhUbf-U",
        "outputId": "3091ed99-ba14-42e0-a275-409df71860fa"
      },
      "execution_count": null,
      "outputs": [
        {
          "output_type": "stream",
          "name": "stdout",
          "text": [
            "                                      extracted_emojis  \\\n",
            "0    this new app is not user friendly, to complica...   \n",
            "63   i like how you communicate and also your loan ...   \n",
            "171                                      good services   \n",
            "145                                     so far so good   \n",
            "170                                       good service   \n",
            "97                                   best for business   \n",
            "23   great app, withdrawals never take more than 5m...   \n",
            "96                              awesome app..jah guide   \n",
            "95                   most beneficial app in business..   \n",
            "165                                      quite useful.   \n",
            "73   it is a nice till i recommend other investors ...   \n",
            "15   very useless app, how can i be transacting my ...   \n",
            "167                                       very useless   \n",
            "30   its a very fast approaching app it's much easi...   \n",
            "8    very slow app very very disappointing app i ca...   \n",
            "166                                              good.   \n",
            "42   convient lender but very high interest percent...   \n",
            "71   i have given it one star still havent received...   \n",
            "29   fast, reliable and effective upto date record ...   \n",
            "1    ultimate solution for business payments. you c...   \n",
            "168                                           the best   \n",
            "33   it is business friendly, convenient and easy t...   \n",
            "38   very high interest rates, not good for a small...   \n",
            "111                                 nice but expensive   \n",
            "173                                            perfect   \n",
            "299                                              trash   \n",
            "32   fantastic app but your interest rates on the g...   \n",
            "172                                            awesome   \n",
            "16   it's a good app for tracking your payments, ea...   \n",
            "72   thanks alot to kopokopo company at large for y...   \n",
            "108               useless,can't even create an account   \n",
            "22   nice but high interest rate.if these rates wou...   \n",
            "164                                   very convenient    \n",
            "70   the app is okay bt some get advance within fir...   \n",
            "34   best of all lending apps,enough money with fri...   \n",
            "103  ncy business account it give first loan 250,00...   \n",
            "55   very efficient and customer care responds very...   \n",
            "107                       the best growing back so far   \n",
            "175                                       loan process   \n",
            "143                              have recommended more   \n",
            "174                                          marvelous   \n",
            "75   the best app thats happened to my business, fo...   \n",
            "109                             great customer service   \n",
            "169                                               good   \n",
            "6    easy to use, multiple customer friendly featur...   \n",
            "31   the app is good but you need to improve the lo...   \n",
            "138                                        easy to use   \n",
            "162                                       the best eva   \n",
            "45   a new user and i'm already thinking of ditchin...   \n",
            "90   the best lipa na mpesa platform...offers loan ...   \n",
            "160                                  convinient to use   \n",
            "144                    well....services are affordable   \n",
            "19   your app is slow nd very difficult to use. it ...   \n",
            "\n",
            "                                Sentiment_score  \n",
            "0     (0.17533670033670035, 0.6616161616161615)  \n",
            "63                                   (0.0, 0.0)  \n",
            "171                   (0.7, 0.6000000000000001)  \n",
            "145                  (0.39999999999999997, 0.8)  \n",
            "170                   (0.7, 0.6000000000000001)  \n",
            "97                                   (1.0, 0.3)  \n",
            "23    (0.44000000000000006, 0.5900000000000001)  \n",
            "96                                   (1.0, 1.0)  \n",
            "95                                   (0.5, 0.5)  \n",
            "165                                  (0.3, 0.0)  \n",
            "73                             (0.2375, 0.6875)  \n",
            "15   (-0.3283420138888889, 0.40284722222222225)  \n",
            "167                               (-0.65, 0.26)  \n",
            "30   (0.15333333333333335, 0.32666666666666666)  \n",
            "8                (-0.36750000000000005, 0.7075)  \n",
            "166                   (0.7, 0.6000000000000001)  \n",
            "42                 (0.20800000000000002, 0.702)  \n",
            "71                    (0.7, 0.6000000000000001)  \n",
            "29                                   (0.4, 0.7)  \n",
            "1      (0.2958333333333333, 0.6291666666666667)  \n",
            "168                                  (1.0, 0.3)  \n",
            "33     (0.3227777777777778, 0.6244444444444445)  \n",
            "38   (-0.13066666666666665, 0.5673333333333334)  \n",
            "111                 (0.04999999999999999, 0.85)  \n",
            "173                                  (1.0, 1.0)  \n",
            "299                                  (0.0, 0.0)  \n",
            "32                                   (1.0, 0.9)  \n",
            "172                                  (1.0, 1.0)  \n",
            "16    (0.43111111111111106, 0.6577777777777779)  \n",
            "72     (0.1603896103896104, 0.5435064935064935)  \n",
            "108                                  (0.0, 0.0)  \n",
            "22    (0.44111111111111106, 0.8466666666666667)  \n",
            "164                                  (0.2, 0.3)  \n",
            "70    (0.20555555555555557, 0.4777777777777777)  \n",
            "34                                (0.6875, 0.4)  \n",
            "103                  (0.25, 0.3333333333333333)  \n",
            "55                                 (0.23, 0.54)  \n",
            "107   (0.3666666666666667, 0.43333333333333335)  \n",
            "175                                  (0.0, 0.0)  \n",
            "143                                  (0.5, 0.5)  \n",
            "174                                  (1.0, 1.0)  \n",
            "75                                   (1.0, 0.3)  \n",
            "109                                 (0.8, 0.75)  \n",
            "169                   (0.7, 0.6000000000000001)  \n",
            "6      (0.4216666666666667, 0.5366666666666667)  \n",
            "31                    (0.7, 0.6000000000000001)  \n",
            "138   (0.43333333333333335, 0.8333333333333334)  \n",
            "162                                  (1.0, 0.3)  \n",
            "45    (0.06026936026936026, 0.3478114478114478)  \n",
            "90                  (0.85, 0.45000000000000007)  \n",
            "160                                  (0.0, 0.0)  \n",
            "144                                  (0.0, 0.0)  \n",
            "19    (-0.4138888888888889, 0.6472222222222221)  \n"
          ]
        }
      ]
    },
    {
      "cell_type": "code",
      "source": [
        "#for i in \n",
        "Kopo_koposort_data['Sentiment_score'][0]"
      ],
      "metadata": {
        "colab": {
          "base_uri": "https://localhost:8080/"
        },
        "id": "Ir0RMrJJkp7D",
        "outputId": "c0870531-9ba8-4def-ac46-ce90c323e559"
      },
      "execution_count": null,
      "outputs": [
        {
          "output_type": "execute_result",
          "data": {
            "text/plain": [
              "Sentiment(polarity=0.17533670033670035, subjectivity=0.6616161616161615)"
            ]
          },
          "metadata": {},
          "execution_count": 64
        }
      ]
    },
    {
      "cell_type": "code",
      "source": [
        "from textblob.en import subjectivity\n",
        "polarity=[]\n",
        "subjectivity = []\n",
        "for i in Kopo_koposort_data['extracted_emojis'].values:\n",
        "  try:\n",
        "    analysis = TextBlob(i)\n",
        "    polarity.append(analysis.sentiment.polarity)\n",
        "    subjectivity.append(analysis.sentiment.subjectivity)\n",
        "    \n",
        "  except:\n",
        "     polarity.append(0)\n",
        "     subjectivity.append(0) \n"
      ],
      "metadata": {
        "id": "HY0z2_ibyUOm"
      },
      "execution_count": null,
      "outputs": []
    },
    {
      "cell_type": "code",
      "source": [
        "Kopo_koposort_data['polarity'] = polarity\n",
        "Kopo_koposort_data['subjectivity'] = subjectivity"
      ],
      "metadata": {
        "id": "wEP0BrnU57c9"
      },
      "execution_count": null,
      "outputs": []
    },
    {
      "cell_type": "code",
      "source": [
        "conditions = [(Kopo_koposort_data['polarity'] < 0),(Kopo_koposort_data['polarity'] == 0),(Kopo_koposort_data['polarity'] > 0)]\n",
        "values = ['negative feedback', 'neutral feedback', 'positive feedback']\n",
        "Kopo_koposort_data['feedback'] = np.select(conditions,values)"
      ],
      "metadata": {
        "id": "QarbO3916omT"
      },
      "execution_count": null,
      "outputs": []
    },
    {
      "cell_type": "code",
      "source": [
        "Kopo_koposort_data[Kopo_koposort_data.polarity>0].head(10)"
      ],
      "metadata": {
        "colab": {
          "base_uri": "https://localhost:8080/",
          "height": 789
        },
        "id": "S0Xey7nZ6bvX",
        "outputId": "b6e26e8f-b4dc-4378-e5a8-4ad285d322e9"
      },
      "execution_count": null,
      "outputs": [
        {
          "output_type": "execute_result",
          "data": {
            "text/plain": [
              "                                               content reviewCreatedVersion  \\\n",
              "163  new year challenge. add push notifications to ...                6.0.0   \n",
              "0    this new app is not user friendly, to complica...                6.0.0   \n",
              "171                                      good services                5.3.0   \n",
              "145                                     so far so good                5.3.0   \n",
              "170                                       good service                5.3.0   \n",
              "97                                   best for business                5.3.0   \n",
              "23   great app, withdrawals never take more than 5m...                5.3.0   \n",
              "96                              awesome app..jah guide                5.3.0   \n",
              "95                   most beneficial app in business..                5.3.0   \n",
              "165                                      quite useful.                5.3.0   \n",
              "\n",
              "     score                  at  thumbsUpCount  \\\n",
              "163      4 2023-01-02 14:53:52              0   \n",
              "0        5 2022-12-30 19:29:44             71   \n",
              "171      5 2022-12-16 16:45:40              0   \n",
              "145      5 2022-12-16 06:24:05              0   \n",
              "170      5 2022-12-14 01:52:08              0   \n",
              "97       4 2022-12-13 12:17:31              0   \n",
              "23       5 2022-12-09 18:07:27              0   \n",
              "96       5 2022-12-08 07:10:18              0   \n",
              "95       5 2022-12-04 21:25:52              0   \n",
              "165      4 2022-12-04 15:23:28              0   \n",
              "\n",
              "                                      extracted_emojis  \\\n",
              "163  new year challenge. add push notifications to ...   \n",
              "0    this new app is not user friendly, to complica...   \n",
              "171                                      good services   \n",
              "145                                     so far so good   \n",
              "170                                       good service   \n",
              "97                                   best for business   \n",
              "23   great app, withdrawals never take more than 5m...   \n",
              "96                              awesome app..jah guide   \n",
              "95                   most beneficial app in business..   \n",
              "165                                      quite useful.   \n",
              "\n",
              "                                Sentiment_score  polarity  subjectivity  \\\n",
              "163  (0.13636363636363635, 0.45454545454545453)  0.136364      0.454545   \n",
              "0     (0.17533670033670035, 0.6616161616161615)  0.175337      0.661616   \n",
              "171                   (0.7, 0.6000000000000001)  0.700000      0.600000   \n",
              "145                  (0.39999999999999997, 0.8)  0.400000      0.800000   \n",
              "170                   (0.7, 0.6000000000000001)  0.700000      0.600000   \n",
              "97                                   (1.0, 0.3)  1.000000      0.300000   \n",
              "23    (0.44000000000000006, 0.5900000000000001)  0.440000      0.590000   \n",
              "96                                   (1.0, 1.0)  1.000000      1.000000   \n",
              "95                                   (0.5, 0.5)  0.500000      0.500000   \n",
              "165                                  (0.3, 0.0)  0.300000      0.000000   \n",
              "\n",
              "              feedback  \n",
              "163  positive feedback  \n",
              "0    positive feedback  \n",
              "171  positive feedback  \n",
              "145  positive feedback  \n",
              "170  positive feedback  \n",
              "97   positive feedback  \n",
              "23   positive feedback  \n",
              "96   positive feedback  \n",
              "95   positive feedback  \n",
              "165  positive feedback  "
            ],
            "text/html": [
              "\n",
              "  <div id=\"df-0ffe4721-3cd9-4ff0-b3f6-f29342c3c501\">\n",
              "    <div class=\"colab-df-container\">\n",
              "      <div>\n",
              "<style scoped>\n",
              "    .dataframe tbody tr th:only-of-type {\n",
              "        vertical-align: middle;\n",
              "    }\n",
              "\n",
              "    .dataframe tbody tr th {\n",
              "        vertical-align: top;\n",
              "    }\n",
              "\n",
              "    .dataframe thead th {\n",
              "        text-align: right;\n",
              "    }\n",
              "</style>\n",
              "<table border=\"1\" class=\"dataframe\">\n",
              "  <thead>\n",
              "    <tr style=\"text-align: right;\">\n",
              "      <th></th>\n",
              "      <th>content</th>\n",
              "      <th>reviewCreatedVersion</th>\n",
              "      <th>score</th>\n",
              "      <th>at</th>\n",
              "      <th>thumbsUpCount</th>\n",
              "      <th>extracted_emojis</th>\n",
              "      <th>Sentiment_score</th>\n",
              "      <th>polarity</th>\n",
              "      <th>subjectivity</th>\n",
              "      <th>feedback</th>\n",
              "    </tr>\n",
              "  </thead>\n",
              "  <tbody>\n",
              "    <tr>\n",
              "      <th>163</th>\n",
              "      <td>new year challenge. add push notifications to ...</td>\n",
              "      <td>6.0.0</td>\n",
              "      <td>4</td>\n",
              "      <td>2023-01-02 14:53:52</td>\n",
              "      <td>0</td>\n",
              "      <td>new year challenge. add push notifications to ...</td>\n",
              "      <td>(0.13636363636363635, 0.45454545454545453)</td>\n",
              "      <td>0.136364</td>\n",
              "      <td>0.454545</td>\n",
              "      <td>positive feedback</td>\n",
              "    </tr>\n",
              "    <tr>\n",
              "      <th>0</th>\n",
              "      <td>this new app is not user friendly, to complica...</td>\n",
              "      <td>6.0.0</td>\n",
              "      <td>5</td>\n",
              "      <td>2022-12-30 19:29:44</td>\n",
              "      <td>71</td>\n",
              "      <td>this new app is not user friendly, to complica...</td>\n",
              "      <td>(0.17533670033670035, 0.6616161616161615)</td>\n",
              "      <td>0.175337</td>\n",
              "      <td>0.661616</td>\n",
              "      <td>positive feedback</td>\n",
              "    </tr>\n",
              "    <tr>\n",
              "      <th>171</th>\n",
              "      <td>good services</td>\n",
              "      <td>5.3.0</td>\n",
              "      <td>5</td>\n",
              "      <td>2022-12-16 16:45:40</td>\n",
              "      <td>0</td>\n",
              "      <td>good services</td>\n",
              "      <td>(0.7, 0.6000000000000001)</td>\n",
              "      <td>0.700000</td>\n",
              "      <td>0.600000</td>\n",
              "      <td>positive feedback</td>\n",
              "    </tr>\n",
              "    <tr>\n",
              "      <th>145</th>\n",
              "      <td>so far so good</td>\n",
              "      <td>5.3.0</td>\n",
              "      <td>5</td>\n",
              "      <td>2022-12-16 06:24:05</td>\n",
              "      <td>0</td>\n",
              "      <td>so far so good</td>\n",
              "      <td>(0.39999999999999997, 0.8)</td>\n",
              "      <td>0.400000</td>\n",
              "      <td>0.800000</td>\n",
              "      <td>positive feedback</td>\n",
              "    </tr>\n",
              "    <tr>\n",
              "      <th>170</th>\n",
              "      <td>good service</td>\n",
              "      <td>5.3.0</td>\n",
              "      <td>5</td>\n",
              "      <td>2022-12-14 01:52:08</td>\n",
              "      <td>0</td>\n",
              "      <td>good service</td>\n",
              "      <td>(0.7, 0.6000000000000001)</td>\n",
              "      <td>0.700000</td>\n",
              "      <td>0.600000</td>\n",
              "      <td>positive feedback</td>\n",
              "    </tr>\n",
              "    <tr>\n",
              "      <th>97</th>\n",
              "      <td>best for business</td>\n",
              "      <td>5.3.0</td>\n",
              "      <td>4</td>\n",
              "      <td>2022-12-13 12:17:31</td>\n",
              "      <td>0</td>\n",
              "      <td>best for business</td>\n",
              "      <td>(1.0, 0.3)</td>\n",
              "      <td>1.000000</td>\n",
              "      <td>0.300000</td>\n",
              "      <td>positive feedback</td>\n",
              "    </tr>\n",
              "    <tr>\n",
              "      <th>23</th>\n",
              "      <td>great app, withdrawals never take more than 5m...</td>\n",
              "      <td>5.3.0</td>\n",
              "      <td>5</td>\n",
              "      <td>2022-12-09 18:07:27</td>\n",
              "      <td>0</td>\n",
              "      <td>great app, withdrawals never take more than 5m...</td>\n",
              "      <td>(0.44000000000000006, 0.5900000000000001)</td>\n",
              "      <td>0.440000</td>\n",
              "      <td>0.590000</td>\n",
              "      <td>positive feedback</td>\n",
              "    </tr>\n",
              "    <tr>\n",
              "      <th>96</th>\n",
              "      <td>awesome app..jah guide</td>\n",
              "      <td>5.3.0</td>\n",
              "      <td>5</td>\n",
              "      <td>2022-12-08 07:10:18</td>\n",
              "      <td>0</td>\n",
              "      <td>awesome app..jah guide</td>\n",
              "      <td>(1.0, 1.0)</td>\n",
              "      <td>1.000000</td>\n",
              "      <td>1.000000</td>\n",
              "      <td>positive feedback</td>\n",
              "    </tr>\n",
              "    <tr>\n",
              "      <th>95</th>\n",
              "      <td>most beneficial app in business..</td>\n",
              "      <td>5.3.0</td>\n",
              "      <td>5</td>\n",
              "      <td>2022-12-04 21:25:52</td>\n",
              "      <td>0</td>\n",
              "      <td>most beneficial app in business..</td>\n",
              "      <td>(0.5, 0.5)</td>\n",
              "      <td>0.500000</td>\n",
              "      <td>0.500000</td>\n",
              "      <td>positive feedback</td>\n",
              "    </tr>\n",
              "    <tr>\n",
              "      <th>165</th>\n",
              "      <td>quite useful.</td>\n",
              "      <td>5.3.0</td>\n",
              "      <td>4</td>\n",
              "      <td>2022-12-04 15:23:28</td>\n",
              "      <td>0</td>\n",
              "      <td>quite useful.</td>\n",
              "      <td>(0.3, 0.0)</td>\n",
              "      <td>0.300000</td>\n",
              "      <td>0.000000</td>\n",
              "      <td>positive feedback</td>\n",
              "    </tr>\n",
              "  </tbody>\n",
              "</table>\n",
              "</div>\n",
              "      <button class=\"colab-df-convert\" onclick=\"convertToInteractive('df-0ffe4721-3cd9-4ff0-b3f6-f29342c3c501')\"\n",
              "              title=\"Convert this dataframe to an interactive table.\"\n",
              "              style=\"display:none;\">\n",
              "        \n",
              "  <svg xmlns=\"http://www.w3.org/2000/svg\" height=\"24px\"viewBox=\"0 0 24 24\"\n",
              "       width=\"24px\">\n",
              "    <path d=\"M0 0h24v24H0V0z\" fill=\"none\"/>\n",
              "    <path d=\"M18.56 5.44l.94 2.06.94-2.06 2.06-.94-2.06-.94-.94-2.06-.94 2.06-2.06.94zm-11 1L8.5 8.5l.94-2.06 2.06-.94-2.06-.94L8.5 2.5l-.94 2.06-2.06.94zm10 10l.94 2.06.94-2.06 2.06-.94-2.06-.94-.94-2.06-.94 2.06-2.06.94z\"/><path d=\"M17.41 7.96l-1.37-1.37c-.4-.4-.92-.59-1.43-.59-.52 0-1.04.2-1.43.59L10.3 9.45l-7.72 7.72c-.78.78-.78 2.05 0 2.83L4 21.41c.39.39.9.59 1.41.59.51 0 1.02-.2 1.41-.59l7.78-7.78 2.81-2.81c.8-.78.8-2.07 0-2.86zM5.41 20L4 18.59l7.72-7.72 1.47 1.35L5.41 20z\"/>\n",
              "  </svg>\n",
              "      </button>\n",
              "      \n",
              "  <style>\n",
              "    .colab-df-container {\n",
              "      display:flex;\n",
              "      flex-wrap:wrap;\n",
              "      gap: 12px;\n",
              "    }\n",
              "\n",
              "    .colab-df-convert {\n",
              "      background-color: #E8F0FE;\n",
              "      border: none;\n",
              "      border-radius: 50%;\n",
              "      cursor: pointer;\n",
              "      display: none;\n",
              "      fill: #1967D2;\n",
              "      height: 32px;\n",
              "      padding: 0 0 0 0;\n",
              "      width: 32px;\n",
              "    }\n",
              "\n",
              "    .colab-df-convert:hover {\n",
              "      background-color: #E2EBFA;\n",
              "      box-shadow: 0px 1px 2px rgba(60, 64, 67, 0.3), 0px 1px 3px 1px rgba(60, 64, 67, 0.15);\n",
              "      fill: #174EA6;\n",
              "    }\n",
              "\n",
              "    [theme=dark] .colab-df-convert {\n",
              "      background-color: #3B4455;\n",
              "      fill: #D2E3FC;\n",
              "    }\n",
              "\n",
              "    [theme=dark] .colab-df-convert:hover {\n",
              "      background-color: #434B5C;\n",
              "      box-shadow: 0px 1px 3px 1px rgba(0, 0, 0, 0.15);\n",
              "      filter: drop-shadow(0px 1px 2px rgba(0, 0, 0, 0.3));\n",
              "      fill: #FFFFFF;\n",
              "    }\n",
              "  </style>\n",
              "\n",
              "      <script>\n",
              "        const buttonEl =\n",
              "          document.querySelector('#df-0ffe4721-3cd9-4ff0-b3f6-f29342c3c501 button.colab-df-convert');\n",
              "        buttonEl.style.display =\n",
              "          google.colab.kernel.accessAllowed ? 'block' : 'none';\n",
              "\n",
              "        async function convertToInteractive(key) {\n",
              "          const element = document.querySelector('#df-0ffe4721-3cd9-4ff0-b3f6-f29342c3c501');\n",
              "          const dataTable =\n",
              "            await google.colab.kernel.invokeFunction('convertToInteractive',\n",
              "                                                     [key], {});\n",
              "          if (!dataTable) return;\n",
              "\n",
              "          const docLinkHtml = 'Like what you see? Visit the ' +\n",
              "            '<a target=\"_blank\" href=https://colab.research.google.com/notebooks/data_table.ipynb>data table notebook</a>'\n",
              "            + ' to learn more about interactive tables.';\n",
              "          element.innerHTML = '';\n",
              "          dataTable['output_type'] = 'display_data';\n",
              "          await google.colab.output.renderOutput(dataTable, element);\n",
              "          const docLink = document.createElement('div');\n",
              "          docLink.innerHTML = docLinkHtml;\n",
              "          element.appendChild(docLink);\n",
              "        }\n",
              "      </script>\n",
              "    </div>\n",
              "  </div>\n",
              "  "
            ]
          },
          "metadata": {},
          "execution_count": 68
        }
      ]
    },
    {
      "cell_type": "markdown",
      "source": [
        "Subject matter of the negative feedbacks, what are some of the major compalints from customers"
      ],
      "metadata": {
        "id": "JtxmQdLEm6o7"
      }
    },
    {
      "cell_type": "code",
      "source": [
        "subject_matter = Kopo_koposort_data[Kopo_koposort_data.subjectivity>0.5]\n",
        "negative_subject_matter = subject_matter[subject_matter.polarity < 0]\n",
        "negative_subject_matter.head()"
      ],
      "metadata": {
        "colab": {
          "base_uri": "https://localhost:8080/",
          "height": 424
        },
        "id": "yqKxmAgakQbN",
        "outputId": "ded255b8-0409-4e47-a6d5-21077dfef88c"
      },
      "execution_count": null,
      "outputs": [
        {
          "output_type": "execute_result",
          "data": {
            "text/plain": [
              "                                              content reviewCreatedVersion  \\\n",
              "8   very slow app very very disappointing app i ca...                5.3.0   \n",
              "38  very high interest rates, not good for a small...                5.3.0   \n",
              "19  your app is slow nd very difficult to use. it ...                5.2.0   \n",
              "17  the new app is very slow, i can't see my total...                5.0.3   \n",
              "49  my only problem with kopokopo is that i can on...                5.0.3   \n",
              "\n",
              "    score                  at  thumbsUpCount  \\\n",
              "8       1 2022-11-04 16:59:12              5   \n",
              "38      1 2022-09-30 11:46:40              3   \n",
              "19      1 2022-04-22 07:31:10            134   \n",
              "17      1 2021-11-24 08:32:36             10   \n",
              "49      3 2021-11-11 07:21:19             22   \n",
              "\n",
              "                                     extracted_emojis  \\\n",
              "8   very slow app very very disappointing app i ca...   \n",
              "38  very high interest rates, not good for a small...   \n",
              "19  your app is slow nd very difficult to use. it ...   \n",
              "17  the new app is very slow, i can't see my total...   \n",
              "49  my only problem with kopokopo is that i can on...   \n",
              "\n",
              "                               Sentiment_score  polarity  subjectivity  \\\n",
              "8               (-0.36750000000000005, 0.7075) -0.367500      0.707500   \n",
              "38  (-0.13066666666666665, 0.5673333333333334) -0.130667      0.567333   \n",
              "19   (-0.4138888888888889, 0.6472222222222221) -0.413889      0.647222   \n",
              "17  (-0.01727272727272729, 0.5624242424242424) -0.017273      0.562424   \n",
              "49                         (-0.13125, 0.81875) -0.131250      0.818750   \n",
              "\n",
              "             feedback  \n",
              "8   negative feedback  \n",
              "38  negative feedback  \n",
              "19  negative feedback  \n",
              "17  negative feedback  \n",
              "49  negative feedback  "
            ],
            "text/html": [
              "\n",
              "  <div id=\"df-969fa645-16bf-4afd-ae27-5c1517d0b034\">\n",
              "    <div class=\"colab-df-container\">\n",
              "      <div>\n",
              "<style scoped>\n",
              "    .dataframe tbody tr th:only-of-type {\n",
              "        vertical-align: middle;\n",
              "    }\n",
              "\n",
              "    .dataframe tbody tr th {\n",
              "        vertical-align: top;\n",
              "    }\n",
              "\n",
              "    .dataframe thead th {\n",
              "        text-align: right;\n",
              "    }\n",
              "</style>\n",
              "<table border=\"1\" class=\"dataframe\">\n",
              "  <thead>\n",
              "    <tr style=\"text-align: right;\">\n",
              "      <th></th>\n",
              "      <th>content</th>\n",
              "      <th>reviewCreatedVersion</th>\n",
              "      <th>score</th>\n",
              "      <th>at</th>\n",
              "      <th>thumbsUpCount</th>\n",
              "      <th>extracted_emojis</th>\n",
              "      <th>Sentiment_score</th>\n",
              "      <th>polarity</th>\n",
              "      <th>subjectivity</th>\n",
              "      <th>feedback</th>\n",
              "    </tr>\n",
              "  </thead>\n",
              "  <tbody>\n",
              "    <tr>\n",
              "      <th>8</th>\n",
              "      <td>very slow app very very disappointing app i ca...</td>\n",
              "      <td>5.3.0</td>\n",
              "      <td>1</td>\n",
              "      <td>2022-11-04 16:59:12</td>\n",
              "      <td>5</td>\n",
              "      <td>very slow app very very disappointing app i ca...</td>\n",
              "      <td>(-0.36750000000000005, 0.7075)</td>\n",
              "      <td>-0.367500</td>\n",
              "      <td>0.707500</td>\n",
              "      <td>negative feedback</td>\n",
              "    </tr>\n",
              "    <tr>\n",
              "      <th>38</th>\n",
              "      <td>very high interest rates, not good for a small...</td>\n",
              "      <td>5.3.0</td>\n",
              "      <td>1</td>\n",
              "      <td>2022-09-30 11:46:40</td>\n",
              "      <td>3</td>\n",
              "      <td>very high interest rates, not good for a small...</td>\n",
              "      <td>(-0.13066666666666665, 0.5673333333333334)</td>\n",
              "      <td>-0.130667</td>\n",
              "      <td>0.567333</td>\n",
              "      <td>negative feedback</td>\n",
              "    </tr>\n",
              "    <tr>\n",
              "      <th>19</th>\n",
              "      <td>your app is slow nd very difficult to use. it ...</td>\n",
              "      <td>5.2.0</td>\n",
              "      <td>1</td>\n",
              "      <td>2022-04-22 07:31:10</td>\n",
              "      <td>134</td>\n",
              "      <td>your app is slow nd very difficult to use. it ...</td>\n",
              "      <td>(-0.4138888888888889, 0.6472222222222221)</td>\n",
              "      <td>-0.413889</td>\n",
              "      <td>0.647222</td>\n",
              "      <td>negative feedback</td>\n",
              "    </tr>\n",
              "    <tr>\n",
              "      <th>17</th>\n",
              "      <td>the new app is very slow, i can't see my total...</td>\n",
              "      <td>5.0.3</td>\n",
              "      <td>1</td>\n",
              "      <td>2021-11-24 08:32:36</td>\n",
              "      <td>10</td>\n",
              "      <td>the new app is very slow, i can't see my total...</td>\n",
              "      <td>(-0.01727272727272729, 0.5624242424242424)</td>\n",
              "      <td>-0.017273</td>\n",
              "      <td>0.562424</td>\n",
              "      <td>negative feedback</td>\n",
              "    </tr>\n",
              "    <tr>\n",
              "      <th>49</th>\n",
              "      <td>my only problem with kopokopo is that i can on...</td>\n",
              "      <td>5.0.3</td>\n",
              "      <td>3</td>\n",
              "      <td>2021-11-11 07:21:19</td>\n",
              "      <td>22</td>\n",
              "      <td>my only problem with kopokopo is that i can on...</td>\n",
              "      <td>(-0.13125, 0.81875)</td>\n",
              "      <td>-0.131250</td>\n",
              "      <td>0.818750</td>\n",
              "      <td>negative feedback</td>\n",
              "    </tr>\n",
              "  </tbody>\n",
              "</table>\n",
              "</div>\n",
              "      <button class=\"colab-df-convert\" onclick=\"convertToInteractive('df-969fa645-16bf-4afd-ae27-5c1517d0b034')\"\n",
              "              title=\"Convert this dataframe to an interactive table.\"\n",
              "              style=\"display:none;\">\n",
              "        \n",
              "  <svg xmlns=\"http://www.w3.org/2000/svg\" height=\"24px\"viewBox=\"0 0 24 24\"\n",
              "       width=\"24px\">\n",
              "    <path d=\"M0 0h24v24H0V0z\" fill=\"none\"/>\n",
              "    <path d=\"M18.56 5.44l.94 2.06.94-2.06 2.06-.94-2.06-.94-.94-2.06-.94 2.06-2.06.94zm-11 1L8.5 8.5l.94-2.06 2.06-.94-2.06-.94L8.5 2.5l-.94 2.06-2.06.94zm10 10l.94 2.06.94-2.06 2.06-.94-2.06-.94-.94-2.06-.94 2.06-2.06.94z\"/><path d=\"M17.41 7.96l-1.37-1.37c-.4-.4-.92-.59-1.43-.59-.52 0-1.04.2-1.43.59L10.3 9.45l-7.72 7.72c-.78.78-.78 2.05 0 2.83L4 21.41c.39.39.9.59 1.41.59.51 0 1.02-.2 1.41-.59l7.78-7.78 2.81-2.81c.8-.78.8-2.07 0-2.86zM5.41 20L4 18.59l7.72-7.72 1.47 1.35L5.41 20z\"/>\n",
              "  </svg>\n",
              "      </button>\n",
              "      \n",
              "  <style>\n",
              "    .colab-df-container {\n",
              "      display:flex;\n",
              "      flex-wrap:wrap;\n",
              "      gap: 12px;\n",
              "    }\n",
              "\n",
              "    .colab-df-convert {\n",
              "      background-color: #E8F0FE;\n",
              "      border: none;\n",
              "      border-radius: 50%;\n",
              "      cursor: pointer;\n",
              "      display: none;\n",
              "      fill: #1967D2;\n",
              "      height: 32px;\n",
              "      padding: 0 0 0 0;\n",
              "      width: 32px;\n",
              "    }\n",
              "\n",
              "    .colab-df-convert:hover {\n",
              "      background-color: #E2EBFA;\n",
              "      box-shadow: 0px 1px 2px rgba(60, 64, 67, 0.3), 0px 1px 3px 1px rgba(60, 64, 67, 0.15);\n",
              "      fill: #174EA6;\n",
              "    }\n",
              "\n",
              "    [theme=dark] .colab-df-convert {\n",
              "      background-color: #3B4455;\n",
              "      fill: #D2E3FC;\n",
              "    }\n",
              "\n",
              "    [theme=dark] .colab-df-convert:hover {\n",
              "      background-color: #434B5C;\n",
              "      box-shadow: 0px 1px 3px 1px rgba(0, 0, 0, 0.15);\n",
              "      filter: drop-shadow(0px 1px 2px rgba(0, 0, 0, 0.3));\n",
              "      fill: #FFFFFF;\n",
              "    }\n",
              "  </style>\n",
              "\n",
              "      <script>\n",
              "        const buttonEl =\n",
              "          document.querySelector('#df-969fa645-16bf-4afd-ae27-5c1517d0b034 button.colab-df-convert');\n",
              "        buttonEl.style.display =\n",
              "          google.colab.kernel.accessAllowed ? 'block' : 'none';\n",
              "\n",
              "        async function convertToInteractive(key) {\n",
              "          const element = document.querySelector('#df-969fa645-16bf-4afd-ae27-5c1517d0b034');\n",
              "          const dataTable =\n",
              "            await google.colab.kernel.invokeFunction('convertToInteractive',\n",
              "                                                     [key], {});\n",
              "          if (!dataTable) return;\n",
              "\n",
              "          const docLinkHtml = 'Like what you see? Visit the ' +\n",
              "            '<a target=\"_blank\" href=https://colab.research.google.com/notebooks/data_table.ipynb>data table notebook</a>'\n",
              "            + ' to learn more about interactive tables.';\n",
              "          element.innerHTML = '';\n",
              "          dataTable['output_type'] = 'display_data';\n",
              "          await google.colab.output.renderOutput(dataTable, element);\n",
              "          const docLink = document.createElement('div');\n",
              "          docLink.innerHTML = docLinkHtml;\n",
              "          element.appendChild(docLink);\n",
              "        }\n",
              "      </script>\n",
              "    </div>\n",
              "  </div>\n",
              "  "
            ]
          },
          "metadata": {},
          "execution_count": 69
        }
      ]
    },
    {
      "cell_type": "code",
      "source": [
        "print(Kopo_koposort_data['feedback'].value_counts(normalize=True))\n",
        "Feedback_rate =  Kopo_koposort_data['feedback'].value_counts(normalize=True).plot(kind=\"bar\")\n",
        "for i in Feedback_rate.patches:\n",
        "  Feedback_rate.annotate('{:.1f}'.format(i.get_height()), (i.get_x()+0.25, i.get_height()+0.01))\n",
        "plt.title('Kopo Kopo feedback rate')"
      ],
      "metadata": {
        "colab": {
          "base_uri": "https://localhost:8080/",
          "height": 451
        },
        "id": "QlReGYSM-s8d",
        "outputId": "c3145ceb-36ec-437a-c066-b148759404ad"
      },
      "execution_count": null,
      "outputs": [
        {
          "output_type": "stream",
          "name": "stdout",
          "text": [
            "positive feedback    0.625407\n",
            "neutral feedback     0.247557\n",
            "negative feedback    0.127036\n",
            "Name: feedback, dtype: float64\n"
          ]
        },
        {
          "output_type": "execute_result",
          "data": {
            "text/plain": [
              "Text(0.5, 1.0, 'Kopo Kopo feedback rate')"
            ]
          },
          "metadata": {},
          "execution_count": 70
        },
        {
          "output_type": "display_data",
          "data": {
            "text/plain": [
              "<Figure size 432x288 with 1 Axes>"
            ],
            "image/png": "[encoded data removed]"
          },
          "metadata": {
            "needs_background": "light"
          }
        }
      ]
    },
    {
      "cell_type": "code",
      "source": [
        "print(Kopo_koposort_data['feedback'].value_counts())\n",
        "Feedback_value = sns.countplot(x='feedback', data = Kopo_koposort_data)\n",
        "for i in Feedback_value.patches:\n",
        "  Feedback_value.annotate('{:.1f}'.format(i.get_height()), (i.get_x()+0.25, i.get_height()+0.01))\n",
        "plt.title('Kopo Kopo feedback count');"
      ],
      "metadata": {
        "colab": {
          "base_uri": "https://localhost:8080/",
          "height": 364
        },
        "id": "zpNddAUJ-3hF",
        "outputId": "8f0c194c-8da8-4c1f-e05c-1ef32424df44"
      },
      "execution_count": null,
      "outputs": [
        {
          "output_type": "stream",
          "name": "stdout",
          "text": [
            "positive feedback    192\n",
            "neutral feedback      76\n",
            "negative feedback     39\n",
            "Name: feedback, dtype: int64\n"
          ]
        },
        {
          "output_type": "display_data",
          "data": {
            "text/plain": [
              "<Figure size 432x288 with 1 Axes>"
            ],
            "image/png": "[encoded data removed]"
          },
          "metadata": {
            "needs_background": "light"
          }
        }
      ]
    },
    {
      "cell_type": "markdown",
      "source": [
        "# PESAPAL"
      ],
      "metadata": {
        "id": "u8ARz6osZNCi"
      }
    },
    {
      "cell_type": "code",
      "source": [
        "#convert to str\n",
        "PesaPalsort_data['content'] = PesaPalsort_data['content'].astype(str)\n",
        "print(PesaPalsort_data['content'].head())"
      ],
      "metadata": {
        "id": "ndzvgq73_cdR",
        "colab": {
          "base_uri": "https://localhost:8080/"
        },
        "outputId": "35d983a9-0bcf-4675-84a9-2793b56f435e"
      },
      "execution_count": null,
      "outputs": [
        {
          "output_type": "stream",
          "name": "stdout",
          "text": [
            "0     One of the best POs app, one improvement neede...\n",
            "19                             Uduma nzuri inarahisisha\n",
            "6     Pesapal ina saìdia wakati wowote ile unapoiita...\n",
            "3     Its a good app I wish it were available on des...\n",
            "2     The app is nice but anytime I try selling on c...\n",
            "Name: content, dtype: object\n"
          ]
        }
      ]
    },
    {
      "cell_type": "code",
      "source": [
        "#Lowercase all reviews\n",
        "PesaPalsort_data['content'] = PesaPalsort_data['content'].apply(lambda x: x.lower())\n",
        "print(PesaPalsort_data['content'].head()) # to see the difference"
      ],
      "metadata": {
        "colab": {
          "base_uri": "https://localhost:8080/"
        },
        "id": "s2voCn05ZjQS",
        "outputId": "35f6a505-7643-473e-8b94-5ad8b1ec70fe"
      },
      "execution_count": null,
      "outputs": [
        {
          "output_type": "stream",
          "name": "stdout",
          "text": [
            "0     one of the best pos app, one improvement neede...\n",
            "19                             uduma nzuri inarahisisha\n",
            "6     pesapal ina saìdia wakati wowote ile unapoiita...\n",
            "3     its a good app i wish it were available on des...\n",
            "2     the app is nice but anytime i try selling on c...\n",
            "Name: content, dtype: object\n"
          ]
        }
      ]
    },
    {
      "cell_type": "code",
      "source": [
        "#check if there is any special character\n",
        "alphabet = string.ascii_letters+string.punctuation\n",
        "print(PesaPalsort_data.content.str.strip(alphabet).astype(bool).any())\n",
        "\n",
        "extracted_emojis=[]\n",
        "\n",
        "def extract_emojis(s):\n",
        "  expe = re.compile('[\\U00010000-\\U0010ffff]', flags=re.UNICODE)\n",
        "  #return expe.findall(s)\n",
        "  return expe.sub(r'',s)\n",
        "\n",
        "\n",
        "for i in PesaPalsort_data['content']:\n",
        "  #print(str(extract_emojis(y)))\n",
        "  extracted_emojis.append(str(extract_emojis(i)))\n",
        "\n",
        "print(extracted_emojis[10]) "
      ],
      "metadata": {
        "colab": {
          "base_uri": "https://localhost:8080/"
        },
        "id": "kFq1GSwzZjec",
        "outputId": "83dc4771-caee-4acc-ed62-c47ef05a010d"
      },
      "execution_count": null,
      "outputs": [
        {
          "output_type": "stream",
          "name": "stdout",
          "text": [
            "True\n",
            "the director of this program is darafu very good boy\n"
          ]
        }
      ]
    },
    {
      "cell_type": "code",
      "source": [
        "# stop words\n",
        "stop_words = stopwords.words('english')\n",
        "PesaPalsort_data[\"extracted_emojis\"] = extracted_emojis\n",
        "PesaPalsort_data[\"extracted_emojis\"] = PesaPalsort_data[\"extracted_emojis\"].apply(lambda x:x if x not in stop_words else None)\n",
        "print(PesaPalsort_data['extracted_emojis'].head())"
      ],
      "metadata": {
        "colab": {
          "base_uri": "https://localhost:8080/"
        },
        "id": "n5L7tUrrZjq6",
        "outputId": "6f44503f-0b5b-43a6-b44b-12bb09807d2a"
      },
      "execution_count": null,
      "outputs": [
        {
          "output_type": "stream",
          "name": "stdout",
          "text": [
            "0     one of the best pos app, one improvement neede...\n",
            "19                             uduma nzuri inarahisisha\n",
            "6     pesapal ina saìdia wakati wowote ile unapoiita...\n",
            "3     its a good app i wish it were available on des...\n",
            "2     the app is nice but anytime i try selling on c...\n",
            "Name: extracted_emojis, dtype: object\n"
          ]
        }
      ]
    },
    {
      "cell_type": "code",
      "source": [
        "from nltk.stem.snowball import PorterStemmer\n",
        "#stemming\n",
        "def stemming(x):\n",
        "  st = PorterStemmer()\n",
        "  if x is not None:\n",
        "    for word in x.split():\n",
        "      st.stem(word)\n",
        "\n",
        "\n",
        "PesaPalsort_data['extracted_emojis'].apply(lambda x: stemming(x))\n",
        "print(PesaPalsort_data['extracted_emojis'].head())   "
      ],
      "metadata": {
        "colab": {
          "base_uri": "https://localhost:8080/"
        },
        "id": "okDQVW9KZj4t",
        "outputId": "7d4c8ef8-62b6-476c-d533-45d467dba01f"
      },
      "execution_count": null,
      "outputs": [
        {
          "output_type": "stream",
          "name": "stdout",
          "text": [
            "0     one of the best pos app, one improvement neede...\n",
            "19                             uduma nzuri inarahisisha\n",
            "6     pesapal ina saìdia wakati wowote ile unapoiita...\n",
            "3     its a good app i wish it were available on des...\n",
            "2     the app is nice but anytime i try selling on c...\n",
            "Name: extracted_emojis, dtype: object\n"
          ]
        }
      ]
    },
    {
      "cell_type": "code",
      "source": [
        "#Function to calculate sentiment score for whole data set\n",
        "\n",
        "def senti_sc(x):\n",
        "    if x is not None:\n",
        "       return TextBlob(x).sentiment\n",
        "\n",
        "PesaPalsort_data[\"Sentiment_score\"]= PesaPalsort_data[\"extracted_emojis\"].apply(senti_sc)\n",
        "print(PesaPalsort_data.loc[0:19,['extracted_emojis','Sentiment_score']])"
      ],
      "metadata": {
        "colab": {
          "base_uri": "https://localhost:8080/"
        },
        "id": "Qycl9K90ZkFp",
        "outputId": "cf5bfda3-67a6-4af2-d3ee-4d40aedbaeda"
      },
      "execution_count": null,
      "outputs": [
        {
          "output_type": "stream",
          "name": "stdout",
          "text": [
            "                                     extracted_emojis Sentiment_score\n",
            "0   one of the best pos app, one improvement neede...    (0.3, 0.375)\n",
            "19                           uduma nzuri inarahisisha      (0.0, 0.0)\n"
          ]
        }
      ]
    },
    {
      "cell_type": "code",
      "source": [
        "from textblob.en import subjectivity\n",
        "polarity=[]\n",
        "subjectivity = []\n",
        "for i in PesaPalsort_data['extracted_emojis'].values:\n",
        "  try:\n",
        "    analysis = TextBlob(i)\n",
        "    polarity.append(analysis.sentiment.polarity)\n",
        "    subjectivity.append(analysis.sentiment.subjectivity)\n",
        "    \n",
        "  except:\n",
        "     polarity.append(0)\n",
        "     subjectivity.append(0) "
      ],
      "metadata": {
        "id": "4zLpTemzZkSS"
      },
      "execution_count": null,
      "outputs": []
    },
    {
      "cell_type": "code",
      "source": [
        "PesaPalsort_data['polarity'] = polarity\n",
        "PesaPalsort_data['subjectivity'] = subjectivity"
      ],
      "metadata": {
        "id": "FRfqgh8hZkfd"
      },
      "execution_count": null,
      "outputs": []
    },
    {
      "cell_type": "code",
      "source": [
        "conditions = [(PesaPalsort_data['polarity'] < 0),(PesaPalsort_data['polarity'] == 0),(PesaPalsort_data['polarity'] > 0)]\n",
        "values = ['negative feedback', 'neutral feedback', 'positive feedback']\n",
        "PesaPalsort_data['feedback'] = np.select(conditions,values)"
      ],
      "metadata": {
        "id": "RpCkq5_VZkrR"
      },
      "execution_count": null,
      "outputs": []
    },
    {
      "cell_type": "code",
      "source": [
        "(PesaPalsort_data['subjectivity'] > 0).head()"
      ],
      "metadata": {
        "colab": {
          "base_uri": "https://localhost:8080/"
        },
        "id": "2xcgwho8jGtl",
        "outputId": "8048e07f-f106-4633-f1bc-7602a09d9027"
      },
      "execution_count": null,
      "outputs": [
        {
          "output_type": "execute_result",
          "data": {
            "text/plain": [
              "0      True\n",
              "19    False\n",
              "6     False\n",
              "3      True\n",
              "2      True\n",
              "Name: subjectivity, dtype: bool"
            ]
          },
          "metadata": {},
          "execution_count": 81
        }
      ]
    },
    {
      "cell_type": "code",
      "source": [
        "subject_matter = PesaPalsort_data[PesaPalsort_data.subjectivity>0.5]\n",
        "negative_subject_matter = subject_matter[subject_matter.polarity < 0]\n",
        "negative_subject_matter.head()"
      ],
      "metadata": {
        "colab": {
          "base_uri": "https://localhost:8080/",
          "height": 49
        },
        "id": "zrvotz9lnV55",
        "outputId": "42c6de98-8e53-4e48-f391-c9c122d00e07"
      },
      "execution_count": null,
      "outputs": [
        {
          "output_type": "execute_result",
          "data": {
            "text/plain": [
              "Empty DataFrame\n",
              "Columns: [content, reviewCreatedVersion, score, at, thumbsUpCount, extracted_emojis, Sentiment_score, polarity, subjectivity, feedback]\n",
              "Index: []"
            ],
            "text/html": [
              "\n",
              "  <div id=\"df-83a23f0c-8704-438b-9970-7da5a33d2d8a\">\n",
              "    <div class=\"colab-df-container\">\n",
              "      <div>\n",
              "<style scoped>\n",
              "    .dataframe tbody tr th:only-of-type {\n",
              "        vertical-align: middle;\n",
              "    }\n",
              "\n",
              "    .dataframe tbody tr th {\n",
              "        vertical-align: top;\n",
              "    }\n",
              "\n",
              "    .dataframe thead th {\n",
              "        text-align: right;\n",
              "    }\n",
              "</style>\n",
              "<table border=\"1\" class=\"dataframe\">\n",
              "  <thead>\n",
              "    <tr style=\"text-align: right;\">\n",
              "      <th></th>\n",
              "      <th>content</th>\n",
              "      <th>reviewCreatedVersion</th>\n",
              "      <th>score</th>\n",
              "      <th>at</th>\n",
              "      <th>thumbsUpCount</th>\n",
              "      <th>extracted_emojis</th>\n",
              "      <th>Sentiment_score</th>\n",
              "      <th>polarity</th>\n",
              "      <th>subjectivity</th>\n",
              "      <th>feedback</th>\n",
              "    </tr>\n",
              "  </thead>\n",
              "  <tbody>\n",
              "  </tbody>\n",
              "</table>\n",
              "</div>\n",
              "      <button class=\"colab-df-convert\" onclick=\"convertToInteractive('df-83a23f0c-8704-438b-9970-7da5a33d2d8a')\"\n",
              "              title=\"Convert this dataframe to an interactive table.\"\n",
              "              style=\"display:none;\">\n",
              "        \n",
              "  <svg xmlns=\"http://www.w3.org/2000/svg\" height=\"24px\"viewBox=\"0 0 24 24\"\n",
              "       width=\"24px\">\n",
              "    <path d=\"M0 0h24v24H0V0z\" fill=\"none\"/>\n",
              "    <path d=\"M18.56 5.44l.94 2.06.94-2.06 2.06-.94-2.06-.94-.94-2.06-.94 2.06-2.06.94zm-11 1L8.5 8.5l.94-2.06 2.06-.94-2.06-.94L8.5 2.5l-.94 2.06-2.06.94zm10 10l.94 2.06.94-2.06 2.06-.94-2.06-.94-.94-2.06-.94 2.06-2.06.94z\"/><path d=\"M17.41 7.96l-1.37-1.37c-.4-.4-.92-.59-1.43-.59-.52 0-1.04.2-1.43.59L10.3 9.45l-7.72 7.72c-.78.78-.78 2.05 0 2.83L4 21.41c.39.39.9.59 1.41.59.51 0 1.02-.2 1.41-.59l7.78-7.78 2.81-2.81c.8-.78.8-2.07 0-2.86zM5.41 20L4 18.59l7.72-7.72 1.47 1.35L5.41 20z\"/>\n",
              "  </svg>\n",
              "      </button>\n",
              "      \n",
              "  <style>\n",
              "    .colab-df-container {\n",
              "      display:flex;\n",
              "      flex-wrap:wrap;\n",
              "      gap: 12px;\n",
              "    }\n",
              "\n",
              "    .colab-df-convert {\n",
              "      background-color: #E8F0FE;\n",
              "      border: none;\n",
              "      border-radius: 50%;\n",
              "      cursor: pointer;\n",
              "      display: none;\n",
              "      fill: #1967D2;\n",
              "      height: 32px;\n",
              "      padding: 0 0 0 0;\n",
              "      width: 32px;\n",
              "    }\n",
              "\n",
              "    .colab-df-convert:hover {\n",
              "      background-color: #E2EBFA;\n",
              "      box-shadow: 0px 1px 2px rgba(60, 64, 67, 0.3), 0px 1px 3px 1px rgba(60, 64, 67, 0.15);\n",
              "      fill: #174EA6;\n",
              "    }\n",
              "\n",
              "    [theme=dark] .colab-df-convert {\n",
              "      background-color: #3B4455;\n",
              "      fill: #D2E3FC;\n",
              "    }\n",
              "\n",
              "    [theme=dark] .colab-df-convert:hover {\n",
              "      background-color: #434B5C;\n",
              "      box-shadow: 0px 1px 3px 1px rgba(0, 0, 0, 0.15);\n",
              "      filter: drop-shadow(0px 1px 2px rgba(0, 0, 0, 0.3));\n",
              "      fill: #FFFFFF;\n",
              "    }\n",
              "  </style>\n",
              "\n",
              "      <script>\n",
              "        const buttonEl =\n",
              "          document.querySelector('#df-83a23f0c-8704-438b-9970-7da5a33d2d8a button.colab-df-convert');\n",
              "        buttonEl.style.display =\n",
              "          google.colab.kernel.accessAllowed ? 'block' : 'none';\n",
              "\n",
              "        async function convertToInteractive(key) {\n",
              "          const element = document.querySelector('#df-83a23f0c-8704-438b-9970-7da5a33d2d8a');\n",
              "          const dataTable =\n",
              "            await google.colab.kernel.invokeFunction('convertToInteractive',\n",
              "                                                     [key], {});\n",
              "          if (!dataTable) return;\n",
              "\n",
              "          const docLinkHtml = 'Like what you see? Visit the ' +\n",
              "            '<a target=\"_blank\" href=https://colab.research.google.com/notebooks/data_table.ipynb>data table notebook</a>'\n",
              "            + ' to learn more about interactive tables.';\n",
              "          element.innerHTML = '';\n",
              "          dataTable['output_type'] = 'display_data';\n",
              "          await google.colab.output.renderOutput(dataTable, element);\n",
              "          const docLink = document.createElement('div');\n",
              "          docLink.innerHTML = docLinkHtml;\n",
              "          element.appendChild(docLink);\n",
              "        }\n",
              "      </script>\n",
              "    </div>\n",
              "  </div>\n",
              "  "
            ]
          },
          "metadata": {},
          "execution_count": 82
        }
      ]
    },
    {
      "cell_type": "code",
      "source": [
        "print(PesaPalsort_data['feedback'].value_counts(normalize=True))\n",
        "Feedback_rate =  PesaPalsort_data['feedback'].value_counts(normalize=True).plot(kind=\"bar\")\n",
        "for i in Feedback_rate.patches:\n",
        "  Feedback_rate.annotate('{:.1f}'.format(i.get_height()), (i.get_x()+0.25, i.get_height()+0.01))\n",
        "plt.title('PesaPal feedback rate')"
      ],
      "metadata": {
        "colab": {
          "base_uri": "https://localhost:8080/",
          "height": 428
        },
        "id": "fSDm3NU4Zk4T",
        "outputId": "fddab305-4e82-4197-fa69-719626f3e28e"
      },
      "execution_count": null,
      "outputs": [
        {
          "output_type": "stream",
          "name": "stdout",
          "text": [
            "positive feedback    0.571429\n",
            "neutral feedback     0.428571\n",
            "Name: feedback, dtype: float64\n"
          ]
        },
        {
          "output_type": "execute_result",
          "data": {
            "text/plain": [
              "Text(0.5, 1.0, 'PesaPal feedback rate')"
            ]
          },
          "metadata": {},
          "execution_count": 83
        },
        {
          "output_type": "display_data",
          "data": {
            "text/plain": [
              "<Figure size 432x288 with 1 Axes>"
            ],
            "image/png": "[encoded data removed]"
          },
          "metadata": {
            "needs_background": "light"
          }
        }
      ]
    },
    {
      "cell_type": "code",
      "source": [
        "print(PesaPalsort_data['feedback'].value_counts())\n",
        "Feedback_value = sns.countplot(x='feedback', data = PesaPalsort_data)\n",
        "for i in Feedback_value.patches:\n",
        "  Feedback_value.annotate('{:.1f}'.format(i.get_height()), (i.get_x()+0.25, i.get_height()+0.01))\n",
        "plt.title('PesaPal feedback count');"
      ],
      "metadata": {
        "colab": {
          "base_uri": "https://localhost:8080/",
          "height": 347
        },
        "id": "1u2Jh0xzacyf",
        "outputId": "d7c70eb1-87a5-42b8-afb7-7c79fcc47371"
      },
      "execution_count": null,
      "outputs": [
        {
          "output_type": "stream",
          "name": "stdout",
          "text": [
            "positive feedback    12\n",
            "neutral feedback      9\n",
            "Name: feedback, dtype: int64\n"
          ]
        },
        {
          "output_type": "display_data",
          "data": {
            "text/plain": [
              "<Figure size 432x288 with 1 Axes>"
            ],
            "image/png": "[encoded data removed]"
          },
          "metadata": {
            "needs_background": "light"
          }
        }
      ]
    },
    {
      "cell_type": "markdown",
      "source": [
        "## **PAYSTACK**"
      ],
      "metadata": {
        "id": "lHmOI3rfamn7"
      }
    },
    {
      "cell_type": "code",
      "source": [
        "#convert to str\n",
        "Paystacksort_data['content'] = Paystacksort_data['content'].astype(str)\n",
        "print(Paystacksort_data['content'].head())"
      ],
      "metadata": {
        "colab": {
          "base_uri": "https://localhost:8080/"
        },
        "id": "Eard-uBJap2q",
        "outputId": "1ae61ef3-79d3-4ba0-da93-951c8c9bc1f1"
      },
      "execution_count": null,
      "outputs": [
        {
          "output_type": "stream",
          "name": "stdout",
          "text": [
            "71                                      This app is good\n",
            "232                                   Really appreciated\n",
            "52     Kenya is missing on registration. I thought yo...\n",
            "152                                     Word conect game\n",
            "56            I give it 3 🌟 because it not working today\n",
            "Name: content, dtype: object\n"
          ]
        }
      ]
    },
    {
      "cell_type": "code",
      "source": [
        "#Lowercase all reviews\n",
        "Paystacksort_data['content'] = Paystacksort_data['content'].apply(lambda x: x.lower())\n",
        "print(Paystacksort_data['content'].head()) # to see the difference"
      ],
      "metadata": {
        "colab": {
          "base_uri": "https://localhost:8080/"
        },
        "id": "-22KZSNpa0Dv",
        "outputId": "3f5a5bc1-5907-4c5b-c3d8-671d879a4993"
      },
      "execution_count": null,
      "outputs": [
        {
          "output_type": "stream",
          "name": "stdout",
          "text": [
            "71                                      this app is good\n",
            "232                                   really appreciated\n",
            "52     kenya is missing on registration. i thought yo...\n",
            "152                                     word conect game\n",
            "56            i give it 3 🌟 because it not working today\n",
            "Name: content, dtype: object\n"
          ]
        }
      ]
    },
    {
      "cell_type": "code",
      "source": [
        "#check if there is any special character\n",
        "alphabet = string.ascii_letters+string.punctuation\n",
        "print(Paystacksort_data.content.str.strip(alphabet).astype(bool).any())\n",
        "\n",
        "extracted_emojis=[]\n",
        "\n",
        "def extract_emojis(s):\n",
        "  expe = re.compile('[\\U00010000-\\U0010ffff]', flags=re.UNICODE)\n",
        "  #return expe.findall(s)\n",
        "  return expe.sub(r'',s)\n",
        "\n",
        "\n",
        "for i in Paystacksort_data['content']:\n",
        "  #print(str(extract_emojis(y)))\n",
        "  extracted_emojis.append(str(extract_emojis(i)))\n",
        "\n",
        "print(extracted_emojis[10]) "
      ],
      "metadata": {
        "colab": {
          "base_uri": "https://localhost:8080/"
        },
        "id": "HPmkbjMMa0Is",
        "outputId": "bb3fe9ce-79da-479a-fd13-1eca529cf135"
      },
      "execution_count": null,
      "outputs": [
        {
          "output_type": "stream",
          "name": "stdout",
          "text": [
            "True\n",
            "there is a bug in this current update... i can't sign in, rather it takes me back to the creat account page...\n"
          ]
        }
      ]
    },
    {
      "cell_type": "code",
      "source": [
        "# stop words\n",
        "stop_words = stopwords.words('english')\n",
        "Paystacksort_data[\"extracted_emojis\"] = extracted_emojis\n",
        "Paystacksort_data[\"extracted_emojis\"] = Paystacksort_data[\"extracted_emojis\"].apply(lambda x:x if x not in stop_words else None)\n",
        "print(Paystacksort_data['extracted_emojis'].head())"
      ],
      "metadata": {
        "colab": {
          "base_uri": "https://localhost:8080/"
        },
        "id": "enPqZHx3a0MP",
        "outputId": "0f7969f2-1ea3-4d8b-eb18-6a06a56e0ff9"
      },
      "execution_count": null,
      "outputs": [
        {
          "output_type": "stream",
          "name": "stdout",
          "text": [
            "71                                      this app is good\n",
            "232                                   really appreciated\n",
            "52     kenya is missing on registration. i thought yo...\n",
            "152                                     word conect game\n",
            "56             i give it 3  because it not working today\n",
            "Name: extracted_emojis, dtype: object\n"
          ]
        }
      ]
    },
    {
      "cell_type": "code",
      "source": [
        "from nltk.stem.snowball import PorterStemmer\n",
        "#stemming\n",
        "def stemming(x):\n",
        "  st = PorterStemmer()\n",
        "  if x is not None:\n",
        "    for word in x.split():\n",
        "      st.stem(word)\n",
        "\n",
        "\n",
        "Paystacksort_data['extracted_emojis'].apply(lambda x: stemming(x))\n",
        "print(Paystacksort_data['extracted_emojis'].head())   "
      ],
      "metadata": {
        "colab": {
          "base_uri": "https://localhost:8080/"
        },
        "id": "33hmeL3La0Q3",
        "outputId": "b793efa1-1f80-4113-9e11-adb77d94d8f3"
      },
      "execution_count": null,
      "outputs": [
        {
          "output_type": "stream",
          "name": "stdout",
          "text": [
            "71                                      this app is good\n",
            "232                                   really appreciated\n",
            "52     kenya is missing on registration. i thought yo...\n",
            "152                                     word conect game\n",
            "56             i give it 3  because it not working today\n",
            "Name: extracted_emojis, dtype: object\n"
          ]
        }
      ]
    },
    {
      "cell_type": "code",
      "source": [
        "#Function to calculate sentiment score for whole data set\n",
        "\n",
        "def senti_sc(x):\n",
        "    if x is not None:\n",
        "       return TextBlob(x).sentiment\n",
        "\n",
        "Paystacksort_data[\"Sentiment_score\"]= Paystacksort_data[\"extracted_emojis\"].apply(senti_sc)\n",
        "print(Paystacksort_data.loc[0:19,['extracted_emojis','Sentiment_score']])"
      ],
      "metadata": {
        "colab": {
          "base_uri": "https://localhost:8080/"
        },
        "id": "H1svW7iVa0VS",
        "outputId": "8a9fc1a1-74c9-4b9b-e3a5-72af6a15fe21"
      },
      "execution_count": null,
      "outputs": [
        {
          "output_type": "stream",
          "name": "stdout",
          "text": [
            "                                      extracted_emojis  \\\n",
            "0    please this updated version is really giving m...   \n",
            "59   it's good just the biometric login is not work...   \n",
            "18   the refund button is not working. what is wron...   \n",
            "117  paystach pls what is wrong today? i have a gam...   \n",
            "235                                               good   \n",
            "19   very useless app , app is supposed to have its...   \n",
            "\n",
            "                               Sentiment_score  \n",
            "0                             (-0.05, 0.30625)  \n",
            "59                   (0.7, 0.6000000000000001)  \n",
            "18    (0.2333333333333333, 0.7000000000000001)  \n",
            "117                              (-0.55, 0.72)  \n",
            "235                  (0.7, 0.6000000000000001)  \n",
            "19   (-0.0666666666666667, 0.4033333333333333)  \n"
          ]
        }
      ]
    },
    {
      "cell_type": "code",
      "source": [
        "from textblob.en import subjectivity\n",
        "polarity=[]\n",
        "subjectivity = []\n",
        "for i in Paystacksort_data['extracted_emojis'].values:\n",
        "  try:\n",
        "    analysis = TextBlob(i)\n",
        "    polarity.append(analysis.sentiment.polarity)\n",
        "    subjectivity.append(analysis.sentiment.subjectivity)\n",
        "    \n",
        "  except:\n",
        "     polarity.append(0)\n",
        "     subjectivity.append(0) "
      ],
      "metadata": {
        "id": "w1peWSl4a0Yt"
      },
      "execution_count": null,
      "outputs": []
    },
    {
      "cell_type": "code",
      "source": [
        "Paystacksort_data['polarity'] = polarity\n",
        "Paystacksort_data['subjectivity'] = subjectivity"
      ],
      "metadata": {
        "id": "UNNQQ-KNbTQx"
      },
      "execution_count": null,
      "outputs": []
    },
    {
      "cell_type": "code",
      "source": [
        "conditions = [(Paystacksort_data['polarity'] < 0),(Paystacksort_data['polarity'] == 0),(Paystacksort_data['polarity'] > 0)]\n",
        "values = ['negative feedback', 'neutral feedback', 'positive feedback']\n",
        "Paystacksort_data['feedback'] = np.select(conditions,values)"
      ],
      "metadata": {
        "id": "UymIVi2FbTTw"
      },
      "execution_count": null,
      "outputs": []
    },
    {
      "cell_type": "markdown",
      "source": [
        "Subject matter on the negative feedbacks "
      ],
      "metadata": {
        "id": "YDhMt7jnnzT-"
      }
    },
    {
      "cell_type": "code",
      "source": [
        "subject_matter = Paystacksort_data[Paystacksort_data.subjectivity>0.5]\n",
        "negative_subject_matter = subject_matter[subject_matter.polarity < 0]\n",
        "negative_subject_matter.head()"
      ],
      "metadata": {
        "colab": {
          "base_uri": "https://localhost:8080/",
          "height": 424
        },
        "id": "iVv-o3LmnlOK",
        "outputId": "dba58802-8009-4b90-b143-4beae5f40a69"
      },
      "execution_count": null,
      "outputs": [
        {
          "output_type": "execute_result",
          "data": {
            "text/plain": [
              "                                               content reviewCreatedVersion  \\\n",
              "1    after creating an account in the app i could n...                1.9.3   \n",
              "117  paystach pls what is wrong today? i have a gam...                1.8.3   \n",
              "17   i'm disappointed..i made a payment to an opay ...                1.8.3   \n",
              "234                                 terrible platform.                1.8.3   \n",
              "13   it's more than one week now since paystack blo...                1.8.3   \n",
              "\n",
              "     score                  at  thumbsUpCount  \\\n",
              "1        1 2022-11-19 11:32:25              3   \n",
              "117      1 2022-10-26 10:23:30              0   \n",
              "17       1 2022-10-18 21:03:34              1   \n",
              "234      1 2022-08-29 17:17:46              0   \n",
              "13       1 2022-08-22 03:23:40              6   \n",
              "\n",
              "                                      extracted_emojis  \\\n",
              "1    after creating an account in the app i could n...   \n",
              "117  paystach pls what is wrong today? i have a gam...   \n",
              "17   i'm disappointed..i made a payment to an opay ...   \n",
              "234                                 terrible platform.   \n",
              "13   it's more than one week now since paystack blo...   \n",
              "\n",
              "                                Sentiment_score  polarity  subjectivity  \\\n",
              "1                                 (-0.52, 0.78)     -0.52      0.780000   \n",
              "117                               (-0.55, 0.72)     -0.55      0.720000   \n",
              "17    (-0.1499999999999999, 0.7833333333333333)     -0.15      0.783333   \n",
              "234                                 (-1.0, 1.0)     -1.00      1.000000   \n",
              "13   (-0.10000000000000002, 0.5666666666666667)     -0.10      0.566667   \n",
              "\n",
              "              feedback  \n",
              "1    negative feedback  \n",
              "117  negative feedback  \n",
              "17   negative feedback  \n",
              "234  negative feedback  \n",
              "13   negative feedback  "
            ],
            "text/html": [
              "\n",
              "  <div id=\"df-4d4ae289-e82b-4d33-b77c-020b3f680dcf\">\n",
              "    <div class=\"colab-df-container\">\n",
              "      <div>\n",
              "<style scoped>\n",
              "    .dataframe tbody tr th:only-of-type {\n",
              "        vertical-align: middle;\n",
              "    }\n",
              "\n",
              "    .dataframe tbody tr th {\n",
              "        vertical-align: top;\n",
              "    }\n",
              "\n",
              "    .dataframe thead th {\n",
              "        text-align: right;\n",
              "    }\n",
              "</style>\n",
              "<table border=\"1\" class=\"dataframe\">\n",
              "  <thead>\n",
              "    <tr style=\"text-align: right;\">\n",
              "      <th></th>\n",
              "      <th>content</th>\n",
              "      <th>reviewCreatedVersion</th>\n",
              "      <th>score</th>\n",
              "      <th>at</th>\n",
              "      <th>thumbsUpCount</th>\n",
              "      <th>extracted_emojis</th>\n",
              "      <th>Sentiment_score</th>\n",
              "      <th>polarity</th>\n",
              "      <th>subjectivity</th>\n",
              "      <th>feedback</th>\n",
              "    </tr>\n",
              "  </thead>\n",
              "  <tbody>\n",
              "    <tr>\n",
              "      <th>1</th>\n",
              "      <td>after creating an account in the app i could n...</td>\n",
              "      <td>1.9.3</td>\n",
              "      <td>1</td>\n",
              "      <td>2022-11-19 11:32:25</td>\n",
              "      <td>3</td>\n",
              "      <td>after creating an account in the app i could n...</td>\n",
              "      <td>(-0.52, 0.78)</td>\n",
              "      <td>-0.52</td>\n",
              "      <td>0.780000</td>\n",
              "      <td>negative feedback</td>\n",
              "    </tr>\n",
              "    <tr>\n",
              "      <th>117</th>\n",
              "      <td>paystach pls what is wrong today? i have a gam...</td>\n",
              "      <td>1.8.3</td>\n",
              "      <td>1</td>\n",
              "      <td>2022-10-26 10:23:30</td>\n",
              "      <td>0</td>\n",
              "      <td>paystach pls what is wrong today? i have a gam...</td>\n",
              "      <td>(-0.55, 0.72)</td>\n",
              "      <td>-0.55</td>\n",
              "      <td>0.720000</td>\n",
              "      <td>negative feedback</td>\n",
              "    </tr>\n",
              "    <tr>\n",
              "      <th>17</th>\n",
              "      <td>i'm disappointed..i made a payment to an opay ...</td>\n",
              "      <td>1.8.3</td>\n",
              "      <td>1</td>\n",
              "      <td>2022-10-18 21:03:34</td>\n",
              "      <td>1</td>\n",
              "      <td>i'm disappointed..i made a payment to an opay ...</td>\n",
              "      <td>(-0.1499999999999999, 0.7833333333333333)</td>\n",
              "      <td>-0.15</td>\n",
              "      <td>0.783333</td>\n",
              "      <td>negative feedback</td>\n",
              "    </tr>\n",
              "    <tr>\n",
              "      <th>234</th>\n",
              "      <td>terrible platform.</td>\n",
              "      <td>1.8.3</td>\n",
              "      <td>1</td>\n",
              "      <td>2022-08-29 17:17:46</td>\n",
              "      <td>0</td>\n",
              "      <td>terrible platform.</td>\n",
              "      <td>(-1.0, 1.0)</td>\n",
              "      <td>-1.00</td>\n",
              "      <td>1.000000</td>\n",
              "      <td>negative feedback</td>\n",
              "    </tr>\n",
              "    <tr>\n",
              "      <th>13</th>\n",
              "      <td>it's more than one week now since paystack blo...</td>\n",
              "      <td>1.8.3</td>\n",
              "      <td>1</td>\n",
              "      <td>2022-08-22 03:23:40</td>\n",
              "      <td>6</td>\n",
              "      <td>it's more than one week now since paystack blo...</td>\n",
              "      <td>(-0.10000000000000002, 0.5666666666666667)</td>\n",
              "      <td>-0.10</td>\n",
              "      <td>0.566667</td>\n",
              "      <td>negative feedback</td>\n",
              "    </tr>\n",
              "  </tbody>\n",
              "</table>\n",
              "</div>\n",
              "      <button class=\"colab-df-convert\" onclick=\"convertToInteractive('df-4d4ae289-e82b-4d33-b77c-020b3f680dcf')\"\n",
              "              title=\"Convert this dataframe to an interactive table.\"\n",
              "              style=\"display:none;\">\n",
              "        \n",
              "  <svg xmlns=\"http://www.w3.org/2000/svg\" height=\"24px\"viewBox=\"0 0 24 24\"\n",
              "       width=\"24px\">\n",
              "    <path d=\"M0 0h24v24H0V0z\" fill=\"none\"/>\n",
              "    <path d=\"M18.56 5.44l.94 2.06.94-2.06 2.06-.94-2.06-.94-.94-2.06-.94 2.06-2.06.94zm-11 1L8.5 8.5l.94-2.06 2.06-.94-2.06-.94L8.5 2.5l-.94 2.06-2.06.94zm10 10l.94 2.06.94-2.06 2.06-.94-2.06-.94-.94-2.06-.94 2.06-2.06.94z\"/><path d=\"M17.41 7.96l-1.37-1.37c-.4-.4-.92-.59-1.43-.59-.52 0-1.04.2-1.43.59L10.3 9.45l-7.72 7.72c-.78.78-.78 2.05 0 2.83L4 21.41c.39.39.9.59 1.41.59.51 0 1.02-.2 1.41-.59l7.78-7.78 2.81-2.81c.8-.78.8-2.07 0-2.86zM5.41 20L4 18.59l7.72-7.72 1.47 1.35L5.41 20z\"/>\n",
              "  </svg>\n",
              "      </button>\n",
              "      \n",
              "  <style>\n",
              "    .colab-df-container {\n",
              "      display:flex;\n",
              "      flex-wrap:wrap;\n",
              "      gap: 12px;\n",
              "    }\n",
              "\n",
              "    .colab-df-convert {\n",
              "      background-color: #E8F0FE;\n",
              "      border: none;\n",
              "      border-radius: 50%;\n",
              "      cursor: pointer;\n",
              "      display: none;\n",
              "      fill: #1967D2;\n",
              "      height: 32px;\n",
              "      padding: 0 0 0 0;\n",
              "      width: 32px;\n",
              "    }\n",
              "\n",
              "    .colab-df-convert:hover {\n",
              "      background-color: #E2EBFA;\n",
              "      box-shadow: 0px 1px 2px rgba(60, 64, 67, 0.3), 0px 1px 3px 1px rgba(60, 64, 67, 0.15);\n",
              "      fill: #174EA6;\n",
              "    }\n",
              "\n",
              "    [theme=dark] .colab-df-convert {\n",
              "      background-color: #3B4455;\n",
              "      fill: #D2E3FC;\n",
              "    }\n",
              "\n",
              "    [theme=dark] .colab-df-convert:hover {\n",
              "      background-color: #434B5C;\n",
              "      box-shadow: 0px 1px 3px 1px rgba(0, 0, 0, 0.15);\n",
              "      filter: drop-shadow(0px 1px 2px rgba(0, 0, 0, 0.3));\n",
              "      fill: #FFFFFF;\n",
              "    }\n",
              "  </style>\n",
              "\n",
              "      <script>\n",
              "        const buttonEl =\n",
              "          document.querySelector('#df-4d4ae289-e82b-4d33-b77c-020b3f680dcf button.colab-df-convert');\n",
              "        buttonEl.style.display =\n",
              "          google.colab.kernel.accessAllowed ? 'block' : 'none';\n",
              "\n",
              "        async function convertToInteractive(key) {\n",
              "          const element = document.querySelector('#df-4d4ae289-e82b-4d33-b77c-020b3f680dcf');\n",
              "          const dataTable =\n",
              "            await google.colab.kernel.invokeFunction('convertToInteractive',\n",
              "                                                     [key], {});\n",
              "          if (!dataTable) return;\n",
              "\n",
              "          const docLinkHtml = 'Like what you see? Visit the ' +\n",
              "            '<a target=\"_blank\" href=https://colab.research.google.com/notebooks/data_table.ipynb>data table notebook</a>'\n",
              "            + ' to learn more about interactive tables.';\n",
              "          element.innerHTML = '';\n",
              "          dataTable['output_type'] = 'display_data';\n",
              "          await google.colab.output.renderOutput(dataTable, element);\n",
              "          const docLink = document.createElement('div');\n",
              "          docLink.innerHTML = docLinkHtml;\n",
              "          element.appendChild(docLink);\n",
              "        }\n",
              "      </script>\n",
              "    </div>\n",
              "  </div>\n",
              "  "
            ]
          },
          "metadata": {},
          "execution_count": 94
        }
      ]
    },
    {
      "cell_type": "code",
      "source": [
        "print(Paystacksort_data['feedback'].value_counts(normalize=True))\n",
        "Feedback_rate =  Paystacksort_data['feedback'].value_counts(normalize=True).plot(kind=\"bar\")\n",
        "for i in Feedback_rate.patches:\n",
        "  Feedback_rate.annotate('{:.1f}'.format(i.get_height()), (i.get_x()+0.25, i.get_height()+0.01))\n",
        "plt.title('Paystack feedback rate')"
      ],
      "metadata": {
        "colab": {
          "base_uri": "https://localhost:8080/",
          "height": 451
        },
        "id": "SagSF3mpbTXE",
        "outputId": "581cc4f8-4be7-4527-8674-a533bcc2e8ed"
      },
      "execution_count": null,
      "outputs": [
        {
          "output_type": "stream",
          "name": "stdout",
          "text": [
            "positive feedback    0.514286\n",
            "neutral feedback     0.285714\n",
            "negative feedback    0.200000\n",
            "Name: feedback, dtype: float64\n"
          ]
        },
        {
          "output_type": "execute_result",
          "data": {
            "text/plain": [
              "Text(0.5, 1.0, 'Paystack feedback rate')"
            ]
          },
          "metadata": {},
          "execution_count": 95
        },
        {
          "output_type": "display_data",
          "data": {
            "text/plain": [
              "<Figure size 432x288 with 1 Axes>"
            ],
            "image/png": "[encoded data removed]"
          },
          "metadata": {
            "needs_background": "light"
          }
        }
      ]
    },
    {
      "cell_type": "code",
      "source": [
        "print(Paystacksort_data['feedback'].value_counts())\n",
        "Feedback_value = sns.countplot(x='feedback', data = Paystacksort_data)\n",
        "for i in Feedback_value.patches:\n",
        "  Feedback_value.annotate('{:.1f}'.format(i.get_height()), (i.get_x()+0.25, i.get_height()+0.01))\n",
        "plt.title('Paystack feedback count');"
      ],
      "metadata": {
        "colab": {
          "base_uri": "https://localhost:8080/",
          "height": 364
        },
        "id": "PCIljHT7bTlS",
        "outputId": "3d0777b1-49ca-4586-8e8b-946c64e49f16"
      },
      "execution_count": null,
      "outputs": [
        {
          "output_type": "stream",
          "name": "stdout",
          "text": [
            "positive feedback    144\n",
            "neutral feedback      80\n",
            "negative feedback     56\n",
            "Name: feedback, dtype: int64\n"
          ]
        },
        {
          "output_type": "display_data",
          "data": {
            "text/plain": [
              "<Figure size 432x288 with 1 Axes>"
            ],
            "image/png": "[encoded data removed]"
          },
          "metadata": {
            "needs_background": "light"
          }
        }
      ]
    },
    {
      "cell_type": "markdown",
      "source": [
        "## **UzaPoint**"
      ],
      "metadata": {
        "id": "UgEXCcnleOZ9"
      }
    },
    {
      "cell_type": "code",
      "source": [
        "#convert to str\n",
        "Uza_pointsort_data['content'] = Uza_pointsort_data['content'].astype(str)\n",
        "print(Uza_pointsort_data['content'].head())"
      ],
      "metadata": {
        "colab": {
          "base_uri": "https://localhost:8080/"
        },
        "id": "EbSXlSLMeT1v",
        "outputId": "5624ac11-ba3b-4ed6-df18-f8597280dbdf"
      },
      "execution_count": null,
      "outputs": [
        {
          "output_type": "stream",
          "name": "stdout",
          "text": [
            "20    It's an amazing app.Whats makes it better is t...\n",
            "13    'You need an API key to authenticate all reque...\n",
            "41            Efficient and easy to use for my business\n",
            "37    Excited to use Uzapoint. The e-commerce platfo...\n",
            "55    What a wonderful system, since I started Uzapo...\n",
            "Name: content, dtype: object\n"
          ]
        }
      ]
    },
    {
      "cell_type": "code",
      "source": [
        "#Lowercase all reviews\n",
        "Uza_pointsort_data['content'] = Uza_pointsort_data['content'].apply(lambda x: x.lower())\n",
        "print(Uza_pointsort_data['content'].head()) # to see the difference\n"
      ],
      "metadata": {
        "colab": {
          "base_uri": "https://localhost:8080/"
        },
        "id": "tubVqkSreUBV",
        "outputId": "f192a0c1-2d44-4c59-dd2b-2551e9525b05"
      },
      "execution_count": null,
      "outputs": [
        {
          "output_type": "stream",
          "name": "stdout",
          "text": [
            "20    it's an amazing app.whats makes it better is t...\n",
            "13    'you need an api key to authenticate all reque...\n",
            "41            efficient and easy to use for my business\n",
            "37    excited to use uzapoint. the e-commerce platfo...\n",
            "55    what a wonderful system, since i started uzapo...\n",
            "Name: content, dtype: object\n"
          ]
        }
      ]
    },
    {
      "cell_type": "code",
      "source": [
        "#check if there is any special character\n",
        "alphabet = string.ascii_letters+string.punctuation\n",
        "print(Uza_pointsort_data.content.str.strip(alphabet).astype(bool).any())\n",
        "\n",
        "extracted_emojis=[]\n",
        "\n",
        "def extract_emojis(s):\n",
        "  expe = re.compile('[\\U00010000-\\U0010ffff]', flags=re.UNICODE)\n",
        "  #return expe.findall(s)\n",
        "  return expe.sub(r'',s)\n",
        "\n",
        "for i in Uza_pointsort_data['content']:\n",
        "  #print(str(extract_emojis(y)))\n",
        "  extracted_emojis.append(str(extract_emojis(i)))\n",
        "\n",
        "print(extracted_emojis[10]) "
      ],
      "metadata": {
        "colab": {
          "base_uri": "https://localhost:8080/"
        },
        "id": "aXc-z9IfeUKJ",
        "outputId": "dc9dd083-3238-416b-cc0d-9cba4b1e25ec"
      },
      "execution_count": null,
      "outputs": [
        {
          "output_type": "stream",
          "name": "stdout",
          "text": [
            "True\n",
            "simple, easy and efficient for my business. best pos solution in kenya.\n"
          ]
        }
      ]
    },
    {
      "cell_type": "code",
      "source": [
        "# stop words\n",
        "stop_words = stopwords.words('english')\n",
        "Uza_pointsort_data[\"extracted_emojis\"] = extracted_emojis\n",
        "Uza_pointsort_data[\"extracted_emojis\"] = Uza_pointsort_data[\"extracted_emojis\"].apply(lambda x:x if x not in stop_words else None)\n",
        "print(Uza_pointsort_data['extracted_emojis'].head())"
      ],
      "metadata": {
        "colab": {
          "base_uri": "https://localhost:8080/"
        },
        "id": "jpF5w2-VeUTf",
        "outputId": "fd59f5dc-2a5b-48b9-948c-84e04e427d34"
      },
      "execution_count": null,
      "outputs": [
        {
          "output_type": "stream",
          "name": "stdout",
          "text": [
            "20    it's an amazing app.whats makes it better is t...\n",
            "13    'you need an api key to authenticate all reque...\n",
            "41            efficient and easy to use for my business\n",
            "37    excited to use uzapoint. the e-commerce platfo...\n",
            "55    what a wonderful system, since i started uzapo...\n",
            "Name: extracted_emojis, dtype: object\n"
          ]
        }
      ]
    },
    {
      "cell_type": "code",
      "source": [
        "from nltk.stem.snowball import PorterStemmer\n",
        "#stemming\n",
        "def stemming(x):\n",
        "  st = PorterStemmer()\n",
        "  if x is not None:\n",
        "    for word in x.split():\n",
        "      st.stem(word)\n",
        "\n",
        "Uza_pointsort_data['extracted_emojis'].apply(lambda x: stemming(x))\n",
        "print(Uza_pointsort_data['extracted_emojis'].head()) "
      ],
      "metadata": {
        "colab": {
          "base_uri": "https://localhost:8080/"
        },
        "id": "bTkKxwKyeUeE",
        "outputId": "605c63aa-c83d-4b86-fdb1-b755ea0e4c3a"
      },
      "execution_count": null,
      "outputs": [
        {
          "output_type": "stream",
          "name": "stdout",
          "text": [
            "20    it's an amazing app.whats makes it better is t...\n",
            "13    'you need an api key to authenticate all reque...\n",
            "41            efficient and easy to use for my business\n",
            "37    excited to use uzapoint. the e-commerce platfo...\n",
            "55    what a wonderful system, since i started uzapo...\n",
            "Name: extracted_emojis, dtype: object\n"
          ]
        }
      ]
    },
    {
      "cell_type": "code",
      "source": [
        "#Function to calculate sentiment score for whole data set\n",
        "\n",
        "def senti_sc(x):\n",
        "    if x is not None:\n",
        "       return TextBlob(x).sentiment\n",
        "\n",
        "Uza_pointsort_data[\"Sentiment_score\"]= Uza_pointsort_data[\"extracted_emojis\"].apply(senti_sc)\n",
        "print(Uza_pointsort_data.loc[0:19,['extracted_emojis','Sentiment_score']])"
      ],
      "metadata": {
        "colab": {
          "base_uri": "https://localhost:8080/"
        },
        "id": "9j2p6HiOeUoL",
        "outputId": "f585994a-b178-42d2-9c02-60e23a6b052c"
      },
      "execution_count": null,
      "outputs": [
        {
          "output_type": "stream",
          "name": "stdout",
          "text": [
            "                                     extracted_emojis  \\\n",
            "0   an amazing pos for sure. very effective in man...   \n",
            "44        new and very modern app. a pleasure to use.   \n",
            "56  sending bulk messages to my customers is as ea...   \n",
            "19  i have been using this app for sometime now an...   \n",
            "\n",
            "                               Sentiment_score  \n",
            "0     (0.5304761904761905, 0.8460317460317459)  \n",
            "44  (0.19818181818181818, 0.42227272727272724)  \n",
            "56   (0.43333333333333335, 0.8333333333333334)  \n",
            "19                                  (0.0, 0.0)  \n"
          ]
        }
      ]
    },
    {
      "cell_type": "code",
      "source": [
        "from textblob.en import subjectivity\n",
        "polarity=[]\n",
        "subjectivity = []\n",
        "for i in Uza_pointsort_data['extracted_emojis'].values:\n",
        "  try:\n",
        "    analysis = TextBlob(i)\n",
        "    polarity.append(analysis.sentiment.polarity)\n",
        "    subjectivity.append(analysis.sentiment.subjectivity)\n",
        "    \n",
        "  except:\n",
        "     polarity.append(0)\n",
        "     subjectivity.append(0)"
      ],
      "metadata": {
        "id": "LR5c2d4eeUxF"
      },
      "execution_count": null,
      "outputs": []
    },
    {
      "cell_type": "code",
      "source": [
        "Uza_pointsort_data['polarity'] = polarity\n",
        "Uza_pointsort_data['subjectivity'] = subjectivity"
      ],
      "metadata": {
        "id": "2HnzweneeU6D"
      },
      "execution_count": null,
      "outputs": []
    },
    {
      "cell_type": "code",
      "source": [
        "conditions = [(Uza_pointsort_data['polarity'] < 0),(Uza_pointsort_data['polarity'] == 0),(Uza_pointsort_data['polarity'] > 0)]\n",
        "values = ['negative feedback', 'neutral feedback', 'positive feedback']\n",
        "Uza_pointsort_data['feedback'] = np.select(conditions,values)"
      ],
      "metadata": {
        "id": "MdZojU2peVCZ"
      },
      "execution_count": null,
      "outputs": []
    },
    {
      "cell_type": "code",
      "source": [
        "subject_matter = Uza_pointsort_data[Uza_pointsort_data.subjectivity>0.5]\n",
        "negative_subject_matter = subject_matter[subject_matter.polarity < 0]\n",
        "negative_subject_matter.head()"
      ],
      "metadata": {
        "colab": {
          "base_uri": "https://localhost:8080/",
          "height": 49
        },
        "id": "rYXfAuGvg554",
        "outputId": "62a2dc0f-de21-4762-bc86-df08a5d3dfd8"
      },
      "execution_count": null,
      "outputs": [
        {
          "output_type": "execute_result",
          "data": {
            "text/plain": [
              "Empty DataFrame\n",
              "Columns: [content, reviewCreatedVersion, score, at, thumbsUpCount, extracted_emojis, Sentiment_score, polarity, subjectivity, feedback]\n",
              "Index: []"
            ],
            "text/html": [
              "\n",
              "  <div id=\"df-6662e43e-bbcd-413f-ab8d-8dc8546596aa\">\n",
              "    <div class=\"colab-df-container\">\n",
              "      <div>\n",
              "<style scoped>\n",
              "    .dataframe tbody tr th:only-of-type {\n",
              "        vertical-align: middle;\n",
              "    }\n",
              "\n",
              "    .dataframe tbody tr th {\n",
              "        vertical-align: top;\n",
              "    }\n",
              "\n",
              "    .dataframe thead th {\n",
              "        text-align: right;\n",
              "    }\n",
              "</style>\n",
              "<table border=\"1\" class=\"dataframe\">\n",
              "  <thead>\n",
              "    <tr style=\"text-align: right;\">\n",
              "      <th></th>\n",
              "      <th>content</th>\n",
              "      <th>reviewCreatedVersion</th>\n",
              "      <th>score</th>\n",
              "      <th>at</th>\n",
              "      <th>thumbsUpCount</th>\n",
              "      <th>extracted_emojis</th>\n",
              "      <th>Sentiment_score</th>\n",
              "      <th>polarity</th>\n",
              "      <th>subjectivity</th>\n",
              "      <th>feedback</th>\n",
              "    </tr>\n",
              "  </thead>\n",
              "  <tbody>\n",
              "  </tbody>\n",
              "</table>\n",
              "</div>\n",
              "      <button class=\"colab-df-convert\" onclick=\"convertToInteractive('df-6662e43e-bbcd-413f-ab8d-8dc8546596aa')\"\n",
              "              title=\"Convert this dataframe to an interactive table.\"\n",
              "              style=\"display:none;\">\n",
              "        \n",
              "  <svg xmlns=\"http://www.w3.org/2000/svg\" height=\"24px\"viewBox=\"0 0 24 24\"\n",
              "       width=\"24px\">\n",
              "    <path d=\"M0 0h24v24H0V0z\" fill=\"none\"/>\n",
              "    <path d=\"M18.56 5.44l.94 2.06.94-2.06 2.06-.94-2.06-.94-.94-2.06-.94 2.06-2.06.94zm-11 1L8.5 8.5l.94-2.06 2.06-.94-2.06-.94L8.5 2.5l-.94 2.06-2.06.94zm10 10l.94 2.06.94-2.06 2.06-.94-2.06-.94-.94-2.06-.94 2.06-2.06.94z\"/><path d=\"M17.41 7.96l-1.37-1.37c-.4-.4-.92-.59-1.43-.59-.52 0-1.04.2-1.43.59L10.3 9.45l-7.72 7.72c-.78.78-.78 2.05 0 2.83L4 21.41c.39.39.9.59 1.41.59.51 0 1.02-.2 1.41-.59l7.78-7.78 2.81-2.81c.8-.78.8-2.07 0-2.86zM5.41 20L4 18.59l7.72-7.72 1.47 1.35L5.41 20z\"/>\n",
              "  </svg>\n",
              "      </button>\n",
              "      \n",
              "  <style>\n",
              "    .colab-df-container {\n",
              "      display:flex;\n",
              "      flex-wrap:wrap;\n",
              "      gap: 12px;\n",
              "    }\n",
              "\n",
              "    .colab-df-convert {\n",
              "      background-color: #E8F0FE;\n",
              "      border: none;\n",
              "      border-radius: 50%;\n",
              "      cursor: pointer;\n",
              "      display: none;\n",
              "      fill: #1967D2;\n",
              "      height: 32px;\n",
              "      padding: 0 0 0 0;\n",
              "      width: 32px;\n",
              "    }\n",
              "\n",
              "    .colab-df-convert:hover {\n",
              "      background-color: #E2EBFA;\n",
              "      box-shadow: 0px 1px 2px rgba(60, 64, 67, 0.3), 0px 1px 3px 1px rgba(60, 64, 67, 0.15);\n",
              "      fill: #174EA6;\n",
              "    }\n",
              "\n",
              "    [theme=dark] .colab-df-convert {\n",
              "      background-color: #3B4455;\n",
              "      fill: #D2E3FC;\n",
              "    }\n",
              "\n",
              "    [theme=dark] .colab-df-convert:hover {\n",
              "      background-color: #434B5C;\n",
              "      box-shadow: 0px 1px 3px 1px rgba(0, 0, 0, 0.15);\n",
              "      filter: drop-shadow(0px 1px 2px rgba(0, 0, 0, 0.3));\n",
              "      fill: #FFFFFF;\n",
              "    }\n",
              "  </style>\n",
              "\n",
              "      <script>\n",
              "        const buttonEl =\n",
              "          document.querySelector('#df-6662e43e-bbcd-413f-ab8d-8dc8546596aa button.colab-df-convert');\n",
              "        buttonEl.style.display =\n",
              "          google.colab.kernel.accessAllowed ? 'block' : 'none';\n",
              "\n",
              "        async function convertToInteractive(key) {\n",
              "          const element = document.querySelector('#df-6662e43e-bbcd-413f-ab8d-8dc8546596aa');\n",
              "          const dataTable =\n",
              "            await google.colab.kernel.invokeFunction('convertToInteractive',\n",
              "                                                     [key], {});\n",
              "          if (!dataTable) return;\n",
              "\n",
              "          const docLinkHtml = 'Like what you see? Visit the ' +\n",
              "            '<a target=\"_blank\" href=https://colab.research.google.com/notebooks/data_table.ipynb>data table notebook</a>'\n",
              "            + ' to learn more about interactive tables.';\n",
              "          element.innerHTML = '';\n",
              "          dataTable['output_type'] = 'display_data';\n",
              "          await google.colab.output.renderOutput(dataTable, element);\n",
              "          const docLink = document.createElement('div');\n",
              "          docLink.innerHTML = docLinkHtml;\n",
              "          element.appendChild(docLink);\n",
              "        }\n",
              "      </script>\n",
              "    </div>\n",
              "  </div>\n",
              "  "
            ]
          },
          "metadata": {},
          "execution_count": 106
        }
      ]
    },
    {
      "cell_type": "code",
      "source": [
        "print(Uza_pointsort_data['feedback'].value_counts(normalize=True))\n",
        "Feedback_rate =  Uza_pointsort_data['feedback'].value_counts(normalize=True).plot(kind=\"bar\")\n",
        "for i in Feedback_rate.patches:\n",
        "  Feedback_rate.annotate('{:.1f}'.format(i.get_height()), (i.get_x()+0.25, i.get_height()+0.01))\n",
        "plt.title('UzaPoint feedback rate')"
      ],
      "metadata": {
        "colab": {
          "base_uri": "https://localhost:8080/",
          "height": 428
        },
        "id": "Zw-O6OKyg583",
        "outputId": "55326524-08c8-4363-c40c-e1c3b89a3eaa"
      },
      "execution_count": null,
      "outputs": [
        {
          "output_type": "stream",
          "name": "stdout",
          "text": [
            "positive feedback    0.923077\n",
            "neutral feedback     0.076923\n",
            "Name: feedback, dtype: float64\n"
          ]
        },
        {
          "output_type": "execute_result",
          "data": {
            "text/plain": [
              "Text(0.5, 1.0, 'UzaPoint feedback rate')"
            ]
          },
          "metadata": {},
          "execution_count": 107
        },
        {
          "output_type": "display_data",
          "data": {
            "text/plain": [
              "<Figure size 432x288 with 1 Axes>"
            ],
            "image/png": "[encoded data removed]"
          },
          "metadata": {
            "needs_background": "light"
          }
        }
      ]
    },
    {
      "cell_type": "code",
      "source": [
        "print(Uza_pointsort_data['feedback'].value_counts())\n",
        "Feedback_value = sns.countplot(x='feedback', data = Uza_pointsort_data)\n",
        "for i in Feedback_value.patches:\n",
        "  Feedback_value.annotate('{:.1f}'.format(i.get_height()), (i.get_x()+0.25, i.get_height()+0.01))\n",
        "plt.title('Uza Point feedback count');\n"
      ],
      "metadata": {
        "colab": {
          "base_uri": "https://localhost:8080/",
          "height": 347
        },
        "id": "xEM72ASZg5_3",
        "outputId": "66c2ef9a-c488-4186-ef3f-5a3dc46eb1d4"
      },
      "execution_count": null,
      "outputs": [
        {
          "output_type": "stream",
          "name": "stdout",
          "text": [
            "positive feedback    60\n",
            "neutral feedback      5\n",
            "Name: feedback, dtype: int64\n"
          ]
        },
        {
          "output_type": "display_data",
          "data": {
            "text/plain": [
              "<Figure size 432x288 with 1 Axes>"
            ],
            "image/png": "[encoded data removed]"
          },
          "metadata": {
            "needs_background": "light"
          }
        }
      ]
    },
    {
      "cell_type": "code",
      "source": [],
      "metadata": {
        "id": "fN9pYuufeVKy"
      },
      "execution_count": null,
      "outputs": []
    },
    {
      "cell_type": "markdown",
      "source": [
        "Overall feedback rate"
      ],
      "metadata": {
        "id": "zNTrC9fKfhS8"
      }
    },
    {
      "cell_type": "markdown",
      "source": [
        "From the above results sentiment polarity and subjectivity has been calculated. Sentiment polarity is denoting if the review is positive or negative and subjectivity is denoting the subjectivity of the text.\n",
        "\n",
        "Further, this analysis can be used in various other applications where the aspects of the product or the application that are more positively accepted in market can be explored for more business opportunities."
      ],
      "metadata": {
        "id": "h95S8mzi5FIx"
      }
    },
    {
      "cell_type": "code",
      "source": [
        "!sudo apt-get install texlive-xetex texlive-fonts-recommended texlive-plain-generic"
      ],
      "metadata": {
        "colab": {
          "base_uri": "https://localhost:8080/"
        },
        "id": "prPHe-pAfqty",
        "outputId": "03b80e16-38a4-4839-c5cb-a8a053916b55"
      },
      "execution_count": null,
      "outputs": [
        {
          "output_type": "stream",
          "name": "stdout",
          "text": [
            "Reading package lists... Done\n",
            "Building dependency tree       \n",
            "Reading state information... Done\n",
            "The following package was automatically installed and is no longer required:\n",
            "  libnvidia-common-460\n",
            "Use 'sudo apt autoremove' to remove it.\n",
            "The following additional packages will be installed:\n",
            "  fonts-droid-fallback fonts-lato fonts-lmodern fonts-noto-mono fonts-texgyre\n",
            "  javascript-common libcupsfilters1 libcupsimage2 libgs9 libgs9-common\n",
            "  libijs-0.35 libjbig2dec0 libjs-jquery libkpathsea6 libpotrace0 libptexenc1\n",
            "  libruby2.5 libsynctex1 libtexlua52 libtexluajit2 libzzip-0-13 lmodern\n",
            "  poppler-data preview-latex-style rake ruby ruby-did-you-mean ruby-minitest\n",
            "  ruby-net-telnet ruby-power-assert ruby-test-unit ruby2.5\n",
            "  rubygems-integration t1utils tex-common tex-gyre texlive-base\n",
            "  texlive-binaries texlive-latex-base texlive-latex-extra\n",
            "  texlive-latex-recommended texlive-pictures tipa\n",
            "Suggested packages:\n",
            "  fonts-noto apache2 | lighttpd | httpd poppler-utils ghostscript\n",
            "  fonts-japanese-mincho | fonts-ipafont-mincho fonts-japanese-gothic\n",
            "  | fonts-ipafont-gothic fonts-arphic-ukai fonts-arphic-uming fonts-nanum ri\n",
            "  ruby-dev bundler debhelper gv | postscript-viewer perl-tk xpdf-reader\n",
            "  | pdf-viewer texlive-fonts-recommended-doc texlive-latex-base-doc\n",
            "  python-pygments icc-profiles libfile-which-perl\n",
            "  libspreadsheet-parseexcel-perl texlive-latex-extra-doc\n",
            "  texlive-latex-recommended-doc texlive-pstricks dot2tex prerex ruby-tcltk\n",
            "  | libtcltk-ruby texlive-pictures-doc vprerex\n",
            "The following NEW packages will be installed:\n",
            "  fonts-droid-fallback fonts-lato fonts-lmodern fonts-noto-mono fonts-texgyre\n",
            "  javascript-common libcupsfilters1 libcupsimage2 libgs9 libgs9-common\n",
            "  libijs-0.35 libjbig2dec0 libjs-jquery libkpathsea6 libpotrace0 libptexenc1\n",
            "  libruby2.5 libsynctex1 libtexlua52 libtexluajit2 libzzip-0-13 lmodern\n",
            "  poppler-data preview-latex-style rake ruby ruby-did-you-mean ruby-minitest\n",
            "  ruby-net-telnet ruby-power-assert ruby-test-unit ruby2.5\n",
            "  rubygems-integration t1utils tex-common tex-gyre texlive-base\n",
            "  texlive-binaries texlive-fonts-recommended texlive-latex-base\n",
            "  texlive-latex-extra texlive-latex-recommended texlive-pictures\n",
            "  texlive-plain-generic texlive-xetex tipa\n",
            "0 upgraded, 46 newly installed, 0 to remove and 20 not upgraded.\n",
            "Need to get 146 MB of archives.\n",
            "After this operation, 460 MB of additional disk space will be used.\n",
            "Get:1 http://archive.ubuntu.com/ubuntu bionic/main amd64 fonts-droid-fallback all 1:6.0.1r16-1.1 [1,805 kB]\n",
            "Get:2 http://archive.ubuntu.com/ubuntu bionic/main amd64 fonts-lato all 2.0-2 [2,698 kB]\n",
            "Get:3 http://archive.ubuntu.com/ubuntu bionic/main amd64 poppler-data all 0.4.8-2 [1,479 kB]\n",
            "Get:4 http://archive.ubuntu.com/ubuntu bionic/main amd64 tex-common all 6.09 [33.0 kB]\n",
            "Get:5 http://archive.ubuntu.com/ubuntu bionic/main amd64 fonts-lmodern all 2.004.5-3 [4,551 kB]\n",
            "Get:6 http://archive.ubuntu.com/ubuntu bionic/main amd64 fonts-noto-mono all 20171026-2 [75.5 kB]\n",
            "Get:7 http://archive.ubuntu.com/ubuntu bionic/universe amd64 fonts-texgyre all 20160520-1 [8,761 kB]\n",
            "Get:8 http://archive.ubuntu.com/ubuntu bionic/main amd64 javascript-common all 11 [6,066 B]\n",
            "Get:9 http://archive.ubuntu.com/ubuntu bionic-updates/main amd64 libcupsfilters1 amd64 1.20.2-0ubuntu3.1 [108 kB]\n",
            "Get:10 http://archive.ubuntu.com/ubuntu bionic-updates/main amd64 libcupsimage2 amd64 2.2.7-1ubuntu2.9 [18.6 kB]\n",
            "Get:11 http://archive.ubuntu.com/ubuntu bionic/main amd64 libijs-0.35 amd64 0.35-13 [15.5 kB]\n",
            "Get:12 http://archive.ubuntu.com/ubuntu bionic/main amd64 libjbig2dec0 amd64 0.13-6 [55.9 kB]\n",
            "Get:13 http://archive.ubuntu.com/ubuntu bionic-updates/main amd64 libgs9-common all 9.26~dfsg+0-0ubuntu0.18.04.17 [5,092 kB]\n",
            "Get:14 http://archive.ubuntu.com/ubuntu bionic-updates/main amd64 libgs9 amd64 9.26~dfsg+0-0ubuntu0.18.04.17 [2,267 kB]\n",
            "Get:15 http://archive.ubuntu.com/ubuntu bionic/main amd64 libjs-jquery all 3.2.1-1 [152 kB]\n",
            "Get:16 http://archive.ubuntu.com/ubuntu bionic-updates/main amd64 libkpathsea6 amd64 2017.20170613.44572-8ubuntu0.1 [54.9 kB]\n",
            "Get:17 http://archive.ubuntu.com/ubuntu bionic/main amd64 libpotrace0 amd64 1.14-2 [17.4 kB]\n",
            "Get:18 http://archive.ubuntu.com/ubuntu bionic-updates/main amd64 libptexenc1 amd64 2017.20170613.44572-8ubuntu0.1 [34.5 kB]\n",
            "Get:19 http://archive.ubuntu.com/ubuntu bionic/main amd64 rubygems-integration all 1.11 [4,994 B]\n",
            "Get:20 http://archive.ubuntu.com/ubuntu bionic-updates/main amd64 ruby2.5 amd64 2.5.1-1ubuntu1.12 [48.6 kB]\n",
            "Get:21 http://archive.ubuntu.com/ubuntu bionic/main amd64 ruby amd64 1:2.5.1 [5,712 B]\n",
            "Get:22 http://archive.ubuntu.com/ubuntu bionic-updates/main amd64 rake all 12.3.1-1ubuntu0.1 [44.9 kB]\n",
            "Get:23 http://archive.ubuntu.com/ubuntu bionic/main amd64 ruby-did-you-mean all 1.2.0-2 [9,700 B]\n",
            "Get:24 http://archive.ubuntu.com/ubuntu bionic/main amd64 ruby-minitest all 5.10.3-1 [38.6 kB]\n",
            "Get:25 http://archive.ubuntu.com/ubuntu bionic/main amd64 ruby-net-telnet all 0.1.1-2 [12.6 kB]\n",
            "Get:26 http://archive.ubuntu.com/ubuntu bionic/main amd64 ruby-power-assert all 0.3.0-1 [7,952 B]\n",
            "Get:27 http://archive.ubuntu.com/ubuntu bionic/main amd64 ruby-test-unit all 3.2.5-1 [61.1 kB]\n",
            "Get:28 http://archive.ubuntu.com/ubuntu bionic-updates/main amd64 libruby2.5 amd64 2.5.1-1ubuntu1.12 [3,073 kB]\n",
            "Get:29 http://archive.ubuntu.com/ubuntu bionic-updates/main amd64 libsynctex1 amd64 2017.20170613.44572-8ubuntu0.1 [41.4 kB]\n",
            "Get:30 http://archive.ubuntu.com/ubuntu bionic-updates/main amd64 libtexlua52 amd64 2017.20170613.44572-8ubuntu0.1 [91.2 kB]\n",
            "Get:31 http://archive.ubuntu.com/ubuntu bionic-updates/main amd64 libtexluajit2 amd64 2017.20170613.44572-8ubuntu0.1 [230 kB]\n",
            "Get:32 http://archive.ubuntu.com/ubuntu bionic-updates/main amd64 libzzip-0-13 amd64 0.13.62-3.1ubuntu0.18.04.1 [26.0 kB]\n",
            "Get:33 http://archive.ubuntu.com/ubuntu bionic/main amd64 lmodern all 2.004.5-3 [9,631 kB]\n",
            "Get:34 http://archive.ubuntu.com/ubuntu bionic/main amd64 preview-latex-style all 11.91-1ubuntu1 [185 kB]\n",
            "Get:35 http://archive.ubuntu.com/ubuntu bionic/main amd64 t1utils amd64 1.41-2 [56.0 kB]\n",
            "Get:36 http://archive.ubuntu.com/ubuntu bionic/universe amd64 tex-gyre all 20160520-1 [4,998 kB]\n",
            "Get:37 http://archive.ubuntu.com/ubuntu bionic-updates/main amd64 texlive-binaries amd64 2017.20170613.44572-8ubuntu0.1 [8,179 kB]\n",
            "Get:38 http://archive.ubuntu.com/ubuntu bionic/main amd64 texlive-base all 2017.20180305-1 [18.7 MB]\n",
            "Get:39 http://archive.ubuntu.com/ubuntu bionic/universe amd64 texlive-fonts-recommended all 2017.20180305-1 [5,262 kB]\n",
            "Get:40 http://archive.ubuntu.com/ubuntu bionic/main amd64 texlive-latex-base all 2017.20180305-1 [951 kB]\n",
            "Get:41 http://archive.ubuntu.com/ubuntu bionic/main amd64 texlive-latex-recommended all 2017.20180305-1 [14.9 MB]\n",
            "Get:42 http://archive.ubuntu.com/ubuntu bionic/universe amd64 texlive-pictures all 2017.20180305-1 [4,026 kB]\n",
            "Get:43 http://archive.ubuntu.com/ubuntu bionic/universe amd64 texlive-latex-extra all 2017.20180305-2 [10.6 MB]\n",
            "Get:44 http://archive.ubuntu.com/ubuntu bionic/universe amd64 texlive-plain-generic all 2017.20180305-2 [23.6 MB]\n",
            "Get:45 http://archive.ubuntu.com/ubuntu bionic/universe amd64 tipa all 2:1.3-20 [2,978 kB]\n",
            "Get:46 http://archive.ubuntu.com/ubuntu bionic/universe amd64 texlive-xetex all 2017.20180305-1 [10.7 MB]\n",
            "Fetched 146 MB in 15s (9,475 kB/s)\n",
            "debconf: unable to initialize frontend: Dialog\n",
            "debconf: (No usable dialog-like program is installed, so the dialog based frontend cannot be used. at /usr/share/perl5/Debconf/FrontEnd/Dialog.pm line 76, <> line 46.)\n",
            "debconf: falling back to frontend: Readline\n",
            "debconf: unable to initialize frontend: Readline\n",
            "debconf: (This frontend requires a controlling tty.)\n",
            "debconf: falling back to frontend: Teletype\n",
            "dpkg-preconfigure: unable to re-open stdin: \n",
            "Selecting previously unselected package fonts-droid-fallback.\n",
            "(Reading database ... 124016 files and directories currently installed.)\n",
            "Preparing to unpack .../00-fonts-droid-fallback_1%3a6.0.1r16-1.1_all.deb ...\n",
            "Unpacking fonts-droid-fallback (1:6.0.1r16-1.1) ...\n",
            "Selecting previously unselected package fonts-lato.\n",
            "Preparing to unpack .../01-fonts-lato_2.0-2_all.deb ...\n",
            "Unpacking fonts-lato (2.0-2) ...\n",
            "Selecting previously unselected package poppler-data.\n",
            "Preparing to unpack .../02-poppler-data_0.4.8-2_all.deb ...\n",
            "Unpacking poppler-data (0.4.8-2) ...\n",
            "Selecting previously unselected package tex-common.\n",
            "Preparing to unpack .../03-tex-common_6.09_all.deb ...\n",
            "Unpacking tex-common (6.09) ...\n",
            "Selecting previously unselected package fonts-lmodern.\n",
            "Preparing to unpack .../04-fonts-lmodern_2.004.5-3_all.deb ...\n",
            "Unpacking fonts-lmodern (2.004.5-3) ...\n",
            "Selecting previously unselected package fonts-noto-mono.\n",
            "Preparing to unpack .../05-fonts-noto-mono_20171026-2_all.deb ...\n",
            "Unpacking fonts-noto-mono (20171026-2) ...\n",
            "Selecting previously unselected package fonts-texgyre.\n",
            "Preparing to unpack .../06-fonts-texgyre_20160520-1_all.deb ...\n",
            "Unpacking fonts-texgyre (20160520-1) ...\n",
            "Selecting previously unselected package javascript-common.\n",
            "Preparing to unpack .../07-javascript-common_11_all.deb ...\n",
            "Unpacking javascript-common (11) ...\n",
            "Selecting previously unselected package libcupsfilters1:amd64.\n",
            "Preparing to unpack .../08-libcupsfilters1_1.20.2-0ubuntu3.1_amd64.deb ...\n",
            "Unpacking libcupsfilters1:amd64 (1.20.2-0ubuntu3.1) ...\n",
            "Selecting previously unselected package libcupsimage2:amd64.\n",
            "Preparing to unpack .../09-libcupsimage2_2.2.7-1ubuntu2.9_amd64.deb ...\n",
            "Unpacking libcupsimage2:amd64 (2.2.7-1ubuntu2.9) ...\n",
            "Selecting previously unselected package libijs-0.35:amd64.\n",
            "Preparing to unpack .../10-libijs-0.35_0.35-13_amd64.deb ...\n",
            "Unpacking libijs-0.35:amd64 (0.35-13) ...\n",
            "Selecting previously unselected package libjbig2dec0:amd64.\n",
            "Preparing to unpack .../11-libjbig2dec0_0.13-6_amd64.deb ...\n",
            "Unpacking libjbig2dec0:amd64 (0.13-6) ...\n",
            "Selecting previously unselected package libgs9-common.\n",
            "Preparing to unpack .../12-libgs9-common_9.26~dfsg+0-0ubuntu0.18.04.17_all.deb ...\n",
            "Unpacking libgs9-common (9.26~dfsg+0-0ubuntu0.18.04.17) ...\n",
            "Selecting previously unselected package libgs9:amd64.\n",
            "Preparing to unpack .../13-libgs9_9.26~dfsg+0-0ubuntu0.18.04.17_amd64.deb ...\n",
            "Unpacking libgs9:amd64 (9.26~dfsg+0-0ubuntu0.18.04.17) ...\n",
            "Selecting previously unselected package libjs-jquery.\n",
            "Preparing to unpack .../14-libjs-jquery_3.2.1-1_all.deb ...\n",
            "Unpacking libjs-jquery (3.2.1-1) ...\n",
            "Selecting previously unselected package libkpathsea6:amd64.\n",
            "Preparing to unpack .../15-libkpathsea6_2017.20170613.44572-8ubuntu0.1_amd64.deb ...\n",
            "Unpacking libkpathsea6:amd64 (2017.20170613.44572-8ubuntu0.1) ...\n",
            "Selecting previously unselected package libpotrace0.\n",
            "Preparing to unpack .../16-libpotrace0_1.14-2_amd64.deb ...\n",
            "Unpacking libpotrace0 (1.14-2) ...\n",
            "Selecting previously unselected package libptexenc1:amd64.\n",
            "Preparing to unpack .../17-libptexenc1_2017.20170613.44572-8ubuntu0.1_amd64.deb ...\n",
            "Unpacking libptexenc1:amd64 (2017.20170613.44572-8ubuntu0.1) ...\n",
            "Selecting previously unselected package rubygems-integration.\n",
            "Preparing to unpack .../18-rubygems-integration_1.11_all.deb ...\n",
            "Unpacking rubygems-integration (1.11) ...\n",
            "Selecting previously unselected package ruby2.5.\n",
            "Preparing to unpack .../19-ruby2.5_2.5.1-1ubuntu1.12_amd64.deb ...\n",
            "Unpacking ruby2.5 (2.5.1-1ubuntu1.12) ...\n",
            "Selecting previously unselected package ruby.\n",
            "Preparing to unpack .../20-ruby_1%3a2.5.1_amd64.deb ...\n",
            "Unpacking ruby (1:2.5.1) ...\n",
            "Selecting previously unselected package rake.\n",
            "Preparing to unpack .../21-rake_12.3.1-1ubuntu0.1_all.deb ...\n",
            "Unpacking rake (12.3.1-1ubuntu0.1) ...\n",
            "Selecting previously unselected package ruby-did-you-mean.\n",
            "Preparing to unpack .../22-ruby-did-you-mean_1.2.0-2_all.deb ...\n",
            "Unpacking ruby-did-you-mean (1.2.0-2) ...\n",
            "Selecting previously unselected package ruby-minitest.\n",
            "Preparing to unpack .../23-ruby-minitest_5.10.3-1_all.deb ...\n",
            "Unpacking ruby-minitest (5.10.3-1) ...\n",
            "Selecting previously unselected package ruby-net-telnet.\n",
            "Preparing to unpack .../24-ruby-net-telnet_0.1.1-2_all.deb ...\n",
            "Unpacking ruby-net-telnet (0.1.1-2) ...\n",
            "Selecting previously unselected package ruby-power-assert.\n",
            "Preparing to unpack .../25-ruby-power-assert_0.3.0-1_all.deb ...\n",
            "Unpacking ruby-power-assert (0.3.0-1) ...\n",
            "Selecting previously unselected package ruby-test-unit.\n",
            "Preparing to unpack .../26-ruby-test-unit_3.2.5-1_all.deb ...\n",
            "Unpacking ruby-test-unit (3.2.5-1) ...\n",
            "Selecting previously unselected package libruby2.5:amd64.\n",
            "Preparing to unpack .../27-libruby2.5_2.5.1-1ubuntu1.12_amd64.deb ...\n",
            "Unpacking libruby2.5:amd64 (2.5.1-1ubuntu1.12) ...\n",
            "Selecting previously unselected package libsynctex1:amd64.\n",
            "Preparing to unpack .../28-libsynctex1_2017.20170613.44572-8ubuntu0.1_amd64.deb ...\n",
            "Unpacking libsynctex1:amd64 (2017.20170613.44572-8ubuntu0.1) ...\n",
            "Selecting previously unselected package libtexlua52:amd64.\n",
            "Preparing to unpack .../29-libtexlua52_2017.20170613.44572-8ubuntu0.1_amd64.deb ...\n",
            "Unpacking libtexlua52:amd64 (2017.20170613.44572-8ubuntu0.1) ...\n",
            "Selecting previously unselected package libtexluajit2:amd64.\n",
            "Preparing to unpack .../30-libtexluajit2_2017.20170613.44572-8ubuntu0.1_amd64.deb ...\n",
            "Unpacking libtexluajit2:amd64 (2017.20170613.44572-8ubuntu0.1) ...\n",
            "Selecting previously unselected package libzzip-0-13:amd64.\n",
            "Preparing to unpack .../31-libzzip-0-13_0.13.62-3.1ubuntu0.18.04.1_amd64.deb ...\n",
            "Unpacking libzzip-0-13:amd64 (0.13.62-3.1ubuntu0.18.04.1) ...\n",
            "Selecting previously unselected package lmodern.\n",
            "Preparing to unpack .../32-lmodern_2.004.5-3_all.deb ...\n",
            "Unpacking lmodern (2.004.5-3) ...\n",
            "Selecting previously unselected package preview-latex-style.\n",
            "Preparing to unpack .../33-preview-latex-style_11.91-1ubuntu1_all.deb ...\n",
            "Unpacking preview-latex-style (11.91-1ubuntu1) ...\n",
            "Selecting previously unselected package t1utils.\n",
            "Preparing to unpack .../34-t1utils_1.41-2_amd64.deb ...\n",
            "Unpacking t1utils (1.41-2) ...\n",
            "Selecting previously unselected package tex-gyre.\n",
            "Preparing to unpack .../35-tex-gyre_20160520-1_all.deb ...\n",
            "Unpacking tex-gyre (20160520-1) ...\n",
            "Selecting previously unselected package texlive-binaries.\n",
            "Preparing to unpack .../36-texlive-binaries_2017.20170613.44572-8ubuntu0.1_amd64.deb ...\n",
            "Unpacking texlive-binaries (2017.20170613.44572-8ubuntu0.1) ...\n",
            "Selecting previously unselected package texlive-base.\n",
            "Preparing to unpack .../37-texlive-base_2017.20180305-1_all.deb ...\n",
            "Unpacking texlive-base (2017.20180305-1) ...\n",
            "Selecting previously unselected package texlive-fonts-recommended.\n",
            "Preparing to unpack .../38-texlive-fonts-recommended_2017.20180305-1_all.deb ...\n",
            "Unpacking texlive-fonts-recommended (2017.20180305-1) ...\n",
            "Selecting previously unselected package texlive-latex-base.\n",
            "Preparing to unpack .../39-texlive-latex-base_2017.20180305-1_all.deb ...\n",
            "Unpacking texlive-latex-base (2017.20180305-1) ...\n",
            "Selecting previously unselected package texlive-latex-recommended.\n",
            "Preparing to unpack .../40-texlive-latex-recommended_2017.20180305-1_all.deb ...\n",
            "Unpacking texlive-latex-recommended (2017.20180305-1) ...\n",
            "Selecting previously unselected package texlive-pictures.\n",
            "Preparing to unpack .../41-texlive-pictures_2017.20180305-1_all.deb ...\n",
            "Unpacking texlive-pictures (2017.20180305-1) ...\n",
            "Selecting previously unselected package texlive-latex-extra.\n",
            "Preparing to unpack .../42-texlive-latex-extra_2017.20180305-2_all.deb ...\n",
            "Unpacking texlive-latex-extra (2017.20180305-2) ...\n",
            "Selecting previously unselected package texlive-plain-generic.\n",
            "Preparing to unpack .../43-texlive-plain-generic_2017.20180305-2_all.deb ...\n",
            "Unpacking texlive-plain-generic (2017.20180305-2) ...\n",
            "Selecting previously unselected package tipa.\n",
            "Preparing to unpack .../44-tipa_2%3a1.3-20_all.deb ...\n",
            "Unpacking tipa (2:1.3-20) ...\n",
            "Selecting previously unselected package texlive-xetex.\n",
            "Preparing to unpack .../45-texlive-xetex_2017.20180305-1_all.deb ...\n",
            "Unpacking texlive-xetex (2017.20180305-1) ...\n",
            "Setting up libgs9-common (9.26~dfsg+0-0ubuntu0.18.04.17) ...\n",
            "Setting up libkpathsea6:amd64 (2017.20170613.44572-8ubuntu0.1) ...\n",
            "Setting up libjs-jquery (3.2.1-1) ...\n",
            "Setting up libtexlua52:amd64 (2017.20170613.44572-8ubuntu0.1) ...\n",
            "Setting up fonts-droid-fallback (1:6.0.1r16-1.1) ...\n",
            "Setting up libsynctex1:amd64 (2017.20170613.44572-8ubuntu0.1) ...\n",
            "Setting up libptexenc1:amd64 (2017.20170613.44572-8ubuntu0.1) ...\n",
            "Setting up tex-common (6.09) ...\n",
            "debconf: unable to initialize frontend: Dialog\n",
            "debconf: (No usable dialog-like program is installed, so the dialog based frontend cannot be used. at /usr/share/perl5/Debconf/FrontEnd/Dialog.pm line 76.)\n",
            "debconf: falling back to frontend: Readline\n",
            "update-language: texlive-base not installed and configured, doing nothing!\n",
            "Setting up poppler-data (0.4.8-2) ...\n",
            "Setting up tex-gyre (20160520-1) ...\n",
            "Setting up preview-latex-style (11.91-1ubuntu1) ...\n",
            "Setting up fonts-texgyre (20160520-1) ...\n",
            "Setting up fonts-noto-mono (20171026-2) ...\n",
            "Setting up fonts-lato (2.0-2) ...\n",
            "Setting up libcupsfilters1:amd64 (1.20.2-0ubuntu3.1) ...\n",
            "Setting up libcupsimage2:amd64 (2.2.7-1ubuntu2.9) ...\n",
            "Setting up libjbig2dec0:amd64 (0.13-6) ...\n",
            "Setting up ruby-did-you-mean (1.2.0-2) ...\n",
            "Setting up t1utils (1.41-2) ...\n",
            "Setting up ruby-net-telnet (0.1.1-2) ...\n",
            "Setting up libijs-0.35:amd64 (0.35-13) ...\n",
            "Setting up rubygems-integration (1.11) ...\n",
            "Setting up libpotrace0 (1.14-2) ...\n",
            "Setting up javascript-common (11) ...\n",
            "Setting up ruby-minitest (5.10.3-1) ...\n",
            "Setting up libzzip-0-13:amd64 (0.13.62-3.1ubuntu0.18.04.1) ...\n",
            "Setting up libgs9:amd64 (9.26~dfsg+0-0ubuntu0.18.04.17) ...\n",
            "Setting up libtexluajit2:amd64 (2017.20170613.44572-8ubuntu0.1) ...\n",
            "Setting up fonts-lmodern (2.004.5-3) ...\n",
            "Setting up ruby-power-assert (0.3.0-1) ...\n",
            "Setting up texlive-binaries (2017.20170613.44572-8ubuntu0.1) ...\n",
            "update-alternatives: using /usr/bin/xdvi-xaw to provide /usr/bin/xdvi.bin (xdvi.bin) in auto mode\n",
            "update-alternatives: using /usr/bin/bibtex.original to provide /usr/bin/bibtex (bibtex) in auto mode\n",
            "Setting up texlive-base (2017.20180305-1) ...\n",
            "mktexlsr: Updating /var/lib/texmf/ls-R-TEXLIVEDIST... \n",
            "mktexlsr: Updating /var/lib/texmf/ls-R-TEXMFMAIN... \n",
            "mktexlsr: Updating /var/lib/texmf/ls-R... \n",
            "mktexlsr: Done.\n",
            "tl-paper: setting paper size for dvips to a4: /var/lib/texmf/dvips/config/config-paper.ps\n",
            "tl-paper: setting paper size for dvipdfmx to a4: /var/lib/texmf/dvipdfmx/dvipdfmx-paper.cfg\n",
            "tl-paper: setting paper size for xdvi to a4: /var/lib/texmf/xdvi/XDvi-paper\n",
            "tl-paper: setting paper size for pdftex to a4: /var/lib/texmf/tex/generic/config/pdftexconfig.tex\n",
            "debconf: unable to initialize frontend: Dialog\n",
            "debconf: (No usable dialog-like program is installed, so the dialog based frontend cannot be used. at /usr/share/perl5/Debconf/FrontEnd/Dialog.pm line 76.)\n",
            "debconf: falling back to frontend: Readline\n",
            "Setting up texlive-fonts-recommended (2017.20180305-1) ...\n",
            "Setting up texlive-plain-generic (2017.20180305-2) ...\n",
            "Setting up texlive-latex-base (2017.20180305-1) ...\n",
            "Setting up lmodern (2.004.5-3) ...\n",
            "Setting up texlive-latex-recommended (2017.20180305-1) ...\n",
            "Setting up texlive-pictures (2017.20180305-1) ...\n",
            "Setting up tipa (2:1.3-20) ...\n",
            "Regenerating '/var/lib/texmf/fmtutil.cnf-DEBIAN'... done.\n",
            "Regenerating '/var/lib/texmf/fmtutil.cnf-TEXLIVEDIST'... done.\n",
            "update-fmtutil has updated the following file(s):\n",
            "\t/var/lib/texmf/fmtutil.cnf-DEBIAN\n",
            "\t/var/lib/texmf/fmtutil.cnf-TEXLIVEDIST\n",
            "If you want to activate the changes in the above file(s),\n",
            "you should run fmtutil-sys or fmtutil.\n",
            "Setting up texlive-latex-extra (2017.20180305-2) ...\n",
            "Setting up texlive-xetex (2017.20180305-1) ...\n",
            "Setting up ruby2.5 (2.5.1-1ubuntu1.12) ...\n",
            "Setting up ruby (1:2.5.1) ...\n",
            "Setting up ruby-test-unit (3.2.5-1) ...\n",
            "Setting up rake (12.3.1-1ubuntu0.1) ...\n",
            "Setting up libruby2.5:amd64 (2.5.1-1ubuntu1.12) ...\n",
            "Processing triggers for mime-support (3.60ubuntu1) ...\n",
            "Processing triggers for libc-bin (2.27-3ubuntu1.6) ...\n",
            "Processing triggers for man-db (2.8.3-2ubuntu0.1) ...\n",
            "Processing triggers for fontconfig (2.12.6-0ubuntu2) ...\n",
            "Processing triggers for tex-common (6.09) ...\n",
            "debconf: unable to initialize frontend: Dialog\n",
            "debconf: (No usable dialog-like program is installed, so the dialog based frontend cannot be used. at /usr/share/perl5/Debconf/FrontEnd/Dialog.pm line 76.)\n",
            "debconf: falling back to frontend: Readline\n",
            "Running updmap-sys. This may take some time... done.\n",
            "Running mktexlsr /var/lib/texmf ... done.\n",
            "Building format(s) --all.\n",
            "\tThis may take some time... done.\n"
          ]
        }
      ]
    },
    {
      "cell_type": "code",
      "source": [
        "!jupyter nbconvert --to pdf /content/Google_play_store_Analysis.ipynb"
      ],
      "metadata": {
        "colab": {
          "base_uri": "https://localhost:8080/"
        },
        "id": "orkZD8QU7uM2",
        "outputId": "6cf5e127-71c8-448f-b1b6-195aa6261c0a"
      },
      "execution_count": null,
      "outputs": [
        {
          "output_type": "stream",
          "name": "stdout",
          "text": [
            "[NbConvertApp] WARNING | pattern '/content/Google_play_store_Analysis.ipynb' matched no files\n",
            "This application is used to convert notebook files (*.ipynb)\n",
            "        to various other formats.\n",
            "\n",
            "        WARNING: THE COMMANDLINE INTERFACE MAY CHANGE IN FUTURE RELEASES.\n",
            "\n",
            "Options\n",
            "=======\n",
            "The options below are convenience aliases to configurable class-options,\n",
            "as listed in the \"Equivalent to\" description-line of the aliases.\n",
            "To see all configurable class-options for some <cmd>, use:\n",
            "    <cmd> --help-all\n",
            "\n",
            "--debug\n",
            "    set log level to logging.DEBUG (maximize logging output)\n",
            "    Equivalent to: [--Application.log_level=10]\n",
            "--show-config\n",
            "    Show the application's configuration (human-readable format)\n",
            "    Equivalent to: [--Application.show_config=True]\n",
            "--show-config-json\n",
            "    Show the application's configuration (json format)\n",
            "    Equivalent to: [--Application.show_config_json=True]\n",
            "--generate-config\n",
            "    generate default config file\n",
            "    Equivalent to: [--JupyterApp.generate_config=True]\n",
            "-y\n",
            "    Answer yes to any questions instead of prompting.\n",
            "    Equivalent to: [--JupyterApp.answer_yes=True]\n",
            "--execute\n",
            "    Execute the notebook prior to export.\n",
            "    Equivalent to: [--ExecutePreprocessor.enabled=True]\n",
            "--allow-errors\n",
            "    Continue notebook execution even if one of the cells throws an error and include the error message in the cell output (the default behaviour is to abort conversion). This flag is only relevant if '--execute' was specified, too.\n",
            "    Equivalent to: [--ExecutePreprocessor.allow_errors=True]\n",
            "--stdin\n",
            "    read a single notebook file from stdin. Write the resulting notebook with default basename 'notebook.*'\n",
            "    Equivalent to: [--NbConvertApp.from_stdin=True]\n",
            "--stdout\n",
            "    Write notebook output to stdout instead of files.\n",
            "    Equivalent to: [--NbConvertApp.writer_class=StdoutWriter]\n",
            "--inplace\n",
            "    Run nbconvert in place, overwriting the existing notebook (only \n",
            "            relevant when converting to notebook format)\n",
            "    Equivalent to: [--NbConvertApp.use_output_suffix=False --NbConvertApp.export_format=notebook --FilesWriter.build_directory=]\n",
            "--clear-output\n",
            "    Clear output of current file and save in place, \n",
            "            overwriting the existing notebook.\n",
            "    Equivalent to: [--NbConvertApp.use_output_suffix=False --NbConvertApp.export_format=notebook --FilesWriter.build_directory= --ClearOutputPreprocessor.enabled=True]\n",
            "--no-prompt\n",
            "    Exclude input and output prompts from converted document.\n",
            "    Equivalent to: [--TemplateExporter.exclude_input_prompt=True --TemplateExporter.exclude_output_prompt=True]\n",
            "--no-input\n",
            "    Exclude input cells and output prompts from converted document. \n",
            "            This mode is ideal for generating code-free reports.\n",
            "    Equivalent to: [--TemplateExporter.exclude_output_prompt=True --TemplateExporter.exclude_input=True]\n",
            "--log-level=<Enum>\n",
            "    Set the log level by value or name.\n",
            "    Choices: any of [0, 10, 20, 30, 40, 50, 'DEBUG', 'INFO', 'WARN', 'ERROR', 'CRITICAL']\n",
            "    Default: 30\n",
            "    Equivalent to: [--Application.log_level]\n",
            "--config=<Unicode>\n",
            "    Full path of a config file.\n",
            "    Default: ''\n",
            "    Equivalent to: [--JupyterApp.config_file]\n",
            "--to=<Unicode>\n",
            "    The export format to be used, either one of the built-in formats\n",
            "            ['asciidoc', 'custom', 'html', 'latex', 'markdown', 'notebook', 'pdf', 'python', 'rst', 'script', 'slides']\n",
            "            or a dotted object name that represents the import path for an\n",
            "            `Exporter` class\n",
            "    Default: 'html'\n",
            "    Equivalent to: [--NbConvertApp.export_format]\n",
            "--template=<Unicode>\n",
            "    Name of the template file to use\n",
            "    Default: ''\n",
            "    Equivalent to: [--TemplateExporter.template_file]\n",
            "--writer=<DottedObjectName>\n",
            "    Writer class used to write the \n",
            "                                        results of the conversion\n",
            "    Default: 'FilesWriter'\n",
            "    Equivalent to: [--NbConvertApp.writer_class]\n",
            "--post=<DottedOrNone>\n",
            "    PostProcessor class used to write the\n",
            "                                        results of the conversion\n",
            "    Default: ''\n",
            "    Equivalent to: [--NbConvertApp.postprocessor_class]\n",
            "--output=<Unicode>\n",
            "    overwrite base name use for output files.\n",
            "                can only be used when converting one notebook at a time.\n",
            "    Default: ''\n",
            "    Equivalent to: [--NbConvertApp.output_base]\n",
            "--output-dir=<Unicode>\n",
            "    Directory to write output(s) to. Defaults\n",
            "                                  to output to the directory of each notebook. To recover\n",
            "                                  previous default behaviour (outputting to the current \n",
            "                                  working directory) use . as the flag value.\n",
            "    Default: ''\n",
            "    Equivalent to: [--FilesWriter.build_directory]\n",
            "--reveal-prefix=<Unicode>\n",
            "    The URL prefix for reveal.js (version 3.x).\n",
            "            This defaults to the reveal CDN, but can be any url pointing to a copy \n",
            "            of reveal.js. \n",
            "            For speaker notes to work, this must be a relative path to a local \n",
            "            copy of reveal.js: e.g., \"reveal.js\".\n",
            "            If a relative path is given, it must be a subdirectory of the\n",
            "            current directory (from which the server is run).\n",
            "            See the usage documentation\n",
            "            (https://nbconvert.readthedocs.io/en/latest/usage.html#reveal-js-html-slideshow)\n",
            "            for more details.\n",
            "    Default: ''\n",
            "    Equivalent to: [--SlidesExporter.reveal_url_prefix]\n",
            "--nbformat=<Enum>\n",
            "    The nbformat version to write.\n",
            "            Use this to downgrade notebooks.\n",
            "    Choices: any of [1, 2, 3, 4]\n",
            "    Default: 4\n",
            "    Equivalent to: [--NotebookExporter.nbformat_version]\n",
            "\n",
            "Examples\n",
            "--------\n",
            "\n",
            "    The simplest way to use nbconvert is\n",
            "\n",
            "            > jupyter nbconvert mynotebook.ipynb\n",
            "\n",
            "            which will convert mynotebook.ipynb to the default format (probably HTML).\n",
            "\n",
            "            You can specify the export format with `--to`.\n",
            "            Options include ['asciidoc', 'custom', 'html', 'latex', 'markdown', 'notebook', 'pdf', 'python', 'rst', 'script', 'slides'].\n",
            "\n",
            "            > jupyter nbconvert --to latex mynotebook.ipynb\n",
            "\n",
            "            Both HTML and LaTeX support multiple output templates. LaTeX includes\n",
            "            'base', 'article' and 'report'.  HTML includes 'basic' and 'full'. You\n",
            "            can specify the flavor of the format used.\n",
            "\n",
            "            > jupyter nbconvert --to html --template basic mynotebook.ipynb\n",
            "\n",
            "            You can also pipe the output to stdout, rather than a file\n",
            "\n",
            "            > jupyter nbconvert mynotebook.ipynb --stdout\n",
            "\n",
            "            PDF is generated via latex\n",
            "\n",
            "            > jupyter nbconvert mynotebook.ipynb --to pdf\n",
            "\n",
            "            You can get (and serve) a Reveal.js-powered slideshow\n",
            "\n",
            "            > jupyter nbconvert myslides.ipynb --to slides --post serve\n",
            "\n",
            "            Multiple notebooks can be given at the command line in a couple of \n",
            "            different ways:\n",
            "\n",
            "            > jupyter nbconvert notebook*.ipynb\n",
            "            > jupyter nbconvert notebook1.ipynb notebook2.ipynb\n",
            "\n",
            "            or you can specify the notebooks list in a config file, containing::\n",
            "\n",
            "                c.NbConvertApp.notebooks = [\"my_notebook.ipynb\"]\n",
            "\n",
            "            > jupyter nbconvert --config mycfg.py\n",
            "\n",
            "To see all available configurables, use `--help-all`.\n",
            "\n"
          ]
        }
      ]
    },
    {
      "cell_type": "code",
      "source": [],
      "metadata": {
        "id": "7C-USTOC8tzR"
      },
      "execution_count": null,
      "outputs": []
    }
  ]
}