{
  "nbformat": 4,
  "nbformat_minor": 0,
  "metadata": {
    "colab": {
      "provenance": [],
      "authorship_tag": "ABX9TyOyoy/g1IoPRNtJR3PjaEnB",
      "include_colab_link": true
    },
    "kernelspec": {
      "name": "python3",
      "display_name": "Python 3"
    },
    "language_info": {
      "name": "python"
    }
  },
  "cells": [
    {
      "cell_type": "markdown",
      "metadata": {
        "id": "view-in-github",
        "colab_type": "text"
      },
      "source": [
        "<a href=\"https://colab.research.google.com/github/cannel14/-Classification-Analysis-Supervised-Learning-/blob/main/Google_play_store_Analysis.ipynb\" target=\"_parent\"><img src=\"https://colab.research.google.com/assets/colab-badge.svg\" alt=\"Open In Colab\"/></a>"
      ]
    },
    {
      "cell_type": "markdown",
      "source": [
        "**B2C IPG Merchant Payment App\n",
        "Competitor Analysis **\n",
        "\n",
        "IPG Merchant payment app has many competitors but we're going to take a deep dive on the three main competitors,this include:\n",
        "1. Kopokopo\n",
        "2. PesaPal\n",
        "3. Paystack\n",
        "\n"
      ],
      "metadata": {
        "id": "KU-3YsK_EGbd"
      }
    },
    {
      "cell_type": "markdown",
      "source": [
        "While trying to understand the overall market share of each competitor one of the identifiers/ distinguishers in terms of Market share is Product review from the end consumers of a particular product.In this case, we're going to conduct a sentimental analysis to get a feel of how the customer feels or bring emotions."
      ],
      "metadata": {
        "id": "i6V3mTrpOcSb"
      }
    },
    {
      "cell_type": "markdown",
      "source": [
        "Sentiment analysis, also known as opinion mining, is the process of using natural language processing, text analysis, and computational linguistics to identify and extract subjective information from text. It is often used to determine the overall sentiment of a piece of text, such as whether a review of a product is positive or negative."
      ],
      "metadata": {
        "id": "aXyYDE2jQ_YD"
      }
    },
    {
      "cell_type": "markdown",
      "source": [
        "There are several ways to perform sentimental analysis in Python. One way is to use a pre-trained machine learning model to classify text as having positive, negative, or neutral sentiment."
      ],
      "metadata": {
        "id": "MPBSiosuSA2O"
      }
    },
    {
      "cell_type": "markdown",
      "source": [
        "The sentiment attribute of the TextBlob object returns a tuple containing the polarity and subjectivity of the text. The polarity is a value between -1 and 1, where -1 indicates a negative sentiment and 1 indicates a positive sentiment. The subjectivity is a value between 0 and 1, where 0 indicates a very objective piece of text and 1 indicates a very subjective piece of text."
      ],
      "metadata": {
        "id": "ysXkiyMzSRJB"
      }
    },
    {
      "cell_type": "code",
      "source": [
        "!pip install google_play_scraper"
      ],
      "metadata": {
        "colab": {
          "base_uri": "https://localhost:8080/"
        },
        "id": "SRlITzxBGQxy",
        "outputId": "c5e18cda-7443-4266-eae4-5922abeafbb5"
      },
      "execution_count": 85,
      "outputs": [
        {
          "output_type": "stream",
          "name": "stdout",
          "text": [
            "Looking in indexes: https://pypi.org/simple, https://us-python.pkg.dev/colab-wheels/public/simple/\n",
            "Requirement already satisfied: google_play_scraper in /usr/local/lib/python3.8/dist-packages (1.2.2)\n"
          ]
        }
      ]
    },
    {
      "cell_type": "code",
      "source": [
        "!pip install emoji"
      ],
      "metadata": {
        "colab": {
          "base_uri": "https://localhost:8080/"
        },
        "id": "Hi4Cy9qOZZ-k",
        "outputId": "1405c786-b13d-4a3e-99fb-ba6a978f5540"
      },
      "execution_count": 86,
      "outputs": [
        {
          "output_type": "stream",
          "name": "stdout",
          "text": [
            "Looking in indexes: https://pypi.org/simple, https://us-python.pkg.dev/colab-wheels/public/simple/\n",
            "Requirement already satisfied: emoji in /usr/local/lib/python3.8/dist-packages (2.2.0)\n"
          ]
        }
      ]
    },
    {
      "cell_type": "markdown",
      "source": [
        "We can use libraries like NLTK, Gensim, TextBlob, spaCY, CoreNLP for data pre-processing and sentiment analysis. We will use NLTK for pre-processing of data and TextBlob to calculate sentiment score (sentiment polarity and subjectivity ) ."
      ],
      "metadata": {
        "id": "joPc-ljOcDI0"
      }
    },
    {
      "cell_type": "code",
      "execution_count": 87,
      "metadata": {
        "id": "0zr5OTohBp5P"
      },
      "outputs": [],
      "source": [
        "# import libraries\n",
        "from google_play_scraper import Sort, reviews_all, reviews, app\n",
        "import pandas as pd\n",
        "import numpy as np\n",
        "import matplotlib.pyplot as plt\n",
        "import seaborn as sns\n",
        "import string\n",
        "import emoji\n",
        "import re\n",
        "import nltk\n",
        "\n",
        "from nltk.stem import PorterStemmer\n",
        "from nltk.corpus import stopwords\n",
        "from wordcloud import WordCloud, STOPWORDS\n",
        "from textblob import TextBlob\n",
        "from nltk import word_tokenize, sent_tokenize"
      ]
    },
    {
      "cell_type": "markdown",
      "source": [
        "**Kopo Kopo Reviews Sentimental Analysis**"
      ],
      "metadata": {
        "id": "aSn0CAtjWEHz"
      }
    },
    {
      "cell_type": "code",
      "source": [
        "#scrap all reviews\n",
        "Kopo_kopo, continuation_token = reviews(\n",
        "    'com.kopokopo.kopo',\n",
        "    sort = Sort.MOST_RELEVANT,\n",
        "    count = 900,\n",
        "    filter_score_with = None\n",
        "    \n",
        ")"
      ],
      "metadata": {
        "id": "o9ZZW05XGV5d"
      },
      "execution_count": 88,
      "outputs": []
    },
    {
      "cell_type": "markdown",
      "source": [
        "## Pesapal RSA"
      ],
      "metadata": {
        "id": "-x-U8sT0Yb6e"
      }
    },
    {
      "cell_type": "code",
      "source": [
        "#scrap all reviews\n",
        "Pesapal, continuation_token = reviews(\n",
        "    'duka.pesapal.com',\n",
        "    sort = Sort.MOST_RELEVANT,\n",
        "    count = 900,\n",
        "    filter_score_with = None\n",
        "    \n",
        ")"
      ],
      "metadata": {
        "id": "DkihzlwiSo8W"
      },
      "execution_count": 89,
      "outputs": []
    },
    {
      "cell_type": "markdown",
      "source": [
        "## **Paystack RSA**"
      ],
      "metadata": {
        "id": "S0_o0iGSYipK"
      }
    },
    {
      "cell_type": "code",
      "source": [
        "#scrap all reviews\n",
        "Pay_stack, continuation_token = reviews(\n",
        "    'com.paystack.go',\n",
        "    sort = Sort.MOST_RELEVANT,\n",
        "    count = 900,\n",
        "    filter_score_with = None\n",
        "    \n",
        ")"
      ],
      "metadata": {
        "id": "K9pFtq3WSqA2"
      },
      "execution_count": 90,
      "outputs": []
    },
    {
      "cell_type": "markdown",
      "source": [
        "## **PesaPal data Import**"
      ],
      "metadata": {
        "id": "gyytrI2yUHtI"
      }
    },
    {
      "cell_type": "code",
      "source": [
        "#converting into data Frame\n",
        "PesaPal_data = pd.DataFrame(np.array(Pesapal), columns = ['review'])\n",
        "PesaPal_data = PesaPal_data.join(pd.DataFrame(PesaPal_data.pop('review').tolist()))\n",
        "PesaPal_data.head()"
      ],
      "metadata": {
        "id": "CDXjTeAJT8Gw",
        "colab": {
          "base_uri": "https://localhost:8080/",
          "height": 441
        },
        "outputId": "a7ecff0a-e89c-4671-9799-a03f3a0a4133"
      },
      "execution_count": 91,
      "outputs": [
        {
          "output_type": "execute_result",
          "data": {
            "text/plain": [
              "                               reviewId       userName  \\\n",
              "0  2ece545e-bd8a-4750-ab29-b509cce6b677  kiirya ronald   \n",
              "1  f7c64b4c-1110-4550-9ce9-bb2b589fa9be  A Google user   \n",
              "2  a28a93de-7198-4e9c-827b-f198f0992520  A Google user   \n",
              "3  0e8361a1-20a9-473f-b0ef-ba1c275e7224   serah mutemi   \n",
              "4  465370fa-dccf-4a15-9bd1-2f71fe898939  A Google user   \n",
              "\n",
              "                                           userImage  \\\n",
              "0  https://play-lh.googleusercontent.com/a-/AD5-W...   \n",
              "1  https://play-lh.googleusercontent.com/EGemoI2N...   \n",
              "2  https://play-lh.googleusercontent.com/EGemoI2N...   \n",
              "3  https://play-lh.googleusercontent.com/a-/AD5-W...   \n",
              "4  https://play-lh.googleusercontent.com/EGemoI2N...   \n",
              "\n",
              "                                             content  score  thumbsUpCount  \\\n",
              "0  One of the best POs app, one improvement neede...      3              0   \n",
              "1  It's the best love it, saves time and it's acc...      5              7   \n",
              "2  The app is nice but anytime I try selling on c...      5              3   \n",
              "3  Its a good app I wish it were available on des...      4              6   \n",
              "4           best app need charts summary thanks alot      5              3   \n",
              "\n",
              "  reviewCreatedVersion                  at replyContent repliedAt  \n",
              "0                 35.4 2022-06-22 06:50:54         None      None  \n",
              "1                   29 2018-11-21 09:48:20         None      None  \n",
              "2                   29 2019-12-09 18:59:03         None      None  \n",
              "3                   32 2020-08-27 07:41:29         None      None  \n",
              "4                   29 2019-01-13 19:23:58         None      None  "
            ],
            "text/html": [
              "\n",
              "  <div id=\"df-bf296d4a-e644-4e9f-b089-cd73bba98dff\">\n",
              "    <div class=\"colab-df-container\">\n",
              "      <div>\n",
              "<style scoped>\n",
              "    .dataframe tbody tr th:only-of-type {\n",
              "        vertical-align: middle;\n",
              "    }\n",
              "\n",
              "    .dataframe tbody tr th {\n",
              "        vertical-align: top;\n",
              "    }\n",
              "\n",
              "    .dataframe thead th {\n",
              "        text-align: right;\n",
              "    }\n",
              "</style>\n",
              "<table border=\"1\" class=\"dataframe\">\n",
              "  <thead>\n",
              "    <tr style=\"text-align: right;\">\n",
              "      <th></th>\n",
              "      <th>reviewId</th>\n",
              "      <th>userName</th>\n",
              "      <th>userImage</th>\n",
              "      <th>content</th>\n",
              "      <th>score</th>\n",
              "      <th>thumbsUpCount</th>\n",
              "      <th>reviewCreatedVersion</th>\n",
              "      <th>at</th>\n",
              "      <th>replyContent</th>\n",
              "      <th>repliedAt</th>\n",
              "    </tr>\n",
              "  </thead>\n",
              "  <tbody>\n",
              "    <tr>\n",
              "      <th>0</th>\n",
              "      <td>2ece545e-bd8a-4750-ab29-b509cce6b677</td>\n",
              "      <td>kiirya ronald</td>\n",
              "      <td>https://play-lh.googleusercontent.com/a-/AD5-W...</td>\n",
              "      <td>One of the best POs app, one improvement neede...</td>\n",
              "      <td>3</td>\n",
              "      <td>0</td>\n",
              "      <td>35.4</td>\n",
              "      <td>2022-06-22 06:50:54</td>\n",
              "      <td>None</td>\n",
              "      <td>None</td>\n",
              "    </tr>\n",
              "    <tr>\n",
              "      <th>1</th>\n",
              "      <td>f7c64b4c-1110-4550-9ce9-bb2b589fa9be</td>\n",
              "      <td>A Google user</td>\n",
              "      <td>https://play-lh.googleusercontent.com/EGemoI2N...</td>\n",
              "      <td>It's the best love it, saves time and it's acc...</td>\n",
              "      <td>5</td>\n",
              "      <td>7</td>\n",
              "      <td>29</td>\n",
              "      <td>2018-11-21 09:48:20</td>\n",
              "      <td>None</td>\n",
              "      <td>None</td>\n",
              "    </tr>\n",
              "    <tr>\n",
              "      <th>2</th>\n",
              "      <td>a28a93de-7198-4e9c-827b-f198f0992520</td>\n",
              "      <td>A Google user</td>\n",
              "      <td>https://play-lh.googleusercontent.com/EGemoI2N...</td>\n",
              "      <td>The app is nice but anytime I try selling on c...</td>\n",
              "      <td>5</td>\n",
              "      <td>3</td>\n",
              "      <td>29</td>\n",
              "      <td>2019-12-09 18:59:03</td>\n",
              "      <td>None</td>\n",
              "      <td>None</td>\n",
              "    </tr>\n",
              "    <tr>\n",
              "      <th>3</th>\n",
              "      <td>0e8361a1-20a9-473f-b0ef-ba1c275e7224</td>\n",
              "      <td>serah mutemi</td>\n",
              "      <td>https://play-lh.googleusercontent.com/a-/AD5-W...</td>\n",
              "      <td>Its a good app I wish it were available on des...</td>\n",
              "      <td>4</td>\n",
              "      <td>6</td>\n",
              "      <td>32</td>\n",
              "      <td>2020-08-27 07:41:29</td>\n",
              "      <td>None</td>\n",
              "      <td>None</td>\n",
              "    </tr>\n",
              "    <tr>\n",
              "      <th>4</th>\n",
              "      <td>465370fa-dccf-4a15-9bd1-2f71fe898939</td>\n",
              "      <td>A Google user</td>\n",
              "      <td>https://play-lh.googleusercontent.com/EGemoI2N...</td>\n",
              "      <td>best app need charts summary thanks alot</td>\n",
              "      <td>5</td>\n",
              "      <td>3</td>\n",
              "      <td>29</td>\n",
              "      <td>2019-01-13 19:23:58</td>\n",
              "      <td>None</td>\n",
              "      <td>None</td>\n",
              "    </tr>\n",
              "  </tbody>\n",
              "</table>\n",
              "</div>\n",
              "      <button class=\"colab-df-convert\" onclick=\"convertToInteractive('df-bf296d4a-e644-4e9f-b089-cd73bba98dff')\"\n",
              "              title=\"Convert this dataframe to an interactive table.\"\n",
              "              style=\"display:none;\">\n",
              "        \n",
              "  <svg xmlns=\"http://www.w3.org/2000/svg\" height=\"24px\"viewBox=\"0 0 24 24\"\n",
              "       width=\"24px\">\n",
              "    <path d=\"M0 0h24v24H0V0z\" fill=\"none\"/>\n",
              "    <path d=\"M18.56 5.44l.94 2.06.94-2.06 2.06-.94-2.06-.94-.94-2.06-.94 2.06-2.06.94zm-11 1L8.5 8.5l.94-2.06 2.06-.94-2.06-.94L8.5 2.5l-.94 2.06-2.06.94zm10 10l.94 2.06.94-2.06 2.06-.94-2.06-.94-.94-2.06-.94 2.06-2.06.94z\"/><path d=\"M17.41 7.96l-1.37-1.37c-.4-.4-.92-.59-1.43-.59-.52 0-1.04.2-1.43.59L10.3 9.45l-7.72 7.72c-.78.78-.78 2.05 0 2.83L4 21.41c.39.39.9.59 1.41.59.51 0 1.02-.2 1.41-.59l7.78-7.78 2.81-2.81c.8-.78.8-2.07 0-2.86zM5.41 20L4 18.59l7.72-7.72 1.47 1.35L5.41 20z\"/>\n",
              "  </svg>\n",
              "      </button>\n",
              "      \n",
              "  <style>\n",
              "    .colab-df-container {\n",
              "      display:flex;\n",
              "      flex-wrap:wrap;\n",
              "      gap: 12px;\n",
              "    }\n",
              "\n",
              "    .colab-df-convert {\n",
              "      background-color: #E8F0FE;\n",
              "      border: none;\n",
              "      border-radius: 50%;\n",
              "      cursor: pointer;\n",
              "      display: none;\n",
              "      fill: #1967D2;\n",
              "      height: 32px;\n",
              "      padding: 0 0 0 0;\n",
              "      width: 32px;\n",
              "    }\n",
              "\n",
              "    .colab-df-convert:hover {\n",
              "      background-color: #E2EBFA;\n",
              "      box-shadow: 0px 1px 2px rgba(60, 64, 67, 0.3), 0px 1px 3px 1px rgba(60, 64, 67, 0.15);\n",
              "      fill: #174EA6;\n",
              "    }\n",
              "\n",
              "    [theme=dark] .colab-df-convert {\n",
              "      background-color: #3B4455;\n",
              "      fill: #D2E3FC;\n",
              "    }\n",
              "\n",
              "    [theme=dark] .colab-df-convert:hover {\n",
              "      background-color: #434B5C;\n",
              "      box-shadow: 0px 1px 3px 1px rgba(0, 0, 0, 0.15);\n",
              "      filter: drop-shadow(0px 1px 2px rgba(0, 0, 0, 0.3));\n",
              "      fill: #FFFFFF;\n",
              "    }\n",
              "  </style>\n",
              "\n",
              "      <script>\n",
              "        const buttonEl =\n",
              "          document.querySelector('#df-bf296d4a-e644-4e9f-b089-cd73bba98dff button.colab-df-convert');\n",
              "        buttonEl.style.display =\n",
              "          google.colab.kernel.accessAllowed ? 'block' : 'none';\n",
              "\n",
              "        async function convertToInteractive(key) {\n",
              "          const element = document.querySelector('#df-bf296d4a-e644-4e9f-b089-cd73bba98dff');\n",
              "          const dataTable =\n",
              "            await google.colab.kernel.invokeFunction('convertToInteractive',\n",
              "                                                     [key], {});\n",
              "          if (!dataTable) return;\n",
              "\n",
              "          const docLinkHtml = 'Like what you see? Visit the ' +\n",
              "            '<a target=\"_blank\" href=https://colab.research.google.com/notebooks/data_table.ipynb>data table notebook</a>'\n",
              "            + ' to learn more about interactive tables.';\n",
              "          element.innerHTML = '';\n",
              "          dataTable['output_type'] = 'display_data';\n",
              "          await google.colab.output.renderOutput(dataTable, element);\n",
              "          const docLink = document.createElement('div');\n",
              "          docLink.innerHTML = docLinkHtml;\n",
              "          element.appendChild(docLink);\n",
              "        }\n",
              "      </script>\n",
              "    </div>\n",
              "  </div>\n",
              "  "
            ]
          },
          "metadata": {},
          "execution_count": 91
        }
      ]
    },
    {
      "cell_type": "code",
      "source": [
        "print(PesaPal_data.shape)\n",
        "PesaPal_data.info()"
      ],
      "metadata": {
        "id": "G5PCoIzkVe4z",
        "colab": {
          "base_uri": "https://localhost:8080/"
        },
        "outputId": "6c35b943-e35e-4e1e-8e6b-eeea29909bce"
      },
      "execution_count": 92,
      "outputs": [
        {
          "output_type": "stream",
          "name": "stdout",
          "text": [
            "(21, 10)\n",
            "<class 'pandas.core.frame.DataFrame'>\n",
            "RangeIndex: 21 entries, 0 to 20\n",
            "Data columns (total 10 columns):\n",
            " #   Column                Non-Null Count  Dtype         \n",
            "---  ------                --------------  -----         \n",
            " 0   reviewId              21 non-null     object        \n",
            " 1   userName              21 non-null     object        \n",
            " 2   userImage             21 non-null     object        \n",
            " 3   content               21 non-null     object        \n",
            " 4   score                 21 non-null     int64         \n",
            " 5   thumbsUpCount         21 non-null     int64         \n",
            " 6   reviewCreatedVersion  17 non-null     object        \n",
            " 7   at                    21 non-null     datetime64[ns]\n",
            " 8   replyContent          0 non-null      object        \n",
            " 9   repliedAt             0 non-null      object        \n",
            "dtypes: datetime64[ns](1), int64(2), object(7)\n",
            "memory usage: 1.8+ KB\n"
          ]
        }
      ]
    },
    {
      "cell_type": "code",
      "source": [
        "len(PesaPal_data.index)"
      ],
      "metadata": {
        "id": "ArB3nAszWcUQ",
        "colab": {
          "base_uri": "https://localhost:8080/"
        },
        "outputId": "85e41cbc-55c0-4339-f0bd-490194e41935"
      },
      "execution_count": 93,
      "outputs": [
        {
          "output_type": "execute_result",
          "data": {
            "text/plain": [
              "21"
            ]
          },
          "metadata": {},
          "execution_count": 93
        }
      ]
    },
    {
      "cell_type": "code",
      "source": [
        "# drop the unnecesarry columns before we can start the EDA(Exploratory Data Analysis)\n",
        "PesaPal_data1 = PesaPal_data[[\"content\",\"reviewCreatedVersion\",\"score\",\"at\",\"thumbsUpCount\"]]\n",
        "PesaPal_data1.head()"
      ],
      "metadata": {
        "id": "fM3uSeMuW_Ek",
        "colab": {
          "base_uri": "https://localhost:8080/",
          "height": 206
        },
        "outputId": "bbec7c66-8157-42a8-f04c-fed3bc30d3f2"
      },
      "execution_count": 94,
      "outputs": [
        {
          "output_type": "execute_result",
          "data": {
            "text/plain": [
              "                                             content reviewCreatedVersion  \\\n",
              "0  One of the best POs app, one improvement neede...                 35.4   \n",
              "1  It's the best love it, saves time and it's acc...                   29   \n",
              "2  The app is nice but anytime I try selling on c...                   29   \n",
              "3  Its a good app I wish it were available on des...                   32   \n",
              "4           best app need charts summary thanks alot                   29   \n",
              "\n",
              "   score                  at  thumbsUpCount  \n",
              "0      3 2022-06-22 06:50:54              0  \n",
              "1      5 2018-11-21 09:48:20              7  \n",
              "2      5 2019-12-09 18:59:03              3  \n",
              "3      4 2020-08-27 07:41:29              6  \n",
              "4      5 2019-01-13 19:23:58              3  "
            ],
            "text/html": [
              "\n",
              "  <div id=\"df-7b17b1de-1f85-4dc2-b2c6-bd398b5c328d\">\n",
              "    <div class=\"colab-df-container\">\n",
              "      <div>\n",
              "<style scoped>\n",
              "    .dataframe tbody tr th:only-of-type {\n",
              "        vertical-align: middle;\n",
              "    }\n",
              "\n",
              "    .dataframe tbody tr th {\n",
              "        vertical-align: top;\n",
              "    }\n",
              "\n",
              "    .dataframe thead th {\n",
              "        text-align: right;\n",
              "    }\n",
              "</style>\n",
              "<table border=\"1\" class=\"dataframe\">\n",
              "  <thead>\n",
              "    <tr style=\"text-align: right;\">\n",
              "      <th></th>\n",
              "      <th>content</th>\n",
              "      <th>reviewCreatedVersion</th>\n",
              "      <th>score</th>\n",
              "      <th>at</th>\n",
              "      <th>thumbsUpCount</th>\n",
              "    </tr>\n",
              "  </thead>\n",
              "  <tbody>\n",
              "    <tr>\n",
              "      <th>0</th>\n",
              "      <td>One of the best POs app, one improvement neede...</td>\n",
              "      <td>35.4</td>\n",
              "      <td>3</td>\n",
              "      <td>2022-06-22 06:50:54</td>\n",
              "      <td>0</td>\n",
              "    </tr>\n",
              "    <tr>\n",
              "      <th>1</th>\n",
              "      <td>It's the best love it, saves time and it's acc...</td>\n",
              "      <td>29</td>\n",
              "      <td>5</td>\n",
              "      <td>2018-11-21 09:48:20</td>\n",
              "      <td>7</td>\n",
              "    </tr>\n",
              "    <tr>\n",
              "      <th>2</th>\n",
              "      <td>The app is nice but anytime I try selling on c...</td>\n",
              "      <td>29</td>\n",
              "      <td>5</td>\n",
              "      <td>2019-12-09 18:59:03</td>\n",
              "      <td>3</td>\n",
              "    </tr>\n",
              "    <tr>\n",
              "      <th>3</th>\n",
              "      <td>Its a good app I wish it were available on des...</td>\n",
              "      <td>32</td>\n",
              "      <td>4</td>\n",
              "      <td>2020-08-27 07:41:29</td>\n",
              "      <td>6</td>\n",
              "    </tr>\n",
              "    <tr>\n",
              "      <th>4</th>\n",
              "      <td>best app need charts summary thanks alot</td>\n",
              "      <td>29</td>\n",
              "      <td>5</td>\n",
              "      <td>2019-01-13 19:23:58</td>\n",
              "      <td>3</td>\n",
              "    </tr>\n",
              "  </tbody>\n",
              "</table>\n",
              "</div>\n",
              "      <button class=\"colab-df-convert\" onclick=\"convertToInteractive('df-7b17b1de-1f85-4dc2-b2c6-bd398b5c328d')\"\n",
              "              title=\"Convert this dataframe to an interactive table.\"\n",
              "              style=\"display:none;\">\n",
              "        \n",
              "  <svg xmlns=\"http://www.w3.org/2000/svg\" height=\"24px\"viewBox=\"0 0 24 24\"\n",
              "       width=\"24px\">\n",
              "    <path d=\"M0 0h24v24H0V0z\" fill=\"none\"/>\n",
              "    <path d=\"M18.56 5.44l.94 2.06.94-2.06 2.06-.94-2.06-.94-.94-2.06-.94 2.06-2.06.94zm-11 1L8.5 8.5l.94-2.06 2.06-.94-2.06-.94L8.5 2.5l-.94 2.06-2.06.94zm10 10l.94 2.06.94-2.06 2.06-.94-2.06-.94-.94-2.06-.94 2.06-2.06.94z\"/><path d=\"M17.41 7.96l-1.37-1.37c-.4-.4-.92-.59-1.43-.59-.52 0-1.04.2-1.43.59L10.3 9.45l-7.72 7.72c-.78.78-.78 2.05 0 2.83L4 21.41c.39.39.9.59 1.41.59.51 0 1.02-.2 1.41-.59l7.78-7.78 2.81-2.81c.8-.78.8-2.07 0-2.86zM5.41 20L4 18.59l7.72-7.72 1.47 1.35L5.41 20z\"/>\n",
              "  </svg>\n",
              "      </button>\n",
              "      \n",
              "  <style>\n",
              "    .colab-df-container {\n",
              "      display:flex;\n",
              "      flex-wrap:wrap;\n",
              "      gap: 12px;\n",
              "    }\n",
              "\n",
              "    .colab-df-convert {\n",
              "      background-color: #E8F0FE;\n",
              "      border: none;\n",
              "      border-radius: 50%;\n",
              "      cursor: pointer;\n",
              "      display: none;\n",
              "      fill: #1967D2;\n",
              "      height: 32px;\n",
              "      padding: 0 0 0 0;\n",
              "      width: 32px;\n",
              "    }\n",
              "\n",
              "    .colab-df-convert:hover {\n",
              "      background-color: #E2EBFA;\n",
              "      box-shadow: 0px 1px 2px rgba(60, 64, 67, 0.3), 0px 1px 3px 1px rgba(60, 64, 67, 0.15);\n",
              "      fill: #174EA6;\n",
              "    }\n",
              "\n",
              "    [theme=dark] .colab-df-convert {\n",
              "      background-color: #3B4455;\n",
              "      fill: #D2E3FC;\n",
              "    }\n",
              "\n",
              "    [theme=dark] .colab-df-convert:hover {\n",
              "      background-color: #434B5C;\n",
              "      box-shadow: 0px 1px 3px 1px rgba(0, 0, 0, 0.15);\n",
              "      filter: drop-shadow(0px 1px 2px rgba(0, 0, 0, 0.3));\n",
              "      fill: #FFFFFF;\n",
              "    }\n",
              "  </style>\n",
              "\n",
              "      <script>\n",
              "        const buttonEl =\n",
              "          document.querySelector('#df-7b17b1de-1f85-4dc2-b2c6-bd398b5c328d button.colab-df-convert');\n",
              "        buttonEl.style.display =\n",
              "          google.colab.kernel.accessAllowed ? 'block' : 'none';\n",
              "\n",
              "        async function convertToInteractive(key) {\n",
              "          const element = document.querySelector('#df-7b17b1de-1f85-4dc2-b2c6-bd398b5c328d');\n",
              "          const dataTable =\n",
              "            await google.colab.kernel.invokeFunction('convertToInteractive',\n",
              "                                                     [key], {});\n",
              "          if (!dataTable) return;\n",
              "\n",
              "          const docLinkHtml = 'Like what you see? Visit the ' +\n",
              "            '<a target=\"_blank\" href=https://colab.research.google.com/notebooks/data_table.ipynb>data table notebook</a>'\n",
              "            + ' to learn more about interactive tables.';\n",
              "          element.innerHTML = '';\n",
              "          dataTable['output_type'] = 'display_data';\n",
              "          await google.colab.output.renderOutput(dataTable, element);\n",
              "          const docLink = document.createElement('div');\n",
              "          docLink.innerHTML = docLinkHtml;\n",
              "          element.appendChild(docLink);\n",
              "        }\n",
              "      </script>\n",
              "    </div>\n",
              "  </div>\n",
              "  "
            ]
          },
          "metadata": {},
          "execution_count": 94
        }
      ]
    },
    {
      "cell_type": "code",
      "source": [
        "PesaPalsort_data = PesaPal_data1.sort_values(by=\"at\", ascending= False) # arranging the data starting from the newest to oldest\n",
        "PesaPalsort_data.head()"
      ],
      "metadata": {
        "id": "fSvwaXNJXWJb",
        "colab": {
          "base_uri": "https://localhost:8080/",
          "height": 206
        },
        "outputId": "78e97dca-2435-42f7-a7bd-b5d50e98a54d"
      },
      "execution_count": 95,
      "outputs": [
        {
          "output_type": "execute_result",
          "data": {
            "text/plain": [
              "                                              content reviewCreatedVersion  \\\n",
              "0   One of the best POs app, one improvement neede...                 35.4   \n",
              "19                           Uduma nzuri inarahisisha                 None   \n",
              "6   Pesapal ina saìdia wakati wowote ile unapoiita...                   29   \n",
              "3   Its a good app I wish it were available on des...                   32   \n",
              "2   The app is nice but anytime I try selling on c...                   29   \n",
              "\n",
              "    score                  at  thumbsUpCount  \n",
              "0       3 2022-06-22 06:50:54              0  \n",
              "19      5 2021-12-28 10:23:57              0  \n",
              "6       4 2020-10-06 05:37:35              0  \n",
              "3       4 2020-08-27 07:41:29              6  \n",
              "2       5 2019-12-09 18:59:03              3  "
            ],
            "text/html": [
              "\n",
              "  <div id=\"df-a87c9fe7-b958-4376-b7ae-193aaa98e470\">\n",
              "    <div class=\"colab-df-container\">\n",
              "      <div>\n",
              "<style scoped>\n",
              "    .dataframe tbody tr th:only-of-type {\n",
              "        vertical-align: middle;\n",
              "    }\n",
              "\n",
              "    .dataframe tbody tr th {\n",
              "        vertical-align: top;\n",
              "    }\n",
              "\n",
              "    .dataframe thead th {\n",
              "        text-align: right;\n",
              "    }\n",
              "</style>\n",
              "<table border=\"1\" class=\"dataframe\">\n",
              "  <thead>\n",
              "    <tr style=\"text-align: right;\">\n",
              "      <th></th>\n",
              "      <th>content</th>\n",
              "      <th>reviewCreatedVersion</th>\n",
              "      <th>score</th>\n",
              "      <th>at</th>\n",
              "      <th>thumbsUpCount</th>\n",
              "    </tr>\n",
              "  </thead>\n",
              "  <tbody>\n",
              "    <tr>\n",
              "      <th>0</th>\n",
              "      <td>One of the best POs app, one improvement neede...</td>\n",
              "      <td>35.4</td>\n",
              "      <td>3</td>\n",
              "      <td>2022-06-22 06:50:54</td>\n",
              "      <td>0</td>\n",
              "    </tr>\n",
              "    <tr>\n",
              "      <th>19</th>\n",
              "      <td>Uduma nzuri inarahisisha</td>\n",
              "      <td>None</td>\n",
              "      <td>5</td>\n",
              "      <td>2021-12-28 10:23:57</td>\n",
              "      <td>0</td>\n",
              "    </tr>\n",
              "    <tr>\n",
              "      <th>6</th>\n",
              "      <td>Pesapal ina saìdia wakati wowote ile unapoiita...</td>\n",
              "      <td>29</td>\n",
              "      <td>4</td>\n",
              "      <td>2020-10-06 05:37:35</td>\n",
              "      <td>0</td>\n",
              "    </tr>\n",
              "    <tr>\n",
              "      <th>3</th>\n",
              "      <td>Its a good app I wish it were available on des...</td>\n",
              "      <td>32</td>\n",
              "      <td>4</td>\n",
              "      <td>2020-08-27 07:41:29</td>\n",
              "      <td>6</td>\n",
              "    </tr>\n",
              "    <tr>\n",
              "      <th>2</th>\n",
              "      <td>The app is nice but anytime I try selling on c...</td>\n",
              "      <td>29</td>\n",
              "      <td>5</td>\n",
              "      <td>2019-12-09 18:59:03</td>\n",
              "      <td>3</td>\n",
              "    </tr>\n",
              "  </tbody>\n",
              "</table>\n",
              "</div>\n",
              "      <button class=\"colab-df-convert\" onclick=\"convertToInteractive('df-a87c9fe7-b958-4376-b7ae-193aaa98e470')\"\n",
              "              title=\"Convert this dataframe to an interactive table.\"\n",
              "              style=\"display:none;\">\n",
              "        \n",
              "  <svg xmlns=\"http://www.w3.org/2000/svg\" height=\"24px\"viewBox=\"0 0 24 24\"\n",
              "       width=\"24px\">\n",
              "    <path d=\"M0 0h24v24H0V0z\" fill=\"none\"/>\n",
              "    <path d=\"M18.56 5.44l.94 2.06.94-2.06 2.06-.94-2.06-.94-.94-2.06-.94 2.06-2.06.94zm-11 1L8.5 8.5l.94-2.06 2.06-.94-2.06-.94L8.5 2.5l-.94 2.06-2.06.94zm10 10l.94 2.06.94-2.06 2.06-.94-2.06-.94-.94-2.06-.94 2.06-2.06.94z\"/><path d=\"M17.41 7.96l-1.37-1.37c-.4-.4-.92-.59-1.43-.59-.52 0-1.04.2-1.43.59L10.3 9.45l-7.72 7.72c-.78.78-.78 2.05 0 2.83L4 21.41c.39.39.9.59 1.41.59.51 0 1.02-.2 1.41-.59l7.78-7.78 2.81-2.81c.8-.78.8-2.07 0-2.86zM5.41 20L4 18.59l7.72-7.72 1.47 1.35L5.41 20z\"/>\n",
              "  </svg>\n",
              "      </button>\n",
              "      \n",
              "  <style>\n",
              "    .colab-df-container {\n",
              "      display:flex;\n",
              "      flex-wrap:wrap;\n",
              "      gap: 12px;\n",
              "    }\n",
              "\n",
              "    .colab-df-convert {\n",
              "      background-color: #E8F0FE;\n",
              "      border: none;\n",
              "      border-radius: 50%;\n",
              "      cursor: pointer;\n",
              "      display: none;\n",
              "      fill: #1967D2;\n",
              "      height: 32px;\n",
              "      padding: 0 0 0 0;\n",
              "      width: 32px;\n",
              "    }\n",
              "\n",
              "    .colab-df-convert:hover {\n",
              "      background-color: #E2EBFA;\n",
              "      box-shadow: 0px 1px 2px rgba(60, 64, 67, 0.3), 0px 1px 3px 1px rgba(60, 64, 67, 0.15);\n",
              "      fill: #174EA6;\n",
              "    }\n",
              "\n",
              "    [theme=dark] .colab-df-convert {\n",
              "      background-color: #3B4455;\n",
              "      fill: #D2E3FC;\n",
              "    }\n",
              "\n",
              "    [theme=dark] .colab-df-convert:hover {\n",
              "      background-color: #434B5C;\n",
              "      box-shadow: 0px 1px 3px 1px rgba(0, 0, 0, 0.15);\n",
              "      filter: drop-shadow(0px 1px 2px rgba(0, 0, 0, 0.3));\n",
              "      fill: #FFFFFF;\n",
              "    }\n",
              "  </style>\n",
              "\n",
              "      <script>\n",
              "        const buttonEl =\n",
              "          document.querySelector('#df-a87c9fe7-b958-4376-b7ae-193aaa98e470 button.colab-df-convert');\n",
              "        buttonEl.style.display =\n",
              "          google.colab.kernel.accessAllowed ? 'block' : 'none';\n",
              "\n",
              "        async function convertToInteractive(key) {\n",
              "          const element = document.querySelector('#df-a87c9fe7-b958-4376-b7ae-193aaa98e470');\n",
              "          const dataTable =\n",
              "            await google.colab.kernel.invokeFunction('convertToInteractive',\n",
              "                                                     [key], {});\n",
              "          if (!dataTable) return;\n",
              "\n",
              "          const docLinkHtml = 'Like what you see? Visit the ' +\n",
              "            '<a target=\"_blank\" href=https://colab.research.google.com/notebooks/data_table.ipynb>data table notebook</a>'\n",
              "            + ' to learn more about interactive tables.';\n",
              "          element.innerHTML = '';\n",
              "          dataTable['output_type'] = 'display_data';\n",
              "          await google.colab.output.renderOutput(dataTable, element);\n",
              "          const docLink = document.createElement('div');\n",
              "          docLink.innerHTML = docLinkHtml;\n",
              "          element.appendChild(docLink);\n",
              "        }\n",
              "      </script>\n",
              "    </div>\n",
              "  </div>\n",
              "  "
            ]
          },
          "metadata": {},
          "execution_count": 95
        }
      ]
    },
    {
      "cell_type": "code",
      "source": [
        "PesaPalsort_data.to_excel(\"PesaPal.xlsx\", index = False) #download PesaPal excel file"
      ],
      "metadata": {
        "id": "gGuLWRQuX38B"
      },
      "execution_count": 96,
      "outputs": []
    },
    {
      "cell_type": "markdown",
      "source": [
        "## **PayStack data Import**"
      ],
      "metadata": {
        "id": "pLJ1UOz0UdD6"
      }
    },
    {
      "cell_type": "code",
      "source": [
        "#converting into data Frame\n",
        "Paystack_data = pd.DataFrame(np.array(Pay_stack), columns = ['review'])\n",
        "Paystack_data = Paystack_data.join(pd.DataFrame(Paystack_data.pop('review').tolist()))\n",
        "Paystack_data.head()"
      ],
      "metadata": {
        "id": "brGZFKX8T8Jn",
        "colab": {
          "base_uri": "https://localhost:8080/",
          "height": 528
        },
        "outputId": "d6423eee-f48f-4388-a575-5ff5c376f103"
      },
      "execution_count": 97,
      "outputs": [
        {
          "output_type": "execute_result",
          "data": {
            "text/plain": [
              "                               reviewId                     userName  \\\n",
              "0  edfc3d36-bb4d-4d5a-b747-889cfa726ad9              Edidiong Ibanga   \n",
              "1  899a557e-daad-4f9a-9b53-d023babb2fed  Miracle Enomfon (Godfather)   \n",
              "2  3c5d3256-efed-41ec-b01a-5f328ad16610     ODU Enemona Daniel prime   \n",
              "3  d554cb22-684d-45c7-ae0a-c9f0f83e222f   Chukwuemeka Precious Asadu   \n",
              "4  ca2475d9-70f9-4f67-8c64-3c2f2c16fe77                    ige james   \n",
              "\n",
              "                                           userImage  \\\n",
              "0  https://play-lh.googleusercontent.com/a-/AD5-W...   \n",
              "1  https://play-lh.googleusercontent.com/a-/AD5-W...   \n",
              "2  https://play-lh.googleusercontent.com/a-/AD5-W...   \n",
              "3  https://play-lh.googleusercontent.com/a-/AD5-W...   \n",
              "4  https://play-lh.googleusercontent.com/a-/AD5-W...   \n",
              "\n",
              "                                             content  score  thumbsUpCount  \\\n",
              "0  Please this updated version is really giving m...      1              4   \n",
              "1  After creating an account in the app I could n...      1              3   \n",
              "2  the updated version is not signing in, when i ...      1              2   \n",
              "3  Awesome experience. I've been awaiting this fo...      4             67   \n",
              "4  The app is user friendly and easy to navigate ...      4              7   \n",
              "\n",
              "  reviewCreatedVersion                  at  \\\n",
              "0                1.9.3 2022-11-11 14:19:40   \n",
              "1                1.9.3 2022-11-19 11:32:25   \n",
              "2                1.9.3 2022-11-18 08:10:45   \n",
              "3                1.1.4 2020-05-31 08:45:28   \n",
              "4                1.8.3 2022-10-17 08:02:33   \n",
              "\n",
              "                                        replyContent           repliedAt  \n",
              "0                                               None                 NaT  \n",
              "1                                               None                 NaT  \n",
              "2                                               None                 NaT  \n",
              "3  Hi Chukuwemeka, thank you so much for the kind... 2020-06-16 18:23:29  \n",
              "4                                               None                 NaT  "
            ],
            "text/html": [
              "\n",
              "  <div id=\"df-ead72c59-f6e7-4c8a-b7d2-aaf374e965a9\">\n",
              "    <div class=\"colab-df-container\">\n",
              "      <div>\n",
              "<style scoped>\n",
              "    .dataframe tbody tr th:only-of-type {\n",
              "        vertical-align: middle;\n",
              "    }\n",
              "\n",
              "    .dataframe tbody tr th {\n",
              "        vertical-align: top;\n",
              "    }\n",
              "\n",
              "    .dataframe thead th {\n",
              "        text-align: right;\n",
              "    }\n",
              "</style>\n",
              "<table border=\"1\" class=\"dataframe\">\n",
              "  <thead>\n",
              "    <tr style=\"text-align: right;\">\n",
              "      <th></th>\n",
              "      <th>reviewId</th>\n",
              "      <th>userName</th>\n",
              "      <th>userImage</th>\n",
              "      <th>content</th>\n",
              "      <th>score</th>\n",
              "      <th>thumbsUpCount</th>\n",
              "      <th>reviewCreatedVersion</th>\n",
              "      <th>at</th>\n",
              "      <th>replyContent</th>\n",
              "      <th>repliedAt</th>\n",
              "    </tr>\n",
              "  </thead>\n",
              "  <tbody>\n",
              "    <tr>\n",
              "      <th>0</th>\n",
              "      <td>edfc3d36-bb4d-4d5a-b747-889cfa726ad9</td>\n",
              "      <td>Edidiong Ibanga</td>\n",
              "      <td>https://play-lh.googleusercontent.com/a-/AD5-W...</td>\n",
              "      <td>Please this updated version is really giving m...</td>\n",
              "      <td>1</td>\n",
              "      <td>4</td>\n",
              "      <td>1.9.3</td>\n",
              "      <td>2022-11-11 14:19:40</td>\n",
              "      <td>None</td>\n",
              "      <td>NaT</td>\n",
              "    </tr>\n",
              "    <tr>\n",
              "      <th>1</th>\n",
              "      <td>899a557e-daad-4f9a-9b53-d023babb2fed</td>\n",
              "      <td>Miracle Enomfon (Godfather)</td>\n",
              "      <td>https://play-lh.googleusercontent.com/a-/AD5-W...</td>\n",
              "      <td>After creating an account in the app I could n...</td>\n",
              "      <td>1</td>\n",
              "      <td>3</td>\n",
              "      <td>1.9.3</td>\n",
              "      <td>2022-11-19 11:32:25</td>\n",
              "      <td>None</td>\n",
              "      <td>NaT</td>\n",
              "    </tr>\n",
              "    <tr>\n",
              "      <th>2</th>\n",
              "      <td>3c5d3256-efed-41ec-b01a-5f328ad16610</td>\n",
              "      <td>ODU Enemona Daniel prime</td>\n",
              "      <td>https://play-lh.googleusercontent.com/a-/AD5-W...</td>\n",
              "      <td>the updated version is not signing in, when i ...</td>\n",
              "      <td>1</td>\n",
              "      <td>2</td>\n",
              "      <td>1.9.3</td>\n",
              "      <td>2022-11-18 08:10:45</td>\n",
              "      <td>None</td>\n",
              "      <td>NaT</td>\n",
              "    </tr>\n",
              "    <tr>\n",
              "      <th>3</th>\n",
              "      <td>d554cb22-684d-45c7-ae0a-c9f0f83e222f</td>\n",
              "      <td>Chukwuemeka Precious Asadu</td>\n",
              "      <td>https://play-lh.googleusercontent.com/a-/AD5-W...</td>\n",
              "      <td>Awesome experience. I've been awaiting this fo...</td>\n",
              "      <td>4</td>\n",
              "      <td>67</td>\n",
              "      <td>1.1.4</td>\n",
              "      <td>2020-05-31 08:45:28</td>\n",
              "      <td>Hi Chukuwemeka, thank you so much for the kind...</td>\n",
              "      <td>2020-06-16 18:23:29</td>\n",
              "    </tr>\n",
              "    <tr>\n",
              "      <th>4</th>\n",
              "      <td>ca2475d9-70f9-4f67-8c64-3c2f2c16fe77</td>\n",
              "      <td>ige james</td>\n",
              "      <td>https://play-lh.googleusercontent.com/a-/AD5-W...</td>\n",
              "      <td>The app is user friendly and easy to navigate ...</td>\n",
              "      <td>4</td>\n",
              "      <td>7</td>\n",
              "      <td>1.8.3</td>\n",
              "      <td>2022-10-17 08:02:33</td>\n",
              "      <td>None</td>\n",
              "      <td>NaT</td>\n",
              "    </tr>\n",
              "  </tbody>\n",
              "</table>\n",
              "</div>\n",
              "      <button class=\"colab-df-convert\" onclick=\"convertToInteractive('df-ead72c59-f6e7-4c8a-b7d2-aaf374e965a9')\"\n",
              "              title=\"Convert this dataframe to an interactive table.\"\n",
              "              style=\"display:none;\">\n",
              "        \n",
              "  <svg xmlns=\"http://www.w3.org/2000/svg\" height=\"24px\"viewBox=\"0 0 24 24\"\n",
              "       width=\"24px\">\n",
              "    <path d=\"M0 0h24v24H0V0z\" fill=\"none\"/>\n",
              "    <path d=\"M18.56 5.44l.94 2.06.94-2.06 2.06-.94-2.06-.94-.94-2.06-.94 2.06-2.06.94zm-11 1L8.5 8.5l.94-2.06 2.06-.94-2.06-.94L8.5 2.5l-.94 2.06-2.06.94zm10 10l.94 2.06.94-2.06 2.06-.94-2.06-.94-.94-2.06-.94 2.06-2.06.94z\"/><path d=\"M17.41 7.96l-1.37-1.37c-.4-.4-.92-.59-1.43-.59-.52 0-1.04.2-1.43.59L10.3 9.45l-7.72 7.72c-.78.78-.78 2.05 0 2.83L4 21.41c.39.39.9.59 1.41.59.51 0 1.02-.2 1.41-.59l7.78-7.78 2.81-2.81c.8-.78.8-2.07 0-2.86zM5.41 20L4 18.59l7.72-7.72 1.47 1.35L5.41 20z\"/>\n",
              "  </svg>\n",
              "      </button>\n",
              "      \n",
              "  <style>\n",
              "    .colab-df-container {\n",
              "      display:flex;\n",
              "      flex-wrap:wrap;\n",
              "      gap: 12px;\n",
              "    }\n",
              "\n",
              "    .colab-df-convert {\n",
              "      background-color: #E8F0FE;\n",
              "      border: none;\n",
              "      border-radius: 50%;\n",
              "      cursor: pointer;\n",
              "      display: none;\n",
              "      fill: #1967D2;\n",
              "      height: 32px;\n",
              "      padding: 0 0 0 0;\n",
              "      width: 32px;\n",
              "    }\n",
              "\n",
              "    .colab-df-convert:hover {\n",
              "      background-color: #E2EBFA;\n",
              "      box-shadow: 0px 1px 2px rgba(60, 64, 67, 0.3), 0px 1px 3px 1px rgba(60, 64, 67, 0.15);\n",
              "      fill: #174EA6;\n",
              "    }\n",
              "\n",
              "    [theme=dark] .colab-df-convert {\n",
              "      background-color: #3B4455;\n",
              "      fill: #D2E3FC;\n",
              "    }\n",
              "\n",
              "    [theme=dark] .colab-df-convert:hover {\n",
              "      background-color: #434B5C;\n",
              "      box-shadow: 0px 1px 3px 1px rgba(0, 0, 0, 0.15);\n",
              "      filter: drop-shadow(0px 1px 2px rgba(0, 0, 0, 0.3));\n",
              "      fill: #FFFFFF;\n",
              "    }\n",
              "  </style>\n",
              "\n",
              "      <script>\n",
              "        const buttonEl =\n",
              "          document.querySelector('#df-ead72c59-f6e7-4c8a-b7d2-aaf374e965a9 button.colab-df-convert');\n",
              "        buttonEl.style.display =\n",
              "          google.colab.kernel.accessAllowed ? 'block' : 'none';\n",
              "\n",
              "        async function convertToInteractive(key) {\n",
              "          const element = document.querySelector('#df-ead72c59-f6e7-4c8a-b7d2-aaf374e965a9');\n",
              "          const dataTable =\n",
              "            await google.colab.kernel.invokeFunction('convertToInteractive',\n",
              "                                                     [key], {});\n",
              "          if (!dataTable) return;\n",
              "\n",
              "          const docLinkHtml = 'Like what you see? Visit the ' +\n",
              "            '<a target=\"_blank\" href=https://colab.research.google.com/notebooks/data_table.ipynb>data table notebook</a>'\n",
              "            + ' to learn more about interactive tables.';\n",
              "          element.innerHTML = '';\n",
              "          dataTable['output_type'] = 'display_data';\n",
              "          await google.colab.output.renderOutput(dataTable, element);\n",
              "          const docLink = document.createElement('div');\n",
              "          docLink.innerHTML = docLinkHtml;\n",
              "          element.appendChild(docLink);\n",
              "        }\n",
              "      </script>\n",
              "    </div>\n",
              "  </div>\n",
              "  "
            ]
          },
          "metadata": {},
          "execution_count": 97
        }
      ]
    },
    {
      "cell_type": "code",
      "source": [
        "print(Paystack_data.shape)\n",
        "Paystack_data.info()"
      ],
      "metadata": {
        "id": "wxaK0fn6VTT5",
        "colab": {
          "base_uri": "https://localhost:8080/"
        },
        "outputId": "f79e31f9-b38e-4c9d-8f51-1c3772d21b7e"
      },
      "execution_count": 98,
      "outputs": [
        {
          "output_type": "stream",
          "name": "stdout",
          "text": [
            "(278, 10)\n",
            "<class 'pandas.core.frame.DataFrame'>\n",
            "RangeIndex: 278 entries, 0 to 277\n",
            "Data columns (total 10 columns):\n",
            " #   Column                Non-Null Count  Dtype         \n",
            "---  ------                --------------  -----         \n",
            " 0   reviewId              278 non-null    object        \n",
            " 1   userName              278 non-null    object        \n",
            " 2   userImage             278 non-null    object        \n",
            " 3   content               278 non-null    object        \n",
            " 4   score                 278 non-null    int64         \n",
            " 5   thumbsUpCount         278 non-null    int64         \n",
            " 6   reviewCreatedVersion  220 non-null    object        \n",
            " 7   at                    278 non-null    datetime64[ns]\n",
            " 8   replyContent          138 non-null    object        \n",
            " 9   repliedAt             138 non-null    datetime64[ns]\n",
            "dtypes: datetime64[ns](2), int64(2), object(6)\n",
            "memory usage: 21.8+ KB\n"
          ]
        }
      ]
    },
    {
      "cell_type": "code",
      "source": [
        "len(Paystack_data.index)"
      ],
      "metadata": {
        "id": "k4uoS2gMWiL-",
        "colab": {
          "base_uri": "https://localhost:8080/"
        },
        "outputId": "f56c518b-6c3c-423d-9420-096c07c663d7"
      },
      "execution_count": 99,
      "outputs": [
        {
          "output_type": "execute_result",
          "data": {
            "text/plain": [
              "278"
            ]
          },
          "metadata": {},
          "execution_count": 99
        }
      ]
    },
    {
      "cell_type": "code",
      "source": [
        "# drop the unnecesarry columns before we can start the EDA(Exploratory Data Analysis)\n",
        "Paystack_data1 = Paystack_data[[\"content\",\"reviewCreatedVersion\",\"score\",\"at\",\"thumbsUpCount\"]]\n",
        "Paystack_data1.head()"
      ],
      "metadata": {
        "id": "zrZyAQSHW1-3",
        "colab": {
          "base_uri": "https://localhost:8080/",
          "height": 206
        },
        "outputId": "013e92d0-0f64-4297-9ef5-302236f863cb"
      },
      "execution_count": 100,
      "outputs": [
        {
          "output_type": "execute_result",
          "data": {
            "text/plain": [
              "                                             content reviewCreatedVersion  \\\n",
              "0  Please this updated version is really giving m...                1.9.3   \n",
              "1  After creating an account in the app I could n...                1.9.3   \n",
              "2  the updated version is not signing in, when i ...                1.9.3   \n",
              "3  Awesome experience. I've been awaiting this fo...                1.1.4   \n",
              "4  The app is user friendly and easy to navigate ...                1.8.3   \n",
              "\n",
              "   score                  at  thumbsUpCount  \n",
              "0      1 2022-11-11 14:19:40              4  \n",
              "1      1 2022-11-19 11:32:25              3  \n",
              "2      1 2022-11-18 08:10:45              2  \n",
              "3      4 2020-05-31 08:45:28             67  \n",
              "4      4 2022-10-17 08:02:33              7  "
            ],
            "text/html": [
              "\n",
              "  <div id=\"df-7647a244-3528-4c12-9879-4b8a1631111b\">\n",
              "    <div class=\"colab-df-container\">\n",
              "      <div>\n",
              "<style scoped>\n",
              "    .dataframe tbody tr th:only-of-type {\n",
              "        vertical-align: middle;\n",
              "    }\n",
              "\n",
              "    .dataframe tbody tr th {\n",
              "        vertical-align: top;\n",
              "    }\n",
              "\n",
              "    .dataframe thead th {\n",
              "        text-align: right;\n",
              "    }\n",
              "</style>\n",
              "<table border=\"1\" class=\"dataframe\">\n",
              "  <thead>\n",
              "    <tr style=\"text-align: right;\">\n",
              "      <th></th>\n",
              "      <th>content</th>\n",
              "      <th>reviewCreatedVersion</th>\n",
              "      <th>score</th>\n",
              "      <th>at</th>\n",
              "      <th>thumbsUpCount</th>\n",
              "    </tr>\n",
              "  </thead>\n",
              "  <tbody>\n",
              "    <tr>\n",
              "      <th>0</th>\n",
              "      <td>Please this updated version is really giving m...</td>\n",
              "      <td>1.9.3</td>\n",
              "      <td>1</td>\n",
              "      <td>2022-11-11 14:19:40</td>\n",
              "      <td>4</td>\n",
              "    </tr>\n",
              "    <tr>\n",
              "      <th>1</th>\n",
              "      <td>After creating an account in the app I could n...</td>\n",
              "      <td>1.9.3</td>\n",
              "      <td>1</td>\n",
              "      <td>2022-11-19 11:32:25</td>\n",
              "      <td>3</td>\n",
              "    </tr>\n",
              "    <tr>\n",
              "      <th>2</th>\n",
              "      <td>the updated version is not signing in, when i ...</td>\n",
              "      <td>1.9.3</td>\n",
              "      <td>1</td>\n",
              "      <td>2022-11-18 08:10:45</td>\n",
              "      <td>2</td>\n",
              "    </tr>\n",
              "    <tr>\n",
              "      <th>3</th>\n",
              "      <td>Awesome experience. I've been awaiting this fo...</td>\n",
              "      <td>1.1.4</td>\n",
              "      <td>4</td>\n",
              "      <td>2020-05-31 08:45:28</td>\n",
              "      <td>67</td>\n",
              "    </tr>\n",
              "    <tr>\n",
              "      <th>4</th>\n",
              "      <td>The app is user friendly and easy to navigate ...</td>\n",
              "      <td>1.8.3</td>\n",
              "      <td>4</td>\n",
              "      <td>2022-10-17 08:02:33</td>\n",
              "      <td>7</td>\n",
              "    </tr>\n",
              "  </tbody>\n",
              "</table>\n",
              "</div>\n",
              "      <button class=\"colab-df-convert\" onclick=\"convertToInteractive('df-7647a244-3528-4c12-9879-4b8a1631111b')\"\n",
              "              title=\"Convert this dataframe to an interactive table.\"\n",
              "              style=\"display:none;\">\n",
              "        \n",
              "  <svg xmlns=\"http://www.w3.org/2000/svg\" height=\"24px\"viewBox=\"0 0 24 24\"\n",
              "       width=\"24px\">\n",
              "    <path d=\"M0 0h24v24H0V0z\" fill=\"none\"/>\n",
              "    <path d=\"M18.56 5.44l.94 2.06.94-2.06 2.06-.94-2.06-.94-.94-2.06-.94 2.06-2.06.94zm-11 1L8.5 8.5l.94-2.06 2.06-.94-2.06-.94L8.5 2.5l-.94 2.06-2.06.94zm10 10l.94 2.06.94-2.06 2.06-.94-2.06-.94-.94-2.06-.94 2.06-2.06.94z\"/><path d=\"M17.41 7.96l-1.37-1.37c-.4-.4-.92-.59-1.43-.59-.52 0-1.04.2-1.43.59L10.3 9.45l-7.72 7.72c-.78.78-.78 2.05 0 2.83L4 21.41c.39.39.9.59 1.41.59.51 0 1.02-.2 1.41-.59l7.78-7.78 2.81-2.81c.8-.78.8-2.07 0-2.86zM5.41 20L4 18.59l7.72-7.72 1.47 1.35L5.41 20z\"/>\n",
              "  </svg>\n",
              "      </button>\n",
              "      \n",
              "  <style>\n",
              "    .colab-df-container {\n",
              "      display:flex;\n",
              "      flex-wrap:wrap;\n",
              "      gap: 12px;\n",
              "    }\n",
              "\n",
              "    .colab-df-convert {\n",
              "      background-color: #E8F0FE;\n",
              "      border: none;\n",
              "      border-radius: 50%;\n",
              "      cursor: pointer;\n",
              "      display: none;\n",
              "      fill: #1967D2;\n",
              "      height: 32px;\n",
              "      padding: 0 0 0 0;\n",
              "      width: 32px;\n",
              "    }\n",
              "\n",
              "    .colab-df-convert:hover {\n",
              "      background-color: #E2EBFA;\n",
              "      box-shadow: 0px 1px 2px rgba(60, 64, 67, 0.3), 0px 1px 3px 1px rgba(60, 64, 67, 0.15);\n",
              "      fill: #174EA6;\n",
              "    }\n",
              "\n",
              "    [theme=dark] .colab-df-convert {\n",
              "      background-color: #3B4455;\n",
              "      fill: #D2E3FC;\n",
              "    }\n",
              "\n",
              "    [theme=dark] .colab-df-convert:hover {\n",
              "      background-color: #434B5C;\n",
              "      box-shadow: 0px 1px 3px 1px rgba(0, 0, 0, 0.15);\n",
              "      filter: drop-shadow(0px 1px 2px rgba(0, 0, 0, 0.3));\n",
              "      fill: #FFFFFF;\n",
              "    }\n",
              "  </style>\n",
              "\n",
              "      <script>\n",
              "        const buttonEl =\n",
              "          document.querySelector('#df-7647a244-3528-4c12-9879-4b8a1631111b button.colab-df-convert');\n",
              "        buttonEl.style.display =\n",
              "          google.colab.kernel.accessAllowed ? 'block' : 'none';\n",
              "\n",
              "        async function convertToInteractive(key) {\n",
              "          const element = document.querySelector('#df-7647a244-3528-4c12-9879-4b8a1631111b');\n",
              "          const dataTable =\n",
              "            await google.colab.kernel.invokeFunction('convertToInteractive',\n",
              "                                                     [key], {});\n",
              "          if (!dataTable) return;\n",
              "\n",
              "          const docLinkHtml = 'Like what you see? Visit the ' +\n",
              "            '<a target=\"_blank\" href=https://colab.research.google.com/notebooks/data_table.ipynb>data table notebook</a>'\n",
              "            + ' to learn more about interactive tables.';\n",
              "          element.innerHTML = '';\n",
              "          dataTable['output_type'] = 'display_data';\n",
              "          await google.colab.output.renderOutput(dataTable, element);\n",
              "          const docLink = document.createElement('div');\n",
              "          docLink.innerHTML = docLinkHtml;\n",
              "          element.appendChild(docLink);\n",
              "        }\n",
              "      </script>\n",
              "    </div>\n",
              "  </div>\n",
              "  "
            ]
          },
          "metadata": {},
          "execution_count": 100
        }
      ]
    },
    {
      "cell_type": "code",
      "source": [
        "Paystacksort_data = Paystack_data1.sort_values(by=\"at\", ascending= False) # arranging the data starting from the newest to oldest\n",
        "Paystacksort_data.head()"
      ],
      "metadata": {
        "id": "w35DTKGgXNRp",
        "colab": {
          "base_uri": "https://localhost:8080/",
          "height": 206
        },
        "outputId": "ce8a4f6b-157a-4d05-c370-6eaa4dd08b98"
      },
      "execution_count": 101,
      "outputs": [
        {
          "output_type": "execute_result",
          "data": {
            "text/plain": [
              "                                               content reviewCreatedVersion  \\\n",
              "26   Kenya is missing on registration. I thought yo...                1.9.4   \n",
              "125                                   Word conect game                1.9.4   \n",
              "27          I give it 3 🌟 because it not working today                1.9.4   \n",
              "56   Why can't I login in to my acct pls help me re...                1.9.3   \n",
              "231                                      Nice and good                1.9.3   \n",
              "\n",
              "     score                  at  thumbsUpCount  \n",
              "26       2 2022-12-21 20:58:35              0  \n",
              "125      5 2022-12-08 07:46:36              0  \n",
              "27       3 2022-12-01 00:54:55              1  \n",
              "56       3 2022-11-23 13:12:26              1  \n",
              "231      5 2022-11-21 23:22:07              1  "
            ],
            "text/html": [
              "\n",
              "  <div id=\"df-e0409260-1a6e-450e-b430-42df3245773b\">\n",
              "    <div class=\"colab-df-container\">\n",
              "      <div>\n",
              "<style scoped>\n",
              "    .dataframe tbody tr th:only-of-type {\n",
              "        vertical-align: middle;\n",
              "    }\n",
              "\n",
              "    .dataframe tbody tr th {\n",
              "        vertical-align: top;\n",
              "    }\n",
              "\n",
              "    .dataframe thead th {\n",
              "        text-align: right;\n",
              "    }\n",
              "</style>\n",
              "<table border=\"1\" class=\"dataframe\">\n",
              "  <thead>\n",
              "    <tr style=\"text-align: right;\">\n",
              "      <th></th>\n",
              "      <th>content</th>\n",
              "      <th>reviewCreatedVersion</th>\n",
              "      <th>score</th>\n",
              "      <th>at</th>\n",
              "      <th>thumbsUpCount</th>\n",
              "    </tr>\n",
              "  </thead>\n",
              "  <tbody>\n",
              "    <tr>\n",
              "      <th>26</th>\n",
              "      <td>Kenya is missing on registration. I thought yo...</td>\n",
              "      <td>1.9.4</td>\n",
              "      <td>2</td>\n",
              "      <td>2022-12-21 20:58:35</td>\n",
              "      <td>0</td>\n",
              "    </tr>\n",
              "    <tr>\n",
              "      <th>125</th>\n",
              "      <td>Word conect game</td>\n",
              "      <td>1.9.4</td>\n",
              "      <td>5</td>\n",
              "      <td>2022-12-08 07:46:36</td>\n",
              "      <td>0</td>\n",
              "    </tr>\n",
              "    <tr>\n",
              "      <th>27</th>\n",
              "      <td>I give it 3 🌟 because it not working today</td>\n",
              "      <td>1.9.4</td>\n",
              "      <td>3</td>\n",
              "      <td>2022-12-01 00:54:55</td>\n",
              "      <td>1</td>\n",
              "    </tr>\n",
              "    <tr>\n",
              "      <th>56</th>\n",
              "      <td>Why can't I login in to my acct pls help me re...</td>\n",
              "      <td>1.9.3</td>\n",
              "      <td>3</td>\n",
              "      <td>2022-11-23 13:12:26</td>\n",
              "      <td>1</td>\n",
              "    </tr>\n",
              "    <tr>\n",
              "      <th>231</th>\n",
              "      <td>Nice and good</td>\n",
              "      <td>1.9.3</td>\n",
              "      <td>5</td>\n",
              "      <td>2022-11-21 23:22:07</td>\n",
              "      <td>1</td>\n",
              "    </tr>\n",
              "  </tbody>\n",
              "</table>\n",
              "</div>\n",
              "      <button class=\"colab-df-convert\" onclick=\"convertToInteractive('df-e0409260-1a6e-450e-b430-42df3245773b')\"\n",
              "              title=\"Convert this dataframe to an interactive table.\"\n",
              "              style=\"display:none;\">\n",
              "        \n",
              "  <svg xmlns=\"http://www.w3.org/2000/svg\" height=\"24px\"viewBox=\"0 0 24 24\"\n",
              "       width=\"24px\">\n",
              "    <path d=\"M0 0h24v24H0V0z\" fill=\"none\"/>\n",
              "    <path d=\"M18.56 5.44l.94 2.06.94-2.06 2.06-.94-2.06-.94-.94-2.06-.94 2.06-2.06.94zm-11 1L8.5 8.5l.94-2.06 2.06-.94-2.06-.94L8.5 2.5l-.94 2.06-2.06.94zm10 10l.94 2.06.94-2.06 2.06-.94-2.06-.94-.94-2.06-.94 2.06-2.06.94z\"/><path d=\"M17.41 7.96l-1.37-1.37c-.4-.4-.92-.59-1.43-.59-.52 0-1.04.2-1.43.59L10.3 9.45l-7.72 7.72c-.78.78-.78 2.05 0 2.83L4 21.41c.39.39.9.59 1.41.59.51 0 1.02-.2 1.41-.59l7.78-7.78 2.81-2.81c.8-.78.8-2.07 0-2.86zM5.41 20L4 18.59l7.72-7.72 1.47 1.35L5.41 20z\"/>\n",
              "  </svg>\n",
              "      </button>\n",
              "      \n",
              "  <style>\n",
              "    .colab-df-container {\n",
              "      display:flex;\n",
              "      flex-wrap:wrap;\n",
              "      gap: 12px;\n",
              "    }\n",
              "\n",
              "    .colab-df-convert {\n",
              "      background-color: #E8F0FE;\n",
              "      border: none;\n",
              "      border-radius: 50%;\n",
              "      cursor: pointer;\n",
              "      display: none;\n",
              "      fill: #1967D2;\n",
              "      height: 32px;\n",
              "      padding: 0 0 0 0;\n",
              "      width: 32px;\n",
              "    }\n",
              "\n",
              "    .colab-df-convert:hover {\n",
              "      background-color: #E2EBFA;\n",
              "      box-shadow: 0px 1px 2px rgba(60, 64, 67, 0.3), 0px 1px 3px 1px rgba(60, 64, 67, 0.15);\n",
              "      fill: #174EA6;\n",
              "    }\n",
              "\n",
              "    [theme=dark] .colab-df-convert {\n",
              "      background-color: #3B4455;\n",
              "      fill: #D2E3FC;\n",
              "    }\n",
              "\n",
              "    [theme=dark] .colab-df-convert:hover {\n",
              "      background-color: #434B5C;\n",
              "      box-shadow: 0px 1px 3px 1px rgba(0, 0, 0, 0.15);\n",
              "      filter: drop-shadow(0px 1px 2px rgba(0, 0, 0, 0.3));\n",
              "      fill: #FFFFFF;\n",
              "    }\n",
              "  </style>\n",
              "\n",
              "      <script>\n",
              "        const buttonEl =\n",
              "          document.querySelector('#df-e0409260-1a6e-450e-b430-42df3245773b button.colab-df-convert');\n",
              "        buttonEl.style.display =\n",
              "          google.colab.kernel.accessAllowed ? 'block' : 'none';\n",
              "\n",
              "        async function convertToInteractive(key) {\n",
              "          const element = document.querySelector('#df-e0409260-1a6e-450e-b430-42df3245773b');\n",
              "          const dataTable =\n",
              "            await google.colab.kernel.invokeFunction('convertToInteractive',\n",
              "                                                     [key], {});\n",
              "          if (!dataTable) return;\n",
              "\n",
              "          const docLinkHtml = 'Like what you see? Visit the ' +\n",
              "            '<a target=\"_blank\" href=https://colab.research.google.com/notebooks/data_table.ipynb>data table notebook</a>'\n",
              "            + ' to learn more about interactive tables.';\n",
              "          element.innerHTML = '';\n",
              "          dataTable['output_type'] = 'display_data';\n",
              "          await google.colab.output.renderOutput(dataTable, element);\n",
              "          const docLink = document.createElement('div');\n",
              "          docLink.innerHTML = docLinkHtml;\n",
              "          element.appendChild(docLink);\n",
              "        }\n",
              "      </script>\n",
              "    </div>\n",
              "  </div>\n",
              "  "
            ]
          },
          "metadata": {},
          "execution_count": 101
        }
      ]
    },
    {
      "cell_type": "code",
      "source": [
        "Paystacksort_data.to_excel(\"Paystack.xlsx\", index = False) #download Paystack excel file"
      ],
      "metadata": {
        "id": "ZbBTbIMXYHrS"
      },
      "execution_count": 102,
      "outputs": []
    },
    {
      "cell_type": "markdown",
      "source": [
        "## **Kopo Kopo data Import**"
      ],
      "metadata": {
        "id": "yFLu3QobUzZp"
      }
    },
    {
      "cell_type": "code",
      "source": [
        "#converting into data Frame\n",
        "Kopo_kopo_data = pd.DataFrame(np.array(Kopo_kopo), columns = ['review'])\n",
        "Kopo_kopo_data = Kopo_kopo_data.join(pd.DataFrame(Kopo_kopo_data.pop('review').tolist()))\n",
        "Kopo_kopo_data.head()"
      ],
      "metadata": {
        "id": "MbPbPK2iJteO",
        "colab": {
          "base_uri": "https://localhost:8080/",
          "height": 458
        },
        "outputId": "e9696b10-7e8e-43d1-b3d6-58fc61962623"
      },
      "execution_count": 103,
      "outputs": [
        {
          "output_type": "execute_result",
          "data": {
            "text/plain": [
              "                               reviewId          userName  \\\n",
              "0  a2795acb-8503-45f0-b7a4-d6528943445c    kinyua royford   \n",
              "1  04c8d42b-1658-422e-b081-82f1fdb38834       John Irungu   \n",
              "2  4dbe2409-c554-4a9e-a25a-79fac704f72a  Emmanuel Musyimi   \n",
              "3  0d8477c4-bd26-4803-ad88-3e2ccf9b2271   george wamathai   \n",
              "4  06a3732e-95ef-4cea-b0a7-1a31e9cad9bc        Jay Ngareh   \n",
              "\n",
              "                                           userImage  \\\n",
              "0  https://play-lh.googleusercontent.com/a-/AD5-W...   \n",
              "1  https://play-lh.googleusercontent.com/a-/AD5-W...   \n",
              "2  https://play-lh.googleusercontent.com/a-/AD5-W...   \n",
              "3  https://play-lh.googleusercontent.com/a-/AD5-W...   \n",
              "4  https://play-lh.googleusercontent.com/a-/AD5-W...   \n",
              "\n",
              "                                             content  score  thumbsUpCount  \\\n",
              "0  Ultimate Solution for Business Payments. You c...      5              6   \n",
              "1  Easy to use, multiple customer friendly featur...      5             80   \n",
              "2  Very slow app very very disappointing app I ca...      1              4   \n",
              "3  Very useless app, how can I be transacting my ...      1              1   \n",
              "4  This new app is not user friendly, to complica...      1             70   \n",
              "\n",
              "  reviewCreatedVersion                  at  \\\n",
              "0                5.3.0 2022-10-06 08:00:04   \n",
              "1                5.3.0 2022-07-09 04:55:18   \n",
              "2                5.3.0 2022-11-04 16:59:12   \n",
              "3                5.3.0 2022-11-25 09:19:42   \n",
              "4                5.0.0 2021-09-29 17:46:34   \n",
              "\n",
              "                                        replyContent           repliedAt  \n",
              "0                                               None                 NaT  \n",
              "1                                               None                 NaT  \n",
              "2                                               None                 NaT  \n",
              "3                                               None                 NaT  \n",
              "4  Hi Jimmyjey, after signing in for the first ti... 2021-09-29 17:58:19  "
            ],
            "text/html": [
              "\n",
              "  <div id=\"df-0f1f5156-3273-4e9c-bd06-a53e58fdb50e\">\n",
              "    <div class=\"colab-df-container\">\n",
              "      <div>\n",
              "<style scoped>\n",
              "    .dataframe tbody tr th:only-of-type {\n",
              "        vertical-align: middle;\n",
              "    }\n",
              "\n",
              "    .dataframe tbody tr th {\n",
              "        vertical-align: top;\n",
              "    }\n",
              "\n",
              "    .dataframe thead th {\n",
              "        text-align: right;\n",
              "    }\n",
              "</style>\n",
              "<table border=\"1\" class=\"dataframe\">\n",
              "  <thead>\n",
              "    <tr style=\"text-align: right;\">\n",
              "      <th></th>\n",
              "      <th>reviewId</th>\n",
              "      <th>userName</th>\n",
              "      <th>userImage</th>\n",
              "      <th>content</th>\n",
              "      <th>score</th>\n",
              "      <th>thumbsUpCount</th>\n",
              "      <th>reviewCreatedVersion</th>\n",
              "      <th>at</th>\n",
              "      <th>replyContent</th>\n",
              "      <th>repliedAt</th>\n",
              "    </tr>\n",
              "  </thead>\n",
              "  <tbody>\n",
              "    <tr>\n",
              "      <th>0</th>\n",
              "      <td>a2795acb-8503-45f0-b7a4-d6528943445c</td>\n",
              "      <td>kinyua royford</td>\n",
              "      <td>https://play-lh.googleusercontent.com/a-/AD5-W...</td>\n",
              "      <td>Ultimate Solution for Business Payments. You c...</td>\n",
              "      <td>5</td>\n",
              "      <td>6</td>\n",
              "      <td>5.3.0</td>\n",
              "      <td>2022-10-06 08:00:04</td>\n",
              "      <td>None</td>\n",
              "      <td>NaT</td>\n",
              "    </tr>\n",
              "    <tr>\n",
              "      <th>1</th>\n",
              "      <td>04c8d42b-1658-422e-b081-82f1fdb38834</td>\n",
              "      <td>John Irungu</td>\n",
              "      <td>https://play-lh.googleusercontent.com/a-/AD5-W...</td>\n",
              "      <td>Easy to use, multiple customer friendly featur...</td>\n",
              "      <td>5</td>\n",
              "      <td>80</td>\n",
              "      <td>5.3.0</td>\n",
              "      <td>2022-07-09 04:55:18</td>\n",
              "      <td>None</td>\n",
              "      <td>NaT</td>\n",
              "    </tr>\n",
              "    <tr>\n",
              "      <th>2</th>\n",
              "      <td>4dbe2409-c554-4a9e-a25a-79fac704f72a</td>\n",
              "      <td>Emmanuel Musyimi</td>\n",
              "      <td>https://play-lh.googleusercontent.com/a-/AD5-W...</td>\n",
              "      <td>Very slow app very very disappointing app I ca...</td>\n",
              "      <td>1</td>\n",
              "      <td>4</td>\n",
              "      <td>5.3.0</td>\n",
              "      <td>2022-11-04 16:59:12</td>\n",
              "      <td>None</td>\n",
              "      <td>NaT</td>\n",
              "    </tr>\n",
              "    <tr>\n",
              "      <th>3</th>\n",
              "      <td>0d8477c4-bd26-4803-ad88-3e2ccf9b2271</td>\n",
              "      <td>george wamathai</td>\n",
              "      <td>https://play-lh.googleusercontent.com/a-/AD5-W...</td>\n",
              "      <td>Very useless app, how can I be transacting my ...</td>\n",
              "      <td>1</td>\n",
              "      <td>1</td>\n",
              "      <td>5.3.0</td>\n",
              "      <td>2022-11-25 09:19:42</td>\n",
              "      <td>None</td>\n",
              "      <td>NaT</td>\n",
              "    </tr>\n",
              "    <tr>\n",
              "      <th>4</th>\n",
              "      <td>06a3732e-95ef-4cea-b0a7-1a31e9cad9bc</td>\n",
              "      <td>Jay Ngareh</td>\n",
              "      <td>https://play-lh.googleusercontent.com/a-/AD5-W...</td>\n",
              "      <td>This new app is not user friendly, to complica...</td>\n",
              "      <td>1</td>\n",
              "      <td>70</td>\n",
              "      <td>5.0.0</td>\n",
              "      <td>2021-09-29 17:46:34</td>\n",
              "      <td>Hi Jimmyjey, after signing in for the first ti...</td>\n",
              "      <td>2021-09-29 17:58:19</td>\n",
              "    </tr>\n",
              "  </tbody>\n",
              "</table>\n",
              "</div>\n",
              "      <button class=\"colab-df-convert\" onclick=\"convertToInteractive('df-0f1f5156-3273-4e9c-bd06-a53e58fdb50e')\"\n",
              "              title=\"Convert this dataframe to an interactive table.\"\n",
              "              style=\"display:none;\">\n",
              "        \n",
              "  <svg xmlns=\"http://www.w3.org/2000/svg\" height=\"24px\"viewBox=\"0 0 24 24\"\n",
              "       width=\"24px\">\n",
              "    <path d=\"M0 0h24v24H0V0z\" fill=\"none\"/>\n",
              "    <path d=\"M18.56 5.44l.94 2.06.94-2.06 2.06-.94-2.06-.94-.94-2.06-.94 2.06-2.06.94zm-11 1L8.5 8.5l.94-2.06 2.06-.94-2.06-.94L8.5 2.5l-.94 2.06-2.06.94zm10 10l.94 2.06.94-2.06 2.06-.94-2.06-.94-.94-2.06-.94 2.06-2.06.94z\"/><path d=\"M17.41 7.96l-1.37-1.37c-.4-.4-.92-.59-1.43-.59-.52 0-1.04.2-1.43.59L10.3 9.45l-7.72 7.72c-.78.78-.78 2.05 0 2.83L4 21.41c.39.39.9.59 1.41.59.51 0 1.02-.2 1.41-.59l7.78-7.78 2.81-2.81c.8-.78.8-2.07 0-2.86zM5.41 20L4 18.59l7.72-7.72 1.47 1.35L5.41 20z\"/>\n",
              "  </svg>\n",
              "      </button>\n",
              "      \n",
              "  <style>\n",
              "    .colab-df-container {\n",
              "      display:flex;\n",
              "      flex-wrap:wrap;\n",
              "      gap: 12px;\n",
              "    }\n",
              "\n",
              "    .colab-df-convert {\n",
              "      background-color: #E8F0FE;\n",
              "      border: none;\n",
              "      border-radius: 50%;\n",
              "      cursor: pointer;\n",
              "      display: none;\n",
              "      fill: #1967D2;\n",
              "      height: 32px;\n",
              "      padding: 0 0 0 0;\n",
              "      width: 32px;\n",
              "    }\n",
              "\n",
              "    .colab-df-convert:hover {\n",
              "      background-color: #E2EBFA;\n",
              "      box-shadow: 0px 1px 2px rgba(60, 64, 67, 0.3), 0px 1px 3px 1px rgba(60, 64, 67, 0.15);\n",
              "      fill: #174EA6;\n",
              "    }\n",
              "\n",
              "    [theme=dark] .colab-df-convert {\n",
              "      background-color: #3B4455;\n",
              "      fill: #D2E3FC;\n",
              "    }\n",
              "\n",
              "    [theme=dark] .colab-df-convert:hover {\n",
              "      background-color: #434B5C;\n",
              "      box-shadow: 0px 1px 3px 1px rgba(0, 0, 0, 0.15);\n",
              "      filter: drop-shadow(0px 1px 2px rgba(0, 0, 0, 0.3));\n",
              "      fill: #FFFFFF;\n",
              "    }\n",
              "  </style>\n",
              "\n",
              "      <script>\n",
              "        const buttonEl =\n",
              "          document.querySelector('#df-0f1f5156-3273-4e9c-bd06-a53e58fdb50e button.colab-df-convert');\n",
              "        buttonEl.style.display =\n",
              "          google.colab.kernel.accessAllowed ? 'block' : 'none';\n",
              "\n",
              "        async function convertToInteractive(key) {\n",
              "          const element = document.querySelector('#df-0f1f5156-3273-4e9c-bd06-a53e58fdb50e');\n",
              "          const dataTable =\n",
              "            await google.colab.kernel.invokeFunction('convertToInteractive',\n",
              "                                                     [key], {});\n",
              "          if (!dataTable) return;\n",
              "\n",
              "          const docLinkHtml = 'Like what you see? Visit the ' +\n",
              "            '<a target=\"_blank\" href=https://colab.research.google.com/notebooks/data_table.ipynb>data table notebook</a>'\n",
              "            + ' to learn more about interactive tables.';\n",
              "          element.innerHTML = '';\n",
              "          dataTable['output_type'] = 'display_data';\n",
              "          await google.colab.output.renderOutput(dataTable, element);\n",
              "          const docLink = document.createElement('div');\n",
              "          docLink.innerHTML = docLinkHtml;\n",
              "          element.appendChild(docLink);\n",
              "        }\n",
              "      </script>\n",
              "    </div>\n",
              "  </div>\n",
              "  "
            ]
          },
          "metadata": {},
          "execution_count": 103
        }
      ]
    },
    {
      "cell_type": "code",
      "source": [
        "#view the columns and shape\n",
        "print(Kopo_kopo_data.shape)\n",
        "Kopo_kopo_data.info()"
      ],
      "metadata": {
        "colab": {
          "base_uri": "https://localhost:8080/"
        },
        "id": "ZIaSM4WuUUKg",
        "outputId": "630dc173-f7ae-4995-b7bb-e630caa92755"
      },
      "execution_count": 104,
      "outputs": [
        {
          "output_type": "stream",
          "name": "stdout",
          "text": [
            "(306, 10)\n",
            "<class 'pandas.core.frame.DataFrame'>\n",
            "RangeIndex: 306 entries, 0 to 305\n",
            "Data columns (total 10 columns):\n",
            " #   Column                Non-Null Count  Dtype         \n",
            "---  ------                --------------  -----         \n",
            " 0   reviewId              306 non-null    object        \n",
            " 1   userName              306 non-null    object        \n",
            " 2   userImage             306 non-null    object        \n",
            " 3   content               306 non-null    object        \n",
            " 4   score                 306 non-null    int64         \n",
            " 5   thumbsUpCount         306 non-null    int64         \n",
            " 6   reviewCreatedVersion  228 non-null    object        \n",
            " 7   at                    306 non-null    datetime64[ns]\n",
            " 8   replyContent          85 non-null     object        \n",
            " 9   repliedAt             85 non-null     datetime64[ns]\n",
            "dtypes: datetime64[ns](2), int64(2), object(6)\n",
            "memory usage: 24.0+ KB\n"
          ]
        }
      ]
    },
    {
      "cell_type": "markdown",
      "source": [
        "There are many columns which are not useful for our analysis. So, we can just pick out the ones that are essential for analysis like “reviewCreateVersion” which shows the version of application over which reviews are given by customers, “score” which is given by customer in the range 1–5, where, 1 is lower most value and denotes a negative review and 5 is the higher most value and denotes a positive review, “content” which denotes the reviews given by the customers for the application."
      ],
      "metadata": {
        "id": "p1N0WOMBVb9k"
      }
    },
    {
      "cell_type": "code",
      "source": [
        "len(Kopo_kopo_data.index) # there's a total of 306 observations and reviews"
      ],
      "metadata": {
        "colab": {
          "base_uri": "https://localhost:8080/"
        },
        "id": "fv2BUW2gXgh8",
        "outputId": "48f643c8-447d-4707-95b4-4fd28b169a39"
      },
      "execution_count": 105,
      "outputs": [
        {
          "output_type": "execute_result",
          "data": {
            "text/plain": [
              "306"
            ]
          },
          "metadata": {},
          "execution_count": 105
        }
      ]
    },
    {
      "cell_type": "code",
      "source": [
        "# drop the unnecesarry columns before we can start the EDA(Exploratory Data Analysis)\n",
        "Kopo_kopo_data1 = Kopo_kopo_data[[\"content\",\"reviewCreatedVersion\",\"score\",\"at\",\"thumbsUpCount\"]]\n",
        "Kopo_kopo_data1.head()"
      ],
      "metadata": {
        "colab": {
          "base_uri": "https://localhost:8080/",
          "height": 206
        },
        "id": "Ao76Nn78Ug3q",
        "outputId": "e2ff54fe-156c-40b4-c860-f005cc6a3639"
      },
      "execution_count": 106,
      "outputs": [
        {
          "output_type": "execute_result",
          "data": {
            "text/plain": [
              "                                             content reviewCreatedVersion  \\\n",
              "0  Ultimate Solution for Business Payments. You c...                5.3.0   \n",
              "1  Easy to use, multiple customer friendly featur...                5.3.0   \n",
              "2  Very slow app very very disappointing app I ca...                5.3.0   \n",
              "3  Very useless app, how can I be transacting my ...                5.3.0   \n",
              "4  This new app is not user friendly, to complica...                5.0.0   \n",
              "\n",
              "   score                  at  thumbsUpCount  \n",
              "0      5 2022-10-06 08:00:04              6  \n",
              "1      5 2022-07-09 04:55:18             80  \n",
              "2      1 2022-11-04 16:59:12              4  \n",
              "3      1 2022-11-25 09:19:42              1  \n",
              "4      1 2021-09-29 17:46:34             70  "
            ],
            "text/html": [
              "\n",
              "  <div id=\"df-1d0f2f04-18f6-4a7e-8d08-e5ec7010c321\">\n",
              "    <div class=\"colab-df-container\">\n",
              "      <div>\n",
              "<style scoped>\n",
              "    .dataframe tbody tr th:only-of-type {\n",
              "        vertical-align: middle;\n",
              "    }\n",
              "\n",
              "    .dataframe tbody tr th {\n",
              "        vertical-align: top;\n",
              "    }\n",
              "\n",
              "    .dataframe thead th {\n",
              "        text-align: right;\n",
              "    }\n",
              "</style>\n",
              "<table border=\"1\" class=\"dataframe\">\n",
              "  <thead>\n",
              "    <tr style=\"text-align: right;\">\n",
              "      <th></th>\n",
              "      <th>content</th>\n",
              "      <th>reviewCreatedVersion</th>\n",
              "      <th>score</th>\n",
              "      <th>at</th>\n",
              "      <th>thumbsUpCount</th>\n",
              "    </tr>\n",
              "  </thead>\n",
              "  <tbody>\n",
              "    <tr>\n",
              "      <th>0</th>\n",
              "      <td>Ultimate Solution for Business Payments. You c...</td>\n",
              "      <td>5.3.0</td>\n",
              "      <td>5</td>\n",
              "      <td>2022-10-06 08:00:04</td>\n",
              "      <td>6</td>\n",
              "    </tr>\n",
              "    <tr>\n",
              "      <th>1</th>\n",
              "      <td>Easy to use, multiple customer friendly featur...</td>\n",
              "      <td>5.3.0</td>\n",
              "      <td>5</td>\n",
              "      <td>2022-07-09 04:55:18</td>\n",
              "      <td>80</td>\n",
              "    </tr>\n",
              "    <tr>\n",
              "      <th>2</th>\n",
              "      <td>Very slow app very very disappointing app I ca...</td>\n",
              "      <td>5.3.0</td>\n",
              "      <td>1</td>\n",
              "      <td>2022-11-04 16:59:12</td>\n",
              "      <td>4</td>\n",
              "    </tr>\n",
              "    <tr>\n",
              "      <th>3</th>\n",
              "      <td>Very useless app, how can I be transacting my ...</td>\n",
              "      <td>5.3.0</td>\n",
              "      <td>1</td>\n",
              "      <td>2022-11-25 09:19:42</td>\n",
              "      <td>1</td>\n",
              "    </tr>\n",
              "    <tr>\n",
              "      <th>4</th>\n",
              "      <td>This new app is not user friendly, to complica...</td>\n",
              "      <td>5.0.0</td>\n",
              "      <td>1</td>\n",
              "      <td>2021-09-29 17:46:34</td>\n",
              "      <td>70</td>\n",
              "    </tr>\n",
              "  </tbody>\n",
              "</table>\n",
              "</div>\n",
              "      <button class=\"colab-df-convert\" onclick=\"convertToInteractive('df-1d0f2f04-18f6-4a7e-8d08-e5ec7010c321')\"\n",
              "              title=\"Convert this dataframe to an interactive table.\"\n",
              "              style=\"display:none;\">\n",
              "        \n",
              "  <svg xmlns=\"http://www.w3.org/2000/svg\" height=\"24px\"viewBox=\"0 0 24 24\"\n",
              "       width=\"24px\">\n",
              "    <path d=\"M0 0h24v24H0V0z\" fill=\"none\"/>\n",
              "    <path d=\"M18.56 5.44l.94 2.06.94-2.06 2.06-.94-2.06-.94-.94-2.06-.94 2.06-2.06.94zm-11 1L8.5 8.5l.94-2.06 2.06-.94-2.06-.94L8.5 2.5l-.94 2.06-2.06.94zm10 10l.94 2.06.94-2.06 2.06-.94-2.06-.94-.94-2.06-.94 2.06-2.06.94z\"/><path d=\"M17.41 7.96l-1.37-1.37c-.4-.4-.92-.59-1.43-.59-.52 0-1.04.2-1.43.59L10.3 9.45l-7.72 7.72c-.78.78-.78 2.05 0 2.83L4 21.41c.39.39.9.59 1.41.59.51 0 1.02-.2 1.41-.59l7.78-7.78 2.81-2.81c.8-.78.8-2.07 0-2.86zM5.41 20L4 18.59l7.72-7.72 1.47 1.35L5.41 20z\"/>\n",
              "  </svg>\n",
              "      </button>\n",
              "      \n",
              "  <style>\n",
              "    .colab-df-container {\n",
              "      display:flex;\n",
              "      flex-wrap:wrap;\n",
              "      gap: 12px;\n",
              "    }\n",
              "\n",
              "    .colab-df-convert {\n",
              "      background-color: #E8F0FE;\n",
              "      border: none;\n",
              "      border-radius: 50%;\n",
              "      cursor: pointer;\n",
              "      display: none;\n",
              "      fill: #1967D2;\n",
              "      height: 32px;\n",
              "      padding: 0 0 0 0;\n",
              "      width: 32px;\n",
              "    }\n",
              "\n",
              "    .colab-df-convert:hover {\n",
              "      background-color: #E2EBFA;\n",
              "      box-shadow: 0px 1px 2px rgba(60, 64, 67, 0.3), 0px 1px 3px 1px rgba(60, 64, 67, 0.15);\n",
              "      fill: #174EA6;\n",
              "    }\n",
              "\n",
              "    [theme=dark] .colab-df-convert {\n",
              "      background-color: #3B4455;\n",
              "      fill: #D2E3FC;\n",
              "    }\n",
              "\n",
              "    [theme=dark] .colab-df-convert:hover {\n",
              "      background-color: #434B5C;\n",
              "      box-shadow: 0px 1px 3px 1px rgba(0, 0, 0, 0.15);\n",
              "      filter: drop-shadow(0px 1px 2px rgba(0, 0, 0, 0.3));\n",
              "      fill: #FFFFFF;\n",
              "    }\n",
              "  </style>\n",
              "\n",
              "      <script>\n",
              "        const buttonEl =\n",
              "          document.querySelector('#df-1d0f2f04-18f6-4a7e-8d08-e5ec7010c321 button.colab-df-convert');\n",
              "        buttonEl.style.display =\n",
              "          google.colab.kernel.accessAllowed ? 'block' : 'none';\n",
              "\n",
              "        async function convertToInteractive(key) {\n",
              "          const element = document.querySelector('#df-1d0f2f04-18f6-4a7e-8d08-e5ec7010c321');\n",
              "          const dataTable =\n",
              "            await google.colab.kernel.invokeFunction('convertToInteractive',\n",
              "                                                     [key], {});\n",
              "          if (!dataTable) return;\n",
              "\n",
              "          const docLinkHtml = 'Like what you see? Visit the ' +\n",
              "            '<a target=\"_blank\" href=https://colab.research.google.com/notebooks/data_table.ipynb>data table notebook</a>'\n",
              "            + ' to learn more about interactive tables.';\n",
              "          element.innerHTML = '';\n",
              "          dataTable['output_type'] = 'display_data';\n",
              "          await google.colab.output.renderOutput(dataTable, element);\n",
              "          const docLink = document.createElement('div');\n",
              "          docLink.innerHTML = docLinkHtml;\n",
              "          element.appendChild(docLink);\n",
              "        }\n",
              "      </script>\n",
              "    </div>\n",
              "  </div>\n",
              "  "
            ]
          },
          "metadata": {},
          "execution_count": 106
        }
      ]
    },
    {
      "cell_type": "code",
      "source": [
        "Kopo_koposort_data = Kopo_kopo_data1.sort_values(by=\"at\", ascending= False) # arranging the data starting from the newest to oldest\n",
        "Kopo_koposort_data.head()"
      ],
      "metadata": {
        "colab": {
          "base_uri": "https://localhost:8080/",
          "height": 206
        },
        "id": "9rO4a9sNWpUp",
        "outputId": "ca88f5d8-c898-40e9-d28f-4d69d6977576"
      },
      "execution_count": 107,
      "outputs": [
        {
          "output_type": "execute_result",
          "data": {
            "text/plain": [
              "                                               content reviewCreatedVersion  \\\n",
              "30   I like how you communicate and also your loan ...                5.3.0   \n",
              "170                                      Good services                5.3.0   \n",
              "104                                     So far so good                5.3.0   \n",
              "169                                       Good service                5.3.0   \n",
              "65                                   best for business                5.3.0   \n",
              "\n",
              "     score                  at  thumbsUpCount  \n",
              "30       4 2022-12-22 06:36:56              0  \n",
              "170      5 2022-12-16 16:45:40              0  \n",
              "104      5 2022-12-16 06:24:05              0  \n",
              "169      5 2022-12-14 01:52:08              0  \n",
              "65       4 2022-12-13 12:17:31              0  "
            ],
            "text/html": [
              "\n",
              "  <div id=\"df-8c09dc68-2318-4923-b6df-a1289927cba3\">\n",
              "    <div class=\"colab-df-container\">\n",
              "      <div>\n",
              "<style scoped>\n",
              "    .dataframe tbody tr th:only-of-type {\n",
              "        vertical-align: middle;\n",
              "    }\n",
              "\n",
              "    .dataframe tbody tr th {\n",
              "        vertical-align: top;\n",
              "    }\n",
              "\n",
              "    .dataframe thead th {\n",
              "        text-align: right;\n",
              "    }\n",
              "</style>\n",
              "<table border=\"1\" class=\"dataframe\">\n",
              "  <thead>\n",
              "    <tr style=\"text-align: right;\">\n",
              "      <th></th>\n",
              "      <th>content</th>\n",
              "      <th>reviewCreatedVersion</th>\n",
              "      <th>score</th>\n",
              "      <th>at</th>\n",
              "      <th>thumbsUpCount</th>\n",
              "    </tr>\n",
              "  </thead>\n",
              "  <tbody>\n",
              "    <tr>\n",
              "      <th>30</th>\n",
              "      <td>I like how you communicate and also your loan ...</td>\n",
              "      <td>5.3.0</td>\n",
              "      <td>4</td>\n",
              "      <td>2022-12-22 06:36:56</td>\n",
              "      <td>0</td>\n",
              "    </tr>\n",
              "    <tr>\n",
              "      <th>170</th>\n",
              "      <td>Good services</td>\n",
              "      <td>5.3.0</td>\n",
              "      <td>5</td>\n",
              "      <td>2022-12-16 16:45:40</td>\n",
              "      <td>0</td>\n",
              "    </tr>\n",
              "    <tr>\n",
              "      <th>104</th>\n",
              "      <td>So far so good</td>\n",
              "      <td>5.3.0</td>\n",
              "      <td>5</td>\n",
              "      <td>2022-12-16 06:24:05</td>\n",
              "      <td>0</td>\n",
              "    </tr>\n",
              "    <tr>\n",
              "      <th>169</th>\n",
              "      <td>Good service</td>\n",
              "      <td>5.3.0</td>\n",
              "      <td>5</td>\n",
              "      <td>2022-12-14 01:52:08</td>\n",
              "      <td>0</td>\n",
              "    </tr>\n",
              "    <tr>\n",
              "      <th>65</th>\n",
              "      <td>best for business</td>\n",
              "      <td>5.3.0</td>\n",
              "      <td>4</td>\n",
              "      <td>2022-12-13 12:17:31</td>\n",
              "      <td>0</td>\n",
              "    </tr>\n",
              "  </tbody>\n",
              "</table>\n",
              "</div>\n",
              "      <button class=\"colab-df-convert\" onclick=\"convertToInteractive('df-8c09dc68-2318-4923-b6df-a1289927cba3')\"\n",
              "              title=\"Convert this dataframe to an interactive table.\"\n",
              "              style=\"display:none;\">\n",
              "        \n",
              "  <svg xmlns=\"http://www.w3.org/2000/svg\" height=\"24px\"viewBox=\"0 0 24 24\"\n",
              "       width=\"24px\">\n",
              "    <path d=\"M0 0h24v24H0V0z\" fill=\"none\"/>\n",
              "    <path d=\"M18.56 5.44l.94 2.06.94-2.06 2.06-.94-2.06-.94-.94-2.06-.94 2.06-2.06.94zm-11 1L8.5 8.5l.94-2.06 2.06-.94-2.06-.94L8.5 2.5l-.94 2.06-2.06.94zm10 10l.94 2.06.94-2.06 2.06-.94-2.06-.94-.94-2.06-.94 2.06-2.06.94z\"/><path d=\"M17.41 7.96l-1.37-1.37c-.4-.4-.92-.59-1.43-.59-.52 0-1.04.2-1.43.59L10.3 9.45l-7.72 7.72c-.78.78-.78 2.05 0 2.83L4 21.41c.39.39.9.59 1.41.59.51 0 1.02-.2 1.41-.59l7.78-7.78 2.81-2.81c.8-.78.8-2.07 0-2.86zM5.41 20L4 18.59l7.72-7.72 1.47 1.35L5.41 20z\"/>\n",
              "  </svg>\n",
              "      </button>\n",
              "      \n",
              "  <style>\n",
              "    .colab-df-container {\n",
              "      display:flex;\n",
              "      flex-wrap:wrap;\n",
              "      gap: 12px;\n",
              "    }\n",
              "\n",
              "    .colab-df-convert {\n",
              "      background-color: #E8F0FE;\n",
              "      border: none;\n",
              "      border-radius: 50%;\n",
              "      cursor: pointer;\n",
              "      display: none;\n",
              "      fill: #1967D2;\n",
              "      height: 32px;\n",
              "      padding: 0 0 0 0;\n",
              "      width: 32px;\n",
              "    }\n",
              "\n",
              "    .colab-df-convert:hover {\n",
              "      background-color: #E2EBFA;\n",
              "      box-shadow: 0px 1px 2px rgba(60, 64, 67, 0.3), 0px 1px 3px 1px rgba(60, 64, 67, 0.15);\n",
              "      fill: #174EA6;\n",
              "    }\n",
              "\n",
              "    [theme=dark] .colab-df-convert {\n",
              "      background-color: #3B4455;\n",
              "      fill: #D2E3FC;\n",
              "    }\n",
              "\n",
              "    [theme=dark] .colab-df-convert:hover {\n",
              "      background-color: #434B5C;\n",
              "      box-shadow: 0px 1px 3px 1px rgba(0, 0, 0, 0.15);\n",
              "      filter: drop-shadow(0px 1px 2px rgba(0, 0, 0, 0.3));\n",
              "      fill: #FFFFFF;\n",
              "    }\n",
              "  </style>\n",
              "\n",
              "      <script>\n",
              "        const buttonEl =\n",
              "          document.querySelector('#df-8c09dc68-2318-4923-b6df-a1289927cba3 button.colab-df-convert');\n",
              "        buttonEl.style.display =\n",
              "          google.colab.kernel.accessAllowed ? 'block' : 'none';\n",
              "\n",
              "        async function convertToInteractive(key) {\n",
              "          const element = document.querySelector('#df-8c09dc68-2318-4923-b6df-a1289927cba3');\n",
              "          const dataTable =\n",
              "            await google.colab.kernel.invokeFunction('convertToInteractive',\n",
              "                                                     [key], {});\n",
              "          if (!dataTable) return;\n",
              "\n",
              "          const docLinkHtml = 'Like what you see? Visit the ' +\n",
              "            '<a target=\"_blank\" href=https://colab.research.google.com/notebooks/data_table.ipynb>data table notebook</a>'\n",
              "            + ' to learn more about interactive tables.';\n",
              "          element.innerHTML = '';\n",
              "          dataTable['output_type'] = 'display_data';\n",
              "          await google.colab.output.renderOutput(dataTable, element);\n",
              "          const docLink = document.createElement('div');\n",
              "          docLink.innerHTML = docLinkHtml;\n",
              "          element.appendChild(docLink);\n",
              "        }\n",
              "      </script>\n",
              "    </div>\n",
              "  </div>\n",
              "  "
            ]
          },
          "metadata": {},
          "execution_count": 107
        }
      ]
    },
    {
      "cell_type": "code",
      "source": [
        "Kopo_koposort_data.to_excel(\"KopoKopo.xlsx\", index = False) #download kopokopo excel file"
      ],
      "metadata": {
        "id": "urIuIM9yYRPy"
      },
      "execution_count": 108,
      "outputs": []
    },
    {
      "cell_type": "markdown",
      "source": [
        "**CHECKING MISSING VALUES**"
      ],
      "metadata": {
        "id": "2nfzSNtUbGVC"
      }
    },
    {
      "cell_type": "markdown",
      "source": [
        "## **1. Kopo kopo**"
      ],
      "metadata": {
        "id": "iw1Zy9hrYvfc"
      }
    },
    {
      "cell_type": "code",
      "source": [
        "Kopo_koposort_data_sum_missing = Kopo_koposort_data.isnull().sum()\n",
        "print(Kopo_koposort_data_sum_missing)"
      ],
      "metadata": {
        "colab": {
          "base_uri": "https://localhost:8080/"
        },
        "id": "U_s411yLZYTk",
        "outputId": "5ebb178f-a353-47e4-e5e1-99520f33a45d"
      },
      "execution_count": 109,
      "outputs": [
        {
          "output_type": "stream",
          "name": "stdout",
          "text": [
            "content                  0\n",
            "reviewCreatedVersion    78\n",
            "score                    0\n",
            "at                       0\n",
            "thumbsUpCount            0\n",
            "dtype: int64\n"
          ]
        }
      ]
    },
    {
      "cell_type": "markdown",
      "source": [
        "The App has many different versions let's check which version has the best review."
      ],
      "metadata": {
        "id": "2K3CiPJ3cFOB"
      }
    },
    {
      "cell_type": "code",
      "source": [
        "highest_score = Kopo_koposort_data[Kopo_koposort_data[\"score\"]==5]\n",
        "print(\"KopoKopo highest scores:\", highest_score.head())"
      ],
      "metadata": {
        "colab": {
          "base_uri": "https://localhost:8080/"
        },
        "id": "Iuc0l1DIbhWA",
        "outputId": "e22cd4f0-d812-4c87-ade6-7710512dbcec"
      },
      "execution_count": 110,
      "outputs": [
        {
          "output_type": "stream",
          "name": "stdout",
          "text": [
            "KopoKopo highest scores:                                                content reviewCreatedVersion  \\\n",
            "170                                      Good services                5.3.0   \n",
            "104                                     So far so good                5.3.0   \n",
            "169                                       Good service                5.3.0   \n",
            "5    Great app, withdrawals never take more than 5m...                5.3.0   \n",
            "64                              Awesome app..jah guide                5.3.0   \n",
            "\n",
            "     score                  at  thumbsUpCount  \n",
            "170      5 2022-12-16 16:45:40              0  \n",
            "104      5 2022-12-16 06:24:05              0  \n",
            "169      5 2022-12-14 01:52:08              0  \n",
            "5        5 2022-12-09 18:07:27              0  \n",
            "64       5 2022-12-08 07:10:18              0  \n"
          ]
        }
      ]
    },
    {
      "cell_type": "code",
      "source": [
        "medium_score = Kopo_koposort_data[Kopo_koposort_data[\"score\"] == 3]\n",
        "print(\"Kopokopo medium score:\", medium_score.head()) "
      ],
      "metadata": {
        "colab": {
          "base_uri": "https://localhost:8080/"
        },
        "id": "8jqTETiKcrxF",
        "outputId": "86472b1b-10a5-4325-9189-648c5b03d24a"
      },
      "execution_count": 111,
      "outputs": [
        {
          "output_type": "stream",
          "name": "stdout",
          "text": [
            "Kopokopo medium score:                                                content reviewCreatedVersion  \\\n",
            "165                                              Good.                5.3.0   \n",
            "114                                 Nice but expensive                 None   \n",
            "12   Fantastic App but your interest rates on the g...                5.3.0   \n",
            "159                         Trying for the first time.                 None   \n",
            "32   Kindly include the totals of daily transaction...                5.1.0   \n",
            "\n",
            "     score                  at  thumbsUpCount  \n",
            "165      3 2022-10-21 06:49:52              0  \n",
            "114      3 2022-09-22 05:17:30              0  \n",
            "12       3 2022-09-15 06:42:22              9  \n",
            "159      3 2022-03-09 08:59:45              0  \n",
            "32       3 2022-02-06 05:39:22             60  \n"
          ]
        }
      ]
    },
    {
      "cell_type": "markdown",
      "source": [
        "How many versions are there?"
      ],
      "metadata": {
        "id": "P-KdJGaXdBdQ"
      }
    },
    {
      "cell_type": "code",
      "source": [
        "print(Kopo_koposort_data.reviewCreatedVersion.nunique())\n",
        "print(Kopo_koposort_data.reviewCreatedVersion.unique())\n",
        "print(Kopo_koposort_data.reviewCreatedVersion.value_counts())"
      ],
      "metadata": {
        "colab": {
          "base_uri": "https://localhost:8080/"
        },
        "id": "JmRBvMg9c-Kz",
        "outputId": "f57c177a-e212-45ba-93ed-bd6426534c16"
      },
      "execution_count": 112,
      "outputs": [
        {
          "output_type": "stream",
          "name": "stdout",
          "text": [
            "22\n",
            "['5.3.0' None '5.2.0' '5.1.0' '5.0.3' '4.2.4' '5.0.2' '4.1.4' '5.0.0'\n",
            " '4.1.8' '4.1.6' '4.1.2' '3.0.1' '4.1.1' '4.0.4' '4.0.3' '3.0.0' '2.2.2'\n",
            " '2.2.1' '2.1.3' '2.1.2' '2.1.0' '2.0.3 (Beta)']\n",
            "5.3.0           40\n",
            "4.1.4           35\n",
            "4.2.4           27\n",
            "2.2.2           24\n",
            "5.1.0           23\n",
            "4.1.2           14\n",
            "4.1.6           11\n",
            "5.2.0            8\n",
            "5.0.2            7\n",
            "5.0.3            6\n",
            "5.0.0            6\n",
            "4.1.8            6\n",
            "3.0.0            4\n",
            "4.1.1            4\n",
            "2.1.0            3\n",
            "3.0.1            3\n",
            "2.2.1            2\n",
            "4.0.3            1\n",
            "2.1.3            1\n",
            "2.1.2            1\n",
            "4.0.4            1\n",
            "2.0.3 (Beta)     1\n",
            "Name: reviewCreatedVersion, dtype: int64\n"
          ]
        }
      ]
    },
    {
      "cell_type": "code",
      "source": [
        "# Find out average of all ratings for each unique version and check which version received highest average rating.\n",
        "x = (Kopo_koposort_data.groupby('reviewCreatedVersion')['score'].mean())\n",
        "print(x)"
      ],
      "metadata": {
        "colab": {
          "base_uri": "https://localhost:8080/"
        },
        "id": "ug3S8tAaddro",
        "outputId": "9c2542d1-5b3b-4d4b-d7c1-a430cc4a1fce"
      },
      "execution_count": 113,
      "outputs": [
        {
          "output_type": "stream",
          "name": "stdout",
          "text": [
            "reviewCreatedVersion\n",
            "2.0.3 (Beta)    1.000000\n",
            "2.1.0           4.666667\n",
            "2.1.2           5.000000\n",
            "2.1.3           5.000000\n",
            "2.2.1           4.500000\n",
            "2.2.2           3.041667\n",
            "3.0.0           4.250000\n",
            "3.0.1           4.333333\n",
            "4.0.3           4.000000\n",
            "4.0.4           3.000000\n",
            "4.1.1           2.750000\n",
            "4.1.2           2.928571\n",
            "4.1.4           3.485714\n",
            "4.1.6           4.272727\n",
            "4.1.8           3.666667\n",
            "4.2.4           3.296296\n",
            "5.0.0           3.833333\n",
            "5.0.2           2.428571\n",
            "5.0.3           3.833333\n",
            "5.1.0           2.826087\n",
            "5.2.0           3.625000\n",
            "5.3.0           4.050000\n",
            "Name: score, dtype: float64\n"
          ]
        }
      ]
    },
    {
      "cell_type": "code",
      "source": [
        "# Visualize data using histogram to determine if app is more positive reviews or negative reviews in terms of score\n",
        "plt.hist(Kopo_koposort_data['score'], bins = 5)\n",
        "plt.xlabel(\"score review\")\n",
        "plt.ylabel(\"frequency\")\n",
        "plt.title(\"Kopokopo score review Histogram\")\n",
        "plt.show()"
      ],
      "metadata": {
        "colab": {
          "base_uri": "https://localhost:8080/",
          "height": 295
        },
        "id": "qQwBoGWjhcs5",
        "outputId": "0f2593eb-6591-4b11-ba82-16da93388220"
      },
      "execution_count": 114,
      "outputs": [
        {
          "output_type": "display_data",
          "data": {
            "text/plain": [
              "<Figure size 432x288 with 1 Axes>"
            ],
            "image/png": "[encoded data removed]"
          },
          "metadata": {
            "needs_background": "light"
          }
        }
      ]
    },
    {
      "cell_type": "markdown",
      "source": [
        "# Pesapal"
      ],
      "metadata": {
        "id": "JxefP0sGY7md"
      }
    },
    {
      "cell_type": "code",
      "source": [
        "PesaPalsort_data_sum_missing = PesaPalsort_data.isnull().sum()\n",
        "print(PesaPalsort_data_sum_missing)"
      ],
      "metadata": {
        "colab": {
          "base_uri": "https://localhost:8080/"
        },
        "id": "Ug8e-2GxSiga",
        "outputId": "6cfa3a4d-5788-4020-e984-69ada293ba00"
      },
      "execution_count": 115,
      "outputs": [
        {
          "output_type": "stream",
          "name": "stdout",
          "text": [
            "content                 0\n",
            "reviewCreatedVersion    4\n",
            "score                   0\n",
            "at                      0\n",
            "thumbsUpCount           0\n",
            "dtype: int64\n"
          ]
        }
      ]
    },
    {
      "cell_type": "code",
      "source": [
        "highest_score = PesaPalsort_data[PesaPalsort_data[\"score\"]==5]\n",
        "print(\"Pesapal highest scores:\", highest_score.head())"
      ],
      "metadata": {
        "colab": {
          "base_uri": "https://localhost:8080/"
        },
        "id": "-5D7aGRnSius",
        "outputId": "de58ed98-515e-4110-a31d-e1bfff57e6f4"
      },
      "execution_count": 116,
      "outputs": [
        {
          "output_type": "stream",
          "name": "stdout",
          "text": [
            "Pesapal highest scores:                                               content reviewCreatedVersion  \\\n",
            "19                           Uduma nzuri inarahisisha                 None   \n",
            "2   The app is nice but anytime I try selling on c...                   29   \n",
            "4            best app need charts summary thanks alot                   29   \n",
            "1   It's the best love it, saves time and it's acc...                   29   \n",
            "11                                            Awesome                   20   \n",
            "\n",
            "    score                  at  thumbsUpCount  \n",
            "19      5 2021-12-28 10:23:57              0  \n",
            "2       5 2019-12-09 18:59:03              3  \n",
            "4       5 2019-01-13 19:23:58              3  \n",
            "1       5 2018-11-21 09:48:20              7  \n",
            "11      5 2018-08-18 04:49:06              1  \n"
          ]
        }
      ]
    },
    {
      "cell_type": "code",
      "source": [
        "medium_score = PesaPalsort_data[PesaPalsort_data[\"score\"] == 3]\n",
        "print(\"Pesapal medium score:\", medium_score.head()) "
      ],
      "metadata": {
        "colab": {
          "base_uri": "https://localhost:8080/"
        },
        "id": "L3tAmykzSi8c",
        "outputId": "f17bd313-542f-4bba-a7b1-522628ca3669"
      },
      "execution_count": 117,
      "outputs": [
        {
          "output_type": "stream",
          "name": "stdout",
          "text": [
            "Pesapal medium score:                                              content reviewCreatedVersion  \\\n",
            "0  One of the best POs app, one improvement neede...                 35.4   \n",
            "5  how do I appdate after selling an item?? pleas...                 None   \n",
            "\n",
            "   score                  at  thumbsUpCount  \n",
            "0      3 2022-06-22 06:50:54              0  \n",
            "5      3 2019-03-21 11:08:51              3  \n"
          ]
        }
      ]
    },
    {
      "cell_type": "code",
      "source": [
        "print(PesaPalsort_data.reviewCreatedVersion.nunique())\n",
        "print(PesaPalsort_data.reviewCreatedVersion.unique())\n",
        "print(PesaPalsort_data.reviewCreatedVersion.value_counts())"
      ],
      "metadata": {
        "colab": {
          "base_uri": "https://localhost:8080/"
        },
        "id": "iDLRhBdsSjIX",
        "outputId": "6f8bbf30-442b-47c6-dfb2-2021bddac52e"
      },
      "execution_count": 118,
      "outputs": [
        {
          "output_type": "stream",
          "name": "stdout",
          "text": [
            "7\n",
            "['35.4' None '29' '32' '20' '16' '14' '11']\n",
            "20      5\n",
            "29      4\n",
            "16      3\n",
            "14      2\n",
            "35.4    1\n",
            "32      1\n",
            "11      1\n",
            "Name: reviewCreatedVersion, dtype: int64\n"
          ]
        }
      ]
    },
    {
      "cell_type": "code",
      "source": [
        "# Find out average of all ratings for each unique version and check which version received highest average rating.\n",
        "x = (PesaPalsort_data.groupby('reviewCreatedVersion')['score'].mean())\n",
        "print(x)"
      ],
      "metadata": {
        "colab": {
          "base_uri": "https://localhost:8080/"
        },
        "id": "UewYx60DSjTe",
        "outputId": "0ff2714d-7edb-4d8f-fcd3-1aaf2c80a680"
      },
      "execution_count": 119,
      "outputs": [
        {
          "output_type": "stream",
          "name": "stdout",
          "text": [
            "reviewCreatedVersion\n",
            "11      5.000000\n",
            "14      5.000000\n",
            "16      2.333333\n",
            "20      4.800000\n",
            "29      4.750000\n",
            "32      4.000000\n",
            "35.4    3.000000\n",
            "Name: score, dtype: float64\n"
          ]
        }
      ]
    },
    {
      "cell_type": "code",
      "source": [
        "# Visualize data using histogram to determine if app is more positive reviews or negative reviews in terms of score\n",
        "plt.hist(PesaPalsort_data['score'], bins = 5)\n",
        "plt.xlabel(\"score review\")\n",
        "plt.ylabel(\"frequency\")\n",
        "plt.title(\"Pesapal score review Histogram\")\n",
        "plt.show()"
      ],
      "metadata": {
        "colab": {
          "base_uri": "https://localhost:8080/",
          "height": 295
        },
        "id": "CWIoMYi6SjyT",
        "outputId": "474cdbbf-cead-4009-de81-451d632830ee"
      },
      "execution_count": 120,
      "outputs": [
        {
          "output_type": "display_data",
          "data": {
            "text/plain": [
              "<Figure size 432x288 with 1 Axes>"
            ],
            "image/png": "[encoded data removed]"
          },
          "metadata": {
            "needs_background": "light"
          }
        }
      ]
    },
    {
      "cell_type": "markdown",
      "source": [
        "## **Paystack **"
      ],
      "metadata": {
        "id": "JWOCa_ZOZAwY"
      }
    },
    {
      "cell_type": "code",
      "source": [
        "Paystacksort_data_sum_missing = Paystacksort_data.isnull().sum()\n",
        "print(Paystacksort_data_sum_missing)"
      ],
      "metadata": {
        "colab": {
          "base_uri": "https://localhost:8080/"
        },
        "id": "07VqE6VzSlk9",
        "outputId": "745d352b-df10-4a82-8811-61c523eea70f"
      },
      "execution_count": 121,
      "outputs": [
        {
          "output_type": "stream",
          "name": "stdout",
          "text": [
            "content                  0\n",
            "reviewCreatedVersion    58\n",
            "score                    0\n",
            "at                       0\n",
            "thumbsUpCount            0\n",
            "dtype: int64\n"
          ]
        }
      ]
    },
    {
      "cell_type": "code",
      "source": [
        "highest_score = Paystacksort_data[Paystacksort_data[\"score\"]==5]\n",
        "print(\"Paystack highest scores:\", highest_score.head())"
      ],
      "metadata": {
        "colab": {
          "base_uri": "https://localhost:8080/"
        },
        "id": "yOV_tZFJSl9b",
        "outputId": "ccd96756-9409-4377-d1d3-0c9bb0e52edc"
      },
      "execution_count": 122,
      "outputs": [
        {
          "output_type": "stream",
          "name": "stdout",
          "text": [
            "Paystack highest scores:                                                content reviewCreatedVersion  \\\n",
            "125                                   Word conect game                1.9.4   \n",
            "231                                      Nice and good                1.9.3   \n",
            "233                                               Good                1.8.3   \n",
            "268                                               Good                 None   \n",
            "117  Just a click we all will see the importance no...                 None   \n",
            "\n",
            "     score                  at  thumbsUpCount  \n",
            "125      5 2022-12-08 07:46:36              0  \n",
            "231      5 2022-11-21 23:22:07              1  \n",
            "233      5 2022-10-23 09:41:12              0  \n",
            "268      5 2022-10-20 14:04:46              0  \n",
            "117      5 2022-10-16 15:39:11              0  \n"
          ]
        }
      ]
    },
    {
      "cell_type": "code",
      "source": [
        "medium_score = Paystacksort_data[Paystacksort_data[\"score\"] == 3]\n",
        "print(\"Paystack medium score:\", medium_score.head()) "
      ],
      "metadata": {
        "colab": {
          "base_uri": "https://localhost:8080/"
        },
        "id": "BfnlJxW_SmLw",
        "outputId": "fb252f19-38d9-4549-98ee-69083319d3a0"
      },
      "execution_count": 123,
      "outputs": [
        {
          "output_type": "stream",
          "name": "stdout",
          "text": [
            "Paystack medium score:                                                content reviewCreatedVersion  \\\n",
            "27          I give it 3 🌟 because it not working today                1.9.4   \n",
            "56   Why can't I login in to my acct pls help me re...                1.9.3   \n",
            "267                                               Best                 None   \n",
            "221          How can I withdraw from my Pay Stack app.                1.8.3   \n",
            "70   Good evening paystack, I just got a debit aler...                1.8.1   \n",
            "\n",
            "     score                  at  thumbsUpCount  \n",
            "27       3 2022-12-01 00:54:55              1  \n",
            "56       3 2022-11-23 13:12:26              1  \n",
            "267      3 2022-09-03 07:14:21              0  \n",
            "221      3 2022-08-24 23:24:38              0  \n",
            "70       3 2022-01-21 15:56:28              4  \n"
          ]
        }
      ]
    },
    {
      "cell_type": "code",
      "source": [
        "print(Paystacksort_data.reviewCreatedVersion.nunique())\n",
        "print(Paystacksort_data.reviewCreatedVersion.unique())\n",
        "print(Paystacksort_data.reviewCreatedVersion.value_counts())"
      ],
      "metadata": {
        "colab": {
          "base_uri": "https://localhost:8080/"
        },
        "id": "trMXqQO7SmZM",
        "outputId": "86934f5a-6788-428d-c98b-5964b6078456"
      },
      "execution_count": 124,
      "outputs": [
        {
          "output_type": "stream",
          "name": "stdout",
          "text": [
            "31\n",
            "['1.9.4' '1.9.3' None '1.8.3' '1.8.1' '1.8.2' '1.7.2' '1.8.0' '1.3.9'\n",
            " '1.6.0' '1.5.3' '1.2.6' '1.3.8' '1.1.9' '1.3.7' '1.3.6' '1.3.1' '1.3.5'\n",
            " '1.3.3' '1.3.0' '1.2.5' '1.2.4' '1.2.2' '1.2.0' '1.1.6' '1.1.7' '1.0.4'\n",
            " '1.0' '1.1.4' '1.1.3' '1.1.1' '1.0.2']\n",
            "1.1.7    29\n",
            "1.8.3    25\n",
            "1.3.9    23\n",
            "1.3.1    15\n",
            "1.1.4    11\n",
            "1.8.1    10\n",
            "1.7.2    10\n",
            "1.2.6     9\n",
            "1.3.3     8\n",
            "1.2.4     7\n",
            "1.9.3     7\n",
            "1.3.8     6\n",
            "1.1.9     6\n",
            "1.3.0     6\n",
            "1.0.4     5\n",
            "1.5.3     5\n",
            "1.0       5\n",
            "1.3.6     5\n",
            "1.1.6     5\n",
            "1.2.2     5\n",
            "1.9.4     3\n",
            "1.6.0     3\n",
            "1.2.5     2\n",
            "1.8.0     2\n",
            "1.1.3     2\n",
            "1.2.0     1\n",
            "1.3.5     1\n",
            "1.3.7     1\n",
            "1.8.2     1\n",
            "1.1.1     1\n",
            "1.0.2     1\n",
            "Name: reviewCreatedVersion, dtype: int64\n"
          ]
        }
      ]
    },
    {
      "cell_type": "code",
      "source": [
        "# Find out average of all ratings for each unique version and check which version received highest average rating.\n",
        "x = (Paystacksort_data.groupby('reviewCreatedVersion')['score'].mean())\n",
        "print(x)"
      ],
      "metadata": {
        "colab": {
          "base_uri": "https://localhost:8080/"
        },
        "id": "Elimlz9nSmlL",
        "outputId": "b0c59053-7d54-49bb-e5ea-df56ae8b86f0"
      },
      "execution_count": 125,
      "outputs": [
        {
          "output_type": "stream",
          "name": "stdout",
          "text": [
            "reviewCreatedVersion\n",
            "1.0      2.200000\n",
            "1.0.2    5.000000\n",
            "1.0.4    2.800000\n",
            "1.1.1    5.000000\n",
            "1.1.3    5.000000\n",
            "1.1.4    4.363636\n",
            "1.1.6    3.600000\n",
            "1.1.7    3.482759\n",
            "1.1.9    3.833333\n",
            "1.2.0    3.000000\n",
            "1.2.2    2.400000\n",
            "1.2.4    3.142857\n",
            "1.2.5    3.000000\n",
            "1.2.6    2.888889\n",
            "1.3.0    1.166667\n",
            "1.3.1    3.666667\n",
            "1.3.3    1.000000\n",
            "1.3.5    3.000000\n",
            "1.3.6    1.000000\n",
            "1.3.7    3.000000\n",
            "1.3.8    1.500000\n",
            "1.3.9    1.956522\n",
            "1.5.3    1.600000\n",
            "1.6.0    3.666667\n",
            "1.7.2    2.200000\n",
            "1.8.0    3.500000\n",
            "1.8.1    2.100000\n",
            "1.8.2    1.000000\n",
            "1.8.3    1.880000\n",
            "1.9.3    1.857143\n",
            "1.9.4    3.333333\n",
            "Name: score, dtype: float64\n"
          ]
        }
      ]
    },
    {
      "cell_type": "code",
      "source": [
        "# Visualize data using histogram to determine if app is more positive reviews or negative reviews in terms of score\n",
        "plt.hist(Paystacksort_data['score'], bins = 5)\n",
        "plt.xlabel(\"score review\")\n",
        "plt.ylabel(\"frequency\")\n",
        "plt.title(\"Paystack score review Histogram\")\n",
        "plt.show()"
      ],
      "metadata": {
        "colab": {
          "base_uri": "https://localhost:8080/",
          "height": 295
        },
        "id": "oexZE6CbSmxV",
        "outputId": "0382279f-e867-46e4-d161-158ccdf5303b"
      },
      "execution_count": 126,
      "outputs": [
        {
          "output_type": "display_data",
          "data": {
            "text/plain": [
              "<Figure size 432x288 with 1 Axes>"
            ],
            "image/png": "[encoded data removed]"
          },
          "metadata": {
            "needs_background": "light"
          }
        }
      ]
    },
    {
      "cell_type": "markdown",
      "source": [
        "From the above graph showing the frequency of each rating received, it can be said that most of the times app received either 4 or 5 rating. Thus, it can also be said that the app performs above average."
      ],
      "metadata": {
        "id": "s3k4YCmcKW_p"
      }
    },
    {
      "cell_type": "markdown",
      "source": [
        "### **Data Pre-processing**"
      ],
      "metadata": {
        "id": "nJVylvpEKkj5"
      }
    },
    {
      "cell_type": "markdown",
      "source": [
        "1. Kopokopo\n",
        "2. Pesapal\n",
        "3. Paystack"
      ],
      "metadata": {
        "id": "anFkwTLeVhDo"
      }
    },
    {
      "cell_type": "markdown",
      "source": [
        "***Lowercasing***\n",
        "This is to maintain consistency of data\n"
      ],
      "metadata": {
        "id": "ZqznclmbKt30"
      }
    },
    {
      "cell_type": "code",
      "source": [
        "# check data type of content and change to str\n",
        "type(Kopo_koposort_data[\"content\"])"
      ],
      "metadata": {
        "colab": {
          "base_uri": "https://localhost:8080/"
        },
        "id": "vcx1pN0qiURV",
        "outputId": "1adc3f69-9ca0-43a4-bec3-20d7af1c462a"
      },
      "execution_count": 127,
      "outputs": [
        {
          "output_type": "execute_result",
          "data": {
            "text/plain": [
              "pandas.core.series.Series"
            ]
          },
          "metadata": {},
          "execution_count": 127
        }
      ]
    },
    {
      "cell_type": "code",
      "source": [
        "#convert to str\n",
        "Kopo_koposort_data['content'] = Kopo_koposort_data['content'].astype(str)\n",
        "print(Kopo_koposort_data['content'].head())"
      ],
      "metadata": {
        "colab": {
          "base_uri": "https://localhost:8080/"
        },
        "id": "eG7vGLVANVJF",
        "outputId": "d1871e84-e1ad-4b8b-8a49-c59d7d9e241d"
      },
      "execution_count": 128,
      "outputs": [
        {
          "output_type": "stream",
          "name": "stdout",
          "text": [
            "30     I like how you communicate and also your loan ...\n",
            "170                                        Good services\n",
            "104                                       So far so good\n",
            "169                                         Good service\n",
            "65                                     best for business\n",
            "Name: content, dtype: object\n"
          ]
        }
      ]
    },
    {
      "cell_type": "markdown",
      "source": [
        "we note that some of the words are in caps hence leading to inconsistency"
      ],
      "metadata": {
        "id": "xe2_0DcfQ4eQ"
      }
    },
    {
      "cell_type": "code",
      "source": [
        "#Lowercase all reviews\n",
        "Kopo_koposort_data['content'] = Kopo_koposort_data['content'].apply(lambda x: x.lower())\n",
        "print(Kopo_koposort_data['content'].head()) # to see the difference"
      ],
      "metadata": {
        "colab": {
          "base_uri": "https://localhost:8080/"
        },
        "id": "JbEKs1ClQBmc",
        "outputId": "01fa16e9-6d94-4dc1-ea68-8c8a6326d4de"
      },
      "execution_count": 129,
      "outputs": [
        {
          "output_type": "stream",
          "name": "stdout",
          "text": [
            "30     i like how you communicate and also your loan ...\n",
            "170                                        good services\n",
            "104                                       so far so good\n",
            "169                                         good service\n",
            "65                                     best for business\n",
            "Name: content, dtype: object\n"
          ]
        }
      ]
    },
    {
      "cell_type": "markdown",
      "source": [
        "## **Emojis**"
      ],
      "metadata": {
        "id": "6PKLTq0_XQHL"
      }
    },
    {
      "cell_type": "markdown",
      "source": [
        "1. Kopokopo\n",
        "2. Pesapal\n",
        "3. Paystack"
      ],
      "metadata": {
        "id": "fU_xxCTYWVcf"
      }
    },
    {
      "cell_type": "markdown",
      "source": [
        "It is also important to remove emojis from data as it can sometimes create a problem with analysis further."
      ],
      "metadata": {
        "id": "CIavo1m8XVlP"
      }
    },
    {
      "cell_type": "code",
      "source": [
        "#check if there is any special character\n",
        "alphabet = string.ascii_letters+string.punctuation\n",
        "print(Kopo_koposort_data.content.str.strip(alphabet).astype(bool).any())\n",
        "\n",
        "extracted_emojis=[]\n",
        "\n",
        "def extract_emojis(s):\n",
        "  expe = re.compile('[\\U00010000-\\U0010ffff]', flags=re.UNICODE)\n",
        "  #return expe.findall(s)\n",
        "  return expe.sub(r'',s)\n",
        "\n",
        "\n",
        "for i in Kopo_koposort_data['content']:\n",
        "  #print(str(extract_emojis(y)))\n",
        "  extracted_emojis.append(str(extract_emojis(i)))\n",
        "\n",
        "print(extracted_emojis)    \n"
      ],
      "metadata": {
        "colab": {
          "base_uri": "https://localhost:8080/"
        },
        "id": "fbr6RQVvWEJW",
        "outputId": "0d03232e-59cb-4559-b36f-54b3c06fe8a3"
      },
      "execution_count": 130,
      "outputs": [
        {
          "output_type": "stream",
          "name": "stdout",
          "text": [
            "True\n",
            "['i like how you communicate and also your loan services. fatastic', 'good services', 'so far so good', 'good service', 'best for business', 'great app, withdrawals never take more than 5min, professional customer care service.so far so good 4yrs with them.', 'awesome app..jah guide', 'most beneficial app in business..', 'quite useful.', 'it is a nice till i recommend other investors to use the app', \"very useless app, how can i be transacting my cash through your app,then you deny me advance because my business has gone down for one week,i mean, does one week determine the rest of other three months!! i think the advance option is put there to entice the users, guys don't try this app\", 'very useless', \"its a very fast approaching app it's much easier and faster\", \"very slow app very very disappointing app i can't recommend this to any business it's so slow it takes 20 minutes to upload a transaction especially clients payment.\", 'good.', 'convient lender but very high interest percentage, consider a lower rate', 'i have given it one star still havent received my loan but its a good app', 'fast, reliable and effective upto date record of transactions.', 'ultimate solution for business payments. you can track every transaction, get loans to boost the business and easy to operate. getting the till was quick and the delivery of the sim and sticker was very efficient, at the comfort of my work. the customer service and officers were reaching out more than expected, ready to serve you and share inbound information. am a happy user.', 'the best', 'it is business friendly, convenient and easy to use. i highly recommend it to any business person', 'very high interest rates, not good for a small growing business.', 'nice but expensive', 'perfect', 'trash', 'fantastic app but your interest rates on the grow cash advance are astronomical!!!!!', 'awesome', \"it's a good app for tracking your payments, easy to use but the loan interest rates are too high\", 'thanks alot to kopokopo company at large for your positive contribution to my business. indeed i have never regreted having you as part of my businesses. not only do my bussiness have grown drastically but also me as beneficiary.', \"useless,can't even create an account\", 'nice but high interest rate.if these rates would be lower it is very easy to make people grow. but they are exorbitant and therefore we cannot grow. workout interests on a reducing balance.', 'very convenient ', 'the app is okay bt some get advance within first 3months others have been active for 5 months and yet no cash advance', 'best of all lending apps,enough money with friendly interest rates,i recommend everyone in business to use kopokopo', 'ncy business account it give first loan 250,000/- i like it and i recommend everyone to use it', 'very efficient and customer care responds very fast', 'the best growing back so far', 'loan process', 'have recommended more', 'marvelous', 'the best app thats happened to my business, forever grateful', 'great customer service', 'good', 'easy to use, multiple customer friendly features. prompt responses to queries. great customer support. love it.', 'the app is good but you need to improve the login.i have to reset my password every time to use the app.', 'easy to use', 'the best eva', \"a new user and i'm already thinking of ditching the app. it's down times are very discouraging.\", 'the best lipa na mpesa platform...offers loan on time & good customer care service.', 'convinient to use', 'well....services are affordable', 'your app is slow nd very difficult to use. it also keeps losing data and is hard to enter your details into', \"it's swift n easy to use, reliable if compared to the previous version., \", \"can't mange to sign up.\", \"not advisable for new users i can't sign up and keeps saying my email is invalid thats my email i use it daily how can it be invalid useless since i can't even get access to the app\", 'this app is pathetic..it should even be a loan app', 'very efficient to use', 'perfect', 'trying for the first time.', 'so reliable.', 'i really wanted to borrow but i got pissed even my bank is not that complicated...sijui add primary user who will use my account nikiweka details mnasema we will now add the primary user who will use your account.so complicated', \"hello he wants to improve that app is good for customer's\", 'i wonder why i cleared my loan and cash advance stopped working!', \"kindly include the totals of daily transactions, transfers, etc. also include the break down of the loan payments, you've only included the totals..\", \"after completing payment one month before stipulated time, i can't acces my cash limit. despite making numerous calls n emails no help is forthcoming from you. feeling dissapointed!!\", 'the best app ever', 'home of good business', 'good', 'hey there how do i sign up. it is not showing anything.........................................', 'this is the useless app ever and now regretting to download it, no option to register just telling to log in each and every time i got to the app, how can i log in without registering. i should give 0 rating.', 'i give it 5 stars for its efficiency', 'excellent job', 'too slow nowadays..takes ages to complete a withdrawal request.', 'best app for business , i can recommend', 'good', 'not showing paybill number on home screen', 'cant register, just opening a blank page', 'good app', 'good', \"the new app is very slow, i can't see my total amount on those top bar indicated amount available, the app it's hagging feeling disappointed..\", \"took the bait and updated to my delight, recent transfers, settlement all ok. kudos to the gurus making the app for we're just users, our syntax and debugging mostly involves no. of stars.\", 'great app! good services i would recommend it for any small business. how can my customers receive a thank you message after payment?', 'abit better', 'since the upgrade very slow, i have to restart it several times. otherwise kopo kopo is great.', 'great', 'super app', 'perfectly', 'very good', 'very fast and helpful', \"my only problem with kopokopo is that i can only use transfer of cash to my mpesa. i can't do any other transaction with this till so frustrating.\", 'this app is amazing', 'i had a glimpse if your new app. i am however, not able to open it, gets stuck at kopokopo logo', \"the new app crushes alot. it's not reliable at all!\", 'why is it one user some of us are helping our aged parents.', 'very reliable app and assist in very hour of the need ..thanx so much', \"great features in the updated version but it crashes alot and one has to log in even when using the app. doesn't open at times and delays in updates.\", 'great app though the updated version is annoying login with your email address everytime then the icon has no background color', 'how do you see transactions for different tills on this new update?', 'great', 'eeeish, i love the new interface guys as well as well as the 2-factor authentication when making transfers. keep on improving ', 'always ready to assist and the new look is pretty and more detaile oriented ...', 'can not see records transfered amounts.', 'zero star... payments are being done and the transactions shows that but am getting the available balance to be zero what is even that', 'this new app is not user friendly, to complicated, especially when login in, you must use your email and too many passwords even when withdrawing cash. the previous one was easy and fast. kindly check on that.', 'the worst app on play store it can do nothing', 'the previous system of kopokopo was okay. but now all they do is hold and not notify new transaction. have lost 700 with no refund', 'the experience is ok .however you need to set clear conditions for cash advances or rather stick to what your agents normally say 3months. otherwise why would your client pay for an expensive advance elsewhere to pay for say stock if you can give the facility', 'love the update! job well done from the team ', 'a very reliable business partner!', 'they are gud but their loans are misguided on paperwork...asking for liquer licences and its covid 19 times not so many of us can afford to pay over 100000 for the paper which u use only during the day', 'user friendly', 'good', \"i would have rated you 5 stars but its due to your cash advances which is customer exploitative!!? i'm satisfied with those other services. i'm strongly advicing my fellow business fellows to just stay away from your cash advances.\", \"can't login at the time i really need to.\", 'good', 'i would have given you 5 star but refreshing takes almost an hour please work on it', 'great', 'how do i register', 'exceptional', 'exceptionally nice', 'good', \"if you have not registered with kopokopo pliz don't do it after staying with them for a period of time they refuse to advance me just because i opened a new license instead of renewing the old one they look for none existing reasons not to advance you it's a scum be safe stay away\", \"very bad experience.. do not and i repeat never take their loans.. its a scum very unprofessional. they are not transparent and would advice especially for small business.. don't try it... very disappointed\", \"when i try to log in it keeps on telling me my imail is'nt found\", 'can you add the ongezea feature here on the app...been having a conersation from your cuatomer care and learnt that this ongezea is not even functioning...mna ianza lini!!', 'reliable', '', 'not bad', \"i didn't take any loan using this app,and your sms me saying that my loan is due plz assist me where possible.\", 'excellent', 'very good when it comes to cash advance loans', \"very bogus app can't register\", 'great', 'very supporting app', \"i can't search transaction. only view, transfer funds. nothing more. ate these the only features?\", \"it's a nice app when it comes to transfer of funds from the till to mpesa.. when it comes to cash advance you get an increase but upon applying you don't get any.. so long as there's a flow of cash in the till i don't see why anyone should be denied the loan since it's deducted directly.\", \"it doesn't allow me to sign up as a first time user\", \"app keeps crashing on my phone and doesn't open even once. i'm using xiaomi redmi note 8.\", 'good', 'high five to kopokopo, lots of love a', 'nice app...i really love kopokopo', 'good', 'marvelous', 'convinient', 'fast and legit', 'with the many options out here, the cash advance is not well structured and very expensive!', \"the till number nowadays when u request for a withdrawal it is taking a long time before it appears to the mpesa no ...and am asking what if it's an imergency\", 'the system keeps changing and it becomes impossible to access the cash updates also take too long to reflect on the app', 'the app is marvelous', 'excellent', 'safes my time alot', 'nice app', 'excellent, i love it', 'good but advance cash is a nightmare', 'very nice app', 'good', \"it's awesome\", 'easy to use', 'is good', 'site good, app total mess, bring it down. better never have something stressing', 'excellent', 'good', 'very good application', 'very illustrative', 'no. i cant register/sign up', 'this is an amazing app yet. seamless update and quick update.', 'loans very expensive though', 'a very nice and helpful app for the last one year plus have used it. one recommendation i\\'d wish embedded within the app is a \"search\" customer names option.sometimes we do review or refer to our previous customers.otherwise thanks to the team for this commendable job', 'excellent', 'poorly developed not able to sign in', 'is it for kenyan citizens?', 'the best and very efficient app, thank you guys for this wonderful job.', 'great experience!,helps us manage our chama', 'excellent for business transactions and record keeping', 'it a good app i have never use', 'so helpful', 'bure kabisa', 'great so far', 'my app has not been working for the longest time so for you to even say it has been slow is kind of an insult and worse off i have called to ask you to work on it and all you do is to ask me to go to the website. i am getting tired.', 'you guys just understood the tusmall enterpreneurs. thank you for the right app in business now. wish more business in kenya could try this app and its whole package. *hope the updates can consider themes for those who need dark colors for less light to our eyes 5star from me', 'how to rejester', 'wonderful experience, easy to operate and follow up your transactions.tailor made to serve the investors needs in business.', 'great app, superb customer service. would highly recommend kopokopo to anyone looking for a till number.', 'love it', 'app does not update total money being collected...been complaining but nothing is done....just told to go to kopokopo website....why cant you implement webview on this app? this is poor performance from a company that can do better..', 'not gd', \"i won't be able to go past the pin. i have tried changing it but still the same i can't login. it displays the 'please enter pin page' forever.\", 'for such a big responsibility when it comes to handling funds that go to business till numbers, kopo kopo take their app as a real joke. the app always crashes even on the most common phones. i have a samsung note 8 and i have had issues with this app from day one. when you call customer service they say that if it crashes then that means i should reinstall the app. jokes.', 'simply fabulous!', 'very efficient app', 'first time user is good', 'dont have an acccout with you how can i open one', 'nice', 'kopokopi is the best loan up ever with affordable interests, download and you will smile', 'what is the till number for,are we selling something?', 'plz help to creat my account,', \"how can someone sign in? i don't have an account with you. please help?\", 'can you please help me to open up my app', 'terrific app', 'awesome', 'excellent', 'brings a cashless world right to your business...', \"will give you 3 loans and on application of the 4th am told that information doesn't match.. so how did i get the 1st 3?\", 'am trying to download the app but just gets to 65% and stops', 'the app is hanging and not even giving me the correct amount of cash that have been taken...it freezes and am unable to even tell that my cash is safe totally disappointed in it', 'haw can i get manny to this app i need many to my bussines', 'how do you get the lipa na m-pesa kopokopo account.', 'very bad app. deducting extra money from customer payments and no cash advance. you just give petty issues. better deal with safaricom direct. other services ok but those two no.. i am quitting this kopokopo', 'awesome', 'this application dosent work at all', 'i cant see any registration icon. hoe does one register', 'my account has been working so well till yesterday..my customers pays for the bags and they dont reflect at all to the account....no messages recieved for mpesa', 'poor customer service offered over the last 3 days', 'my account frozen and when i try to put my email and password nothing happens. am getting bored now with this. cant acess my money when i want?', 'not helpful its not even working i dnt think is a nice app.', 'i updated my phobe which meant i download kopokopo again only to be unable to log in whats the matter guys', 'love it!!!', 'doesnt give option 4 new registration, such a fake up', 'business', 'i have try to enter the email and password but their have refuses to sign up please help me', 'hw do i sign in i just download the app n its only askin for my password n email yet am new i dnt hve its accnt', 'the app has been good up untill a week ago when all things you try to load freeze. my overview page last updated on 20 and i attempt refresh button, it keeps loading and finally freezes', 'how do you even register', 'as client of kopo kopo am really happy to use this app. hopefully you introduce ios version soon.', 'these no where to register.so how can i know how it works', 'just dwloded it let mi see if i will be given a loan', 'goood', 'nice app', 'finally,a kenyan company that has an organised ,usable application', 'this an effective way of doing business', 'nice', \"it's good\", 'perfect', 'useless app its never up to date and takes forever to sync. unable to pay \\nsupplier due to their delays. will avoid lips na mpesa because of them very \\nuseless', \"it's taking so long to update payments and why don't you give me a loan and \\ni have transacted for more than 3months?\", 'great', 'i need process of registration', 'naomba loan', \"too slow. doesn't sync automatically. easier using the web app.\", 'useless waste of buddles', 'invalid email or password.whats that and thats my email?', \"good work for fixing the previous error. . . i'll give the app a 5 star if you guys improve the design to be more intuitive and use some material design principles.. your website is still better than your app. good work though, keep on doing the good job\", 'i love the app. has made it extremely easy in collecting our church funds. however, please make it easy to view actual till balances. also allow admin to specify users of specific tills who will only view transactions of their respective tills. thanks for rectifying the \"for account\" to \"for till no...\"', 'i downloaded ur app but it keep telling me  my emails is used with someone else how?fix this plz', 'cool', 'why my lipa na mpesa application is incomplete', 'real time transactions', 'great work team kopokopo', 'it no longer works after i upgraded to android 7 (nougat)', 'keeps crashing with android 7.', 'its now working well', 'useless', 'app crashing for the past two days....', 'business', \"that's all i can say, asking for email then say laiter that its not valid. warning to the public this is fraud, be carefully\", 'nice', \"it's not working out as i expected\", 'the best.', \"wouldn't register me. my email is in use\", 'nice', 'its crap dont waste your mbs, an email working with other lending apps, its not working with this app, you dont even deserve a star, im un installing waste of tyme', 'nice, just work on the syncing of info.', 'good app to manage  till payments', 'great', 'amazing app...', 'excellent', 'make automatic sync please', \"i find the app useless... i can't do anything with it. i just have to go to try website\", 'how can all my email addresses be invalid and i use them on adaily basis?', \"don't even try always tribalism\", 'its ok', 'its a great app', 'when trying to use my email address i am being told that someone has applied using the same.', \"it's pathetic\", 'trying to create an account but its telling me the email is already in use. when i go to forgot password options they are telling me the email is not found!! then trying to use another email its tellin he number is already in use.', 'but anyway the aplication is ok', \"i like it, am using it and with my taxi business it's excellent,makes my clients certain and feel secure no cash hustles and more of  it i manage  wherever  i am.regards frezack company ruiru kenya\", 'great app,very useful for businessmen', 'uplifts small businesses to large businesses.', 'good', 'stupid who ever invented this app should insert it into his/her ass....very idiotic', 'great app that helps with management of lipa na mpesa payments. also comes with great value added services. thanks', \"hello. i've installed the app and on signing up, am told to use a valid email address, i don't understand.\", 'complex', 'g', 'what is a valid email address if mine is not valid?', 'keeps on crashing', \"how can i register am in kenya and it's telling me my email is not recognized\", 'i will give a  three because despite the whole service by kopokopo being excellent a 5 , the app is a 2. it always fails to sync with the kopokopo dashboard despite having pressed the refresh button multiple times.', 'awesome application', 'how do i sign my city/town', 'very good but not on time.', 'works well', 'business convinient', 'business convenience at best', 'how do i sign in to kopo kopo', 'good', 'i love the app. very convenient. consider introducing ability to check \"transactions for a specific date\" and/or \"today\".', \"well done guys!  it's clear you are listening to customers and making improvements.   very good work.\", 'a great app.', \"used this app a year plus now and its just gotta be the best one out there. really makes collecting funds easy and convenient to track records. wish they'd add more free sms credits though.\", 'been using this app n its the best...  only improvement i would recommend is quick update once a client send cash.', \"you've kept it simple, used great uix and got your act together on some old features. and i like the pin feature - quite a surprise sweet addition.\", 'fluid, clear, practical...', 'kopo kopo you done it again.', 'does not sign in!!!!']\n"
          ]
        }
      ]
    },
    {
      "cell_type": "markdown",
      "source": [
        "## **Stopwords**"
      ],
      "metadata": {
        "id": "thOaUnDxbrCN"
      }
    },
    {
      "cell_type": "markdown",
      "source": [
        "Removing stopwords can improve the performance to a great extent. Words such as myself, me , she, he , they , mine, you etc. When these words are removed only meaningful tokens are left."
      ],
      "metadata": {
        "id": "s6j2pua7b2Cc"
      }
    },
    {
      "cell_type": "markdown",
      "source": [
        "1. Kopokopo\n",
        "2. Pesapal\n",
        "3. Paystack"
      ],
      "metadata": {
        "id": "uZlBTzchWhtI"
      }
    },
    {
      "cell_type": "code",
      "source": [
        "# stop words\n",
        "stop_words = stopwords.words('english')\n",
        "Kopo_koposort_data[\"extracted_emojis\"] = extracted_emojis\n",
        "Kopo_koposort_data[\"extracted_emojis\"] = Kopo_koposort_data[\"extracted_emojis\"].apply(lambda x:x if x not in stop_words else None)\n",
        "print(Kopo_koposort_data['extracted_emojis'].head())"
      ],
      "metadata": {
        "colab": {
          "base_uri": "https://localhost:8080/"
        },
        "id": "KniI3hCxb6BA",
        "outputId": "f38d6a99-c99c-4611-8458-8bb829bc90f5"
      },
      "execution_count": 131,
      "outputs": [
        {
          "output_type": "stream",
          "name": "stdout",
          "text": [
            "30     i like how you communicate and also your loan ...\n",
            "170                                        good services\n",
            "104                                       so far so good\n",
            "169                                         good service\n",
            "65                                     best for business\n",
            "Name: extracted_emojis, dtype: object\n"
          ]
        }
      ]
    },
    {
      "cell_type": "markdown",
      "source": [
        "## **Stemming**"
      ],
      "metadata": {
        "id": "TnQsj_R3b04E"
      }
    },
    {
      "cell_type": "markdown",
      "source": [
        "Stemming is also an important process, it chops off the end of the word and transform the word into its root form. All suffixes like -s, -es, -ed, -ing are removed."
      ],
      "metadata": {
        "id": "h8E3vz0Ib1Es"
      }
    },
    {
      "cell_type": "markdown",
      "source": [
        "1. Kopokopo\n",
        "2. Pesapal\n",
        "3. Paystack"
      ],
      "metadata": {
        "id": "h0J97w90Wkzs"
      }
    },
    {
      "cell_type": "code",
      "source": [
        "from nltk.stem.snowball import PorterStemmer\n",
        "#stemming\n",
        "def stemming(x):\n",
        "  st = PorterStemmer()\n",
        "  if x is not None:\n",
        "    for word in x.split():\n",
        "      st.stem(word)\n",
        "\n",
        "\n",
        "Kopo_koposort_data['extracted_emojis'].apply(lambda x: stemming(x))\n",
        "print(Kopo_koposort_data['extracted_emojis'].head())      "
      ],
      "metadata": {
        "colab": {
          "base_uri": "https://localhost:8080/"
        },
        "id": "BpbyuN5kjFiW",
        "outputId": "78722260-140e-4f91-9bd6-f566df9926c3"
      },
      "execution_count": 132,
      "outputs": [
        {
          "output_type": "stream",
          "name": "stdout",
          "text": [
            "30     i like how you communicate and also your loan ...\n",
            "170                                        good services\n",
            "104                                       so far so good\n",
            "169                                         good service\n",
            "65                                     best for business\n",
            "Name: extracted_emojis, dtype: object\n"
          ]
        }
      ]
    },
    {
      "cell_type": "markdown",
      "source": [
        "## **Sentiment Score**"
      ],
      "metadata": {
        "id": "DvGSVzARb1WG"
      }
    },
    {
      "cell_type": "markdown",
      "source": [
        "Each review will receive sentiment score"
      ],
      "metadata": {
        "id": "fD8H3cXKiQIF"
      }
    },
    {
      "cell_type": "markdown",
      "source": [
        "1. Kopokopo\n",
        "2. Pesapal\n",
        "3. Paystack"
      ],
      "metadata": {
        "id": "JhzChejpWnaQ"
      }
    },
    {
      "cell_type": "code",
      "source": [
        "#Function to calculate sentiment score for whole data set\n",
        "\n",
        "def senti_sc(x):\n",
        "    if x is not None:\n",
        "       return TextBlob(x).sentiment\n",
        "\n",
        "Kopo_koposort_data[\"Sentiment_score\"]= Kopo_koposort_data[\"extracted_emojis\"].apply(senti_sc)\n",
        "print(Kopo_koposort_data.loc[0:19,['extracted_emojis','Sentiment_score']])\n"
      ],
      "metadata": {
        "colab": {
          "base_uri": "https://localhost:8080/"
        },
        "id": "lOjzhKhUbf-U",
        "outputId": "2c500ef3-59fa-4d8e-9766-f35eef31431f"
      },
      "execution_count": 133,
      "outputs": [
        {
          "output_type": "stream",
          "name": "stdout",
          "text": [
            "                                      extracted_emojis  \\\n",
            "0    ultimate solution for business payments. you c...   \n",
            "167                                           the best   \n",
            "9    it is business friendly, convenient and easy t...   \n",
            "11   very high interest rates, not good for a small...   \n",
            "114                                 nice but expensive   \n",
            "172                                            perfect   \n",
            "298                                              trash   \n",
            "12   fantastic app but your interest rates on the g...   \n",
            "171                                            awesome   \n",
            "26   it's a good app for tracking your payments, ea...   \n",
            "41   thanks alot to kopokopo company at large for y...   \n",
            "73                useless,can't even create an account   \n",
            "6    nice but high interest rate.if these rates wou...   \n",
            "163                                   very convenient    \n",
            "37   the app is okay bt some get advance within fir...   \n",
            "13   best of all lending apps,enough money with fri...   \n",
            "70   ncy business account it give first loan 250,00...   \n",
            "19   very efficient and customer care responds very...   \n",
            "\n",
            "                                Sentiment_score  \n",
            "0      (0.2958333333333333, 0.6291666666666667)  \n",
            "167                                  (1.0, 0.3)  \n",
            "9      (0.3227777777777778, 0.6244444444444445)  \n",
            "11   (-0.13066666666666665, 0.5673333333333334)  \n",
            "114                 (0.04999999999999999, 0.85)  \n",
            "172                                  (1.0, 1.0)  \n",
            "298                                  (0.0, 0.0)  \n",
            "12                                   (1.0, 0.9)  \n",
            "171                                  (1.0, 1.0)  \n",
            "26    (0.43111111111111106, 0.6577777777777779)  \n",
            "41     (0.1603896103896104, 0.5435064935064935)  \n",
            "73                                   (0.0, 0.0)  \n",
            "6     (0.44111111111111106, 0.8466666666666667)  \n",
            "163                                  (0.2, 0.3)  \n",
            "37    (0.20555555555555557, 0.4777777777777777)  \n",
            "13                                (0.6875, 0.4)  \n",
            "70                   (0.25, 0.3333333333333333)  \n",
            "19                                 (0.23, 0.54)  \n"
          ]
        }
      ]
    },
    {
      "cell_type": "code",
      "source": [
        "#for i in \n",
        "Kopo_koposort_data['Sentiment_score'][0]"
      ],
      "metadata": {
        "colab": {
          "base_uri": "https://localhost:8080/"
        },
        "id": "Ir0RMrJJkp7D",
        "outputId": "21f4a288-162c-46ea-a506-153685e96855"
      },
      "execution_count": 134,
      "outputs": [
        {
          "output_type": "execute_result",
          "data": {
            "text/plain": [
              "Sentiment(polarity=0.2958333333333333, subjectivity=0.6291666666666667)"
            ]
          },
          "metadata": {},
          "execution_count": 134
        }
      ]
    },
    {
      "cell_type": "code",
      "source": [
        "from textblob.en import subjectivity\n",
        "polarity=[]\n",
        "subjectivity = []\n",
        "for i in Kopo_koposort_data['extracted_emojis'].values:\n",
        "  try:\n",
        "    analysis = TextBlob(i)\n",
        "    polarity.append(analysis.sentiment.polarity)\n",
        "    subjectivity.append(analysis.sentiment.subjectivity)\n",
        "    \n",
        "  except:\n",
        "     polarity.append(0)\n",
        "     subjectivity.append(0) \n"
      ],
      "metadata": {
        "id": "HY0z2_ibyUOm"
      },
      "execution_count": 135,
      "outputs": []
    },
    {
      "cell_type": "code",
      "source": [
        "Kopo_koposort_data['polarity'] = polarity\n",
        "Kopo_koposort_data['subjectivity'] = subjectivity"
      ],
      "metadata": {
        "id": "wEP0BrnU57c9"
      },
      "execution_count": 136,
      "outputs": []
    },
    {
      "cell_type": "code",
      "source": [
        "conditions = [(Kopo_koposort_data['polarity'] < 0),(Kopo_koposort_data['polarity'] == 0),(Kopo_koposort_data['polarity'] > 0)]\n",
        "values = ['negative feedback', 'neutral feedback', 'positive feedback']\n",
        "Kopo_koposort_data['feedback'] = np.select(conditions,values)"
      ],
      "metadata": {
        "id": "QarbO3916omT"
      },
      "execution_count": 137,
      "outputs": []
    },
    {
      "cell_type": "code",
      "source": [
        "Kopo_koposort_data[Kopo_koposort_data.polarity>0].head(10)"
      ],
      "metadata": {
        "colab": {
          "base_uri": "https://localhost:8080/",
          "height": 772
        },
        "id": "S0Xey7nZ6bvX",
        "outputId": "f6045ad3-833d-4414-80cf-290bb64c9a2d"
      },
      "execution_count": 138,
      "outputs": [
        {
          "output_type": "execute_result",
          "data": {
            "text/plain": [
              "                                               content reviewCreatedVersion  \\\n",
              "170                                      good services                5.3.0   \n",
              "104                                     so far so good                5.3.0   \n",
              "169                                       good service                5.3.0   \n",
              "65                                   best for business                5.3.0   \n",
              "5    great app, withdrawals never take more than 5m...                5.3.0   \n",
              "64                              awesome app..jah guide                5.3.0   \n",
              "63                   most beneficial app in business..                5.3.0   \n",
              "164                                      quite useful.                5.3.0   \n",
              "40   it is a nice till i recommend other investors ...                5.3.0   \n",
              "10   its a very fast approaching app it's much easi...                5.3.0   \n",
              "\n",
              "     score                  at  thumbsUpCount  \\\n",
              "170      5 2022-12-16 16:45:40              0   \n",
              "104      5 2022-12-16 06:24:05              0   \n",
              "169      5 2022-12-14 01:52:08              0   \n",
              "65       4 2022-12-13 12:17:31              0   \n",
              "5        5 2022-12-09 18:07:27              0   \n",
              "64       5 2022-12-08 07:10:18              0   \n",
              "63       5 2022-12-04 21:25:52              0   \n",
              "164      4 2022-12-04 15:23:28              0   \n",
              "40       5 2022-12-04 11:47:53              0   \n",
              "10       5 2022-11-07 21:32:27              1   \n",
              "\n",
              "                                      extracted_emojis  \\\n",
              "170                                      good services   \n",
              "104                                     so far so good   \n",
              "169                                       good service   \n",
              "65                                   best for business   \n",
              "5    great app, withdrawals never take more than 5m...   \n",
              "64                              awesome app..jah guide   \n",
              "63                   most beneficial app in business..   \n",
              "164                                      quite useful.   \n",
              "40   it is a nice till i recommend other investors ...   \n",
              "10   its a very fast approaching app it's much easi...   \n",
              "\n",
              "                                Sentiment_score  polarity  subjectivity  \\\n",
              "170                   (0.7, 0.6000000000000001)  0.700000      0.600000   \n",
              "104                  (0.39999999999999997, 0.8)  0.400000      0.800000   \n",
              "169                   (0.7, 0.6000000000000001)  0.700000      0.600000   \n",
              "65                                   (1.0, 0.3)  1.000000      0.300000   \n",
              "5     (0.44000000000000006, 0.5900000000000001)  0.440000      0.590000   \n",
              "64                                   (1.0, 1.0)  1.000000      1.000000   \n",
              "63                                   (0.5, 0.5)  0.500000      0.500000   \n",
              "164                                  (0.3, 0.0)  0.300000      0.000000   \n",
              "40                             (0.2375, 0.6875)  0.237500      0.687500   \n",
              "10   (0.15333333333333335, 0.32666666666666666)  0.153333      0.326667   \n",
              "\n",
              "              feedback  \n",
              "170  positive feedback  \n",
              "104  positive feedback  \n",
              "169  positive feedback  \n",
              "65   positive feedback  \n",
              "5    positive feedback  \n",
              "64   positive feedback  \n",
              "63   positive feedback  \n",
              "164  positive feedback  \n",
              "40   positive feedback  \n",
              "10   positive feedback  "
            ],
            "text/html": [
              "\n",
              "  <div id=\"df-39112efb-f6e7-43ff-b5af-11e279051cc7\">\n",
              "    <div class=\"colab-df-container\">\n",
              "      <div>\n",
              "<style scoped>\n",
              "    .dataframe tbody tr th:only-of-type {\n",
              "        vertical-align: middle;\n",
              "    }\n",
              "\n",
              "    .dataframe tbody tr th {\n",
              "        vertical-align: top;\n",
              "    }\n",
              "\n",
              "    .dataframe thead th {\n",
              "        text-align: right;\n",
              "    }\n",
              "</style>\n",
              "<table border=\"1\" class=\"dataframe\">\n",
              "  <thead>\n",
              "    <tr style=\"text-align: right;\">\n",
              "      <th></th>\n",
              "      <th>content</th>\n",
              "      <th>reviewCreatedVersion</th>\n",
              "      <th>score</th>\n",
              "      <th>at</th>\n",
              "      <th>thumbsUpCount</th>\n",
              "      <th>extracted_emojis</th>\n",
              "      <th>Sentiment_score</th>\n",
              "      <th>polarity</th>\n",
              "      <th>subjectivity</th>\n",
              "      <th>feedback</th>\n",
              "    </tr>\n",
              "  </thead>\n",
              "  <tbody>\n",
              "    <tr>\n",
              "      <th>170</th>\n",
              "      <td>good services</td>\n",
              "      <td>5.3.0</td>\n",
              "      <td>5</td>\n",
              "      <td>2022-12-16 16:45:40</td>\n",
              "      <td>0</td>\n",
              "      <td>good services</td>\n",
              "      <td>(0.7, 0.6000000000000001)</td>\n",
              "      <td>0.700000</td>\n",
              "      <td>0.600000</td>\n",
              "      <td>positive feedback</td>\n",
              "    </tr>\n",
              "    <tr>\n",
              "      <th>104</th>\n",
              "      <td>so far so good</td>\n",
              "      <td>5.3.0</td>\n",
              "      <td>5</td>\n",
              "      <td>2022-12-16 06:24:05</td>\n",
              "      <td>0</td>\n",
              "      <td>so far so good</td>\n",
              "      <td>(0.39999999999999997, 0.8)</td>\n",
              "      <td>0.400000</td>\n",
              "      <td>0.800000</td>\n",
              "      <td>positive feedback</td>\n",
              "    </tr>\n",
              "    <tr>\n",
              "      <th>169</th>\n",
              "      <td>good service</td>\n",
              "      <td>5.3.0</td>\n",
              "      <td>5</td>\n",
              "      <td>2022-12-14 01:52:08</td>\n",
              "      <td>0</td>\n",
              "      <td>good service</td>\n",
              "      <td>(0.7, 0.6000000000000001)</td>\n",
              "      <td>0.700000</td>\n",
              "      <td>0.600000</td>\n",
              "      <td>positive feedback</td>\n",
              "    </tr>\n",
              "    <tr>\n",
              "      <th>65</th>\n",
              "      <td>best for business</td>\n",
              "      <td>5.3.0</td>\n",
              "      <td>4</td>\n",
              "      <td>2022-12-13 12:17:31</td>\n",
              "      <td>0</td>\n",
              "      <td>best for business</td>\n",
              "      <td>(1.0, 0.3)</td>\n",
              "      <td>1.000000</td>\n",
              "      <td>0.300000</td>\n",
              "      <td>positive feedback</td>\n",
              "    </tr>\n",
              "    <tr>\n",
              "      <th>5</th>\n",
              "      <td>great app, withdrawals never take more than 5m...</td>\n",
              "      <td>5.3.0</td>\n",
              "      <td>5</td>\n",
              "      <td>2022-12-09 18:07:27</td>\n",
              "      <td>0</td>\n",
              "      <td>great app, withdrawals never take more than 5m...</td>\n",
              "      <td>(0.44000000000000006, 0.5900000000000001)</td>\n",
              "      <td>0.440000</td>\n",
              "      <td>0.590000</td>\n",
              "      <td>positive feedback</td>\n",
              "    </tr>\n",
              "    <tr>\n",
              "      <th>64</th>\n",
              "      <td>awesome app..jah guide</td>\n",
              "      <td>5.3.0</td>\n",
              "      <td>5</td>\n",
              "      <td>2022-12-08 07:10:18</td>\n",
              "      <td>0</td>\n",
              "      <td>awesome app..jah guide</td>\n",
              "      <td>(1.0, 1.0)</td>\n",
              "      <td>1.000000</td>\n",
              "      <td>1.000000</td>\n",
              "      <td>positive feedback</td>\n",
              "    </tr>\n",
              "    <tr>\n",
              "      <th>63</th>\n",
              "      <td>most beneficial app in business..</td>\n",
              "      <td>5.3.0</td>\n",
              "      <td>5</td>\n",
              "      <td>2022-12-04 21:25:52</td>\n",
              "      <td>0</td>\n",
              "      <td>most beneficial app in business..</td>\n",
              "      <td>(0.5, 0.5)</td>\n",
              "      <td>0.500000</td>\n",
              "      <td>0.500000</td>\n",
              "      <td>positive feedback</td>\n",
              "    </tr>\n",
              "    <tr>\n",
              "      <th>164</th>\n",
              "      <td>quite useful.</td>\n",
              "      <td>5.3.0</td>\n",
              "      <td>4</td>\n",
              "      <td>2022-12-04 15:23:28</td>\n",
              "      <td>0</td>\n",
              "      <td>quite useful.</td>\n",
              "      <td>(0.3, 0.0)</td>\n",
              "      <td>0.300000</td>\n",
              "      <td>0.000000</td>\n",
              "      <td>positive feedback</td>\n",
              "    </tr>\n",
              "    <tr>\n",
              "      <th>40</th>\n",
              "      <td>it is a nice till i recommend other investors ...</td>\n",
              "      <td>5.3.0</td>\n",
              "      <td>5</td>\n",
              "      <td>2022-12-04 11:47:53</td>\n",
              "      <td>0</td>\n",
              "      <td>it is a nice till i recommend other investors ...</td>\n",
              "      <td>(0.2375, 0.6875)</td>\n",
              "      <td>0.237500</td>\n",
              "      <td>0.687500</td>\n",
              "      <td>positive feedback</td>\n",
              "    </tr>\n",
              "    <tr>\n",
              "      <th>10</th>\n",
              "      <td>its a very fast approaching app it's much easi...</td>\n",
              "      <td>5.3.0</td>\n",
              "      <td>5</td>\n",
              "      <td>2022-11-07 21:32:27</td>\n",
              "      <td>1</td>\n",
              "      <td>its a very fast approaching app it's much easi...</td>\n",
              "      <td>(0.15333333333333335, 0.32666666666666666)</td>\n",
              "      <td>0.153333</td>\n",
              "      <td>0.326667</td>\n",
              "      <td>positive feedback</td>\n",
              "    </tr>\n",
              "  </tbody>\n",
              "</table>\n",
              "</div>\n",
              "      <button class=\"colab-df-convert\" onclick=\"convertToInteractive('df-39112efb-f6e7-43ff-b5af-11e279051cc7')\"\n",
              "              title=\"Convert this dataframe to an interactive table.\"\n",
              "              style=\"display:none;\">\n",
              "        \n",
              "  <svg xmlns=\"http://www.w3.org/2000/svg\" height=\"24px\"viewBox=\"0 0 24 24\"\n",
              "       width=\"24px\">\n",
              "    <path d=\"M0 0h24v24H0V0z\" fill=\"none\"/>\n",
              "    <path d=\"M18.56 5.44l.94 2.06.94-2.06 2.06-.94-2.06-.94-.94-2.06-.94 2.06-2.06.94zm-11 1L8.5 8.5l.94-2.06 2.06-.94-2.06-.94L8.5 2.5l-.94 2.06-2.06.94zm10 10l.94 2.06.94-2.06 2.06-.94-2.06-.94-.94-2.06-.94 2.06-2.06.94z\"/><path d=\"M17.41 7.96l-1.37-1.37c-.4-.4-.92-.59-1.43-.59-.52 0-1.04.2-1.43.59L10.3 9.45l-7.72 7.72c-.78.78-.78 2.05 0 2.83L4 21.41c.39.39.9.59 1.41.59.51 0 1.02-.2 1.41-.59l7.78-7.78 2.81-2.81c.8-.78.8-2.07 0-2.86zM5.41 20L4 18.59l7.72-7.72 1.47 1.35L5.41 20z\"/>\n",
              "  </svg>\n",
              "      </button>\n",
              "      \n",
              "  <style>\n",
              "    .colab-df-container {\n",
              "      display:flex;\n",
              "      flex-wrap:wrap;\n",
              "      gap: 12px;\n",
              "    }\n",
              "\n",
              "    .colab-df-convert {\n",
              "      background-color: #E8F0FE;\n",
              "      border: none;\n",
              "      border-radius: 50%;\n",
              "      cursor: pointer;\n",
              "      display: none;\n",
              "      fill: #1967D2;\n",
              "      height: 32px;\n",
              "      padding: 0 0 0 0;\n",
              "      width: 32px;\n",
              "    }\n",
              "\n",
              "    .colab-df-convert:hover {\n",
              "      background-color: #E2EBFA;\n",
              "      box-shadow: 0px 1px 2px rgba(60, 64, 67, 0.3), 0px 1px 3px 1px rgba(60, 64, 67, 0.15);\n",
              "      fill: #174EA6;\n",
              "    }\n",
              "\n",
              "    [theme=dark] .colab-df-convert {\n",
              "      background-color: #3B4455;\n",
              "      fill: #D2E3FC;\n",
              "    }\n",
              "\n",
              "    [theme=dark] .colab-df-convert:hover {\n",
              "      background-color: #434B5C;\n",
              "      box-shadow: 0px 1px 3px 1px rgba(0, 0, 0, 0.15);\n",
              "      filter: drop-shadow(0px 1px 2px rgba(0, 0, 0, 0.3));\n",
              "      fill: #FFFFFF;\n",
              "    }\n",
              "  </style>\n",
              "\n",
              "      <script>\n",
              "        const buttonEl =\n",
              "          document.querySelector('#df-39112efb-f6e7-43ff-b5af-11e279051cc7 button.colab-df-convert');\n",
              "        buttonEl.style.display =\n",
              "          google.colab.kernel.accessAllowed ? 'block' : 'none';\n",
              "\n",
              "        async function convertToInteractive(key) {\n",
              "          const element = document.querySelector('#df-39112efb-f6e7-43ff-b5af-11e279051cc7');\n",
              "          const dataTable =\n",
              "            await google.colab.kernel.invokeFunction('convertToInteractive',\n",
              "                                                     [key], {});\n",
              "          if (!dataTable) return;\n",
              "\n",
              "          const docLinkHtml = 'Like what you see? Visit the ' +\n",
              "            '<a target=\"_blank\" href=https://colab.research.google.com/notebooks/data_table.ipynb>data table notebook</a>'\n",
              "            + ' to learn more about interactive tables.';\n",
              "          element.innerHTML = '';\n",
              "          dataTable['output_type'] = 'display_data';\n",
              "          await google.colab.output.renderOutput(dataTable, element);\n",
              "          const docLink = document.createElement('div');\n",
              "          docLink.innerHTML = docLinkHtml;\n",
              "          element.appendChild(docLink);\n",
              "        }\n",
              "      </script>\n",
              "    </div>\n",
              "  </div>\n",
              "  "
            ]
          },
          "metadata": {},
          "execution_count": 138
        }
      ]
    },
    {
      "cell_type": "code",
      "source": [
        "print(Kopo_koposort_data['feedback'].value_counts(normalize=True))\n",
        "Feedback_rate =  Kopo_koposort_data['feedback'].value_counts(normalize=True).plot(kind=\"bar\")\n",
        "for i in Feedback_rate.patches:\n",
        "  Feedback_rate.annotate('{:.1f}'.format(i.get_height()), (i.get_x()+0.25, i.get_height()+0.01))\n",
        "plt.title('Kopo Kopo feedback rate')"
      ],
      "metadata": {
        "colab": {
          "base_uri": "https://localhost:8080/",
          "height": 451
        },
        "id": "QlReGYSM-s8d",
        "outputId": "64bd27b4-4621-4184-8d1f-eb0192623f94"
      },
      "execution_count": 139,
      "outputs": [
        {
          "output_type": "stream",
          "name": "stdout",
          "text": [
            "positive feedback    0.624183\n",
            "neutral feedback     0.248366\n",
            "negative feedback    0.127451\n",
            "Name: feedback, dtype: float64\n"
          ]
        },
        {
          "output_type": "execute_result",
          "data": {
            "text/plain": [
              "Text(0.5, 1.0, 'Kopo Kopo feedback rate')"
            ]
          },
          "metadata": {},
          "execution_count": 139
        },
        {
          "output_type": "display_data",
          "data": {
            "text/plain": [
              "<Figure size 432x288 with 1 Axes>"
            ],
            "image/png": "[encoded data removed]"
          },
          "metadata": {
            "needs_background": "light"
          }
        }
      ]
    },
    {
      "cell_type": "code",
      "source": [
        "print(Kopo_koposort_data['feedback'].value_counts())\n",
        "Feedback_value = sns.countplot(x='feedback', data = Kopo_koposort_data)\n",
        "for i in Feedback_value.patches:\n",
        "  Feedback_value.annotate('{:.1f}'.format(i.get_height()), (i.get_x()+0.25, i.get_height()+0.01))\n",
        "plt.title('Kopo Kopo feedback count');"
      ],
      "metadata": {
        "colab": {
          "base_uri": "https://localhost:8080/",
          "height": 364
        },
        "id": "zpNddAUJ-3hF",
        "outputId": "f988ba07-bdca-4230-bcca-aa0582b90a1b"
      },
      "execution_count": 140,
      "outputs": [
        {
          "output_type": "stream",
          "name": "stdout",
          "text": [
            "positive feedback    191\n",
            "neutral feedback      76\n",
            "negative feedback     39\n",
            "Name: feedback, dtype: int64\n"
          ]
        },
        {
          "output_type": "display_data",
          "data": {
            "text/plain": [
              "<Figure size 432x288 with 1 Axes>"
            ],
            "image/png": "[encoded data removed]"
          },
          "metadata": {
            "needs_background": "light"
          }
        }
      ]
    },
    {
      "cell_type": "markdown",
      "source": [
        "# PESAPAL"
      ],
      "metadata": {
        "id": "u8ARz6osZNCi"
      }
    },
    {
      "cell_type": "code",
      "source": [
        "#convert to str\n",
        "PesaPalsort_data['content'] = PesaPalsort_data['content'].astype(str)\n",
        "print(PesaPalsort_data['content'].head())"
      ],
      "metadata": {
        "id": "ndzvgq73_cdR",
        "colab": {
          "base_uri": "https://localhost:8080/"
        },
        "outputId": "7d0b89aa-ab0f-42cb-eb5d-7abd652a405c"
      },
      "execution_count": 141,
      "outputs": [
        {
          "output_type": "stream",
          "name": "stdout",
          "text": [
            "0     One of the best POs app, one improvement neede...\n",
            "19                             Uduma nzuri inarahisisha\n",
            "6     Pesapal ina saìdia wakati wowote ile unapoiita...\n",
            "3     Its a good app I wish it were available on des...\n",
            "2     The app is nice but anytime I try selling on c...\n",
            "Name: content, dtype: object\n"
          ]
        }
      ]
    },
    {
      "cell_type": "code",
      "source": [
        "#Lowercase all reviews\n",
        "PesaPalsort_data['content'] = PesaPalsort_data['content'].apply(lambda x: x.lower())\n",
        "print(PesaPalsort_data['content'].head()) # to see the difference"
      ],
      "metadata": {
        "colab": {
          "base_uri": "https://localhost:8080/"
        },
        "id": "s2voCn05ZjQS",
        "outputId": "3f289939-7dc0-4d02-bada-beb041cb6556"
      },
      "execution_count": 142,
      "outputs": [
        {
          "output_type": "stream",
          "name": "stdout",
          "text": [
            "0     one of the best pos app, one improvement neede...\n",
            "19                             uduma nzuri inarahisisha\n",
            "6     pesapal ina saìdia wakati wowote ile unapoiita...\n",
            "3     its a good app i wish it were available on des...\n",
            "2     the app is nice but anytime i try selling on c...\n",
            "Name: content, dtype: object\n"
          ]
        }
      ]
    },
    {
      "cell_type": "code",
      "source": [
        "#check if there is any special character\n",
        "alphabet = string.ascii_letters+string.punctuation\n",
        "print(PesaPalsort_data.content.str.strip(alphabet).astype(bool).any())\n",
        "\n",
        "extracted_emojis=[]\n",
        "\n",
        "def extract_emojis(s):\n",
        "  expe = re.compile('[\\U00010000-\\U0010ffff]', flags=re.UNICODE)\n",
        "  #return expe.findall(s)\n",
        "  return expe.sub(r'',s)\n",
        "\n",
        "\n",
        "for i in PesaPalsort_data['content']:\n",
        "  #print(str(extract_emojis(y)))\n",
        "  extracted_emojis.append(str(extract_emojis(i)))\n",
        "\n",
        "print(extracted_emojis) "
      ],
      "metadata": {
        "colab": {
          "base_uri": "https://localhost:8080/"
        },
        "id": "kFq1GSwzZjec",
        "outputId": "946b02f6-6fb9-48c7-e96b-dfad57adfa5f"
      },
      "execution_count": 143,
      "outputs": [
        {
          "output_type": "stream",
          "name": "stdout",
          "text": [
            "True\n",
            "[\"one of the best pos app, one improvement needed especially when expenditure is made to effect on daily income. and even the statement should show even transactions under services even because it's part of money received and generate the balance. even sales at credit note sms should even show organisation name. thanks\", 'uduma nzuri inarahisisha', 'pesapal ina saìdia wakati wowote ile unapoiitaji pia ni rahisi sana kukusaidia', 'its a good app i wish it were available on desktop or laptop', 'the app is nice but anytime i try selling on credit the app stops immediately. help out please.', 'how do i appdate after selling an item?? please help!', 'best app need charts summary thanks alot', \"it's the best love it, saves time and it's accurate as long us you feed in the correct data\", 'awesome', \"this app is doing me wonders in managing my business. but am sure thy ar \\nadding more features. can't wait for the next update\", 'the director of this program is darafu very good boy', 'can you improve your update that i can print my reports in well arranged \\nmanner?', 'nzuri sana kwa mauzo, katika biashara ndogo ndogo', 'good', 'msaada jinsi ya  kutumia!!!', 'awesome.. inanifaa zaidi katika biashara yangu, mnama.', 'it always says invalid login details.. whyyyy? while i already registered the cashier?!', 'nice app for sure... good work from developers', 'nzuri na rahisi kutumia...unaweza fanya vitu vyote kupitia hapa hasa mahesabu na faida', 'i think is better', 'ni nzuri sana nazani kwa bongo itakuwa poa']\n"
          ]
        }
      ]
    },
    {
      "cell_type": "code",
      "source": [
        "# stop words\n",
        "stop_words = stopwords.words('english')\n",
        "PesaPalsort_data[\"extracted_emojis\"] = extracted_emojis\n",
        "PesaPalsort_data[\"extracted_emojis\"] = PesaPalsort_data[\"extracted_emojis\"].apply(lambda x:x if x not in stop_words else None)\n",
        "print(PesaPalsort_data['extracted_emojis'].head())"
      ],
      "metadata": {
        "colab": {
          "base_uri": "https://localhost:8080/"
        },
        "id": "n5L7tUrrZjq6",
        "outputId": "355db840-e0d5-47f7-f67c-1969b7a2a2fe"
      },
      "execution_count": 144,
      "outputs": [
        {
          "output_type": "stream",
          "name": "stdout",
          "text": [
            "0     one of the best pos app, one improvement neede...\n",
            "19                             uduma nzuri inarahisisha\n",
            "6     pesapal ina saìdia wakati wowote ile unapoiita...\n",
            "3     its a good app i wish it were available on des...\n",
            "2     the app is nice but anytime i try selling on c...\n",
            "Name: extracted_emojis, dtype: object\n"
          ]
        }
      ]
    },
    {
      "cell_type": "code",
      "source": [
        "from nltk.stem.snowball import PorterStemmer\n",
        "#stemming\n",
        "def stemming(x):\n",
        "  st = PorterStemmer()\n",
        "  if x is not None:\n",
        "    for word in x.split():\n",
        "      st.stem(word)\n",
        "\n",
        "\n",
        "PesaPalsort_data['extracted_emojis'].apply(lambda x: stemming(x))\n",
        "print(PesaPalsort_data['extracted_emojis'].head())   "
      ],
      "metadata": {
        "colab": {
          "base_uri": "https://localhost:8080/"
        },
        "id": "okDQVW9KZj4t",
        "outputId": "5fd8e738-4587-4ae1-cb60-5ed25343de98"
      },
      "execution_count": 145,
      "outputs": [
        {
          "output_type": "stream",
          "name": "stdout",
          "text": [
            "0     one of the best pos app, one improvement neede...\n",
            "19                             uduma nzuri inarahisisha\n",
            "6     pesapal ina saìdia wakati wowote ile unapoiita...\n",
            "3     its a good app i wish it were available on des...\n",
            "2     the app is nice but anytime i try selling on c...\n",
            "Name: extracted_emojis, dtype: object\n"
          ]
        }
      ]
    },
    {
      "cell_type": "code",
      "source": [
        "#Function to calculate sentiment score for whole data set\n",
        "\n",
        "def senti_sc(x):\n",
        "    if x is not None:\n",
        "       return TextBlob(x).sentiment\n",
        "\n",
        "PesaPalsort_data[\"Sentiment_score\"]= PesaPalsort_data[\"extracted_emojis\"].apply(senti_sc)\n",
        "print(PesaPalsort_data.loc[0:19,['extracted_emojis','Sentiment_score']])"
      ],
      "metadata": {
        "colab": {
          "base_uri": "https://localhost:8080/"
        },
        "id": "Qycl9K90ZkFp",
        "outputId": "17436622-bcdd-4313-b50f-e6e6129f1ceb"
      },
      "execution_count": 146,
      "outputs": [
        {
          "output_type": "stream",
          "name": "stdout",
          "text": [
            "                                     extracted_emojis Sentiment_score\n",
            "0   one of the best pos app, one improvement neede...    (0.3, 0.375)\n",
            "19                           uduma nzuri inarahisisha      (0.0, 0.0)\n"
          ]
        }
      ]
    },
    {
      "cell_type": "code",
      "source": [
        "from textblob.en import subjectivity\n",
        "polarity=[]\n",
        "subjectivity = []\n",
        "for i in PesaPalsort_data['extracted_emojis'].values:\n",
        "  try:\n",
        "    analysis = TextBlob(i)\n",
        "    polarity.append(analysis.sentiment.polarity)\n",
        "    subjectivity.append(analysis.sentiment.subjectivity)\n",
        "    \n",
        "  except:\n",
        "     polarity.append(0)\n",
        "     subjectivity.append(0) "
      ],
      "metadata": {
        "id": "4zLpTemzZkSS"
      },
      "execution_count": 147,
      "outputs": []
    },
    {
      "cell_type": "code",
      "source": [
        "PesaPalsort_data['polarity'] = polarity\n",
        "PesaPalsort_data['subjectivity'] = subjectivity"
      ],
      "metadata": {
        "id": "FRfqgh8hZkfd"
      },
      "execution_count": 148,
      "outputs": []
    },
    {
      "cell_type": "code",
      "source": [
        "conditions = [(PesaPalsort_data['polarity'] < 0),(PesaPalsort_data['polarity'] == 0),(PesaPalsort_data['polarity'] > 0)]\n",
        "values = ['negative feedback', 'neutral feedback', 'positive feedback']\n",
        "PesaPalsort_data['feedback'] = np.select(conditions,values)"
      ],
      "metadata": {
        "id": "RpCkq5_VZkrR"
      },
      "execution_count": 149,
      "outputs": []
    },
    {
      "cell_type": "code",
      "source": [
        "print(PesaPalsort_data['feedback'].value_counts(normalize=True))\n",
        "Feedback_rate =  PesaPalsort_data['feedback'].value_counts(normalize=True).plot(kind=\"bar\")\n",
        "for i in Feedback_rate.patches:\n",
        "  Feedback_rate.annotate('{:.1f}'.format(i.get_height()), (i.get_x()+0.25, i.get_height()+0.01))\n",
        "plt.title('PesaPal feedback rate')"
      ],
      "metadata": {
        "colab": {
          "base_uri": "https://localhost:8080/",
          "height": 428
        },
        "id": "fSDm3NU4Zk4T",
        "outputId": "7daacd8d-8a6e-49a4-b7d4-d0d44848b0a8"
      },
      "execution_count": 150,
      "outputs": [
        {
          "output_type": "stream",
          "name": "stdout",
          "text": [
            "positive feedback    0.571429\n",
            "neutral feedback     0.428571\n",
            "Name: feedback, dtype: float64\n"
          ]
        },
        {
          "output_type": "execute_result",
          "data": {
            "text/plain": [
              "Text(0.5, 1.0, 'PesaPal feedback rate')"
            ]
          },
          "metadata": {},
          "execution_count": 150
        },
        {
          "output_type": "display_data",
          "data": {
            "text/plain": [
              "<Figure size 432x288 with 1 Axes>"
            ],
            "image/png": "[encoded data removed]"
          },
          "metadata": {
            "needs_background": "light"
          }
        }
      ]
    },
    {
      "cell_type": "code",
      "source": [
        "print(PesaPalsort_data['feedback'].value_counts())\n",
        "Feedback_value = sns.countplot(x='feedback', data = PesaPalsort_data)\n",
        "for i in Feedback_value.patches:\n",
        "  Feedback_value.annotate('{:.1f}'.format(i.get_height()), (i.get_x()+0.25, i.get_height()+0.01))\n",
        "plt.title('PesaPal feedback count');"
      ],
      "metadata": {
        "colab": {
          "base_uri": "https://localhost:8080/",
          "height": 347
        },
        "id": "1u2Jh0xzacyf",
        "outputId": "70b38779-a9f4-49c5-ba3c-beb40ecb0e2d"
      },
      "execution_count": 151,
      "outputs": [
        {
          "output_type": "stream",
          "name": "stdout",
          "text": [
            "positive feedback    12\n",
            "neutral feedback      9\n",
            "Name: feedback, dtype: int64\n"
          ]
        },
        {
          "output_type": "display_data",
          "data": {
            "text/plain": [
              "<Figure size 432x288 with 1 Axes>"
            ],
            "image/png": "[encoded data removed]"
          },
          "metadata": {
            "needs_background": "light"
          }
        }
      ]
    },
    {
      "cell_type": "markdown",
      "source": [
        "## **PAYSTACK**"
      ],
      "metadata": {
        "id": "lHmOI3rfamn7"
      }
    },
    {
      "cell_type": "code",
      "source": [
        "#convert to str\n",
        "Paystacksort_data['content'] = Paystacksort_data['content'].astype(str)\n",
        "print(Paystacksort_data['content'].head())"
      ],
      "metadata": {
        "colab": {
          "base_uri": "https://localhost:8080/"
        },
        "id": "Eard-uBJap2q",
        "outputId": "4a61deca-424e-48c3-bd06-17c891fa7bea"
      },
      "execution_count": 152,
      "outputs": [
        {
          "output_type": "stream",
          "name": "stdout",
          "text": [
            "26     Kenya is missing on registration. I thought yo...\n",
            "125                                     Word conect game\n",
            "27            I give it 3 🌟 because it not working today\n",
            "56     Why can't I login in to my acct pls help me re...\n",
            "231                                        Nice and good\n",
            "Name: content, dtype: object\n"
          ]
        }
      ]
    },
    {
      "cell_type": "code",
      "source": [
        "#Lowercase all reviews\n",
        "Paystacksort_data['content'] = Paystacksort_data['content'].apply(lambda x: x.lower())\n",
        "print(Paystacksort_data['content'].head()) # to see the difference"
      ],
      "metadata": {
        "colab": {
          "base_uri": "https://localhost:8080/"
        },
        "id": "-22KZSNpa0Dv",
        "outputId": "cf983e73-9aaa-4ceb-931a-a206ac75bdb5"
      },
      "execution_count": 153,
      "outputs": [
        {
          "output_type": "stream",
          "name": "stdout",
          "text": [
            "26     kenya is missing on registration. i thought yo...\n",
            "125                                     word conect game\n",
            "27            i give it 3 🌟 because it not working today\n",
            "56     why can't i login in to my acct pls help me re...\n",
            "231                                        nice and good\n",
            "Name: content, dtype: object\n"
          ]
        }
      ]
    },
    {
      "cell_type": "code",
      "source": [
        "#check if there is any special character\n",
        "alphabet = string.ascii_letters+string.punctuation\n",
        "print(Paystacksort_data.content.str.strip(alphabet).astype(bool).any())\n",
        "\n",
        "extracted_emojis=[]\n",
        "\n",
        "def extract_emojis(s):\n",
        "  expe = re.compile('[\\U00010000-\\U0010ffff]', flags=re.UNICODE)\n",
        "  #return expe.findall(s)\n",
        "  return expe.sub(r'',s)\n",
        "\n",
        "\n",
        "for i in Paystacksort_data['content']:\n",
        "  #print(str(extract_emojis(y)))\n",
        "  extracted_emojis.append(str(extract_emojis(i)))\n",
        "\n",
        "print(extracted_emojis) "
      ],
      "metadata": {
        "colab": {
          "base_uri": "https://localhost:8080/"
        },
        "id": "HPmkbjMMa0Is",
        "outputId": "360d8a02-34cd-4aa3-cce3-481d60c6f5af"
      },
      "execution_count": 154,
      "outputs": [
        {
          "output_type": "stream",
          "name": "stdout",
          "text": [
            "True\n",
            "['kenya is missing on registration. i thought you had already launched it.', 'word conect game', 'i give it 3  because it not working today', \"why can't i login in to my acct pls help me reset it\", 'nice and good', \"after creating an account in the app i could not even login. i uninstall the app and install it again and i try to login but it's not working. i'm rating the app on star until i can login. the app is very very poor and i c\", 'the updated version is not signing in, when i click sign in the app just restarts', 'i am yet to receive my payout for more 7 days now from paystack. all attempt trying to contact support via email prove to be abortive', \"there is a bug in this current update... i can't sign in, rather it takes me back to the creat account page...\", 'i cannot log into my account using this app, help!', \"please this updated version is really giving me issues, its asking me to create account. when i create account by filling my details and clicking on accepting terms of service and data privacy policy, the point where you have to click on create account, is not clickable. i've uninstall & installed it again, still the same thing. its really frustrating. i can't move to the next level.\", \"it's good just the biometric login is not working and now i cannot login\", 'the refund button is not working. what is wrong with it? i was just trying to set up a business account with payments. everything worked out perfectly except the refund button. you should look into this. thanks', \"paystach pls what is wrong today? i have a game i want to play now on msport and y'all keep debiting me without credit on my msport the annoying part is i have not received alert on any of the transaction pls if i don't play this game i will be very angry\", 'good', \"very useless app , app is supposed to have its features on the interface , why would you direct your users to the website to have access to full features? what's the essence of developing the app now\", 'good', 'i\\'m disappointed..i made a payment to an opay account with my card... paystack debited me but the recipient didn\\'t receive the money...i contacted they customer service and to my dismay they didn\\'t want to reply...i filled they contact form and all i see for hours is \"a paystack hero will reach out to you soon\"...too bad.. i wish i can\\'t give this paystack company any star at all', 'please can i register paystack and use it to add money to my netter account, please.', \"the app is user friendly and easy to navigate but however i would like to advice the developer to include the option of sending invoice via whatsapp, phone contact and other social media platforms because some of these customers don't have a functional email, they don't check their mails and this may disrupt the whole process.\", 'just a click we all will see the importance no body should tell just give it a try by yourself', 'good day i made a payment of 15800 on the 27 of august 2022 which i was debited and approved but was not successful on my dash board please acknowledge the receipt below thanks', \"rubbish app can't create account\", 'plz beware of cashdey online load institution affiliated by your establishment paystack. the are using your institution to deduct money from people account after payment of their load. the deduct money from my account every week this action is unprofessional.', \"if it's possible to give paystack 0 star i would have done that. paystack is one of the best scam app. asking awkward questions about my business when i was registering why didn't you guys ask that and verify it? now my payout is on hold for more than a week now. i regretted using paystack.\", 'best', 'paystack hackers attack them now the are under hackers control take care!!!!!!!!!!!⌨️⌨️️️️⌨️⌨️⌨️⌨️⌨️⌨️', 'terrible platform.', \"i made a deposit through paystack on the 23 august which was successful, have checked my account, but paystack took the money and my bill wasn't cleared. please  paystack, don't let me breakdown more than i already have.\", 'how can i withdraw from my pay stack app.', \"it's more than one week now since paystack blocked my business when i still have a pending payout, i have been sending emails to the support but they don't reply. i really regret trying paystack for my business. it is the worst thing ever.\", 'cash out', 'i was unable to sign up since i download this app... e keep direction me to my gmail that i should reset my password', \"pleas i have fill everything but can't use my account i wanted to know if i can link my paypal account to my paystack but can't access the dashboard after going through the 4 process of registration\", \"please why i have been received debit alerts from you people because i have not collect any loan from your app i don't even have the app for me phone stop that rubbish thief's if i receive and debit alert again you people will not get it funny from me\", 'how are the east africans joining the course . on the country section ,u included only 3countries . am from uganda and not inclusive yet???? let all the african countries be there', 'i mistakenly sent money to paystack, and they refunded within 1hr, infact i was surprised because it was very very fast', \"people are using this paystack to steal from many people account have been seen this in my debit alert all this year's which i don't even look until they remove 49500 from my first bank account which the bank confirm it was sussesfull from this same paystack pls even if u want to remove money from someone account i think he should be a confirmation message from paystack to that person in the name of so called company that if the person is owning them\", \"awful  , got debited by pay stack,when i don't have anything to do with it , i literally download this app to give you reviews ,i guess you're just stealing people money ,you guys are scam and fraudulent , please don't have anything to do with pay stack , they are thief\", \"i was defrauded and my money was transferred to paystack, banks reach them they're not responding, so guys beware\", 'best app in south africa for money matters love it', \"hello, i mistakenly transferred money to your account since last year and i sent you mails to please reversed the money but you don't.you requested for my statement of account and prove of payment and sent it to you...still nothing was done.please, kindly reverse my money.i really need it.thanks\", 'gud', 'good quick response', \"these are complete scammers, your money will get to them and they'll sit on it like they own it. you'll never get your money back. is days now since they took my $200.00 and up to now i've not receive it. am losing all my customers because of these so called people. am in trouble because of you\", 'please stop deducting money from my account, i do not have any business with you and how do i get all the money back. check your mail please', \"i am worried that paystack are helping to steak people's money.. two weeks ago a double debit was made on my account by paystack....all efforts to get one refund fell on deaf ears as they insisted they are not d ones to pay...just yesterday again i had a n33k debit on my account ..i wrote to paystack 4 times before i was informed that my money was transferred to a bangbet which i had never heard or had dealings with...my bank statement indicates my money was taken by paystack... pay me my money\", \"please my payout has been showing pending for over two days now and i don't know why please fix it because i'm scared to use it in my business now\", 'their scammers supporting loan shark', \"this really is bad since yesterday u don't refund my money back\", 'i made a payment to a loan app on the 19th march 2022 which was swallowed by paystack because my bank confirmed it was a successful transaction from their end. i reached out to you people and up till now nothing was done to reverse the money. the allcredit loan app is threatening to forward message to my contacts and the overdue charges is increasing. what kind of hell is this for goodness sake, paystack do the needful and let me have peace.', \"what type of app is this, a customer made a payment, 2days now payment is still showing pending.. i can't transfer the money and i need to make use of it\", \"don't ever use paystsck, they are scammers. immediately you start getting paid by a lot of customers they will put your accoun payout on hold and start asking unnecessary questions and requesting for more documents about your business. i provided them with all these documents but instead of them giving me my payout they told me to hold on as they are verifying my documents. it's over a month now i still haven't head from them, i cant login into my account. i dont get replies from them anymore.\", 'this is four day now and i have not gotten my payment,(payout) money that is to be use to get customer the service he ordered for you guys are holding this is one of the work ever so disappointing ', 'good', 'paystack returne my money ooo is almost a week now and easybuy have add another interest ooo payback my money paystack, you want to chop my money', 'very good app', \"i'm giving a start because there's no half star to start with, i'm waiting to see if paystack actually wants to eat my money, my payouts are showing processed, but i'm yet to receive my money, for the past 4 days, and they are not taking my calls anymore.\", 'most useless financial platform ever. these people are scammers, do not use.', \"good evening paystack, i just got a debit alert and the transaction was made using paystack by 4:06 pm today, i didn't authorize any transaction of such please how do i track this\", \"they were good b4 quite alright but suddenly november 2021 they starts payout splits. i don't know if it is another tactical way of holding customers money. but that cripples business wofly. my money still hangs with them till today. i have no uption than to just leave them. probably they are in some bankruptcy or something\", 'the compliance contact form is just going round and round in cycles. you fill it and click save and nothing happens.', 'thanks for the update', 'complain on an unauthorised debit from my bank account i hereby write to complain on the above subject matter, on saturday 8th january 2022 my bank account was been debited with money amounting to n10,000 two times making n20,000 stating that i make an online purchase from paystack. i don’t have any account with paystack and i don’t make any transaction on paystack. i need you to refund my money.', \"imagine this is the second working day, payment got received from customer for a job and two days after , money is yet to be paid out and their charges already taken out. this is the second time it's happening. very poor service. i'll make sure i sign off , close my account after this experience. if they knew they did not have the capacity to handle high number of payouts daily, why are they in business.... this is not needed at all for startups. do ur financials ur way or any other way.\", 'good', 'ajoke', 'amazing payment platform in nigeria', \"when will we get an app for paystack storefront? i've not really found a use for this app...just the web interface makes a bit of sense.\", \"can't even sign up, i think you guys aren't ready for business\", \"i would have given it a five star, but i don't know why i can't receive money from cuba\", 'seriously am not happy with paystack! am trying to bid my atm card in fearmony app and paystack keep deducting 50 naira morethan 4times and it keep showing me erro instead of biding succefully', 'paystack please am still waiting for my payment since the beginning of this month.... i contacted the customer care twice and nothing has been done till now', \"feels good to announce that i've received my money on my business account. thanks. five stars all the way.\", 'awsome', \"when i tell you it's good, it's superb! this is just th best payment platform for businesses in nigeria. it's far better than flutterwave, remita... it's easy to set up, payment gateway is just superb... there verification process is easy and second to none.. more also, easily get paid on your website using the payment url page.. just to mention but few\", 'i have done all this things but still no response. please am begging you people refund this money to lendcash this money is increasing every day', 'i cannot access my new merchant account recently opened my merchant account, today i tried downloading the app onto my smartphone but, it does not want to accept my password after many attempts.  i am from south africa, perhaps they give their nigerian clients better service and client experience since they based their.', \"i haven't received my complete payment of yesterday business,i love and trusted you people,why now, please complete my money thanks, ukbless service\", \"please paystack you have always gotten money from me for fairmoney even when not due so i believe you will be able to help me with this problem second to the last loan i collected from them was 2000 which was cleared after a month and i needed about 100000 or at least 500000 to meet you my children's fee and business only for me to be offered 60000 which is even far below what i had i then took 40000 and paid 50000 so i can have the money i need but am still offered 60000 please help me increase\", \"can you imagine, this my first time to use this stupid and frustrated app... telling am going to get refund in 7to 12 days time ...can you imagine this....and i needed to buy the data to do something very important...they hang the money now sent me message that i will refunded in 7to12 days time... please don't download the app....\", 'signing up is hell, always taking me back to verify email and nothing else. rubbish!', 'all the payment methods is not functioning, why?', \"i swear these bastards will be out when another payment gateway enters the game which i pray happens soon enough. your customer service is terrible. you guys intentional withhold money like you investing our hard earned money on your godam business and leaving us stranded! you guys are just thieves. your reviews are bad enough yet you've chosen not to improve. bad payment gateway, poor customer service. terrible experience. wish i had more devices to serially drop 1stars. terrible thieves. no different from the nigerian government! unreliable!\", 'my issuw has been resolved. thank you paystack', 'good', 'been trying to get verified feeling tired', 'my problem was successful resolved after i made serious complaints. thank you. i decided to give 4star for that.', \"bad service provider the company seems to be more focused on keeping money in their system and delaying payout to clients. it's scamy- to be be honest. the worse part about them is that you can not even get someone on call, it's almost like they don't exist at all.\", \"me i saw this app and i installed it were you doing the registration they ask for what i don't have so i uninstall it and yesterday they debited my account i did not collect anything from you so why removing money from my account you guys should return my money is not your money cuz i did not collect anything from you thank you i will be expecting my money cause i don't even have the application in my phone\", \"paystack is a criminal payment gateway after my customers paid me they didn't payout the money to money to my account i sent an email and they asked me to go and register the business with cac when i was registering, they didn't tell me so when my customers were paying, they didn't stop them now they have all my money and they're asking me to go and register with cac register a mini clothing business you guys better payout my money or i'll take up legal actions against you guys it's a promise\", 'very trusted', 'is honestly', 'good app easy to us', 'pls can i make transfer using this app without sending an otp code to my bank sim? i lost my sim card but have all my bank details, both debit card and my pin too. thanks', 'crashes a lot. been unable to load this app.', \"beautiful ui, poorly built. the app crashes a lot, have problems with log in from time to time and does not switch currency to usd for businesses with usd as default currency. worked well when initially launched but now i have to un-install and re-install the app just to get it to work. -------- *update* it's been over a month since i wrote this review, and nothing has been fixed. this should give you guys an idea of their level of customer support.\", \"3120 was debited from my account for which i don't know and i have never made any transaction from this paystack. what is the meaning of this nonsense\", 'you people should return back my money oh... you people withdraw my money for nothing. why', 'good', 'i sent a wromg amount to a loan app using paystack checkout and they promised to refund since they havent since yesterday. pls refund my #15,150 as soon as possible!!!!! thieves!!!!!!', 'you guys should return back my 1000k u collected from me for processing it if not i will mk life miserable for you all.. scammers', 'the procedure is really really frustrating before your money will be paid into your account but is good as long as i get my money', \"paystack is  percent the best i love this app since i've been using it , it has shown transaction, always giving me update on new transaction s\", 'since you guys sold your company out, this platform is not longer the same. payout that used to be 24 hours is now 1 week or 2weeks. your delay in payout has cost my client to label my website a scam site. how i will render the service they paid for when you make hold of their money. over 500 product on my website is payment system is linked to paystack how am going to start unlink them is major challenge. but if you guys continue like this i will have no choice to change payment gateway.', \"i regret using paystack for my transactions, they promised to refund my money that failed, for over 3weeks now nothing as been done about it.. very poor customer service ever.. i'll advice everyone quits using it as payment mode\", \"i downloaded this app so i can be getting in app notifications of my transactions but every time i open the app i have to login afresh and no notification has ever come in. when a client makes payment, some essential information that are provided in the payment form are omitted in the transaction page when viewed inside the app. i have to visit the website to get full details. it's utterly useless.\", \"that don't make refunds so don't expect your money back from them, they can use there gateway on collecting quick payment but when it gets to charge back and refunds it takes forever beware of them\", \"i want to delete my account permanently and restart when i'm ready but there's no option for delete in the app. please i need someone to put me through as soon as possible.\", 'very good', 'hello, my payout has been pending for days. i decided on the dashboard today and i discovered the funds were reversed to the customer that i added deliver value. transaction of over n7000. please, i need my money back as soon as possible, what kind of rubbish is this, how much is my profit of n7000. please check your dm and revert me my money before i disconnect from your rubbish service for christ sake can someone attend to or do needful by returning my money, what is all rubbish', \"please what am i expected to upload in your( certificate of business name,certificate application form, and bn number? please i want a very clear detail of what should be done there or i am leaving your app for you you can't be frustrating my life just like that\", \"terrible, worst, paystack has the worst customer service, my payout haven't been received for a week now, they keep telling me they experienced a blocker while processing my funds. that they would pay at the end of the day each day passes but fund wasn't received.. i strongly don't advice anyone to use paystack. would change my review if and only if my payment is made to a proxy i sent as i don't live in lagos\", \"scammers scammers scammers they are scammers they don't deliver order after they received the payment. they have scammed me\", 'you people are just bunch of liars, you promised to pay out in less than 24hrs, this is going to 48hrs no payout....', 'great', 'the problem i have is one cant do all ur activities lik upload to storefront right from d app.its very bad', \"my money has been placed on hold and this left me stranded. please it isn't fair. i just started using this and i am about to start regretting it\", 'good app', \"pls i can't remember borrowing money from this company , you guys have been taking money from my account , why na\", 'i have had a good experience so far with paystack but recently the app stopped given me notifications for payment received. please how do i solve that because notification settings is already allowed for this app.', 'after installing the app and after registration i was told to verify your password through your email , after said and done i was told that my account has been locked since that day i was not able to login again', 'paystack dont give up, i believe the company will be upgraded soon, but work on your ecommerce shop that i saw on youtube ,you might be nigerias shopify soon', \"worst platform ever  please guys don't waste your time with this nonsense and time consuming people not reliable and inconvenient\", \"this is the worse payment system ever. they don't reply customer on time. service is so poor. very very very unreliable and untrustworthy. they have no idea how time is important in business.\", \"paystack i don't even know what happen to you, emerging you are withdrawing my money without giving me anything, just now you withdraw 7 thousand naira into my account, last week u withdraw 10 thousand naira, so please return my money back please.\", 'what a lovely update, no stress', 'paystack please return back my 4,447 how can you debit my account for no reason. please return back my money', \"please why paystack deduct my money because i don't know why\", 'great app', \"it was going well at first and now i can't even log in to my account anymore. can't access my dashboard anymore\", 'a customer was debited yesterday, but hours later, the transaction is still saying failed. neither the customer, not the merchant has been refunded.', \"this paystack has turn to something else, for more than 1 week they put my money on hold for no reason , ive been sending messages to them through email still they dont want to reply my messages, please be careful of this platform...that's all i can say for now till they open my account, i rate 1 start just to comment in here , if possible to rate zero star i would've done that.\", 'they have chosen not to credit the money l paid using their gateway. they took my #15,000 away', \"this app doesn't allow transfer platform, there's no where on the app that i can transfer money, i always have to go online.\", \"did i collect money from you please why are you deducting my money please send my money back to me if you don't want god to punish you send my money back\", \"please can you explain why you keep deducting my money cos i don't understand what this is all about\", 'paystack customer service is the worst in the whole world. i sent them messages many hours ago, no common response. if they can have same customer service like that of namecheap, meh, your users will increase. regret in using them at first place.', 'highly unreliable', 'dont trust these people', 'nonesess app', 'useless, worthless payment gateway', 'i have been unable to longin', \"what is the usefulness of the app when i can't even create product, update pricing of existing products or change volume of available stock on the go? what do i need the app for?  i already get email notifications for transactions. so? \", \"i really do love this app but then, i cant log in to my dash board. after a while, all my items were gone and i've sent numerous messages but no response. pls fix it and elevate your customer service , update us. thank you\", 'excellent thanks....', 'the founders definitely have trust issues. every transaction is denied by fraud system. ', \"this app is not good don't use it if you collect your payment from buyers they will hold and they won't pay your settlement , this payment gateway is not good at all don't used it they scamm scammer on less you release my money\", 'i created a link and send to my customer in burkina faso but he said the link refuse to open in his country,pls i need help.', 'i paid for neco token yesterday night 1360 they debited my account and i didnt recieve my token number why?', 'lousy company that take so long in issuing payouts', 'choosing paystack for my business is the worst mistake i have ever made this 2020 why would you hold down my payment for days now all in d name compelling me to accept that my business is a financial services provider whereas am just running a normal investment and affiliate system i have started tagging you on all your social media pages and wont stop until you reply to all my mails tonight and send my settlement you can terminate your services from my business i will be glad to use others', 'great app i wish you could just add the storefront features to this app... it will make it more unique', 'cool', 'this is the best app for transaction purpose.', 'good', \"was expecting a good ending result, but couldn't login to complete my form and no truecaller to help get a link for my business.i hv to uninstall\", \"i just uninstall paystack app on my phone because i'm unable to login. the app just auto-close. do something please. let me know when the error is fix, so as to install it back\", 'worst app', \"i needed paystack for my new online store, but i have no national id card, just the nimc slip & it's sucks for me right now. applying for a national id card takes years to get \", 'well, what can i say; they can only get better. kudos!!!', 'worst app. it automatically stops when i clicked the app', 'pretty good experience with great attention to detail. i love it. don\\'t ever change the app/ services unless needed. \"don\\'t fix it if it ain\\'t broken\". cheers', 'very good app. thanks guys ', 'abeg you guys are too much.. best platform for sending and receiving money i could give you guys 12stars a dozen!!!! keep it up', 'hi! it requested for my details and i have filled it appropriately,but unfortunately i was unable to sign up', 'good enough to be used', 'i cant log in , and i cant even access the storefront . what is going on? pls work on this', \"was a great app until i couldn't log in to my business account anymore, i updated, uninstalled and reinstalled the app again same thing. i have to stick to my computer now. so sad.\", \"i can't login on this app, from the day i install it, till now. two days plus now. an error occurred, we are looking into it.\", \"can't login\", 'app is not logging in anymore. saying error we are looking into this.', 'app hasn\\'t been opening since morning when i downloaded it. keeps saying \"error, we are looking into it\"', 'indeed. mistakenly sent to you', \"do not use paystack they will freeze your funds without notice and you can't withdraw your money, my name is nicholas. paystack has collapse my cryptocurrency business and i will sue paystack to court with my last money.\", 'this app i great. but i need to know how to wuthdraw my revenue to my local bank account .', 'enable fingerprint login or save our password in the app. typing password everytime is tedious.', 'good', 'am new on this app, how does it work please help me?', \"i just downloaded the app but i can't even view my dashboard and acquire live api keys for receiving of payments. help\", 'fantastic!', 'very bad', 'paystack is best to connect your bank account details for easy access to you bank', 'how does one receive payment from a customer in us or outside africa?', 'please i was unable to upload my documents in kyc (the identity card)', \"i can't seem to get past uploading required documents. it is frustrating. how do i deactivate the account please.\", 'nice', 'with the new update its not allowing me to login in.. after many attempts its saying could not connect to paystack', 'just make the app available only on the countries you are operating. wasted my time downloading the stupid app and its not available in my country.', 'never had issue using the app', 'very useful app. i love the features', 'unable to activate app. please help', \"paystack is a remarkable company, i'm loving the payment processing giant ❤️\", \"this is just a frautrating app. for good 1week i have been trying to upload my voters card photo but after uploading it won't show up. i am tired of this\", 'perfect', 'paystack is greate.! please is not allowing visa card, must a card be allow for online transaction before the card details be used or can any card be used.?', 'i just downloaded this app a few minutes ago but ive not been able to complete my sign up and go live. for some annoying reason, my national id cant be uploaded! ive tried uploading it from every option including my drive but it just doesnt even show. i tried contacting you guys but no way either! please help!', 'pls can i make payment for bedc prepaid using paystack', 'paystack inc , i cant finish the registration , it can`t upload national id , what the problem ?', 'i cant login since the last update. and i hate it when an app forces me to update from a good working version to a bad problematic version. this latest update is not working.', \"please paystack is awesome and great but since yesterday i couldn't run any transaction with first bank account number please i'd like to know why.\", 'great', \"it looks easy to use but i can't seem to send payment requests to customers without an email address.\", 'awesome!', \"i've been trying to upload kyc documents but the app keeps shutting down. please fix this\", 'love this app', \"i would have rated it 5 stars if there's an option to create a payment page in the app. awesome app though\", \"it's nice and easy to use on my website.\", 'my app is not logging me in tried with various accounts', 'awesome', \"i paid #5150 through paystack to my luno wallet, up till now i haven't seen it.\", \"this app keep stopping while i'm going to upload my kyc documents\", \"i just downloaded the app, it's cool and perfectly working. developers need to improve on security of the app, there's no two factor authentication and that's very bad. please kindly fix that soon\", \"i don't have any account with paystack merchant. unfortunately the company take my money without my permission which is wrong.\", 'awesome app i really love it god bless', 'can get better', 'safe and secure', \"please i can't generate payment link with the app...and i've been trying to use web browser, but the paystack longing page isn't working at all. please help me out\", \"god punish you people!!! the scammed me of my money! don't download and don't use it!!!\", \"it doesn't show my android phone notification. i've reached out multiple times but no solution provided !\", \"i just received some money on my dashboard now and i'm unable to withdraw it to my account, i don't know how to do it please.. the reason why i give you three stars is because your service is very fast and secure but.. i need more knowledge.. about this paystack. i think after you have got credited you can withdraw your money anytime.\", 'good innovation', \"am giving three stars because i can't find my secret number\", \"so far so good. it will be awesome if we are able to send invoices to customers' whatsapp directly. we however have so many buying customers on whatsapp and these are people who dont want to shop on our website because they dont want to share their email addresses or hardly use email.\", 'great app', 'how lond do i have to wait after clicking on the \"send activation request\" .', 'thanks u for the appd', 'awesome', 'paystack merchant,you guys are the boom,please i look forward on your assistant to my business', 'nice app. kindly consider d option of sending payment request to customers phone number by text message and whatsapp message. this will make such notification very effective as not evetyone is frequent with emails. thanks', 'elegant', 'thats nice. but can individuals use it without having any business. atleast to send money across', 'i never know', 'i sent a mail for a refund to my customer and still no refund yet, this is bad ', 'thanks for update', 'very good', \"i started using paystack not long ago and i've been so impressed and satisfied. thanks to you.\", \"quite awesome. but i noticed that ( except am wrong ) one can only send payment request to a customer's email address. i would have loved if one could send same request to the customer's phone number, as most of them hardly check their mails. if am wrong on this, please kindly show me how to send such requests to phone numbers. thanks, and a great app it is.\", 'why do you request for bvn during registration, with scammers everywhere what do you need the bvn for', 'just heard that paystack now offers wix direct payment integration. this is awesome news! i remember requesting for this feature some years back. thanks to paystack for this, i am so overjoyed! for the first time i can finally integrate direct payment features on my wix site. five stars are not enough for you guys!', \"i love your service. but i think you guys should create an app for individuals that wants to use it without having a business. just like opay app. i there's one for business and there's one for me individual uses\", \"dear paystack, i haven't yet used this but i'm giving you a 5 star. you know why? - innovation and making available tools for smes to grow their brands. so prove me right by the rating. one more thingy we need a decisive efficient logistic integration. i'm going live soon.\", 'great apps of the generation', 'paystack is a fraud', 'very good app', \"just got the app. feed you guys later. and when it's nice i will all give five stars\", \"from the past experiences with a friend's phone i love their transaction proceedings. i too couldn't wait to have mine.\", 'impressive', 'the one thing about paystack is their ability to innovate around solutions that solves merchants problems. they really doing the heavy lifting with this application.', 'the app keeps stopping anytime i try to upload my kyc document.', \"you guys keep raising the bars high, great job guys. i'm going to be a millionaire because of you guys innovative solutions, kudos!\", \"why this app or this website for india's business customer .only 2 countries are available on signup page - ghana and nigeria\", 'for now, its nice, quick and easy to navigate. but lets see how it goes subsequently.', 'good', 'awesome experience. i\\'ve been awaiting this for long, and it\\'s finally here. important observation: the \"refund\" button that appears under every successful transaction is way too accessible and can be clicked accidentally (not tried clicking though). is it not better that while viewing a transaction, there is a dropdown menu of actions, accessible by an ellipsis button, where further actions doable on the transaction can be listed (including to refund the transaction)?', 'excellent ', 'deserve a 5star rate mbok ', '', 'is nice...please add usd to it. please', 'been waiting for this app, awesome design!', 'the app is easy to use', 'interesting', 'dear paystack we hate when we cant get payout as you excuse no payout during hollidays find ways to make payout run 24/7 client are angry we cant deliver after they paid via paystack. while psystack refuse to payout! pls pls its f****king so annoying when you say no payout during holiday.', \"this is great. i have been anticipating this for a while and boom, you guys nailed. it's highly easy to navigate.\", 'nice app if more start i will continue to rate', 'please is paystack available in algeria', 'unable to login to my account', 'keeps saying network error whenever i try to log in.', 'app keeps crashing on the samsung s10', 'i so much love this app but please make this app to be receiving us dollars$ please i will be very happy if that can be done !!!!!', 'good', 'nice mobile experience. i can use paystack on the go.', 'good experience', \"i can't even log in\", 'cant sign up its frustrating', 'easy to use', 'not working', 'nice job done']\n"
          ]
        }
      ]
    },
    {
      "cell_type": "code",
      "source": [
        "# stop words\n",
        "stop_words = stopwords.words('english')\n",
        "Paystacksort_data[\"extracted_emojis\"] = extracted_emojis\n",
        "Paystacksort_data[\"extracted_emojis\"] = Paystacksort_data[\"extracted_emojis\"].apply(lambda x:x if x not in stop_words else None)\n",
        "print(Paystacksort_data['extracted_emojis'].head())"
      ],
      "metadata": {
        "colab": {
          "base_uri": "https://localhost:8080/"
        },
        "id": "enPqZHx3a0MP",
        "outputId": "d285e15e-a7f3-4f7e-e70a-cad51112f4a9"
      },
      "execution_count": 155,
      "outputs": [
        {
          "output_type": "stream",
          "name": "stdout",
          "text": [
            "26     kenya is missing on registration. i thought yo...\n",
            "125                                     word conect game\n",
            "27             i give it 3  because it not working today\n",
            "56     why can't i login in to my acct pls help me re...\n",
            "231                                        nice and good\n",
            "Name: extracted_emojis, dtype: object\n"
          ]
        }
      ]
    },
    {
      "cell_type": "code",
      "source": [
        "from nltk.stem.snowball import PorterStemmer\n",
        "#stemming\n",
        "def stemming(x):\n",
        "  st = PorterStemmer()\n",
        "  if x is not None:\n",
        "    for word in x.split():\n",
        "      st.stem(word)\n",
        "\n",
        "\n",
        "Paystacksort_data['extracted_emojis'].apply(lambda x: stemming(x))\n",
        "print(Paystacksort_data['extracted_emojis'].head())   "
      ],
      "metadata": {
        "colab": {
          "base_uri": "https://localhost:8080/"
        },
        "id": "33hmeL3La0Q3",
        "outputId": "608188a1-1f7e-4dcd-8946-3abf8c929129"
      },
      "execution_count": 156,
      "outputs": [
        {
          "output_type": "stream",
          "name": "stdout",
          "text": [
            "26     kenya is missing on registration. i thought yo...\n",
            "125                                     word conect game\n",
            "27             i give it 3  because it not working today\n",
            "56     why can't i login in to my acct pls help me re...\n",
            "231                                        nice and good\n",
            "Name: extracted_emojis, dtype: object\n"
          ]
        }
      ]
    },
    {
      "cell_type": "code",
      "source": [
        "#Function to calculate sentiment score for whole data set\n",
        "\n",
        "def senti_sc(x):\n",
        "    if x is not None:\n",
        "       return TextBlob(x).sentiment\n",
        "\n",
        "Paystacksort_data[\"Sentiment_score\"]= Paystacksort_data[\"extracted_emojis\"].apply(senti_sc)\n",
        "print(Paystacksort_data.loc[0:19,['extracted_emojis','Sentiment_score']])"
      ],
      "metadata": {
        "colab": {
          "base_uri": "https://localhost:8080/"
        },
        "id": "H1svW7iVa0VS",
        "outputId": "aee00805-1ada-4412-8c96-a416bd91215a"
      },
      "execution_count": 157,
      "outputs": [
        {
          "output_type": "stream",
          "name": "stdout",
          "text": [
            "                                      extracted_emojis  \\\n",
            "0    please this updated version is really giving m...   \n",
            "59   it's good just the biometric login is not work...   \n",
            "18   the refund button is not working. what is wron...   \n",
            "116  paystach pls what is wrong today? i have a gam...   \n",
            "233                                               good   \n",
            "19   very useless app , app is supposed to have its...   \n",
            "\n",
            "                               Sentiment_score  \n",
            "0                             (-0.05, 0.30625)  \n",
            "59                   (0.7, 0.6000000000000001)  \n",
            "18    (0.2333333333333333, 0.7000000000000001)  \n",
            "116                              (-0.55, 0.72)  \n",
            "233                  (0.7, 0.6000000000000001)  \n",
            "19   (-0.0666666666666667, 0.4033333333333333)  \n"
          ]
        }
      ]
    },
    {
      "cell_type": "code",
      "source": [
        "from textblob.en import subjectivity\n",
        "polarity=[]\n",
        "subjectivity = []\n",
        "for i in Paystacksort_data['extracted_emojis'].values:\n",
        "  try:\n",
        "    analysis = TextBlob(i)\n",
        "    polarity.append(analysis.sentiment.polarity)\n",
        "    subjectivity.append(analysis.sentiment.subjectivity)\n",
        "    \n",
        "  except:\n",
        "     polarity.append(0)\n",
        "     subjectivity.append(0) "
      ],
      "metadata": {
        "id": "w1peWSl4a0Yt"
      },
      "execution_count": 158,
      "outputs": []
    },
    {
      "cell_type": "code",
      "source": [
        "Paystacksort_data['polarity'] = polarity\n",
        "Paystacksort_data['subjectivity'] = subjectivity"
      ],
      "metadata": {
        "id": "UNNQQ-KNbTQx"
      },
      "execution_count": 159,
      "outputs": []
    },
    {
      "cell_type": "code",
      "source": [
        "conditions = [(Paystacksort_data['polarity'] < 0),(Paystacksort_data['polarity'] == 0),(Paystacksort_data['polarity'] > 0)]\n",
        "values = ['negative feedback', 'neutral feedback', 'positive feedback']\n",
        "Paystacksort_data['feedback'] = np.select(conditions,values)"
      ],
      "metadata": {
        "id": "UymIVi2FbTTw"
      },
      "execution_count": 160,
      "outputs": []
    },
    {
      "cell_type": "code",
      "source": [
        "print(Paystacksort_data['feedback'].value_counts(normalize=True))\n",
        "Feedback_rate =  Paystacksort_data['feedback'].value_counts(normalize=True).plot(kind=\"bar\")\n",
        "for i in Feedback_rate.patches:\n",
        "  Feedback_rate.annotate('{:.1f}'.format(i.get_height()), (i.get_x()+0.25, i.get_height()+0.01))\n",
        "plt.title('Paystack feedback rate')"
      ],
      "metadata": {
        "colab": {
          "base_uri": "https://localhost:8080/",
          "height": 451
        },
        "id": "SagSF3mpbTXE",
        "outputId": "36c987b6-5524-416e-c97f-cb8594f46b4e"
      },
      "execution_count": 161,
      "outputs": [
        {
          "output_type": "stream",
          "name": "stdout",
          "text": [
            "positive feedback    0.510791\n",
            "neutral feedback     0.287770\n",
            "negative feedback    0.201439\n",
            "Name: feedback, dtype: float64\n"
          ]
        },
        {
          "output_type": "execute_result",
          "data": {
            "text/plain": [
              "Text(0.5, 1.0, 'Paystack feedback rate')"
            ]
          },
          "metadata": {},
          "execution_count": 161
        },
        {
          "output_type": "display_data",
          "data": {
            "text/plain": [
              "<Figure size 432x288 with 1 Axes>"
            ],
            "image/png": "[encoded data removed]"
          },
          "metadata": {
            "needs_background": "light"
          }
        }
      ]
    },
    {
      "cell_type": "code",
      "source": [
        "print(Paystacksort_data['feedback'].value_counts())\n",
        "Feedback_value = sns.countplot(x='feedback', data = Paystacksort_data)\n",
        "for i in Feedback_value.patches:\n",
        "  Feedback_value.annotate('{:.1f}'.format(i.get_height()), (i.get_x()+0.25, i.get_height()+0.01))\n",
        "plt.title('Paystack feedback count');"
      ],
      "metadata": {
        "colab": {
          "base_uri": "https://localhost:8080/",
          "height": 364
        },
        "id": "PCIljHT7bTlS",
        "outputId": "5a4a4172-d998-4bc8-f446-0645b64926b8"
      },
      "execution_count": 162,
      "outputs": [
        {
          "output_type": "stream",
          "name": "stdout",
          "text": [
            "positive feedback    142\n",
            "neutral feedback      80\n",
            "negative feedback     56\n",
            "Name: feedback, dtype: int64\n"
          ]
        },
        {
          "output_type": "display_data",
          "data": {
            "text/plain": [
              "<Figure size 432x288 with 1 Axes>"
            ],
            "image/png": "[encoded data removed]"
          },
          "metadata": {
            "needs_background": "light"
          }
        }
      ]
    },
    {
      "cell_type": "markdown",
      "source": [
        "Overall feedback rate"
      ],
      "metadata": {
        "id": "zNTrC9fKfhS8"
      }
    },
    {
      "cell_type": "markdown",
      "source": [
        "From the above results sentiment polarity and subjectivity has been calculated. Sentiment polarity is denoting if the review is positive or negative and subjectivity is denoting the subjectivity of the text.\n",
        "\n",
        "Further, this analysis can be used in various other applications where the aspects of the product or the application that are more positively accepted in market can be explored for more business opportunities."
      ],
      "metadata": {
        "id": "h95S8mzi5FIx"
      }
    },
    {
      "cell_type": "code",
      "source": [
        "!sudo apt-get install texlive-xetex texlive-fonts-recommended texlive-plain-generic"
      ],
      "metadata": {
        "colab": {
          "base_uri": "https://localhost:8080/"
        },
        "id": "prPHe-pAfqty",
        "outputId": "8c600193-6c3f-4b4b-85d6-bb20aaa49c2a"
      },
      "execution_count": 163,
      "outputs": [
        {
          "output_type": "stream",
          "name": "stdout",
          "text": [
            "Reading package lists... Done\n",
            "Building dependency tree       \n",
            "Reading state information... Done\n",
            "The following package was automatically installed and is no longer required:\n",
            "  libnvidia-common-460\n",
            "Use 'sudo apt autoremove' to remove it.\n",
            "The following additional packages will be installed:\n",
            "  fonts-droid-fallback fonts-lato fonts-lmodern fonts-noto-mono fonts-texgyre\n",
            "  javascript-common libcupsfilters1 libcupsimage2 libgs9 libgs9-common\n",
            "  libijs-0.35 libjbig2dec0 libjs-jquery libkpathsea6 libpotrace0 libptexenc1\n",
            "  libruby2.5 libsynctex1 libtexlua52 libtexluajit2 libzzip-0-13 lmodern\n",
            "  poppler-data preview-latex-style rake ruby ruby-did-you-mean ruby-minitest\n",
            "  ruby-net-telnet ruby-power-assert ruby-test-unit ruby2.5\n",
            "  rubygems-integration t1utils tex-common tex-gyre texlive-base\n",
            "  texlive-binaries texlive-latex-base texlive-latex-extra\n",
            "  texlive-latex-recommended texlive-pictures tipa\n",
            "Suggested packages:\n",
            "  fonts-noto apache2 | lighttpd | httpd poppler-utils ghostscript\n",
            "  fonts-japanese-mincho | fonts-ipafont-mincho fonts-japanese-gothic\n",
            "  | fonts-ipafont-gothic fonts-arphic-ukai fonts-arphic-uming fonts-nanum ri\n",
            "  ruby-dev bundler debhelper gv | postscript-viewer perl-tk xpdf-reader\n",
            "  | pdf-viewer texlive-fonts-recommended-doc texlive-latex-base-doc\n",
            "  python-pygments icc-profiles libfile-which-perl\n",
            "  libspreadsheet-parseexcel-perl texlive-latex-extra-doc\n",
            "  texlive-latex-recommended-doc texlive-pstricks dot2tex prerex ruby-tcltk\n",
            "  | libtcltk-ruby texlive-pictures-doc vprerex\n",
            "The following NEW packages will be installed:\n",
            "  fonts-droid-fallback fonts-lato fonts-lmodern fonts-noto-mono fonts-texgyre\n",
            "  javascript-common libcupsfilters1 libcupsimage2 libgs9 libgs9-common\n",
            "  libijs-0.35 libjbig2dec0 libjs-jquery libkpathsea6 libpotrace0 libptexenc1\n",
            "  libruby2.5 libsynctex1 libtexlua52 libtexluajit2 libzzip-0-13 lmodern\n",
            "  poppler-data preview-latex-style rake ruby ruby-did-you-mean ruby-minitest\n",
            "  ruby-net-telnet ruby-power-assert ruby-test-unit ruby2.5\n",
            "  rubygems-integration t1utils tex-common tex-gyre texlive-base\n",
            "  texlive-binaries texlive-fonts-recommended texlive-latex-base\n",
            "  texlive-latex-extra texlive-latex-recommended texlive-pictures\n",
            "  texlive-plain-generic texlive-xetex tipa\n",
            "0 upgraded, 46 newly installed, 0 to remove and 20 not upgraded.\n",
            "Need to get 146 MB of archives.\n",
            "After this operation, 460 MB of additional disk space will be used.\n",
            "Get:1 http://archive.ubuntu.com/ubuntu bionic/main amd64 fonts-droid-fallback all 1:6.0.1r16-1.1 [1,805 kB]\n",
            "Get:2 http://archive.ubuntu.com/ubuntu bionic/main amd64 fonts-lato all 2.0-2 [2,698 kB]\n",
            "Get:3 http://archive.ubuntu.com/ubuntu bionic/main amd64 poppler-data all 0.4.8-2 [1,479 kB]\n",
            "Get:4 http://archive.ubuntu.com/ubuntu bionic/main amd64 tex-common all 6.09 [33.0 kB]\n",
            "Get:5 http://archive.ubuntu.com/ubuntu bionic/main amd64 fonts-lmodern all 2.004.5-3 [4,551 kB]\n",
            "Get:6 http://archive.ubuntu.com/ubuntu bionic/main amd64 fonts-noto-mono all 20171026-2 [75.5 kB]\n",
            "Get:7 http://archive.ubuntu.com/ubuntu bionic/universe amd64 fonts-texgyre all 20160520-1 [8,761 kB]\n",
            "Get:8 http://archive.ubuntu.com/ubuntu bionic/main amd64 javascript-common all 11 [6,066 B]\n",
            "Get:9 http://archive.ubuntu.com/ubuntu bionic-updates/main amd64 libcupsfilters1 amd64 1.20.2-0ubuntu3.1 [108 kB]\n",
            "Get:10 http://archive.ubuntu.com/ubuntu bionic-updates/main amd64 libcupsimage2 amd64 2.2.7-1ubuntu2.9 [18.6 kB]\n",
            "Get:11 http://archive.ubuntu.com/ubuntu bionic/main amd64 libijs-0.35 amd64 0.35-13 [15.5 kB]\n",
            "Get:12 http://archive.ubuntu.com/ubuntu bionic/main amd64 libjbig2dec0 amd64 0.13-6 [55.9 kB]\n",
            "Get:13 http://archive.ubuntu.com/ubuntu bionic-updates/main amd64 libgs9-common all 9.26~dfsg+0-0ubuntu0.18.04.17 [5,092 kB]\n",
            "Get:14 http://archive.ubuntu.com/ubuntu bionic-updates/main amd64 libgs9 amd64 9.26~dfsg+0-0ubuntu0.18.04.17 [2,267 kB]\n",
            "Get:15 http://archive.ubuntu.com/ubuntu bionic/main amd64 libjs-jquery all 3.2.1-1 [152 kB]\n",
            "Get:16 http://archive.ubuntu.com/ubuntu bionic-updates/main amd64 libkpathsea6 amd64 2017.20170613.44572-8ubuntu0.1 [54.9 kB]\n",
            "Get:17 http://archive.ubuntu.com/ubuntu bionic/main amd64 libpotrace0 amd64 1.14-2 [17.4 kB]\n",
            "Get:18 http://archive.ubuntu.com/ubuntu bionic-updates/main amd64 libptexenc1 amd64 2017.20170613.44572-8ubuntu0.1 [34.5 kB]\n",
            "Get:19 http://archive.ubuntu.com/ubuntu bionic/main amd64 rubygems-integration all 1.11 [4,994 B]\n",
            "Get:20 http://archive.ubuntu.com/ubuntu bionic-updates/main amd64 ruby2.5 amd64 2.5.1-1ubuntu1.12 [48.6 kB]\n",
            "Get:21 http://archive.ubuntu.com/ubuntu bionic/main amd64 ruby amd64 1:2.5.1 [5,712 B]\n",
            "Get:22 http://archive.ubuntu.com/ubuntu bionic-updates/main amd64 rake all 12.3.1-1ubuntu0.1 [44.9 kB]\n",
            "Get:23 http://archive.ubuntu.com/ubuntu bionic/main amd64 ruby-did-you-mean all 1.2.0-2 [9,700 B]\n",
            "Get:24 http://archive.ubuntu.com/ubuntu bionic/main amd64 ruby-minitest all 5.10.3-1 [38.6 kB]\n",
            "Get:25 http://archive.ubuntu.com/ubuntu bionic/main amd64 ruby-net-telnet all 0.1.1-2 [12.6 kB]\n",
            "Get:26 http://archive.ubuntu.com/ubuntu bionic/main amd64 ruby-power-assert all 0.3.0-1 [7,952 B]\n",
            "Get:27 http://archive.ubuntu.com/ubuntu bionic/main amd64 ruby-test-unit all 3.2.5-1 [61.1 kB]\n",
            "Get:28 http://archive.ubuntu.com/ubuntu bionic-updates/main amd64 libruby2.5 amd64 2.5.1-1ubuntu1.12 [3,073 kB]\n",
            "Get:29 http://archive.ubuntu.com/ubuntu bionic-updates/main amd64 libsynctex1 amd64 2017.20170613.44572-8ubuntu0.1 [41.4 kB]\n",
            "Get:30 http://archive.ubuntu.com/ubuntu bionic-updates/main amd64 libtexlua52 amd64 2017.20170613.44572-8ubuntu0.1 [91.2 kB]\n",
            "Get:31 http://archive.ubuntu.com/ubuntu bionic-updates/main amd64 libtexluajit2 amd64 2017.20170613.44572-8ubuntu0.1 [230 kB]\n",
            "Get:32 http://archive.ubuntu.com/ubuntu bionic-updates/main amd64 libzzip-0-13 amd64 0.13.62-3.1ubuntu0.18.04.1 [26.0 kB]\n",
            "Get:33 http://archive.ubuntu.com/ubuntu bionic/main amd64 lmodern all 2.004.5-3 [9,631 kB]\n",
            "Get:34 http://archive.ubuntu.com/ubuntu bionic/main amd64 preview-latex-style all 11.91-1ubuntu1 [185 kB]\n",
            "Get:35 http://archive.ubuntu.com/ubuntu bionic/main amd64 t1utils amd64 1.41-2 [56.0 kB]\n",
            "Get:36 http://archive.ubuntu.com/ubuntu bionic/universe amd64 tex-gyre all 20160520-1 [4,998 kB]\n",
            "Get:37 http://archive.ubuntu.com/ubuntu bionic-updates/main amd64 texlive-binaries amd64 2017.20170613.44572-8ubuntu0.1 [8,179 kB]\n",
            "Get:38 http://archive.ubuntu.com/ubuntu bionic/main amd64 texlive-base all 2017.20180305-1 [18.7 MB]\n",
            "Get:39 http://archive.ubuntu.com/ubuntu bionic/universe amd64 texlive-fonts-recommended all 2017.20180305-1 [5,262 kB]\n",
            "Get:40 http://archive.ubuntu.com/ubuntu bionic/main amd64 texlive-latex-base all 2017.20180305-1 [951 kB]\n",
            "Get:41 http://archive.ubuntu.com/ubuntu bionic/main amd64 texlive-latex-recommended all 2017.20180305-1 [14.9 MB]\n",
            "Get:42 http://archive.ubuntu.com/ubuntu bionic/universe amd64 texlive-pictures all 2017.20180305-1 [4,026 kB]\n",
            "Get:43 http://archive.ubuntu.com/ubuntu bionic/universe amd64 texlive-latex-extra all 2017.20180305-2 [10.6 MB]\n",
            "Get:44 http://archive.ubuntu.com/ubuntu bionic/universe amd64 texlive-plain-generic all 2017.20180305-2 [23.6 MB]\n",
            "Get:45 http://archive.ubuntu.com/ubuntu bionic/universe amd64 tipa all 2:1.3-20 [2,978 kB]\n",
            "Get:46 http://archive.ubuntu.com/ubuntu bionic/universe amd64 texlive-xetex all 2017.20180305-1 [10.7 MB]\n",
            "Fetched 146 MB in 3s (58.0 MB/s)\n",
            "debconf: unable to initialize frontend: Dialog\n",
            "debconf: (No usable dialog-like program is installed, so the dialog based frontend cannot be used. at /usr/share/perl5/Debconf/FrontEnd/Dialog.pm line 76, <> line 46.)\n",
            "debconf: falling back to frontend: Readline\n",
            "debconf: unable to initialize frontend: Readline\n",
            "debconf: (This frontend requires a controlling tty.)\n",
            "debconf: falling back to frontend: Teletype\n",
            "dpkg-preconfigure: unable to re-open stdin: \n",
            "Selecting previously unselected package fonts-droid-fallback.\n",
            "(Reading database ... 124016 files and directories currently installed.)\n",
            "Preparing to unpack .../00-fonts-droid-fallback_1%3a6.0.1r16-1.1_all.deb ...\n",
            "Unpacking fonts-droid-fallback (1:6.0.1r16-1.1) ...\n",
            "Selecting previously unselected package fonts-lato.\n",
            "Preparing to unpack .../01-fonts-lato_2.0-2_all.deb ...\n",
            "Unpacking fonts-lato (2.0-2) ...\n",
            "Selecting previously unselected package poppler-data.\n",
            "Preparing to unpack .../02-poppler-data_0.4.8-2_all.deb ...\n",
            "Unpacking poppler-data (0.4.8-2) ...\n",
            "Selecting previously unselected package tex-common.\n",
            "Preparing to unpack .../03-tex-common_6.09_all.deb ...\n",
            "Unpacking tex-common (6.09) ...\n",
            "Selecting previously unselected package fonts-lmodern.\n",
            "Preparing to unpack .../04-fonts-lmodern_2.004.5-3_all.deb ...\n",
            "Unpacking fonts-lmodern (2.004.5-3) ...\n",
            "Selecting previously unselected package fonts-noto-mono.\n",
            "Preparing to unpack .../05-fonts-noto-mono_20171026-2_all.deb ...\n",
            "Unpacking fonts-noto-mono (20171026-2) ...\n",
            "Selecting previously unselected package fonts-texgyre.\n",
            "Preparing to unpack .../06-fonts-texgyre_20160520-1_all.deb ...\n",
            "Unpacking fonts-texgyre (20160520-1) ...\n",
            "Selecting previously unselected package javascript-common.\n",
            "Preparing to unpack .../07-javascript-common_11_all.deb ...\n",
            "Unpacking javascript-common (11) ...\n",
            "Selecting previously unselected package libcupsfilters1:amd64.\n",
            "Preparing to unpack .../08-libcupsfilters1_1.20.2-0ubuntu3.1_amd64.deb ...\n",
            "Unpacking libcupsfilters1:amd64 (1.20.2-0ubuntu3.1) ...\n",
            "Selecting previously unselected package libcupsimage2:amd64.\n",
            "Preparing to unpack .../09-libcupsimage2_2.2.7-1ubuntu2.9_amd64.deb ...\n",
            "Unpacking libcupsimage2:amd64 (2.2.7-1ubuntu2.9) ...\n",
            "Selecting previously unselected package libijs-0.35:amd64.\n",
            "Preparing to unpack .../10-libijs-0.35_0.35-13_amd64.deb ...\n",
            "Unpacking libijs-0.35:amd64 (0.35-13) ...\n",
            "Selecting previously unselected package libjbig2dec0:amd64.\n",
            "Preparing to unpack .../11-libjbig2dec0_0.13-6_amd64.deb ...\n",
            "Unpacking libjbig2dec0:amd64 (0.13-6) ...\n",
            "Selecting previously unselected package libgs9-common.\n",
            "Preparing to unpack .../12-libgs9-common_9.26~dfsg+0-0ubuntu0.18.04.17_all.deb ...\n",
            "Unpacking libgs9-common (9.26~dfsg+0-0ubuntu0.18.04.17) ...\n",
            "Selecting previously unselected package libgs9:amd64.\n",
            "Preparing to unpack .../13-libgs9_9.26~dfsg+0-0ubuntu0.18.04.17_amd64.deb ...\n",
            "Unpacking libgs9:amd64 (9.26~dfsg+0-0ubuntu0.18.04.17) ...\n",
            "Selecting previously unselected package libjs-jquery.\n",
            "Preparing to unpack .../14-libjs-jquery_3.2.1-1_all.deb ...\n",
            "Unpacking libjs-jquery (3.2.1-1) ...\n",
            "Selecting previously unselected package libkpathsea6:amd64.\n",
            "Preparing to unpack .../15-libkpathsea6_2017.20170613.44572-8ubuntu0.1_amd64.deb ...\n",
            "Unpacking libkpathsea6:amd64 (2017.20170613.44572-8ubuntu0.1) ...\n",
            "Selecting previously unselected package libpotrace0.\n",
            "Preparing to unpack .../16-libpotrace0_1.14-2_amd64.deb ...\n",
            "Unpacking libpotrace0 (1.14-2) ...\n",
            "Selecting previously unselected package libptexenc1:amd64.\n",
            "Preparing to unpack .../17-libptexenc1_2017.20170613.44572-8ubuntu0.1_amd64.deb ...\n",
            "Unpacking libptexenc1:amd64 (2017.20170613.44572-8ubuntu0.1) ...\n",
            "Selecting previously unselected package rubygems-integration.\n",
            "Preparing to unpack .../18-rubygems-integration_1.11_all.deb ...\n",
            "Unpacking rubygems-integration (1.11) ...\n",
            "Selecting previously unselected package ruby2.5.\n",
            "Preparing to unpack .../19-ruby2.5_2.5.1-1ubuntu1.12_amd64.deb ...\n",
            "Unpacking ruby2.5 (2.5.1-1ubuntu1.12) ...\n",
            "Selecting previously unselected package ruby.\n",
            "Preparing to unpack .../20-ruby_1%3a2.5.1_amd64.deb ...\n",
            "Unpacking ruby (1:2.5.1) ...\n",
            "Selecting previously unselected package rake.\n",
            "Preparing to unpack .../21-rake_12.3.1-1ubuntu0.1_all.deb ...\n",
            "Unpacking rake (12.3.1-1ubuntu0.1) ...\n",
            "Selecting previously unselected package ruby-did-you-mean.\n",
            "Preparing to unpack .../22-ruby-did-you-mean_1.2.0-2_all.deb ...\n",
            "Unpacking ruby-did-you-mean (1.2.0-2) ...\n",
            "Selecting previously unselected package ruby-minitest.\n",
            "Preparing to unpack .../23-ruby-minitest_5.10.3-1_all.deb ...\n",
            "Unpacking ruby-minitest (5.10.3-1) ...\n",
            "Selecting previously unselected package ruby-net-telnet.\n",
            "Preparing to unpack .../24-ruby-net-telnet_0.1.1-2_all.deb ...\n",
            "Unpacking ruby-net-telnet (0.1.1-2) ...\n",
            "Selecting previously unselected package ruby-power-assert.\n",
            "Preparing to unpack .../25-ruby-power-assert_0.3.0-1_all.deb ...\n",
            "Unpacking ruby-power-assert (0.3.0-1) ...\n",
            "Selecting previously unselected package ruby-test-unit.\n",
            "Preparing to unpack .../26-ruby-test-unit_3.2.5-1_all.deb ...\n",
            "Unpacking ruby-test-unit (3.2.5-1) ...\n",
            "Selecting previously unselected package libruby2.5:amd64.\n",
            "Preparing to unpack .../27-libruby2.5_2.5.1-1ubuntu1.12_amd64.deb ...\n",
            "Unpacking libruby2.5:amd64 (2.5.1-1ubuntu1.12) ...\n",
            "Selecting previously unselected package libsynctex1:amd64.\n",
            "Preparing to unpack .../28-libsynctex1_2017.20170613.44572-8ubuntu0.1_amd64.deb ...\n",
            "Unpacking libsynctex1:amd64 (2017.20170613.44572-8ubuntu0.1) ...\n",
            "Selecting previously unselected package libtexlua52:amd64.\n",
            "Preparing to unpack .../29-libtexlua52_2017.20170613.44572-8ubuntu0.1_amd64.deb ...\n",
            "Unpacking libtexlua52:amd64 (2017.20170613.44572-8ubuntu0.1) ...\n",
            "Selecting previously unselected package libtexluajit2:amd64.\n",
            "Preparing to unpack .../30-libtexluajit2_2017.20170613.44572-8ubuntu0.1_amd64.deb ...\n",
            "Unpacking libtexluajit2:amd64 (2017.20170613.44572-8ubuntu0.1) ...\n",
            "Selecting previously unselected package libzzip-0-13:amd64.\n",
            "Preparing to unpack .../31-libzzip-0-13_0.13.62-3.1ubuntu0.18.04.1_amd64.deb ...\n",
            "Unpacking libzzip-0-13:amd64 (0.13.62-3.1ubuntu0.18.04.1) ...\n",
            "Selecting previously unselected package lmodern.\n",
            "Preparing to unpack .../32-lmodern_2.004.5-3_all.deb ...\n",
            "Unpacking lmodern (2.004.5-3) ...\n",
            "Selecting previously unselected package preview-latex-style.\n",
            "Preparing to unpack .../33-preview-latex-style_11.91-1ubuntu1_all.deb ...\n",
            "Unpacking preview-latex-style (11.91-1ubuntu1) ...\n",
            "Selecting previously unselected package t1utils.\n",
            "Preparing to unpack .../34-t1utils_1.41-2_amd64.deb ...\n",
            "Unpacking t1utils (1.41-2) ...\n",
            "Selecting previously unselected package tex-gyre.\n",
            "Preparing to unpack .../35-tex-gyre_20160520-1_all.deb ...\n",
            "Unpacking tex-gyre (20160520-1) ...\n",
            "Selecting previously unselected package texlive-binaries.\n",
            "Preparing to unpack .../36-texlive-binaries_2017.20170613.44572-8ubuntu0.1_amd64.deb ...\n",
            "Unpacking texlive-binaries (2017.20170613.44572-8ubuntu0.1) ...\n",
            "Selecting previously unselected package texlive-base.\n",
            "Preparing to unpack .../37-texlive-base_2017.20180305-1_all.deb ...\n",
            "Unpacking texlive-base (2017.20180305-1) ...\n",
            "Selecting previously unselected package texlive-fonts-recommended.\n",
            "Preparing to unpack .../38-texlive-fonts-recommended_2017.20180305-1_all.deb ...\n",
            "Unpacking texlive-fonts-recommended (2017.20180305-1) ...\n",
            "Selecting previously unselected package texlive-latex-base.\n",
            "Preparing to unpack .../39-texlive-latex-base_2017.20180305-1_all.deb ...\n",
            "Unpacking texlive-latex-base (2017.20180305-1) ...\n",
            "Selecting previously unselected package texlive-latex-recommended.\n",
            "Preparing to unpack .../40-texlive-latex-recommended_2017.20180305-1_all.deb ...\n",
            "Unpacking texlive-latex-recommended (2017.20180305-1) ...\n",
            "Selecting previously unselected package texlive-pictures.\n",
            "Preparing to unpack .../41-texlive-pictures_2017.20180305-1_all.deb ...\n",
            "Unpacking texlive-pictures (2017.20180305-1) ...\n",
            "Selecting previously unselected package texlive-latex-extra.\n",
            "Preparing to unpack .../42-texlive-latex-extra_2017.20180305-2_all.deb ...\n",
            "Unpacking texlive-latex-extra (2017.20180305-2) ...\n",
            "Selecting previously unselected package texlive-plain-generic.\n",
            "Preparing to unpack .../43-texlive-plain-generic_2017.20180305-2_all.deb ...\n",
            "Unpacking texlive-plain-generic (2017.20180305-2) ...\n",
            "Selecting previously unselected package tipa.\n",
            "Preparing to unpack .../44-tipa_2%3a1.3-20_all.deb ...\n",
            "Unpacking tipa (2:1.3-20) ...\n",
            "Selecting previously unselected package texlive-xetex.\n",
            "Preparing to unpack .../45-texlive-xetex_2017.20180305-1_all.deb ...\n",
            "Unpacking texlive-xetex (2017.20180305-1) ...\n",
            "Setting up libgs9-common (9.26~dfsg+0-0ubuntu0.18.04.17) ...\n",
            "Setting up libkpathsea6:amd64 (2017.20170613.44572-8ubuntu0.1) ...\n",
            "Setting up libjs-jquery (3.2.1-1) ...\n",
            "Setting up libtexlua52:amd64 (2017.20170613.44572-8ubuntu0.1) ...\n",
            "Setting up fonts-droid-fallback (1:6.0.1r16-1.1) ...\n",
            "Setting up libsynctex1:amd64 (2017.20170613.44572-8ubuntu0.1) ...\n",
            "Setting up libptexenc1:amd64 (2017.20170613.44572-8ubuntu0.1) ...\n",
            "Setting up tex-common (6.09) ...\n",
            "debconf: unable to initialize frontend: Dialog\n",
            "debconf: (No usable dialog-like program is installed, so the dialog based frontend cannot be used. at /usr/share/perl5/Debconf/FrontEnd/Dialog.pm line 76.)\n",
            "debconf: falling back to frontend: Readline\n",
            "update-language: texlive-base not installed and configured, doing nothing!\n",
            "Setting up poppler-data (0.4.8-2) ...\n",
            "Setting up tex-gyre (20160520-1) ...\n",
            "Setting up preview-latex-style (11.91-1ubuntu1) ...\n",
            "Setting up fonts-texgyre (20160520-1) ...\n",
            "Setting up fonts-noto-mono (20171026-2) ...\n",
            "Setting up fonts-lato (2.0-2) ...\n",
            "Setting up libcupsfilters1:amd64 (1.20.2-0ubuntu3.1) ...\n",
            "Setting up libcupsimage2:amd64 (2.2.7-1ubuntu2.9) ...\n",
            "Setting up libjbig2dec0:amd64 (0.13-6) ...\n",
            "Setting up ruby-did-you-mean (1.2.0-2) ...\n",
            "Setting up t1utils (1.41-2) ...\n",
            "Setting up ruby-net-telnet (0.1.1-2) ...\n",
            "Setting up libijs-0.35:amd64 (0.35-13) ...\n",
            "Setting up rubygems-integration (1.11) ...\n",
            "Setting up libpotrace0 (1.14-2) ...\n",
            "Setting up javascript-common (11) ...\n",
            "Setting up ruby-minitest (5.10.3-1) ...\n",
            "Setting up libzzip-0-13:amd64 (0.13.62-3.1ubuntu0.18.04.1) ...\n",
            "Setting up libgs9:amd64 (9.26~dfsg+0-0ubuntu0.18.04.17) ...\n",
            "Setting up libtexluajit2:amd64 (2017.20170613.44572-8ubuntu0.1) ...\n",
            "Setting up fonts-lmodern (2.004.5-3) ...\n",
            "Setting up ruby-power-assert (0.3.0-1) ...\n",
            "Setting up texlive-binaries (2017.20170613.44572-8ubuntu0.1) ...\n",
            "update-alternatives: using /usr/bin/xdvi-xaw to provide /usr/bin/xdvi.bin (xdvi.bin) in auto mode\n",
            "update-alternatives: using /usr/bin/bibtex.original to provide /usr/bin/bibtex (bibtex) in auto mode\n",
            "Setting up texlive-base (2017.20180305-1) ...\n",
            "mktexlsr: Updating /var/lib/texmf/ls-R-TEXLIVEDIST... \n",
            "mktexlsr: Updating /var/lib/texmf/ls-R-TEXMFMAIN... \n",
            "mktexlsr: Updating /var/lib/texmf/ls-R... \n",
            "mktexlsr: Done.\n",
            "tl-paper: setting paper size for dvips to a4: /var/lib/texmf/dvips/config/config-paper.ps\n",
            "tl-paper: setting paper size for dvipdfmx to a4: /var/lib/texmf/dvipdfmx/dvipdfmx-paper.cfg\n",
            "tl-paper: setting paper size for xdvi to a4: /var/lib/texmf/xdvi/XDvi-paper\n",
            "tl-paper: setting paper size for pdftex to a4: /var/lib/texmf/tex/generic/config/pdftexconfig.tex\n",
            "debconf: unable to initialize frontend: Dialog\n",
            "debconf: (No usable dialog-like program is installed, so the dialog based frontend cannot be used. at /usr/share/perl5/Debconf/FrontEnd/Dialog.pm line 76.)\n",
            "debconf: falling back to frontend: Readline\n",
            "Setting up texlive-fonts-recommended (2017.20180305-1) ...\n",
            "Setting up texlive-plain-generic (2017.20180305-2) ...\n",
            "Setting up texlive-latex-base (2017.20180305-1) ...\n",
            "Setting up lmodern (2.004.5-3) ...\n",
            "Setting up texlive-latex-recommended (2017.20180305-1) ...\n",
            "Setting up texlive-pictures (2017.20180305-1) ...\n",
            "Setting up tipa (2:1.3-20) ...\n",
            "Regenerating '/var/lib/texmf/fmtutil.cnf-DEBIAN'... done.\n",
            "Regenerating '/var/lib/texmf/fmtutil.cnf-TEXLIVEDIST'... done.\n",
            "update-fmtutil has updated the following file(s):\n",
            "\t/var/lib/texmf/fmtutil.cnf-DEBIAN\n",
            "\t/var/lib/texmf/fmtutil.cnf-TEXLIVEDIST\n",
            "If you want to activate the changes in the above file(s),\n",
            "you should run fmtutil-sys or fmtutil.\n",
            "Setting up texlive-latex-extra (2017.20180305-2) ...\n",
            "Setting up texlive-xetex (2017.20180305-1) ...\n",
            "Setting up ruby2.5 (2.5.1-1ubuntu1.12) ...\n",
            "Setting up ruby (1:2.5.1) ...\n",
            "Setting up ruby-test-unit (3.2.5-1) ...\n",
            "Setting up rake (12.3.1-1ubuntu0.1) ...\n",
            "Setting up libruby2.5:amd64 (2.5.1-1ubuntu1.12) ...\n",
            "Processing triggers for mime-support (3.60ubuntu1) ...\n",
            "Processing triggers for libc-bin (2.27-3ubuntu1.6) ...\n",
            "Processing triggers for man-db (2.8.3-2ubuntu0.1) ...\n",
            "Processing triggers for fontconfig (2.12.6-0ubuntu2) ...\n",
            "Processing triggers for tex-common (6.09) ...\n",
            "debconf: unable to initialize frontend: Dialog\n",
            "debconf: (No usable dialog-like program is installed, so the dialog based frontend cannot be used. at /usr/share/perl5/Debconf/FrontEnd/Dialog.pm line 76.)\n",
            "debconf: falling back to frontend: Readline\n",
            "Running updmap-sys. This may take some time... done.\n",
            "Running mktexlsr /var/lib/texmf ... done.\n",
            "Building format(s) --all.\n",
            "\tThis may take some time... done.\n"
          ]
        }
      ]
    },
    {
      "cell_type": "code",
      "source": [
        "!jupyter nbconvert --to pdf /content/Google_play_store Analysis.ipynb"
      ],
      "metadata": {
        "colab": {
          "base_uri": "https://localhost:8080/"
        },
        "id": "orkZD8QU7uM2",
        "outputId": "55e964c8-f1ca-48da-8e08-acc59dafaf9d"
      },
      "execution_count": 164,
      "outputs": [
        {
          "output_type": "stream",
          "name": "stdout",
          "text": [
            "[NbConvertApp] WARNING | pattern '/content/Google_play_store' matched no files\n",
            "[NbConvertApp] WARNING | pattern 'Analysis.ipynb' matched no files\n",
            "This application is used to convert notebook files (*.ipynb)\n",
            "        to various other formats.\n",
            "\n",
            "        WARNING: THE COMMANDLINE INTERFACE MAY CHANGE IN FUTURE RELEASES.\n",
            "\n",
            "Options\n",
            "=======\n",
            "The options below are convenience aliases to configurable class-options,\n",
            "as listed in the \"Equivalent to\" description-line of the aliases.\n",
            "To see all configurable class-options for some <cmd>, use:\n",
            "    <cmd> --help-all\n",
            "\n",
            "--debug\n",
            "    set log level to logging.DEBUG (maximize logging output)\n",
            "    Equivalent to: [--Application.log_level=10]\n",
            "--show-config\n",
            "    Show the application's configuration (human-readable format)\n",
            "    Equivalent to: [--Application.show_config=True]\n",
            "--show-config-json\n",
            "    Show the application's configuration (json format)\n",
            "    Equivalent to: [--Application.show_config_json=True]\n",
            "--generate-config\n",
            "    generate default config file\n",
            "    Equivalent to: [--JupyterApp.generate_config=True]\n",
            "-y\n",
            "    Answer yes to any questions instead of prompting.\n",
            "    Equivalent to: [--JupyterApp.answer_yes=True]\n",
            "--execute\n",
            "    Execute the notebook prior to export.\n",
            "    Equivalent to: [--ExecutePreprocessor.enabled=True]\n",
            "--allow-errors\n",
            "    Continue notebook execution even if one of the cells throws an error and include the error message in the cell output (the default behaviour is to abort conversion). This flag is only relevant if '--execute' was specified, too.\n",
            "    Equivalent to: [--ExecutePreprocessor.allow_errors=True]\n",
            "--stdin\n",
            "    read a single notebook file from stdin. Write the resulting notebook with default basename 'notebook.*'\n",
            "    Equivalent to: [--NbConvertApp.from_stdin=True]\n",
            "--stdout\n",
            "    Write notebook output to stdout instead of files.\n",
            "    Equivalent to: [--NbConvertApp.writer_class=StdoutWriter]\n",
            "--inplace\n",
            "    Run nbconvert in place, overwriting the existing notebook (only \n",
            "            relevant when converting to notebook format)\n",
            "    Equivalent to: [--NbConvertApp.use_output_suffix=False --NbConvertApp.export_format=notebook --FilesWriter.build_directory=]\n",
            "--clear-output\n",
            "    Clear output of current file and save in place, \n",
            "            overwriting the existing notebook.\n",
            "    Equivalent to: [--NbConvertApp.use_output_suffix=False --NbConvertApp.export_format=notebook --FilesWriter.build_directory= --ClearOutputPreprocessor.enabled=True]\n",
            "--no-prompt\n",
            "    Exclude input and output prompts from converted document.\n",
            "    Equivalent to: [--TemplateExporter.exclude_input_prompt=True --TemplateExporter.exclude_output_prompt=True]\n",
            "--no-input\n",
            "    Exclude input cells and output prompts from converted document. \n",
            "            This mode is ideal for generating code-free reports.\n",
            "    Equivalent to: [--TemplateExporter.exclude_output_prompt=True --TemplateExporter.exclude_input=True]\n",
            "--log-level=<Enum>\n",
            "    Set the log level by value or name.\n",
            "    Choices: any of [0, 10, 20, 30, 40, 50, 'DEBUG', 'INFO', 'WARN', 'ERROR', 'CRITICAL']\n",
            "    Default: 30\n",
            "    Equivalent to: [--Application.log_level]\n",
            "--config=<Unicode>\n",
            "    Full path of a config file.\n",
            "    Default: ''\n",
            "    Equivalent to: [--JupyterApp.config_file]\n",
            "--to=<Unicode>\n",
            "    The export format to be used, either one of the built-in formats\n",
            "            ['asciidoc', 'custom', 'html', 'latex', 'markdown', 'notebook', 'pdf', 'python', 'rst', 'script', 'slides']\n",
            "            or a dotted object name that represents the import path for an\n",
            "            `Exporter` class\n",
            "    Default: 'html'\n",
            "    Equivalent to: [--NbConvertApp.export_format]\n",
            "--template=<Unicode>\n",
            "    Name of the template file to use\n",
            "    Default: ''\n",
            "    Equivalent to: [--TemplateExporter.template_file]\n",
            "--writer=<DottedObjectName>\n",
            "    Writer class used to write the \n",
            "                                        results of the conversion\n",
            "    Default: 'FilesWriter'\n",
            "    Equivalent to: [--NbConvertApp.writer_class]\n",
            "--post=<DottedOrNone>\n",
            "    PostProcessor class used to write the\n",
            "                                        results of the conversion\n",
            "    Default: ''\n",
            "    Equivalent to: [--NbConvertApp.postprocessor_class]\n",
            "--output=<Unicode>\n",
            "    overwrite base name use for output files.\n",
            "                can only be used when converting one notebook at a time.\n",
            "    Default: ''\n",
            "    Equivalent to: [--NbConvertApp.output_base]\n",
            "--output-dir=<Unicode>\n",
            "    Directory to write output(s) to. Defaults\n",
            "                                  to output to the directory of each notebook. To recover\n",
            "                                  previous default behaviour (outputting to the current \n",
            "                                  working directory) use . as the flag value.\n",
            "    Default: ''\n",
            "    Equivalent to: [--FilesWriter.build_directory]\n",
            "--reveal-prefix=<Unicode>\n",
            "    The URL prefix for reveal.js (version 3.x).\n",
            "            This defaults to the reveal CDN, but can be any url pointing to a copy \n",
            "            of reveal.js. \n",
            "            For speaker notes to work, this must be a relative path to a local \n",
            "            copy of reveal.js: e.g., \"reveal.js\".\n",
            "            If a relative path is given, it must be a subdirectory of the\n",
            "            current directory (from which the server is run).\n",
            "            See the usage documentation\n",
            "            (https://nbconvert.readthedocs.io/en/latest/usage.html#reveal-js-html-slideshow)\n",
            "            for more details.\n",
            "    Default: ''\n",
            "    Equivalent to: [--SlidesExporter.reveal_url_prefix]\n",
            "--nbformat=<Enum>\n",
            "    The nbformat version to write.\n",
            "            Use this to downgrade notebooks.\n",
            "    Choices: any of [1, 2, 3, 4]\n",
            "    Default: 4\n",
            "    Equivalent to: [--NotebookExporter.nbformat_version]\n",
            "\n",
            "Examples\n",
            "--------\n",
            "\n",
            "    The simplest way to use nbconvert is\n",
            "\n",
            "            > jupyter nbconvert mynotebook.ipynb\n",
            "\n",
            "            which will convert mynotebook.ipynb to the default format (probably HTML).\n",
            "\n",
            "            You can specify the export format with `--to`.\n",
            "            Options include ['asciidoc', 'custom', 'html', 'latex', 'markdown', 'notebook', 'pdf', 'python', 'rst', 'script', 'slides'].\n",
            "\n",
            "            > jupyter nbconvert --to latex mynotebook.ipynb\n",
            "\n",
            "            Both HTML and LaTeX support multiple output templates. LaTeX includes\n",
            "            'base', 'article' and 'report'.  HTML includes 'basic' and 'full'. You\n",
            "            can specify the flavor of the format used.\n",
            "\n",
            "            > jupyter nbconvert --to html --template basic mynotebook.ipynb\n",
            "\n",
            "            You can also pipe the output to stdout, rather than a file\n",
            "\n",
            "            > jupyter nbconvert mynotebook.ipynb --stdout\n",
            "\n",
            "            PDF is generated via latex\n",
            "\n",
            "            > jupyter nbconvert mynotebook.ipynb --to pdf\n",
            "\n",
            "            You can get (and serve) a Reveal.js-powered slideshow\n",
            "\n",
            "            > jupyter nbconvert myslides.ipynb --to slides --post serve\n",
            "\n",
            "            Multiple notebooks can be given at the command line in a couple of \n",
            "            different ways:\n",
            "\n",
            "            > jupyter nbconvert notebook*.ipynb\n",
            "            > jupyter nbconvert notebook1.ipynb notebook2.ipynb\n",
            "\n",
            "            or you can specify the notebooks list in a config file, containing::\n",
            "\n",
            "                c.NbConvertApp.notebooks = [\"my_notebook.ipynb\"]\n",
            "\n",
            "            > jupyter nbconvert --config mycfg.py\n",
            "\n",
            "To see all available configurables, use `--help-all`.\n",
            "\n"
          ]
        }
      ]
    },
    {
      "cell_type": "code",
      "source": [],
      "metadata": {
        "id": "7C-USTOC8tzR"
      },
      "execution_count": null,
      "outputs": []
    }
  ]
}